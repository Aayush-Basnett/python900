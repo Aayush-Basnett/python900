{
 "cells": [
  {
   "cell_type": "code",
   "execution_count": 1,
   "id": "f809d7c3",
   "metadata": {},
   "outputs": [
    {
     "name": "stdout",
     "output_type": "stream",
     "text": [
      "Poila batta ma Horlicks thiyo\n",
      "aile batta ma Gheeu cha\n"
     ]
    }
   ],
   "source": [
    "batta = \"Horlicks\"\n",
    "print(f\"Poila batta ma {batta} thiyo\")\n",
    "batta = \"Gheeu\"\n",
    "print(f\"aile batta ma {batta} cha\")\n"
   ]
  },
  {
   "cell_type": "markdown",
   "id": "c11c51f1",
   "metadata": {},
   "source": [
    "# Alternatively"
   ]
  },
  {
   "cell_type": "code",
   "execution_count": 2,
   "id": "7bfd1582",
   "metadata": {},
   "outputs": [
    {
     "name": "stdout",
     "output_type": "stream",
     "text": [
      "69.0\n"
     ]
    }
   ],
   "source": [
    "a = 68.5\n",
    "a = a + 0.5\n",
    "print(a)"
   ]
  },
  {
   "cell_type": "code",
   "execution_count": 3,
   "id": "302a7029",
   "metadata": {},
   "outputs": [
    {
     "name": "stdout",
     "output_type": "stream",
     "text": [
      "before a = 26\n",
      "after a = 67\n"
     ]
    }
   ],
   "source": [
    "a = 26\n",
    "print(f\"before a = {a}\")\n",
    "a = 67\n",
    "print(f\"after a = {a}\")\n",
    "\n"
   ]
  },
  {
   "cell_type": "code",
   "execution_count": null,
   "id": "38835aac",
   "metadata": {},
   "outputs": [],
   "source": []
  }
 ],
 "metadata": {
  "kernelspec": {
   "display_name": "Python 3 (ipykernel)",
   "language": "python",
   "name": "python3"
  },
  "language_info": {
   "codemirror_mode": {
    "name": "ipython",
    "version": 3
   },
   "file_extension": ".py",
   "mimetype": "text/x-python",
   "name": "python",
   "nbconvert_exporter": "python",
   "pygments_lexer": "ipython3",
   "version": "3.8.10"
  }
 },
 "nbformat": 4,
 "nbformat_minor": 5
}
