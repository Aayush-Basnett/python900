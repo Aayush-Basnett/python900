{
 "cells": [
  {
   "cell_type": "code",
   "execution_count": 6,
   "id": "7dec7c02",
   "metadata": {},
   "outputs": [
    {
     "name": "stdout",
     "output_type": "stream",
     "text": [
      "What would you like to deposit? 45\n",
      "Enter the number of lines you want to bet on from range (1 to 3)? 2\n",
      "45 2\n"
     ]
    }
   ],
   "source": [
    "MAX_LINES = 3\n",
    "MAX_BET = 100\n",
    "MIN_BET = 1\n",
    "\n",
    "\n",
    "def deposit(): #def is the keyword used for defining a funciton in python\n",
    "    while True: #since condition is set to default true, this loop will be executed infinitely unless condition is met and then loop breaks\n",
    "        amount = input(\"What would you like to deposit? \")\n",
    "        if amount.isdigit(): #isdigit checks whether the variable is integer or not and returns bollelian value\n",
    "            amount = int(amount)\n",
    "            if amount > 0:\n",
    "                break\n",
    "            else:\n",
    "                print(\"Please enter a number greater than 0.\")\n",
    "        else:\n",
    "            print(\"Please enter a valid number\")\n",
    "    return amount\n",
    "\n",
    "\n",
    "def get_number_of_lines():\n",
    "    while True: #since condition is set to default true, this loop will be executed infinitely unless condition is met and then loop breaks\n",
    "        lines = input(\"Enter the number of lines you want to bet on from range (1 to \"+ str(MAX_LINES) +\")? \")\n",
    "        if lines.isdigit(): #isdigit checks whether the variable is integer or not and returns bollelian value\n",
    "            lines = int(lines)\n",
    "            if 1 <= lines <= MAX_LINES: \n",
    "                break\n",
    "            else:\n",
    "                print(\"Please enter a valid number of lines from 1 to \"+ str(MAX_LINES) +\".\")\n",
    "        else:\n",
    "            print(\"Please enter a valid number\")\n",
    "    return lines\n",
    "\n",
    "def main():\n",
    "    balance = deposit()\n",
    "    lines = get_number_of_lines()\n",
    "    print(balance, lines)\n",
    "    \n",
    "\n",
    "main()\n",
    "\n",
    "\n",
    "\n",
    "\n"
   ]
  },
  {
   "cell_type": "code",
   "execution_count": null,
   "id": "ecebc632",
   "metadata": {},
   "outputs": [],
   "source": []
  }
 ],
 "metadata": {
  "kernelspec": {
   "display_name": "Python 3 (ipykernel)",
   "language": "python",
   "name": "python3"
  },
  "language_info": {
   "codemirror_mode": {
    "name": "ipython",
    "version": 3
   },
   "file_extension": ".py",
   "mimetype": "text/x-python",
   "name": "python",
   "nbconvert_exporter": "python",
   "pygments_lexer": "ipython3",
   "version": "3.8.10"
  },
  "vscode": {
   "interpreter": {
    "hash": "aee8b7b246df8f9039afb4144a1f6fd8d2ca17a180786b69acc140d282b71a49"
   }
  }
 },
 "nbformat": 4,
 "nbformat_minor": 5
}
