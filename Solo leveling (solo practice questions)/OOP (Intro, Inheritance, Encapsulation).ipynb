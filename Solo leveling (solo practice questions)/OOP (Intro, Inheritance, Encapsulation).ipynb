{
 "cells": [
  {
   "cell_type": "markdown",
   "id": "b7e169f9",
   "metadata": {},
   "source": [
    "##### Lets first use a example:\n",
    "Chunnu, munnu and babu are travelling via airplane to different places.<br> Although, they have to travel through different airlines to different destinations, the form they have to fill out in esewa is same. \n",
    "<br>\n",
    "so rather than creating a completely new form for all three individuals,<br> we can simply use a blueprint/ tempelate where users will add their data \n",
    "\n"
   ]
  },
  {
   "cell_type": "markdown",
   "id": "48f60a52",
   "metadata": {},
   "source": [
    "all in all\n",
    "### Railway form = Class(Blueprint)\n",
    "### chunnu = chunnu ko info wala form = Object(entity)\n",
    "### munnu = munnu ko info wala form =  Object(entity)\n",
    "### babu = babu ko info wala form =  Object(entity)\n"
   ]
  },
  {
   "cell_type": "code",
   "execution_count": 13,
   "id": "5b3cb41b",
   "metadata": {},
   "outputs": [
    {
     "name": "stdout",
     "output_type": "stream",
     "text": [
      "aayush Engineer\n",
      "Messi Engineer\n",
      "Messi is a Engineer\n"
     ]
    }
   ],
   "source": [
    "class Person:\n",
    "    name = \"aayush\" \n",
    "    occupation = \"Engineer\"\n",
    "    def info(self): #this function is called method of the class Person\n",
    "        print(f\"{self.name} is a {self.occupation}\")\n",
    "obj1 = Person() #this(obj1) is an object, object is an instance of a class used to access properties of class\n",
    "print(obj1.name, a.occupation)\n",
    "obj1.name = \"Messi\"\n",
    "print(obj1.name, obj1.occupation)\n",
    "\n",
    "a.info()\n"
   ]
  },
  {
   "cell_type": "code",
   "execution_count": 15,
   "id": "d5b43078",
   "metadata": {},
   "outputs": [
    {
     "name": "stdout",
     "output_type": "stream",
     "text": [
      "Vlahovic is a Footballer\n"
     ]
    }
   ],
   "source": [
    "class Person:\n",
    "    name = \"aayush\"  #this is a class attribute\n",
    "    occupation = \"Engineer\" # this is a class attribute\n",
    "    def info(self): #this(function inside class) is a method, this is also a class attribute\n",
    "        print(f\"{self.name} is a {self.occupation}\")\n",
    "        #basically self is used to access the class attributes by a method\n",
    "\n",
    "obj1 = Person() #this is object or instance, this is how we access a class.\n",
    "obj2 = Person() #this is also an object or instance\n",
    "\n",
    "obj2.name, obj2.occupation = \"Vlahovic\", \"Footballer\" #this is how you modify class attribute\n",
    "obj2.info() #this calls the 'info' method of the obj2 instance of Person, printing \"Vlahovic is a Footballer\"\n",
    "\n",
    "\n"
   ]
  },
  {
   "cell_type": "markdown",
   "id": "9fec1e46",
   "metadata": {},
   "source": [
    "more examples of what object is"
   ]
  },
  {
   "cell_type": "code",
   "execution_count": 9,
   "id": "73831fe8",
   "metadata": {},
   "outputs": [],
   "source": [
    "class Car:\n",
    "    pass\n",
    "my_car = Car()\n",
    "# my_car is an OBJECT of class Car"
   ]
  },
  {
   "cell_type": "markdown",
   "id": "0a970254",
   "metadata": {},
   "source": [
    "# Constructor\n",
    "constructor is a __special__ type of method that is called EVERYTIME an object is created from a class. <br>\n",
    "it's syntax is:\n",
    "```python\n",
    "class MyClass:\n",
    "    def __init__(self, arg1, arg2):\n",
    "        self.arg1 = arg1 #This is instance attribute as this is defined inside a constructor\n",
    "        self.arg2 = arg2\n",
    "```\n",
    "\n",
    "__init__() is the constructor method, MyClass is the class name. <br>\n",
    "it takes 2 arguments `arg1` and `arg2` whose value should be passed everytime object is created.<br>\n",
    "this is how a object should be created from now onwards\n",
    "```python\n",
    "obj = MyClass('hello', 123)\n",
    "```\n",
    "\n"
   ]
  },
  {
   "cell_type": "markdown",
   "id": "94967a4f",
   "metadata": {},
   "source": [
    "lets understand the difference between using and not using the constructor more practically..."
   ]
  },
  {
   "cell_type": "code",
   "execution_count": 59,
   "id": "ddfbba4d",
   "metadata": {},
   "outputs": [],
   "source": [
    "class Person:\n",
    "    name = \"Anchala\"\n",
    "    occ = \"Dancer\"\n",
    "    \n",
    "    def info(self):\n",
    "        print(f\"{self.name} is a {self.occ}\")\n",
    "\n",
    "obj1 = Person() #if I create the class, by default no function is called"
   ]
  },
  {
   "cell_type": "code",
   "execution_count": 26,
   "id": "b501d8b4",
   "metadata": {},
   "outputs": [
    {
     "name": "stdout",
     "output_type": "stream",
     "text": [
      "Anchala is a Dancer\n"
     ]
    }
   ],
   "source": [
    "# to call info I must do this\n",
    "obj1.info()"
   ]
  },
  {
   "cell_type": "code",
   "execution_count": 31,
   "id": "db1b1c92",
   "metadata": {},
   "outputs": [
    {
     "name": "stdout",
     "output_type": "stream",
     "text": [
      "Ravi is a singer\n"
     ]
    }
   ],
   "source": [
    "#but if i want to call a function everytime an object is created then,\n",
    "class Person1:\n",
    "    def __init__(self, arg1, arg2): #self (or first argument) is automatically used JUST in this function\n",
    "        self.arg1 = arg1\n",
    "        self.arg2 = arg2\n",
    "        print(f\"{arg1} is a {arg2}\")\n",
    "        \n",
    "\n",
    "obj2 = Person1(\"Ravi\", \"singer\")"
   ]
  },
  {
   "cell_type": "markdown",
   "id": "c6b04c48",
   "metadata": {},
   "source": [
    "# Inheritance:\n",
    "Inheritance is a feature of object-oriented programming that allows one class to inherit properties and methods from another class. "
   ]
  },
  {
   "cell_type": "code",
   "execution_count": 56,
   "id": "42efdf32",
   "metadata": {},
   "outputs": [
    {
     "name": "stdout",
     "output_type": "stream",
     "text": [
      "The name is Bharat and he earns 620 dollars\n",
      "The name is Chand and he earns 800 dollars\n",
      "He is Chand and he knows python\n"
     ]
    }
   ],
   "source": [
    "class Employee: # this is father class \n",
    "    def __init__(self, name, salary): \n",
    "        self.name = name\n",
    "        self.salary = salary\n",
    "    def showDetails(self):\n",
    "        print(f\"The name is {self.name} and he earns {self.salary} dollars\")\n",
    "        \n",
    "class Programmer(Employee): #This is son class, son inherits every property from father class \n",
    "    def showLanguage(self): #and additionally, son class can have his own individual properties(method/ function)\n",
    "        print(f\"He is {self.name} and he knows python\")\n",
    "        \n",
    "fatherObj = Employee(\"Bharat\", 620)\n",
    "fatherObj.showDetails()\n",
    "\n",
    "sonObj = Programmer(\"Chand\", 800)\n",
    "sonObj.showDetails() #showDetails is inherited from Father class, i.e this method is common in both father and son classes\n",
    "sonObj.showLanguage() #but this method is exclusive/unique to just the son Class\n"
   ]
  },
  {
   "cell_type": "markdown",
   "id": "789153e7",
   "metadata": {},
   "source": [
    "The Employee class is the father or parent class, and the Programmer class is the son or child class that inherits all the attributes and methods of the parent class. The Programmer class also has its own unique method showLanguage().\n",
    "\n",
    "When an instance of the Employee class is created and the showDetails() method is called, it prints the name and salary of the employee. Similarly, when an instance of the Programmer class is created and both the inherited method showDetails() and the unique method showLanguage() are called, it prints the name, salary, and programming language of the programmer."
   ]
  },
  {
   "cell_type": "markdown",
   "id": "cc49dcea",
   "metadata": {},
   "source": [
    "<img src = \"https://simplesnippets.tech/wp-content/uploads/2018/04/java-types-of-inheritance.jpg\">"
   ]
  },
  {
   "cell_type": "markdown",
   "id": "734add99",
   "metadata": {},
   "source": [
    "# Single Inheritance\n",
    "This is type of inheritance where a child class inherits properties and behaviours from a single parent class. This is simplest and most common type of inheritance\n",
    "```python\n",
    "class ChildClass(ParentClass):\n",
    "    # class body\n",
    "```"
   ]
  },
  {
   "cell_type": "markdown",
   "id": "3116a6bc",
   "metadata": {},
   "source": [
    "### first lets understand `super( )`\n",
    "super() is used to call a method (function) by a child class from parent class.\n",
    "It is used in method of a child class."
   ]
  },
  {
   "cell_type": "code",
   "execution_count": 94,
   "id": "8605231d",
   "metadata": {},
   "outputs": [
    {
     "name": "stdout",
     "output_type": "stream",
     "text": [
      "This is from parent method\n"
     ]
    }
   ],
   "source": [
    "#The child_method from ChildClass calls parent_method from ParentMethod\n",
    "class ParentClass():\n",
    "    def parent_method(self):\n",
    "        print(\"This is from parent method\")\n",
    "class ChildClass(ParentClass): #ChildClass inherits all the properties from ParentClass\n",
    "    def child_method(self):\n",
    "        super().parent_method()\n",
    "        #This is also single inheritance as this child class inherits properties from only SINGLE PARENT\n",
    "        \n",
    "child_obj = ChildClass()\n",
    "child_obj.child_method()"
   ]
  },
  {
   "cell_type": "code",
   "execution_count": 95,
   "id": "3367d074",
   "metadata": {},
   "outputs": [
    {
     "name": "stdout",
     "output_type": "stream",
     "text": [
      "This is from parent method\n",
      "This is from child method\n",
      "This is from parent method\n"
     ]
    }
   ],
   "source": [
    "class ParentClass():\n",
    "    def parent_method(self):\n",
    "        print(\"This is from parent method\")\n",
    "class ChildClass(ParentClass): #ChildClass inherits all the properties from ParentClass\n",
    "    def child_method(self):\n",
    "        super().parent_method()\n",
    "        print(\"This is from child method\")\n",
    "\n",
    "child_obj = ChildClass()\n",
    "child_obj.child_method()\n",
    "child_obj.parent_method() #This also can be done"
   ]
  },
  {
   "cell_type": "markdown",
   "id": "82b31923",
   "metadata": {},
   "source": [
    "### super( ) can make a code more reusable"
   ]
  },
  {
   "cell_type": "code",
   "execution_count": 106,
   "id": "97a5fb2c",
   "metadata": {},
   "outputs": [
    {
     "name": "stdout",
     "output_type": "stream",
     "text": [
      "He is messi, speaks spanish and earns 35 million\n"
     ]
    }
   ],
   "source": [
    "#This is how code is written without super()\n",
    "class Employee:\n",
    "    def __init__(self, name, salary):\n",
    "        self.name = name\n",
    "        self.salary = salary\n",
    "class Player(Employee):\n",
    "    def __init__(self, name, salary, language):\n",
    "        self.name = name #this is a short code so rewriting these won't be an issue, but if the code were very long then it would cause a lot of problems to rewrite\n",
    "        self.salary = salary\n",
    "        self.language = language\n",
    "messi = Player(\"messi\", \"35 million\", \"spanish\")\n",
    "print(f\"He is {messi.name}, speaks {messi.language} and earns {messi.salary}\" )\n",
    "#This is also single inheritance as this child class inherits properties from only SINGLE PARENT\n"
   ]
  },
  {
   "cell_type": "code",
   "execution_count": 107,
   "id": "184f5a75",
   "metadata": {},
   "outputs": [
    {
     "name": "stdout",
     "output_type": "stream",
     "text": [
      "He is messi, speaks spanish and earns 35 million\n"
     ]
    }
   ],
   "source": [
    "# So the above code can be written this way to make it more reusable\n",
    "class Employee:\n",
    "    def __init__(self, name, salary):\n",
    "        self.name = name\n",
    "        self.salary = salary\n",
    "class Player(Employee):\n",
    "    def __init__(self, name, salary, language):\n",
    "        super().__init__(name, salary) #these are inherited from parent class Employee\n",
    "        self.language = language\n",
    "messi = Player(\"messi\", \"35 million\", \"spanish\")\n",
    "print(f\"He is {messi.name}, speaks {messi.language} and earns {messi.salary}\" )"
   ]
  },
  {
   "cell_type": "markdown",
   "id": "9659f6aa",
   "metadata": {},
   "source": [
    "# question: \n",
    "Implement a Cat class by using the animal class. Add some methods specific to cat\n",
    "\n",
    "(method can also be called directly like i've done in this example)"
   ]
  },
  {
   "cell_type": "code",
   "execution_count": 125,
   "id": "44a89b2f",
   "metadata": {},
   "outputs": [
    {
     "name": "stdout",
     "output_type": "stream",
     "text": [
      "Meoww!\n",
      "This is cat scratching\n",
      "Gorilla noises\n"
     ]
    }
   ],
   "source": [
    "class Animal:\n",
    "    def __init__(self, species, color):\n",
    "        self.species = species\n",
    "        self.color = color\n",
    "    def make_sound(self):\n",
    "        print(f\"{self.species} noises\")\n",
    "class Cat(Animal):\n",
    "    def __init__(self, species, color, size):\n",
    "        Animal.__init__(self, species, color) # this is alternative to super().__init__(species, color)\n",
    "        self.size = size # however, it's recommended to use super rather than calling the method directly like this to make the code more flexible\n",
    "    \n",
    "    #this same code with super is:\n",
    "    # def __init__(self, species, color, size):\n",
    "    #     super().__init__(species, color)\n",
    "    #     self.size = size   \n",
    "    \n",
    "    \n",
    "    def make_sound(self): #in super you don't need to pass super as argument\n",
    "        print(\"Meoww!\")\n",
    "    def scratch(self):\n",
    "        print(\"This is cat scratching\")\n",
    "biralo = Cat(\"cat\", \"black\", \"small\")\n",
    "biralo.make_sound(), biralo.scratch()\n",
    "\n",
    "janawar = Animal(\"Gorilla\", \"Black\")\n",
    "janawar.make_sound()\n"
   ]
  },
  {
   "cell_type": "markdown",
   "id": "55c50f12",
   "metadata": {},
   "source": [
    "Cat only inherits properties from Animal so it's single inheritance"
   ]
  },
  {
   "cell_type": "markdown",
   "id": "f6c2cc25",
   "metadata": {},
   "source": [
    "# Multiple Inheritance\n",
    "multiple inheritance allows the child class to inherit attributes, methods from multiple parent classes\n",
    "```python\n",
    "class ChildClass(ParentClass1, ParentClass2, ParentClass3):\n",
    "    # class body\n",
    "```"
   ]
  },
  {
   "cell_type": "code",
   "execution_count": 133,
   "id": "4bbd15e7",
   "metadata": {},
   "outputs": [
    {
     "name": "stdout",
     "output_type": "stream",
     "text": [
      "This is message from Son\n",
      "This is message from Father\n",
      "This is message from Grand-Father\n"
     ]
    }
   ],
   "source": [
    "class GrandFather:\n",
    "    def grandFather_method(self):\n",
    "        print(\"This is message from Grand-Father\")\n",
    "class Father:\n",
    "    def father_method(self):\n",
    "        print(\"This is message from Father\")\n",
    "class Son(GrandFather, Father):\n",
    "    def son_method(self):\n",
    "        print(\"This is message from Son\")\n",
    "obj = Son()\n",
    "obj.son_method()\n",
    "obj.father_method()\n",
    "obj.grandFather_method()"
   ]
  },
  {
   "cell_type": "code",
   "execution_count": 143,
   "id": "72872c62",
   "metadata": {},
   "outputs": [
    {
     "name": "stdout",
     "output_type": "stream",
     "text": [
      "A bat has 2 legs, can fly: True and echolocation: True\n"
     ]
    }
   ],
   "source": [
    "# another Example\n",
    "class Animal:\n",
    "    def __init__(self, species):\n",
    "        self.species = species\n",
    "\n",
    "class Mammal(Animal):\n",
    "    def __init__(self, species, no_of_legs):\n",
    "        Animal.__init__(self, species) #alt: super.__init__(species)\n",
    "        self.no_of_legs = no_of_legs\n",
    "class Bird(Animal):\n",
    "    def __init__(self, species, can_fly):\n",
    "        super().__init__(species) #alt: Animal.__init__(self, species)\n",
    "        self.can_fly = can_fly\n",
    "class Bat(Mammal, Bird):\n",
    "    def __init__(self, species, no_of_legs, can_fly, echolocation): #all these statements are inherited from different classes except for echolocation\n",
    "        Mammal.__init__(self, species, no_of_legs)\n",
    "        Bird.__init__(self, species, can_fly)\n",
    "        self.echolocation =echolocation\n",
    "        \n",
    "bat = Bat(\"bat\", 2, True, True)\n",
    "print(f\"A {bat.species} has {bat.no_of_legs} legs, can fly: {bat.can_fly} and echolocation: {bat.echolocation}\")\n",
    "    "
   ]
  },
  {
   "cell_type": "code",
   "execution_count": null,
   "id": "b638a493",
   "metadata": {},
   "outputs": [],
   "source": []
  },
  {
   "cell_type": "code",
   "execution_count": null,
   "id": "40969d0f",
   "metadata": {},
   "outputs": [],
   "source": []
  },
  {
   "cell_type": "code",
   "execution_count": null,
   "id": "c8cd2d7d",
   "metadata": {},
   "outputs": [],
   "source": []
  },
  {
   "cell_type": "markdown",
   "id": "c8010a87",
   "metadata": {},
   "source": [
    "# Multi-Level Inheritance\n",
    "Multi-level inheritance is when a class inherits from a parent class, which in turn inherits from another parent class.\n",
    "Basically, like child class inherits from parent class, and then parent class derives from grandparent class, and then grandparent class derives from greatGrand parent class and so on."
   ]
  },
  {
   "cell_type": "code",
   "execution_count": 155,
   "id": "20d99ab5",
   "metadata": {},
   "outputs": [
    {
     "name": "stdout",
     "output_type": "stream",
     "text": [
      "Dog has 4 legs and they also bark\n"
     ]
    }
   ],
   "source": [
    "class Animal:\n",
    "    def __init__(self, species):\n",
    "        self.species = species\n",
    "class Mammal(Animal):\n",
    "    def __init__(self, species, no_of_legs):\n",
    "        Animal.__init__(self, species)\n",
    "        self.no_of_legs = no_of_legs\n",
    "class Dog(Mammal):\n",
    "    def __init__(self, species, no_of_legs, sound):\n",
    "        Mammal.__init__(self, species, no_of_legs)\n",
    "        self.sound = sound\n",
    "doggy = Dog(\"Dog\", 4, \"bark\")\n",
    "print(f\"{doggy.species} has {doggy.no_of_legs} legs and they also {doggy.sound}\")"
   ]
  },
  {
   "cell_type": "code",
   "execution_count": 158,
   "id": "8177c00a",
   "metadata": {},
   "outputs": [
    {
     "name": "stdout",
     "output_type": "stream",
     "text": [
      "Bad Girl\n"
     ]
    }
   ],
   "source": [
    "class Object:\n",
    "    def __init__(self):\n",
    "        self.name = \"Bad Girl\"\n",
    "\n",
    "class Person(Object):\n",
    "    def __init__(self):\n",
    "        Object.__init__(self)\n",
    "        self.gender = \"Female\"\n",
    "\n",
    "class Student(Person):\n",
    "    def __init__(self):\n",
    "        Person.__init__(self)\n",
    "        self.major = \"Computer Science\"\n",
    "\n",
    "my_student = Student()\n",
    "print(my_student.name) # Output: Object\n"
   ]
  },
  {
   "cell_type": "markdown",
   "id": "237681bb",
   "metadata": {},
   "source": [
    "## Difference between multi-level and multiple Inheritance:\n",
    "In multi-level inheritance, a derived class inherits from a parent class, which in turn may inherit from another parent class. This creates a chain of inheritance, where each class inherits properties and methods from its parent class.\n",
    "`it's like a family owned business, grandfather passes the ownership of business to father then father passes the business to his son `\n",
    "\n",
    "\n",
    "On the other hand, multiple inheritance is when a derived class inherits from multiple base classes. In this case, the derived class inherits properties and methods from all of its parent classes.\n",
    "`it's like a son learning boxing from his father and cooking from his mother `\n"
   ]
  },
  {
   "cell_type": "markdown",
   "id": "0694f5b9",
   "metadata": {},
   "source": [
    "# Encapsulation:\n",
    "This is the process of hiding the internal workings of an object and exposing only the necessary information.\n",
    "\n",
    "This is used to protect the data from external interferance and prevent unauthorized access or modificaiton. Access modifier is a type of encapsulation"
   ]
  },
  {
   "cell_type": "markdown",
   "id": "b493c778",
   "metadata": {},
   "source": [
    "# Access modifiers/specifiers (they fall under encapsulation)\n",
    "There are three action modifiers in object oriented programming in most languages:\n",
    "* __public access modifier__:\n",
    "\n",
    "all variables and methods in python by default are public. these are accesable from anywhere.\n",
    "* __private access modifier ( __ )__: Private members (methods or variables) are those members which can only be accesed inside the class. Private members can't be used outside the class.\n",
    "\n",
    "This is true for most programming languages __however, in python__ there is no concept of `private`. But a convention has been established to indicate a variable as private. by starting/ prefexing a variable name with `__(Double underscore)`. Code outside the class can still access these `private` variables and methods, but generally it's understood that they shouldn't be accesed not modified.\n",
    "\n",
    "* __protected access modifier ( _ )__: Protected members can be accessed from the class it is defined in and its sub-classes.\n",
    "\n",
    "Similarly, there is no concept of `protected`. But a convention has been established to indicate a variable as private. by starting/ prefexing a variable name with `_(single underscore)`. there is a convention of using a single underscore prefix to indicate that a variable or method is intended for internal use only and should not be accessed directly from outside the class."
   ]
  },
  {
   "cell_type": "markdown",
   "id": "7b90751f",
   "metadata": {},
   "source": [
    "## Difference between private and protected access modifier:\n",
    " Private members can only be accessed within the class in which they are defined, whereas protected members can be accessed within the class and its sub-classes. This means that protected members can be accessed from outside the class by its subclasses, but not by any other classes. Private members, on the other hand, cannot be accessed from outside the class at all, not even by its subclasses.\n",
    " \n",
    "Protected member is like your house, you (class there member is defined) and your family members(sub-classes) can access it\n",
    "\n",
    "Whilst, private member is like your personal room, only you (class there member is defined) are allowed to access it. "
   ]
  },
  {
   "cell_type": "markdown",
   "id": "9c99c1af",
   "metadata": {},
   "source": [
    "### Public access modifier example"
   ]
  },
  {
   "cell_type": "code",
   "execution_count": 65,
   "id": "ba6e185c",
   "metadata": {},
   "outputs": [
    {
     "name": "stdout",
     "output_type": "stream",
     "text": [
      "Rohan\n",
      "16\n"
     ]
    }
   ],
   "source": [
    "class Student:\n",
    "    def __init__(self, name, age):\n",
    "        self.age = age\n",
    "        self.name = name\n",
    "obj1 = Student(\"Rohan\", 16)\n",
    "print(obj1.name) #the class atributes of class Student is easily accesable by the object so these are public\n",
    "print(obj1.age)"
   ]
  },
  {
   "cell_type": "markdown",
   "id": "60cb8253",
   "metadata": {},
   "source": [
    "### Private access modifier example"
   ]
  },
  {
   "cell_type": "code",
   "execution_count": 69,
   "id": "33a5ca47",
   "metadata": {},
   "outputs": [
    {
     "name": "stdout",
     "output_type": "stream",
     "text": [
      "Arijit\n"
     ]
    }
   ],
   "source": [
    "#this is public\n",
    "class Employee():\n",
    "    def __init__(self):\n",
    "        self.name = \"Arijit\"\n",
    "obj = Employee()\n",
    "print(obj.name)"
   ]
  },
  {
   "cell_type": "code",
   "execution_count": 71,
   "id": "99a9a6a2",
   "metadata": {},
   "outputs": [
    {
     "ename": "AttributeError",
     "evalue": "'Employee' object has no attribute '__name'",
     "output_type": "error",
     "traceback": [
      "\u001b[0;31m---------------------------------------------------------------------------\u001b[0m",
      "\u001b[0;31mAttributeError\u001b[0m                            Traceback (most recent call last)",
      "Cell \u001b[0;32mIn[71], line 6\u001b[0m\n\u001b[1;32m      4\u001b[0m         \u001b[38;5;28mself\u001b[39m\u001b[38;5;241m.\u001b[39m__name \u001b[38;5;241m=\u001b[39m \u001b[38;5;124m\"\u001b[39m\u001b[38;5;124mArijit\u001b[39m\u001b[38;5;124m\"\u001b[39m\n\u001b[1;32m      5\u001b[0m obj \u001b[38;5;241m=\u001b[39m Employee()\n\u001b[0;32m----> 6\u001b[0m \u001b[38;5;28mprint\u001b[39m(\u001b[43mobj\u001b[49m\u001b[38;5;241;43m.\u001b[39;49m\u001b[43m__name\u001b[49m)\n",
      "\u001b[0;31mAttributeError\u001b[0m: 'Employee' object has no attribute '__name'"
     ]
    }
   ],
   "source": [
    "#this is private\n",
    "class Employee():\n",
    "    def __init__(self):\n",
    "        self.__name = \"Arijit\"\n",
    "obj = Employee()\n",
    "print(obj.__name)"
   ]
  },
  {
   "cell_type": "markdown",
   "id": "fcfcb6e7",
   "metadata": {},
   "source": [
    "we will get an attribute error. You cannot directly access the private member. But they still can be accesed indirectly with this technique.\n"
   ]
  },
  {
   "cell_type": "code",
   "execution_count": 73,
   "id": "c9d6bb3d",
   "metadata": {},
   "outputs": [
    {
     "name": "stdout",
     "output_type": "stream",
     "text": [
      "Arijit\n"
     ]
    }
   ],
   "source": [
    "class Employee():\n",
    "    def __init__(self):\n",
    "        self.__name = \"Arijit\"\n",
    "obj = Employee()\n",
    "print(obj._Employee__name) #private member can be accesed"
   ]
  },
  {
   "cell_type": "markdown",
   "id": "4bfd1e8b",
   "metadata": {},
   "source": [
    "to access private modifier use\n",
    "```python\n",
    "object._ClassName__PrivateMember\n",
    "```\n",
    "it's kind of like putting your food on a table with a note \"Do Not Eat\". Generally, people have to understand that the food shouldn't be eaten but nothing is really stopping them from eating it. "
   ]
  },
  {
   "cell_type": "markdown",
   "id": "4480d0a8",
   "metadata": {},
   "source": [
    "### Protected Access Modifier example"
   ]
  },
  {
   "cell_type": "code",
   "execution_count": 80,
   "id": "56cd28d0",
   "metadata": {},
   "outputs": [
    {
     "name": "stdout",
     "output_type": "stream",
     "text": [
      "Meow, this is Fluffy\n"
     ]
    }
   ],
   "source": [
    "class Animal:\n",
    "    def __init__(self, name):\n",
    "        self._name = name #This is protected modifier\n",
    "    def speak(self):\n",
    "        print(\"Animal speaking\")\n",
    "class Cat(Animal):\n",
    "    def purr(self):\n",
    "        print(f\"Meow, this is {self._name}\") #accesing the protected variable from parent class\n",
    "        \n",
    "     \n",
    "cat = Cat(\"Fluffy\")\n",
    "cat.purr()"
   ]
  },
  {
   "cell_type": "code",
   "execution_count": null,
   "id": "179e05fd",
   "metadata": {},
   "outputs": [],
   "source": []
  }
 ],
 "metadata": {
  "kernelspec": {
   "display_name": "Python 3 (ipykernel)",
   "language": "python",
   "name": "python3"
  },
  "language_info": {
   "codemirror_mode": {
    "name": "ipython",
    "version": 3
   },
   "file_extension": ".py",
   "mimetype": "text/x-python",
   "name": "python",
   "nbconvert_exporter": "python",
   "pygments_lexer": "ipython3",
   "version": "3.8.10"
  }
 },
 "nbformat": 4,
 "nbformat_minor": 5
}
