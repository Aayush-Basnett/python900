{
 "cells": [
  {
   "cell_type": "markdown",
   "id": "9f771f42",
   "metadata": {},
   "source": [
    "# Json data\n",
    "It stands for javascript Object Notation. \n",
    "\n",
    "Json data can only be written in double quotes `\"\"`. If Json data is written in single quotes, it is considered invalid. \n",
    "\n",
    "eg. This is valid Json data\n",
    "```json\n",
    "{\n",
    "  \"name\": \"John Doe\",\n",
    "  \"age\": 30,\n",
    "  \"city\": \"New York\"\n",
    "}\n",
    "```"
   ]
  },
  {
   "cell_type": "markdown",
   "id": "3e54b76b",
   "metadata": {},
   "source": [
    "# json.dumps( )\n",
    "json.dumps( ) converts a Python dictionary, list, or other compatible Python data types into a JSON string.\n"
   ]
  },
  {
   "cell_type": "code",
   "execution_count": 4,
   "id": "3d5c7d20",
   "metadata": {},
   "outputs": [
    {
     "name": "stdout",
     "output_type": "stream",
     "text": [
      "{\"name\": \"John\", \"age\": 30, \"city\": \"New York\"}\n"
     ]
    }
   ],
   "source": [
    "import json\n",
    "python_data = {\n",
    "    'name': 'John',\n",
    "    \"age\": 30,\n",
    "    \"city\": \"New York\"\n",
    "} #This is in python data format, notice how the data can be either in single '' or double \"\" quotes\n",
    "json_data = json.dumps(python_data) #This is in json data format\n",
    "print(json_data)"
   ]
  },
  {
   "cell_type": "markdown",
   "id": "23a9d450",
   "metadata": {},
   "source": [
    "# json.loads( )\n",
    "json.loads( ) converts a Json data to python data-type"
   ]
  },
  {
   "cell_type": "code",
   "execution_count": 7,
   "id": "9c96c5b9",
   "metadata": {},
   "outputs": [
    {
     "name": "stdout",
     "output_type": "stream",
     "text": [
      "{'name': 'John', 'age': 30, 'city': 'New York'}\n"
     ]
    }
   ],
   "source": [
    "json_data = '{\"name\": \"John\", \"age\": 30, \"city\": \"New York\"}' #This is in json format\n",
    "python_data = json.loads(json_data) #This is in python format\n",
    "print(python_data)\n"
   ]
  },
  {
   "cell_type": "markdown",
   "id": "bb6a37b9",
   "metadata": {},
   "source": [
    "in python, json data is written inside quotes in order for python to understand it. "
   ]
  },
  {
   "cell_type": "markdown",
   "id": "52d1fd37",
   "metadata": {},
   "source": [
    "### Making a json file"
   ]
  },
  {
   "cell_type": "code",
   "execution_count": 27,
   "id": "f18045dc",
   "metadata": {},
   "outputs": [],
   "source": [
    "workers = [\n",
    "    {\n",
    "        'name' : 'Rayn',\n",
    "        'age' : 42\n",
    "    },\n",
    "    {\n",
    "        'name' : 'Brad',\n",
    "        'age' : 59\n",
    "    },\n",
    "    {\n",
    "        'name' : 'leo',\n",
    "        'age' : 48\n",
    "    },\n",
    "]\n",
    "with open(\"workers.json\", \"w\") as file:\n",
    "    json_data = json.dumps(workers, indent = 2) # indent: initially the json data\n",
    "    # is arranged in single line,\n",
    "    #but if we don't want that and want the data to lookm nice then we use indent\n",
    "    file.write(json_data) #This creates a json file\n",
    "    \n",
    "    "
   ]
  },
  {
   "cell_type": "code",
   "execution_count": 34,
   "id": "b5f08ff2",
   "metadata": {},
   "outputs": [
    {
     "name": "stdout",
     "output_type": "stream",
     "text": [
      "[\n",
      "  {\n",
      "    \"name\": \"Rayn\",\n",
      "    \"age\": 42\n",
      "  },\n",
      "  {\n",
      "    \"name\": \"Brad\",\n",
      "    \"age\": 59\n",
      "  },\n",
      "  {\n",
      "    \"name\": \"leo\",\n",
      "    \"age\": 48\n",
      "  }\n",
      "]\n",
      "<class '_io.TextIOWrapper'>\n"
     ]
    }
   ],
   "source": [
    "with open(\"workers.json\", \"r\") as file:\n",
    "    print(file.read())\n",
    "    print(type(file))\n",
    "\n",
    "# this is in string form, we can not index these files and get specific values, in order to \n"
   ]
  },
  {
   "cell_type": "code",
   "execution_count": 32,
   "id": "b8d2c5d8",
   "metadata": {},
   "outputs": [
    {
     "name": "stdout",
     "output_type": "stream",
     "text": [
      "[{'name': 'Rayn', 'age': 42}, {'name': 'Brad', 'age': 59}, {'name': 'leo', 'age': 48}]\n",
      "This is INDEXING in action:::  Rayn\n"
     ]
    }
   ],
   "source": [
    "# so we need to convert this json data to python list inorder to use indexing\n",
    "with open(\"workers.json\", \"r\") as file:\n",
    "    data = file.read()\n",
    "    list_data = json.loads(data)\n",
    "    print(list_data)\n",
    "    #indexing can also be done\n",
    "    print(\"This is INDEXING in action::: \",list_data[0][\"name\"])"
   ]
  },
  {
   "cell_type": "code",
   "execution_count": null,
   "id": "a39079da",
   "metadata": {},
   "outputs": [],
   "source": []
  },
  {
   "cell_type": "code",
   "execution_count": null,
   "id": "b3455b78",
   "metadata": {},
   "outputs": [],
   "source": []
  }
 ],
 "metadata": {
  "kernelspec": {
   "display_name": "Python 3 (ipykernel)",
   "language": "python",
   "name": "python3"
  },
  "language_info": {
   "codemirror_mode": {
    "name": "ipython",
    "version": 3
   },
   "file_extension": ".py",
   "mimetype": "text/x-python",
   "name": "python",
   "nbconvert_exporter": "python",
   "pygments_lexer": "ipython3",
   "version": "3.8.10"
  }
 },
 "nbformat": 4,
 "nbformat_minor": 5
}
