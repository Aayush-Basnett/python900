{
 "cells": [
  {
   "cell_type": "code",
   "execution_count": 24,
   "id": "ac6d71fb",
   "metadata": {},
   "outputs": [],
   "source": [
    "from create import create\n",
    "from read import read\n",
    "from update import update\n",
    "from delete import delete"
   ]
  },
  {
   "cell_type": "code",
   "execution_count": 25,
   "id": "e22607ad",
   "metadata": {},
   "outputs": [
    {
     "name": "stdout",
     "output_type": "stream",
     "text": [
      "Enter Your Choice C/R/U/D: c\n"
     ]
    }
   ],
   "source": [
    "def inquiry():\n",
    "    selection = input(\"Enter Your Choice C/R/U/D: \")\n",
    "    selection = selection.lower()\n",
    "    if selection == \"c\":\n",
    "        create()\n",
    "    elif selection == \"r\":\n",
    "        read()\n",
    "    elif selection == \"u\":\n",
    "        update()\n",
    "    elif selection == \"d\":\n",
    "        delete()\n",
    "    else:\n",
    "        print(\"Invalid request\")\n",
    "inquiry()"
   ]
  },
  {
   "cell_type": "code",
   "execution_count": null,
   "id": "a8501b8e",
   "metadata": {},
   "outputs": [],
   "source": []
  },
  {
   "cell_type": "markdown",
   "id": "a006155a",
   "metadata": {},
   "source": [
    "``` python\n",
    "if __name__ == \"__main__\":\n",
    "```\n",
    "I will use this code in a python script if I want to independently execute the code only when the code, i.e if the code is imported into any other file then it's skipped\n",
    "\n",
    "The if __name__ == \"__main__\" condition ensures that the code below it is executed only when the Python script is run as the main program.\n",
    "\n",
    "\n",
    "When a Python script is imported as a module by another script, the code outside the if __name__ == \"__main__\" block is still executed, but the code inside that block is skipped. This allows you to have code that is specific to the main program execution and not intended to be executed when the script is imported as a module."
   ]
  },
  {
   "cell_type": "markdown",
   "id": "45f4bc46",
   "metadata": {},
   "source": [
    "```python\n",
    "if __name__ == \"__main__\": #THis is not necessary in .ipnyb extention,\n",
    "    #but it is used in .py files\n",
    "    inquiry()\n",
    "```"
   ]
  },
  {
   "cell_type": "code",
   "execution_count": 16,
   "id": "aed6dcad",
   "metadata": {},
   "outputs": [
    {
     "name": "stdout",
     "output_type": "stream",
     "text": [
      "Enter Your Choice C/R/U/D: c\n"
     ]
    }
   ],
   "source": [
    "inquiry()"
   ]
  },
  {
   "cell_type": "code",
   "execution_count": null,
   "id": "a5c001b1",
   "metadata": {},
   "outputs": [],
   "source": []
  }
 ],
 "metadata": {
  "kernelspec": {
   "display_name": "Python 3 (ipykernel)",
   "language": "python",
   "name": "python3"
  },
  "language_info": {
   "codemirror_mode": {
    "name": "ipython",
    "version": 3
   },
   "file_extension": ".py",
   "mimetype": "text/x-python",
   "name": "python",
   "nbconvert_exporter": "python",
   "pygments_lexer": "ipython3",
   "version": "3.8.10"
  },
  "vscode": {
   "interpreter": {
    "hash": "aee8b7b246df8f9039afb4144a1f6fd8d2ca17a180786b69acc140d282b71a49"
   }
  }
 },
 "nbformat": 4,
 "nbformat_minor": 5
}
