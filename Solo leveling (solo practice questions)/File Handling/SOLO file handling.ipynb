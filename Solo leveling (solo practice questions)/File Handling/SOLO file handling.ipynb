{
 "cells": [
  {
   "cell_type": "markdown",
   "id": "d36bde72",
   "metadata": {},
   "source": [
    "# File-handling\n",
    "* open(filename, mode)\n",
    "# mode\n",
    "* read: \"r\" (default mode if nothing is passed as argument)\n",
    "* write: \"w\"\n",
    "* append: \"a\"\n",
    "* create: \"w\" (This creates a new file, if file exists then it will give error)\n"
   ]
  },
  {
   "cell_type": "code",
   "execution_count": 21,
   "id": "d5000eee",
   "metadata": {},
   "outputs": [],
   "source": [
    "file = open(\"New-file.txt\", \"w\")\n",
    "#opening a file with write mode creates a new file with the name passed in first argument\n",
    "#second argument specifies what should be done with the file (read or write or append)\n",
    "\n",
    "#the second-argument at open(\"...\", \"w\") must be consistent with file.write\n",
    "text = file.write(\"\"\"\n",
    "Teri bahon mein jo sakun tha mila\n",
    "Main dhoondha bohat tha\n",
    "Phir na mila aa\n",
    "                  \n",
    "                  \"\"\")\n",
    "file.close()\n",
    "#after opening a file, it is also important to close it as failing to do so might cause\n",
    "#corruption in your program. "
   ]
  },
  {
   "cell_type": "code",
   "execution_count": 24,
   "id": "dda3211c",
   "metadata": {},
   "outputs": [
    {
     "name": "stdout",
     "output_type": "stream",
     "text": [
      "\n",
      "Teri bahon mein jo sakun tha mila\n",
      "Main dhoondha bohat tha\n",
      "Phir na mila aa\n",
      "                  \n",
      "                  \n"
     ]
    }
   ],
   "source": [
    "# Now, if i want to read the content of the  file i've created then,\n",
    "file = open(\"New-file.txt\", \"r\") #if this file did't exist then, we wouldv'e got an error\n",
    "\n",
    "content = file.read()\n",
    "print(content)\n",
    "file.close()\n",
    "#This is how we read content"
   ]
  },
  {
   "cell_type": "markdown",
   "id": "5ad75e5f",
   "metadata": {},
   "source": [
    "but opening and closing a file is too much of a hassle, so there's an alternative syntax. "
   ]
  },
  {
   "cell_type": "code",
   "execution_count": 25,
   "id": "8ae3e89b",
   "metadata": {},
   "outputs": [
    {
     "name": "stdout",
     "output_type": "stream",
     "text": [
      "\n",
      "Teri bahon mein jo sakun tha mila\n",
      "Main dhoondha bohat tha\n",
      "Phir na mila aa\n",
      "                  \n",
      "                  \n"
     ]
    }
   ],
   "source": [
    "with open(\"New-file.txt\", \"r\") as file:\n",
    "    content = file.read()\n",
    "print(content) #This can also be used in write, append    \n"
   ]
  },
  {
   "cell_type": "markdown",
   "id": "8ea5a468",
   "metadata": {},
   "source": [
    "Now, If I want to add more text to this file (if I use write again, previous text will be overwritten by new text I provide)"
   ]
  },
  {
   "cell_type": "code",
   "execution_count": 28,
   "id": "9e5c54d7",
   "metadata": {},
   "outputs": [
    {
     "name": "stdout",
     "output_type": "stream",
     "text": [
      "\n",
      "Dunia chhuna chahe mujhko yoon\n",
      "Jaisey unki saari ki saari main\n",
      "Dunia dekhe roop mera\n",
      "Koyi na jaane bechaari main\n",
      "                  \n",
      "                  \n"
     ]
    }
   ],
   "source": [
    "with open(\"New-file.txt\", \"w\") as file:\n",
    "    content = file.write(\"\"\"\n",
    "Dunia chhuna chahe mujhko yoon\n",
    "Jaisey unki saari ki saari main\n",
    "Dunia dekhe roop mera\n",
    "Koyi na jaane bechaari main\n",
    "                  \n",
    "                  \"\"\")\n",
    "with open(\"New-file.txt\", \"r\") as file:\n",
    "    content = file.read()\n",
    "print(content)\n",
    "    "
   ]
  },
  {
   "cell_type": "markdown",
   "id": "8d394835",
   "metadata": {},
   "source": [
    "But If I want to add text to previous text without overwriting the previous text then I will\n",
    "use append"
   ]
  },
  {
   "cell_type": "code",
   "execution_count": 31,
   "id": "6a04424d",
   "metadata": {},
   "outputs": [
    {
     "name": "stdout",
     "output_type": "stream",
     "text": [
      "\n",
      "Teri bahon mein jo sakun tha mila\n",
      "Main dhoondha bohat tha\n",
      "Phir na mila aa\n",
      "                  \n",
      "                  \n",
      "Dunia chhuna chahe mujhko yoon\n",
      "Jaisey unki saari ki saari main\n",
      "Dunia dekhe roop mera\n",
      "Koyi na jaane bechaari main\n",
      "    \n",
      "    \n"
     ]
    }
   ],
   "source": [
    "with open(\"New-file.txt\", \"w\") as file:\n",
    "    content = file.write(\"\"\"\n",
    "Teri bahon mein jo sakun tha mila\n",
    "Main dhoondha bohat tha\n",
    "Phir na mila aa\n",
    "                  \n",
    "                  \"\"\") #This is previous text\n",
    "with open(\"New-file.txt\", \"a\") as file: #second argument \"a\" rather than \"w\" to avoid overwriting\n",
    "    content = file.write(\"\"\"\n",
    "Dunia chhuna chahe mujhko yoon\n",
    "Jaisey unki saari ki saari main\n",
    "Dunia dekhe roop mera\n",
    "Koyi na jaane bechaari main\n",
    "    \n",
    "    \"\"\")\n",
    "with open(\"New-file.txt\", \"r\") as file:\n",
    "    content = file.read()\n",
    "print(content)\n"
   ]
  },
  {
   "cell_type": "code",
   "execution_count": 35,
   "id": "3ea4b7a1",
   "metadata": {},
   "outputs": [
    {
     "name": "stdout",
     "output_type": "stream",
     "text": [
      "['\\n', 'Teri bahon mein jo sakun tha mila\\n', 'Main dhoondha bohat tha\\n', 'Phir na mila aa\\n', '                  \\n', '                  \\n', 'Dunia chhuna chahe mujhko yoon\\n', 'Jaisey unki saari ki saari main\\n', 'Dunia dekhe roop mera\\n', 'Koyi na jaane bechaari main\\n', '    \\n', '    ']\n"
     ]
    }
   ],
   "source": [
    "#if i want to print individual lines then\n",
    "with open(\"New-file.txt\", \"r\") as file:\n",
    "    content = file.readlines() #readlines rather than read\n",
    "print(content) #this gives data in list"
   ]
  },
  {
   "cell_type": "code",
   "execution_count": 38,
   "id": "8dac436c",
   "metadata": {},
   "outputs": [
    {
     "data": {
      "text/plain": [
       "'Teri bahon mein jo sakun tha mila\\n'"
      ]
     },
     "execution_count": 38,
     "metadata": {},
     "output_type": "execute_result"
    }
   ],
   "source": [
    "content[1] #\"\\n\" specifies breaking of line"
   ]
  },
  {
   "cell_type": "markdown",
   "id": "0e044068",
   "metadata": {},
   "source": [
    "# + modes\n",
    "`+ modes` are used in conjunction with the basic file access modes (r, w, and a) to provide additional functionality. The + modes allow for both reading and writing operations on the file.\n",
    "\n",
    "* __r+ mode__: Opens a file for both reading and writing. The file pointer (position indicator) is initially set at the beginning of the file. If the file doesn't exist, you will get a \"File not found\" error.\n",
    "* __w+ mode__: Opens a file for both reading and writing. If the file already exists, its contents are cleared (deleted). The file pointer is initially set at the beginning of the file. If the file doesn't exist, a new file is created.\n",
    "* __a+ mode__:  Opens a file for both reading and writing. The file pointer is initially set at the end of the file. If the file doesn't exist, a new file is created. When you write to the file, the data will be added (appended) at the end of the existing content.\n",
    "\n",
    "\n",
    "In summary, the + modes allow you to read from and write to a file. The main differences between the modes are the initial position of the file pointer and what happens if the file already exists (whether it gets cleared, used as-is, or appended to)."
   ]
  },
  {
   "cell_type": "markdown",
   "id": "19397339",
   "metadata": {},
   "source": [
    "# seek( )\n",
    "the seek() method is used to change the position of the file pointer (the indicator that specifies the current location in the file) within an opened file. It allows you to move the file pointer to a specific position in the file.\n",
    "\n"
   ]
  },
  {
   "cell_type": "code",
   "execution_count": 42,
   "id": "4f8ec14e",
   "metadata": {},
   "outputs": [],
   "source": [
    "with open(\"file.txt\", \"w\") as file:\n",
    "    content = file.write(\"Haye tooti sari ki sari main, tere ishq main hooi awari main\")\n",
    "#First let's create a new file named file.txt\n"
   ]
  },
  {
   "cell_type": "code",
   "execution_count": 46,
   "id": "2d444315",
   "metadata": {},
   "outputs": [
    {
     "name": "stdout",
     "output_type": "stream",
     "text": [
      "Haye\n"
     ]
    }
   ],
   "source": [
    "# TO read this\n",
    "with open(\"file.txt\", \"r\") as file:\n",
    "\n",
    "    print(file.read(4)) #THis only prints the first 4 characters"
   ]
  },
  {
   "cell_type": "code",
   "execution_count": 48,
   "id": "35313415",
   "metadata": {},
   "outputs": [
    {
     "name": "stdout",
     "output_type": "stream",
     "text": [
      "tooti\n"
     ]
    }
   ],
   "source": [
    "with open(\"file.txt\", \"r\") as file:\n",
    "    file.seek(5) #This puts the pointer/cursor in 5th character place \n",
    "    print(file.read(5)) #and then the next 5 letters are read"
   ]
  },
  {
   "cell_type": "markdown",
   "id": "78834ead",
   "metadata": {},
   "source": [
    "# tell( )\n",
    "the tell( ) indicates current pointer position"
   ]
  },
  {
   "cell_type": "code",
   "execution_count": 50,
   "id": "de465388",
   "metadata": {},
   "outputs": [
    {
     "name": "stdout",
     "output_type": "stream",
     "text": [
      "pointer position is 5\n",
      "tooti\n"
     ]
    }
   ],
   "source": [
    "with open(\"file.txt\", \"r\") as file:\n",
    "    file.seek(5) #This puts the pointer/cursor in 5th character place \n",
    "    print(\"pointer position is\", file.tell())\n",
    "    print(file.read(5))"
   ]
  },
  {
   "cell_type": "markdown",
   "id": "1f5076d2",
   "metadata": {},
   "source": [
    "# w+\n",
    "write + read (write first then read)\n",
    "\n",
    "This will create a new file if it does't exist then you can read it. \n",
    "\n",
    "before writing, pointer is placed at the beginning then after writing it's placed at the end. \n",
    "So to read the content, we gotta place the pointer at the start. "
   ]
  },
  {
   "cell_type": "code",
   "execution_count": 87,
   "id": "a00fe494",
   "metadata": {},
   "outputs": [
    {
     "name": "stdout",
     "output_type": "stream",
     "text": [
      "13\n",
      "Hello, World!\n"
     ]
    }
   ],
   "source": [
    "with open(\"example.txt\", \"w+\") as file:\n",
    "    # The file pointer is initially at the end of the file\n",
    "\n",
    "    file.write(\"Hello, World!\")\n",
    "    # The file pointer remains at the end after writing\n",
    "\n",
    "    print(file.tell())\n",
    "    # Move the file pointer to the beginning\n",
    "\n",
    "    file.seek(0)\n",
    "    # Read the contents of the file\n",
    "\n",
    "    content = file.read()\n",
    "    print(content)"
   ]
  },
  {
   "cell_type": "markdown",
   "id": "7c0b7a7e",
   "metadata": {},
   "source": [
    "# r+\n",
    "read + write (read first then write)\n",
    "\n",
    "This will display an error if the file doesn't exist. So, this will NOT create a new file. \n",
    "\n",
    "\n",
    "\n"
   ]
  },
  {
   "cell_type": "code",
   "execution_count": 88,
   "id": "f3975bee",
   "metadata": {},
   "outputs": [
    {
     "name": "stdout",
     "output_type": "stream",
     "text": [
      "0\n",
      "Hello, World!\n",
      "13\n",
      "32\n",
      "\n"
     ]
    }
   ],
   "source": [
    "with open (\"example.txt\", \"r+\") as file:\n",
    "    #THe pointer position is set initially at the start\n",
    "    print(file.tell())\n",
    "    print(file.read())\n",
    "    #THen, the pointer position is set at the end. \n",
    "\n",
    "    print(file.tell())\n",
    "    file.write(\" Namaste, everyone \")\n",
    "    \n",
    "    print(file.tell())\n",
    "\n",
    "    print(file.read())\n",
    "    #this appends value"
   ]
  },
  {
   "cell_type": "markdown",
   "id": "3846d36a",
   "metadata": {},
   "source": [
    "# a+\n",
    "append + read (write then read)\n",
    "\n",
    "THis is like the mix of w+ and r+, best of both worlds. It creates a new file if it doesn't already exist like w+ and it appends value to the existing value like r+"
   ]
  },
  {
   "cell_type": "code",
   "execution_count": 89,
   "id": "d7305022",
   "metadata": {},
   "outputs": [
    {
     "name": "stdout",
     "output_type": "stream",
     "text": [
      "43\n",
      "0\n",
      "Hello, World! Namaste, everyone  Hola Mundo\n"
     ]
    }
   ],
   "source": [
    "with open (\"example.txt\", \"a+\") as file:\n",
    "    file.write(\" Hola Mundo\")\n",
    "    #THe pointer position is set initially at the end\n",
    "\n",
    "    print(file.tell())\n",
    "    \n",
    "    file.seek(0)\n",
    "    print(file.tell())\n",
    "    \n",
    "    #THen, the pointer position is set at the start manually in order to read. \n",
    "\n",
    "    print(file.read())\n"
   ]
  },
  {
   "cell_type": "code",
   "execution_count": 90,
   "id": "145a71de",
   "metadata": {},
   "outputs": [],
   "source": []
  },
  {
   "cell_type": "code",
   "execution_count": null,
   "id": "8ba14500",
   "metadata": {},
   "outputs": [],
   "source": []
  }
 ],
 "metadata": {
  "kernelspec": {
   "display_name": "Python 3 (ipykernel)",
   "language": "python",
   "name": "python3"
  },
  "language_info": {
   "codemirror_mode": {
    "name": "ipython",
    "version": 3
   },
   "file_extension": ".py",
   "mimetype": "text/x-python",
   "name": "python",
   "nbconvert_exporter": "python",
   "pygments_lexer": "ipython3",
   "version": "3.8.10"
  }
 },
 "nbformat": 4,
 "nbformat_minor": 5
}
