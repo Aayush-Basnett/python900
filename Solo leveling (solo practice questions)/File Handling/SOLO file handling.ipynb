{
 "cells": [
  {
   "cell_type": "markdown",
   "id": "d36bde72",
   "metadata": {},
   "source": [
    "# File-handling\n",
    "* open(filename, mode)\n",
    "# mode\n",
    "* read: \"r\" (default mode if nothing is passed as argument)\n",
    "* write: \"w\"\n",
    "* append: \"a\"\n",
    "* create: \"w\" (This creates a new file, if file exists then it will give error)\n"
   ]
  },
  {
   "cell_type": "code",
   "execution_count": 21,
   "id": "d5000eee",
   "metadata": {},
   "outputs": [],
   "source": [
    "file = open(\"New-file.txt\", \"w\")\n",
    "#opening a file with write mode creates a new file with the name passed in first argument\n",
    "#second argument specifies what should be done with the file (read or write or append)\n",
    "\n",
    "#the second-argument at open(\"...\", \"w\") must be consistent with file.write\n",
    "text = file.write(\"\"\"\n",
    "Teri bahon mein jo sakun tha mila\n",
    "Main dhoondha bohat tha\n",
    "Phir na mila aa\n",
    "                  \n",
    "                  \"\"\")\n",
    "file.close()\n",
    "#after opening a file, it is also important to close it as failing to do so might cause\n",
    "#corruption in your program. "
   ]
  },
  {
   "cell_type": "code",
   "execution_count": 24,
   "id": "dda3211c",
   "metadata": {},
   "outputs": [
    {
     "name": "stdout",
     "output_type": "stream",
     "text": [
      "\n",
      "Teri bahon mein jo sakun tha mila\n",
      "Main dhoondha bohat tha\n",
      "Phir na mila aa\n",
      "                  \n",
      "                  \n"
     ]
    }
   ],
   "source": [
    "# Now, if i want to read the content of the  file i've created then,\n",
    "file = open(\"New-file.txt\", \"r\") #if this file did't exist then, we wouldv'e got an error\n",
    "\n",
    "content = file.read()\n",
    "print(content)\n",
    "file.close()\n",
    "#This is how we read content"
   ]
  },
  {
   "cell_type": "markdown",
   "id": "5ad75e5f",
   "metadata": {},
   "source": [
    "but opening and closing a file is too much of a hassle, so there's an alternative syntax. "
   ]
  },
  {
   "cell_type": "code",
   "execution_count": 25,
   "id": "8ae3e89b",
   "metadata": {},
   "outputs": [
    {
     "name": "stdout",
     "output_type": "stream",
     "text": [
      "\n",
      "Teri bahon mein jo sakun tha mila\n",
      "Main dhoondha bohat tha\n",
      "Phir na mila aa\n",
      "                  \n",
      "                  \n"
     ]
    }
   ],
   "source": [
    "with open(\"New-file.txt\", \"r\") as file:\n",
    "    content = file.read()\n",
    "print(content) #This can also be used in write, append    \n"
   ]
  },
  {
   "cell_type": "markdown",
   "id": "8ea5a468",
   "metadata": {},
   "source": [
    "Now, If I want to add more text to this file (if I use write again, previous text will be overwritten by new text I provide)"
   ]
  },
  {
   "cell_type": "code",
   "execution_count": 28,
   "id": "9e5c54d7",
   "metadata": {},
   "outputs": [
    {
     "name": "stdout",
     "output_type": "stream",
     "text": [
      "\n",
      "Dunia chhuna chahe mujhko yoon\n",
      "Jaisey unki saari ki saari main\n",
      "Dunia dekhe roop mera\n",
      "Koyi na jaane bechaari main\n",
      "                  \n",
      "                  \n"
     ]
    }
   ],
   "source": [
    "with open(\"New-file.txt\", \"w\") as file:\n",
    "    content = file.write(\"\"\"\n",
    "Dunia chhuna chahe mujhko yoon\n",
    "Jaisey unki saari ki saari main\n",
    "Dunia dekhe roop mera\n",
    "Koyi na jaane bechaari main\n",
    "                  \n",
    "                  \"\"\")\n",
    "with open(\"New-file.txt\", \"r\") as file:\n",
    "    content = file.read()\n",
    "print(content)\n",
    "    "
   ]
  },
  {
   "cell_type": "markdown",
   "id": "8d394835",
   "metadata": {},
   "source": [
    "But If I want to add text to previous text without overwriting the previous text then I will\n",
    "use append"
   ]
  },
  {
   "cell_type": "code",
   "execution_count": 31,
   "id": "6a04424d",
   "metadata": {},
   "outputs": [
    {
     "name": "stdout",
     "output_type": "stream",
     "text": [
      "\n",
      "Teri bahon mein jo sakun tha mila\n",
      "Main dhoondha bohat tha\n",
      "Phir na mila aa\n",
      "                  \n",
      "                  \n",
      "Dunia chhuna chahe mujhko yoon\n",
      "Jaisey unki saari ki saari main\n",
      "Dunia dekhe roop mera\n",
      "Koyi na jaane bechaari main\n",
      "    \n",
      "    \n"
     ]
    }
   ],
   "source": [
    "with open(\"New-file.txt\", \"w\") as file:\n",
    "    content = file.write(\"\"\"\n",
    "Teri bahon mein jo sakun tha mila\n",
    "Main dhoondha bohat tha\n",
    "Phir na mila aa\n",
    "                  \n",
    "                  \"\"\") #This is previous text\n",
    "with open(\"New-file.txt\", \"a\") as file: #second argument \"a\" rather than \"w\" to avoid overwriting\n",
    "    content = file.write(\"\"\"\n",
    "Dunia chhuna chahe mujhko yoon\n",
    "Jaisey unki saari ki saari main\n",
    "Dunia dekhe roop mera\n",
    "Koyi na jaane bechaari main\n",
    "    \n",
    "    \"\"\")\n",
    "with open(\"New-file.txt\", \"r\") as file:\n",
    "    content = file.read()\n",
    "print(content)\n"
   ]
  },
  {
   "cell_type": "code",
   "execution_count": 35,
   "id": "3ea4b7a1",
   "metadata": {},
   "outputs": [
    {
     "name": "stdout",
     "output_type": "stream",
     "text": [
      "['\\n', 'Teri bahon mein jo sakun tha mila\\n', 'Main dhoondha bohat tha\\n', 'Phir na mila aa\\n', '                  \\n', '                  \\n', 'Dunia chhuna chahe mujhko yoon\\n', 'Jaisey unki saari ki saari main\\n', 'Dunia dekhe roop mera\\n', 'Koyi na jaane bechaari main\\n', '    \\n', '    ']\n"
     ]
    }
   ],
   "source": [
    "#if i want to print individual lines then\n",
    "with open(\"New-file.txt\", \"r\") as file:\n",
    "    content = file.readlines() #readlines rather than read\n",
    "print(content) #this gives data in list"
   ]
  },
  {
   "cell_type": "code",
   "execution_count": 38,
   "id": "8dac436c",
   "metadata": {},
   "outputs": [
    {
     "data": {
      "text/plain": [
       "'Teri bahon mein jo sakun tha mila\\n'"
      ]
     },
     "execution_count": 38,
     "metadata": {},
     "output_type": "execute_result"
    }
   ],
   "source": [
    "content[1] #\"\\n\" specifies breaking of line"
   ]
  },
  {
   "cell_type": "code",
   "execution_count": null,
   "id": "554b8b4d",
   "metadata": {},
   "outputs": [],
   "source": []
  }
 ],
 "metadata": {
  "kernelspec": {
   "display_name": "Python 3 (ipykernel)",
   "language": "python",
   "name": "python3"
  },
  "language_info": {
   "codemirror_mode": {
    "name": "ipython",
    "version": 3
   },
   "file_extension": ".py",
   "mimetype": "text/x-python",
   "name": "python",
   "nbconvert_exporter": "python",
   "pygments_lexer": "ipython3",
   "version": "3.8.10"
  }
 },
 "nbformat": 4,
 "nbformat_minor": 5
}
