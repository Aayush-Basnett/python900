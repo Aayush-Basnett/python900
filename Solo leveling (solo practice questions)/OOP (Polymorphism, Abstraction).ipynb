{
 "cells": [
  {
   "cell_type": "markdown",
   "id": "54c7fee9",
   "metadata": {},
   "source": [
    "# Ploymorphism\n",
    "It is also called many-shaped. Polymorphism is the ability of an object to take on many forms depending on the contex in which it is used.\n"
   ]
  },
  {
   "cell_type": "code",
   "execution_count": 3,
   "id": "c9834d17",
   "metadata": {},
   "outputs": [
    {
     "name": "stdout",
     "output_type": "stream",
     "text": [
      "10\n",
      "55\n",
      "[1, 2, 3, 4, 5, 6]\n"
     ]
    }
   ],
   "source": [
    "#Example\n",
    "print(5+5) # here + sums the value two integers\n",
    "print(\"5\" + \"5\") #here + joins two strings\n",
    "print([1,2,3] + [4,5,6]) #here + appends numbers in list"
   ]
  },
  {
   "cell_type": "code",
   "execution_count": 5,
   "id": "0b25335e",
   "metadata": {},
   "outputs": [
    {
     "ename": "TypeError",
     "evalue": "unsupported operand type(s) for +: 'Account' and 'Account'",
     "output_type": "error",
     "traceback": [
      "\u001b[0;31m---------------------------------------------------------------------------\u001b[0m",
      "\u001b[0;31mTypeError\u001b[0m                                 Traceback (most recent call last)",
      "Cell \u001b[0;32mIn[5], line 6\u001b[0m\n\u001b[1;32m      4\u001b[0m acc1 \u001b[38;5;241m=\u001b[39m Account(\u001b[38;5;124m\"\u001b[39m\u001b[38;5;124mRam\u001b[39m\u001b[38;5;124m\"\u001b[39m)\n\u001b[1;32m      5\u001b[0m acc2 \u001b[38;5;241m=\u001b[39m Account(\u001b[38;5;124m\"\u001b[39m\u001b[38;5;124mSita\u001b[39m\u001b[38;5;124m\"\u001b[39m)\n\u001b[0;32m----> 6\u001b[0m \u001b[43macc1\u001b[49m\u001b[43m \u001b[49m\u001b[38;5;241;43m+\u001b[39;49m\u001b[43m \u001b[49m\u001b[43macc2\u001b[49m\n",
      "\u001b[0;31mTypeError\u001b[0m: unsupported operand type(s) for +: 'Account' and 'Account'"
     ]
    }
   ],
   "source": [
    "class Account:\n",
    "    def __init__(self, name):\n",
    "        self.name = name\n",
    "acc1 = Account(\"Ram\")\n",
    "acc2 = Account(\"Sita\")\n",
    "acc1 + acc2"
   ]
  },
  {
   "cell_type": "markdown",
   "id": "280b256d",
   "metadata": {},
   "source": [
    "I won't be able to add two strings like this. So there's a special method to perform tasks like this, it's called __Operator overloading__\n",
    "\n",
    "Operator overloading is a feature that allows you to define what happens when operators like +, - are used in your custom class. This allows you to make your class behave like built in data-types."
   ]
  },
  {
   "cell_type": "markdown",
   "id": "ef459d83",
   "metadata": {},
   "source": [
    "# Common Operation overloading methods\n",
    "* `__add__( )`: for addition\n",
    "* `__sub__( )`: for subtraction\n",
    "* `__mul__( )`: for multiplication\n",
    "* `__truediv__( )`: for division\n",
    "* `__mod__( )`: for modulus\n",
    "* `__pow__( )`: for exponential\n",
    "\n"
   ]
  },
  {
   "cell_type": "code",
   "execution_count": 8,
   "id": "17017e51",
   "metadata": {},
   "outputs": [
    {
     "name": "stdout",
     "output_type": "stream",
     "text": [
      "The combined accounts are Ram and Sita\n"
     ]
    }
   ],
   "source": [
    "class Account:\n",
    "    def __init__(self, name):\n",
    "        self.name = name\n",
    "            # Define the __add__ method to combine two accounts\n",
    "    def __add__(self, other):\n",
    "        print(f\"The combined accounts are {self.name} and {other.name}\")\n",
    "        \n",
    "\n",
    "acc1 = Account(\"Ram\")\n",
    "acc2 = Account(\"Sita\")\n",
    "\n",
    "#Add the two Account objects together using the \"+\" operator\n",
    "\n",
    "acc1 + acc2 #everytime \"+\" is used, __add__() method is called\n",
    "# This will call the __add__ method to combine the two accounts"
   ]
  },
  {
   "cell_type": "code",
   "execution_count": 17,
   "id": "706d125e",
   "metadata": {},
   "outputs": [
    {
     "name": "stdout",
     "output_type": "stream",
     "text": [
      "I still have $500 left after paying my rent because I sold my car\n"
     ]
    }
   ],
   "source": [
    "# More examples\n",
    "class Money:\n",
    "    def __init__(self, name, amount):\n",
    "        self.name = name\n",
    "        self.amount = amount\n",
    "         # Define the __sub__ method to combine two accounts\n",
    "    def __sub__(self, other):\n",
    "        return self.amount - other.amount\n",
    "\n",
    "profit = Money(\"From selling car\", 1000)\n",
    "expense = Money(\"Rent\", 500)\n",
    "\n",
    "#Subtract the two Account objects together using the \"-\" operator\n",
    "\n",
    "\n",
    "account_balance = profit - expense #everytime \"-\" is used, __sub__() method is called\n",
    "\n",
    "print(f\"I still have ${account_balance} left after paying my rent because I sold my car\")"
   ]
  },
  {
   "cell_type": "markdown",
   "id": "6c86cc3a",
   "metadata": {},
   "source": [
    "# Abstraction\n",
    "Abstraciton is the programming process of focusing on the essential features of an entity whilst, ignoring the less important details. In other words, it means hiding complex complex implementation details and presenting a simplified interface that users can interact with.\n",
    "\n",
    "For example, a driver only needs to operate the pedals, buttons and stering wheel to drive a car. He/She doesn't need to know the intricate details of how engine works. You don't need a degree in mechanical Engineering to simply drive a car, this is abstraction at work.\n",
    "\n",
    "This is same in programming, complex systems are abstracted into simpler and more managable terms.\n",
    "\n",
    "\n"
   ]
  },
  {
   "cell_type": "code",
   "execution_count": null,
   "id": "0602ca9a",
   "metadata": {},
   "outputs": [],
   "source": []
  }
 ],
 "metadata": {
  "kernelspec": {
   "display_name": "Python 3 (ipykernel)",
   "language": "python",
   "name": "python3"
  },
  "language_info": {
   "codemirror_mode": {
    "name": "ipython",
    "version": 3
   },
   "file_extension": ".py",
   "mimetype": "text/x-python",
   "name": "python",
   "nbconvert_exporter": "python",
   "pygments_lexer": "ipython3",
   "version": "3.8.10"
  }
 },
 "nbformat": 4,
 "nbformat_minor": 5
}
