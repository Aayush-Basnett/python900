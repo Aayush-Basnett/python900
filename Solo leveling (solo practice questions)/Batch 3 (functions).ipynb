{
 "cells": [
  {
   "cell_type": "markdown",
   "id": "c4a890bb",
   "metadata": {},
   "source": [
    "# Question-1\n",
    "Write a Python function that takes a list of numbers as input and returns the sum of all even numbers in the list."
   ]
  },
  {
   "cell_type": "code",
   "execution_count": 6,
   "id": "f4b5916d",
   "metadata": {},
   "outputs": [
    {
     "name": "stdout",
     "output_type": "stream",
     "text": [
      "Enter Desired numbers: 5\n",
      "Enter Desired numbers: 3\n",
      "Enter Desired numbers: 2\n",
      "Enter Desired numbers: 5\n"
     ]
    },
    {
     "data": {
      "text/plain": [
       "15"
      ]
     },
     "execution_count": 6,
     "metadata": {},
     "output_type": "execute_result"
    }
   ],
   "source": [
    "def sum_of_list():\n",
    "    my_list = [int(input(\"Enter Desired numbers: \")) for num in range(4)]\n",
    "    total = 0\n",
    "    for num in my_list:\n",
    "        total += num\n",
    "    return total\n",
    "sum_of_list()"
   ]
  },
  {
   "cell_type": "markdown",
   "id": "bc02b94f",
   "metadata": {},
   "source": [
    "# Question- 2\n",
    "Write a Python function that takes a string as input and returns the number of vowels in the string."
   ]
  },
  {
   "cell_type": "code",
   "execution_count": 8,
   "id": "78efdecf",
   "metadata": {},
   "outputs": [
    {
     "data": {
      "text/plain": [
       "15"
      ]
     },
     "execution_count": 8,
     "metadata": {},
     "output_type": "execute_result"
    }
   ],
   "source": [
    "def num_of_vowel(string):\n",
    "    vowel = 0\n",
    "    for letter in string:\n",
    "        if letter == \"a\" or letter == \"e\" or letter == \"i\" or letter == \"o\" or letter == \"u\": \n",
    "            vowel += 1\n",
    "    return vowel\n",
    "num_of_vowel(\"Main jee var ke rolu, teri bahon me solu\")"
   ]
  },
  {
   "cell_type": "markdown",
   "id": "42baf2b7",
   "metadata": {},
   "source": [
    "# Question- 3\n",
    "Write a Python function that takes a dictionary as input and returns a list of values that are unique in the dictionary."
   ]
  },
  {
   "cell_type": "code",
   "execution_count": 33,
   "id": "4d152bbd",
   "metadata": {},
   "outputs": [
    {
     "name": "stdout",
     "output_type": "stream",
     "text": [
      "2\n"
     ]
    }
   ],
   "source": [
    "# first understand .count()\n",
    "fruits = [1, 4, 2, 9, 7, 8, 9, 3, 1] #there are two 9\n",
    "\n",
    "x = fruits.count(9)\n",
    "\n",
    "print(x)\n"
   ]
  },
  {
   "cell_type": "code",
   "execution_count": 34,
   "id": "41c0a2bb",
   "metadata": {},
   "outputs": [
    {
     "data": {
      "text/plain": [
       "[7, 3]"
      ]
     },
     "execution_count": 34,
     "metadata": {},
     "output_type": "execute_result"
    }
   ],
   "source": [
    "def unique_values(my_dict):\n",
    "    unique_values = []\n",
    "    for value in my_dict.values():\n",
    "        if list(my_dict.values()).count(value) == 1: #.count() only works on list, so we convert dict values to list\n",
    "            unique_values.append(value)\n",
    "    return unique_values\n",
    "unique_values({'a': 1, 'b': 7, 'c': 1, 'd': 3, 'e': 4, 'f': 4})\n",
    "    \n",
    "\n"
   ]
  },
  {
   "cell_type": "markdown",
   "id": "6f31c784",
   "metadata": {},
   "source": [
    "# Question- 4\n",
    "Write a Python function that takes a list of strings as input and returns the longest string in the list."
   ]
  },
  {
   "cell_type": "code",
   "execution_count": 38,
   "id": "4f54ff8b",
   "metadata": {},
   "outputs": [
    {
     "name": "stdout",
     "output_type": "stream",
     "text": [
      "10\n"
     ]
    }
   ],
   "source": [
    "def longest_string(my_list):\n",
    "\n",
    "    longest_string = 0\n",
    "    for item in my_list:\n",
    "        if len(item) > longest_string:\n",
    "            longest_string = len(item)\n",
    "    print(longest_string)\n",
    "    \n",
    "longest_string([\"apple\", \"banana\", \"orange\", \"grape\", \"kiwi\", \"strawberry\"])"
   ]
  },
  {
   "cell_type": "markdown",
   "id": "8c52b3a8",
   "metadata": {},
   "source": [
    "# Question- 5\n",
    "Write a Python function that takes a list of integers as input and returns a new list that contains only the positive integers.\n"
   ]
  },
  {
   "cell_type": "code",
   "execution_count": 45,
   "id": "eb60ef95",
   "metadata": {},
   "outputs": [
    {
     "data": {
      "text/plain": [
       "[3, 5, 7]"
      ]
     },
     "execution_count": 45,
     "metadata": {},
     "output_type": "execute_result"
    }
   ],
   "source": [
    "def positive_ints(my_list):    \n",
    "    positive_list = [number for number in my_list if number > 0]\n",
    "    return positive_list\n",
    "positive_ints(my_list = [3, 5, 7, -32, 0, -69])"
   ]
  },
  {
   "cell_type": "markdown",
   "id": "e41627dc",
   "metadata": {},
   "source": [
    "# Question- 6\n",
    "Write a Python function that takes a list of strings as input and returns a new list that contains only the strings that start with a vowel."
   ]
  },
  {
   "cell_type": "code",
   "execution_count": 50,
   "id": "5127ec79",
   "metadata": {},
   "outputs": [
    {
     "data": {
      "text/plain": [
       "['apple', 'orange']"
      ]
     },
     "execution_count": 50,
     "metadata": {},
     "output_type": "execute_result"
    }
   ],
   "source": [
    "def vowel_list(string):\n",
    "\n",
    "    start_vowel = [word for word in string if word.startswith(\"a\") or word.startswith(\"e\") or word.startswith(\"i\") or word.startswith(\"o\") or word.startswith(\"u\")]\n",
    "    return start_vowel\n",
    "vowel_list(string = [\"apple\", \"banana\", \"orange\", \"grape\", \"kiwi\", \"strawberry\"])"
   ]
  },
  {
   "cell_type": "markdown",
   "id": "9866e7ef",
   "metadata": {},
   "source": [
    "# Question- 7\n",
    "Write a Python function that takes two numbers as input and returns their sum and difference as a tuple."
   ]
  },
  {
   "cell_type": "code",
   "execution_count": 53,
   "id": "d4d0f8ac",
   "metadata": {},
   "outputs": [
    {
     "data": {
      "text/plain": [
       "(8, 2)"
      ]
     },
     "execution_count": 53,
     "metadata": {},
     "output_type": "execute_result"
    }
   ],
   "source": [
    "def req_tup(num1, num2):\n",
    "   \n",
    "    add = num1 + num2\n",
    "    minus = num1 - num2\n",
    "    tup = (add, minus)\n",
    "    return tup\n",
    "req_tup(5, 3)"
   ]
  },
  {
   "cell_type": "markdown",
   "id": "f725f1b1",
   "metadata": {},
   "source": [
    "# Question- 8\n",
    "Write a Python function that takes a string as input and returns True if the string is a palindrome, False otherwise. <br/>\n",
    "<hr/>\n",
    "<strong>Plaindromes</strong> are words that have the same letters even whilst writing it backwards: eg <em>racecar, nurses run, madam, radar, deed)"
   ]
  },
  {
   "cell_type": "code",
   "execution_count": 60,
   "id": "026c8ba6",
   "metadata": {},
   "outputs": [
    {
     "data": {
      "text/plain": [
       "True"
      ]
     },
     "execution_count": 60,
     "metadata": {},
     "output_type": "execute_result"
    }
   ],
   "source": [
    "def plaindrome_check(string):\n",
    "    return string[::-1] == string\n",
    "plaindrome_check(\"racecar\")\n",
    "    "
   ]
  },
  {
   "cell_type": "code",
   "execution_count": null,
   "id": "685544e5",
   "metadata": {},
   "outputs": [],
   "source": []
  }
 ],
 "metadata": {
  "kernelspec": {
   "display_name": "Python 3 (ipykernel)",
   "language": "python",
   "name": "python3"
  },
  "language_info": {
   "codemirror_mode": {
    "name": "ipython",
    "version": 3
   },
   "file_extension": ".py",
   "mimetype": "text/x-python",
   "name": "python",
   "nbconvert_exporter": "python",
   "pygments_lexer": "ipython3",
   "version": "3.8.10"
  }
 },
 "nbformat": 4,
 "nbformat_minor": 5
}
