{
 "cells": [
  {
   "cell_type": "markdown",
   "id": "171aac10",
   "metadata": {},
   "source": [
    "# Database\n",
    "Organized collection data that is stored electronically is a database. It is designed to store, manage and retrive large amounts of data. \n",
    "\n",
    "Databases can be used to store various data such as customer info, financial records, employee records, inventory and so much more. \n",
    "\n",
    "## Relational Database\n",
    "It is type of database that organizes data into one or more tables. "
   ]
  },
  {
   "cell_type": "markdown",
   "id": "618a958d",
   "metadata": {},
   "source": [
    "# DBMS\n",
    "it stands for Database Management System. It is like a manager resposible for managing relational database\n",
    "\n",
    "# SQL\n",
    "It stands for Structural Query Language. It is a programming language used to manage, manipulate relational databases.\n",
    "\n",
    "It is case insensative language\n"
   ]
  },
  {
   "cell_type": "markdown",
   "id": "92760681",
   "metadata": {},
   "source": [
    "# Some of The Most Important SQL Commands\n",
    "* SELECT - extracts data from a database\n",
    "* UPDATE - updates data in a database\n",
    "* DELETE - deletes data from a database\n",
    "* INSERT INTO - inserts new data into a database\n",
    "* CREATE DATABASE - creates a new database\n",
    "* ALTER DATABASE - modifies a database\n",
    "* CREATE TABLE - creates a new table\n",
    "* ALTER TABLE - modifies a table\n",
    "* DROP TABLE - deletes a table\n",
    "* CREATE INDEX - creates an index (search key)\n",
    "* DROP INDEX - deletes an index"
   ]
  },
  {
   "cell_type": "markdown",
   "id": "f1daad3e",
   "metadata": {},
   "source": [
    "### import\n",
    "firstly, to use sql we gotta import the lite version of sql\n",
    "```python\n",
    "import sqlite3\n",
    "```"
   ]
  },
  {
   "cell_type": "markdown",
   "id": "764911e3",
   "metadata": {},
   "source": [
    "### connection object\n",
    "This allows us to connect to a SQLite database ,or simply provides a path for our python code to interact with the database. \n",
    "```sql\n",
    "conn = sqlite3.connect('example.db')\n",
    "\n",
    "```\n",
    "This will create a new database file named example.db in the current working directory if it doesn't already exist, and connect to it."
   ]
  },
  {
   "cell_type": "code",
   "execution_count": 40,
   "id": "519151bd",
   "metadata": {},
   "outputs": [],
   "source": [
    "conn = sqlite3.connect(\"example.db\")\n"
   ]
  },
  {
   "cell_type": "markdown",
   "id": "e634117e",
   "metadata": {},
   "source": [
    "### Cursor Object\n",
    "This allows us to interact and execute SQL statements and fetch results from the database.\n",
    "```sql\n",
    "cursor = conn.cursor()\n",
    "```\n",
    "__<center>CONNECTION OBJECT VS CURSOR OBJECT<center>__\n",
    "Think of the connection object as a pathway to the database, while the cursor object is a tool used to interact with the database.\n",
    "    \n",
    "__Use this analogy__: the connection is like a telephone line or network cable that connects two devices, while the cursor is like a phone or computer that allows you to communicate or perform actions over that connection.\n",
    "\n",
    "Another good analogy is connection object is like a road and cursor object is like a car\n",
    "\n"
   ]
  },
  {
   "cell_type": "markdown",
   "id": "13b881a8",
   "metadata": {},
   "source": [
    "### Create table\n",
    "Then create a table using following code\n",
    "```sql\n",
    "cursor.execute(\"\"\"\n",
    "    CREATE TABLE table_name(column_name datatype, column_name datatype, ...)\n",
    "\n",
    "\"\"\")\n",
    "\n",
    "```\n",
    "This code creates a new database file when you run it. If you try to run it again, you'll get an error because the table already exists. If you want to run it multiple times, you need to add a check to see if the table already exists before creating it.\n",
    "\n",
    "This is how it's done\n",
    "```sql\n",
    "cursor.execute(\"\"\"\n",
    "    DROP TABLE IF EXISTS table_name(column_name datatype, column_name datatype, ...)\n",
    "\n",
    "\"\"\")\n",
    "cursor.execute(\"CREATE TABLE table_name (column_name datatype, column_name datatype, ...);\")\n",
    "\n",
    "\n",
    "```"
   ]
  },
  {
   "cell_type": "markdown",
   "id": "c0c47c40",
   "metadata": {},
   "source": [
    "# datatypes in sql\n",
    "* INT - used for integers (whole numbers)\n",
    "* FLOAT/ REAL - used for decimal numbers with floating-point precision\n",
    "* VARCHAR - used for storing strings of variable length\n",
    "* TEXT - used for storing strings with unlimited length\n",
    "* CHAR - used for storing strings of fixed length\n",
    "* DATE - used for storing dates (year, month, and day)\n",
    "* TIME - used for storing time values (hour, minute, and second)\n",
    "* BOOLEAN - used for storing boolean values (true/false)\n",
    "__<center>VARCHAR VS CHAR<center>__\n",
    "VARCHAR and CHAR are both SQL data types used to store character strings. However, there is a difference between them in terms of storage and memory allocation.\n",
    "    \n",
    "__`CHAR`__ is a fixed-length data type that allocates a specific amount of memory to store a string, regardless of the length of the string. For example, if you define a column as CHAR(10), it will always allocate 10 bytes of memory to store the string, even if the string is shorter than 10 characters.\n",
    "\n",
    "__`VARCHAR`__, on the other hand, is a variable-length data type that allocates memory only for the actual length of the string. So, if you define a column as VARCHAR(10), and you insert a string of length 5, only 5 bytes of memory will be used to store that string.\n",
    "    \n",
    "In summary, CHAR is used when you know the maximum length of the string you want to store, while VARCHAR is used when the length of the string can vary. However, varchar is more recommended as it allows for variable-length string, as it saves more storage and is much more flexible. "
   ]
  },
  {
   "cell_type": "code",
   "execution_count": 41,
   "id": "fb62b702",
   "metadata": {},
   "outputs": [
    {
     "ename": "OperationalError",
     "evalue": "table example_table already exists",
     "output_type": "error",
     "traceback": [
      "\u001b[0;31m---------------------------------------------------------------------------\u001b[0m",
      "\u001b[0;31mOperationalError\u001b[0m                          Traceback (most recent call last)",
      "Cell \u001b[0;32mIn[41], line 5\u001b[0m\n\u001b[1;32m      3\u001b[0m con \u001b[38;5;241m=\u001b[39m sqlite3\u001b[38;5;241m.\u001b[39mconnect(\u001b[38;5;124m\"\u001b[39m\u001b[38;5;124mexample.db\u001b[39m\u001b[38;5;124m\"\u001b[39m)\n\u001b[1;32m      4\u001b[0m cur \u001b[38;5;241m=\u001b[39m con\u001b[38;5;241m.\u001b[39mcursor()\n\u001b[0;32m----> 5\u001b[0m \u001b[43mcur\u001b[49m\u001b[38;5;241;43m.\u001b[39;49m\u001b[43mexecute\u001b[49m\u001b[43m(\u001b[49m\u001b[38;5;124;43m\"\"\"\u001b[39;49m\n\u001b[1;32m      6\u001b[0m \u001b[38;5;124;43mCREATE TABLE example_table(id INTEGER, name VARCHAR(50), age INT)\u001b[39;49m\n\u001b[1;32m      7\u001b[0m \u001b[38;5;124;43m\"\"\"\u001b[39;49m\u001b[43m)\u001b[49m \u001b[38;5;66;03m#\u001b[39;00m\n\u001b[1;32m      8\u001b[0m \u001b[38;5;66;03m#This creates an empty table \u001b[39;00m\n",
      "\u001b[0;31mOperationalError\u001b[0m: table example_table already exists"
     ]
    }
   ],
   "source": [
    "# All of these in action\n",
    "import sqlite3\n",
    "con = sqlite3.connect(\"example.db\")\n",
    "cur = con.cursor()\n",
    "cur.execute(\"\"\"\n",
    "CREATE TABLE example_table(id INTEGER, name VARCHAR(50), age INT)\n",
    "\"\"\") #\n",
    "#This creates an empty table \n"
   ]
  },
  {
   "cell_type": "markdown",
   "id": "ffaca73b",
   "metadata": {},
   "source": [
    "# Note\n",
    "it's a common practice to write SQL commands in uppercase as it makes them easier to distinguish from other parts of the code. The use of lowercase for self-declared values is also a convention that makes the code more readable and easier to understand. "
   ]
  },
  {
   "cell_type": "markdown",
   "id": "af8dece2",
   "metadata": {},
   "source": [
    "## To insert values\n",
    "```sql\n",
    "cursor.execute(\"INSERT INTO example_table(column_name, column_name, column_name) VALUES (value1, value2, value3)\")\n",
    "```\n",
    "\n",
    "## To retrive data\n",
    "```sql\n",
    "cursor.execute(\"SELECT column_name1, column_name2, ... FROM table_name\")\n",
    "```\n",
    "__`* means to select all columns`__\n",
    "\n",
    "## To print to data\n",
    "`fetchall( )` is used to fetch all the data in tuple format"
   ]
  },
  {
   "cell_type": "code",
   "execution_count": null,
   "id": "24241959",
   "metadata": {},
   "outputs": [],
   "source": [
    "cur.execute(\"\"\"\n",
    "INSERT INTO example_table(id, name, age)\n",
    "VALUES (1, 'Aayush', 19)\n",
    "\"\"\")\n",
    "cur.execute(\"\"\"\n",
    "INSERT INTO example_table(id, name, age)\n",
    "VALUES (2, 'Animesh', 32)\n",
    "\"\"\")\n",
    "cur.execute(\"SELECT * FROM example_table\")\n",
    "print(cur.fetchall())"
   ]
  },
  {
   "cell_type": "code",
   "execution_count": null,
   "id": "ddf6deca",
   "metadata": {},
   "outputs": [],
   "source": [
    "# Same operation, making code look neater"
   ]
  },
  {
   "cell_type": "code",
   "execution_count": null,
   "id": "1a7ead37",
   "metadata": {},
   "outputs": [],
   "source": [
    "con = sqlite3.connect(\"example1.db\")\n",
    "cur = con.cursor()\n",
    "query = \"\"\" CREATE TABLE user_table(name TEXT, age INT)\n",
    "\"\"\"\n",
    "cur.execute(query)\n",
    "\n",
    "query = f\"\"\" \n",
    "INSERT INTO user_table(name, age)\n",
    "VALUES ('John', 25), ('Mary', 30), ('Bob', 35), ('Alice', 40) \n",
    "\"\"\"\n",
    "cur.execute(query)\n",
    "query = \"SELECT * FROM user_table\"\n",
    "print(cur.execute(query).fetchall())\n",
    "\n"
   ]
  },
  {
   "cell_type": "code",
   "execution_count": 1,
   "id": "47293a85",
   "metadata": {},
   "outputs": [
    {
     "ename": "NameError",
     "evalue": "name 'cur' is not defined",
     "output_type": "error",
     "traceback": [
      "\u001b[0;31m---------------------------------------------------------------------------\u001b[0m",
      "\u001b[0;31mNameError\u001b[0m                                 Traceback (most recent call last)",
      "Cell \u001b[0;32mIn[1], line 2\u001b[0m\n\u001b[1;32m      1\u001b[0m \u001b[38;5;66;03m# To only print names \u001b[39;00m\n\u001b[0;32m----> 2\u001b[0m \u001b[38;5;28mprint\u001b[39m(\u001b[43mcur\u001b[49m\u001b[38;5;241m.\u001b[39mexecute(\u001b[38;5;124m\"\u001b[39m\u001b[38;5;124mSELECT name FROM user_table\u001b[39m\u001b[38;5;124m\"\u001b[39m)\u001b[38;5;241m.\u001b[39mfetchall())\n",
      "\u001b[0;31mNameError\u001b[0m: name 'cur' is not defined"
     ]
    }
   ],
   "source": [
    "# To only print names \n",
    "print(cur.execute(\"SELECT name FROM user_table\").fetchall())"
   ]
  },
  {
   "cell_type": "code",
   "execution_count": null,
   "id": "d4ab9729",
   "metadata": {},
   "outputs": [],
   "source": [
    "# To only print age\n",
    "print(cur.execute(\"SELECT age FROM user_table\").fetchall())"
   ]
  },
  {
   "cell_type": "markdown",
   "id": "46b2c9bd",
   "metadata": {},
   "source": [
    "#### where clause"
   ]
  },
  {
   "cell_type": "code",
   "execution_count": null,
   "id": "9a3e2f9b",
   "metadata": {},
   "outputs": [],
   "source": [
    "# to select particular data\n",
    "print(cur.execute(\"SELECT age FROM user_table WHERE name ='John'\").fetchall())"
   ]
  },
  {
   "cell_type": "code",
   "execution_count": null,
   "id": "7b7e0580",
   "metadata": {},
   "outputs": [],
   "source": [
    "print(cur.execute(\"SELECT name FROM user_table WHERE name = 'Bob'\").fetchall())"
   ]
  },
  {
   "cell_type": "markdown",
   "id": "7ed8461b",
   "metadata": {},
   "source": [
    "#### update clause"
   ]
  },
  {
   "cell_type": "code",
   "execution_count": null,
   "id": "69143284",
   "metadata": {},
   "outputs": [],
   "source": [
    "# to update/ alter data\n",
    "cur.execute(\"UPDATE user_table SET name = 'Richard' where name = 'John'\")\n",
    "print(cur.execute(\"SELECT * FROM user_table\").fetchall())"
   ]
  },
  {
   "cell_type": "markdown",
   "id": "bcec3700",
   "metadata": {},
   "source": [
    "The best thing about SQL language is that it basically sounds like English so the syntax is very easy to follow through"
   ]
  },
  {
   "cell_type": "markdown",
   "id": "55c99016",
   "metadata": {},
   "source": [
    "# Big Six elements in SQL Select statement\n",
    "\n",
    "* SELECT: Used to indicate that we want to retrieve data from a table.\n",
    "\n",
    "```sql\n",
    "SELECT column_name\n",
    "``` \n",
    "<hr>\n",
    "\n",
    "* FROM: specifies the name of the table from which we want to retrieve data.\n",
    "\n",
    "```sql\n",
    "FROM table_name\n",
    "``` \n",
    "<hr>\n",
    "\n",
    "* WHERE:  used to filter the data based on certain conditions. It is used to specify the criteria that must be met for a row to be included in the result set.\n",
    "```sql\n",
    "WHERE logical_condition \n",
    "```\n",
    "<hr>\n",
    "\n",
    "* GROUP BY: specifies how to group the data in your results.\n",
    "\n",
    "```sql\n",
    "GROUP BY column_name\n",
    "```\n",
    " <hr>\n",
    " \n",
    "* HAVING: used to filter the grouped data based on certain conditions. It is used to specify the criteria that must be met for a group to be included in the result set.\n",
    "\n",
    "```sql\n",
    "HAVING logical_condition\n",
    "```\n",
    " <hr>\n",
    " \n",
    "* ORDER BY: used to sort the result set based on one or more columns. It can be used to sort the data in ascending or descending order.\n",
    "\n",
    "```sql\n",
    "ORDER BY column_name\n",
    "```\n",
    " <hr>\n"
   ]
  },
  {
   "cell_type": "markdown",
   "id": "e05e2552",
   "metadata": {},
   "source": [
    "# Question- 1\n",
    "Write an SQL command to create a table with three columns: id (integer), name (varchar), and age (integer).\n",
    "\n",
    "then row into the table created in question 10 with the values id=1, name='John', and age=25.\n",
    "\n",
    "Then write an SQL command to retrieve all rows from the table "
   ]
  },
  {
   "cell_type": "code",
   "execution_count": 45,
   "id": "483a55e1",
   "metadata": {},
   "outputs": [
    {
     "name": "stdout",
     "output_type": "stream",
     "text": [
      "[(1, 'John', 25)]\n"
     ]
    }
   ],
   "source": [
    "conn = sqlite3.connect(\"question_table1\")\n",
    "cursor = conn.cursor()\n",
    "query = \"CREATE TABLE IF NOT EXISTS question_table1(id INT, name VARCHAR(50), age INT)\"\n",
    "cursor.execute(query)\n",
    "\n",
    "# second and third part\n",
    "cursor.execute(\"INSERT INTO question_table1 VALUES (1, 'John', 25)\")\n",
    "cursor.execute(\"SELECT * FROM question_table1\")\n",
    "print(cursor.fetchall())"
   ]
  },
  {
   "cell_type": "code",
   "execution_count": 46,
   "id": "ec501f62",
   "metadata": {},
   "outputs": [
    {
     "ename": "SyntaxError",
     "evalue": "invalid syntax (4266713459.py, line 1)",
     "output_type": "error",
     "traceback": [
      "\u001b[0;36m  Cell \u001b[0;32mIn[46], line 1\u001b[0;36m\u001b[0m\n\u001b[0;31m    pip3 install jupyterthemes\u001b[0m\n\u001b[0m         ^\u001b[0m\n\u001b[0;31mSyntaxError\u001b[0m\u001b[0;31m:\u001b[0m invalid syntax\n"
     ]
    }
   ],
   "source": [
    "\n"
   ]
  },
  {
   "cell_type": "code",
   "execution_count": null,
   "id": "fd235df2",
   "metadata": {},
   "outputs": [],
   "source": []
  }
 ],
 "metadata": {
  "kernelspec": {
   "display_name": "Python 3 (ipykernel)",
   "language": "python",
   "name": "python3"
  },
  "language_info": {
   "codemirror_mode": {
    "name": "ipython",
    "version": 3
   },
   "file_extension": ".py",
   "mimetype": "text/x-python",
   "name": "python",
   "nbconvert_exporter": "python",
   "pygments_lexer": "ipython3",
   "version": "3.8.10"
  },
  "toc": {
   "base_numbering": 1,
   "nav_menu": {},
   "number_sections": true,
   "sideBar": true,
   "skip_h1_title": false,
   "title_cell": "Table of Contents",
   "title_sidebar": "Contents",
   "toc_cell": false,
   "toc_position": {},
   "toc_section_display": true,
   "toc_window_display": false
  }
 },
 "nbformat": 4,
 "nbformat_minor": 5
}
