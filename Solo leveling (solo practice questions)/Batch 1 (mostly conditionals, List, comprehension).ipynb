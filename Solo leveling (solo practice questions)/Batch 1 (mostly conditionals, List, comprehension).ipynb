{
 "cells": [
  {
   "cell_type": "markdown",
   "id": "0e304f5b",
   "metadata": {},
   "source": [
    "# Question- 1\n",
    "Write a program that takes two lists of numbers as input and returns a new list that contains only the common elements in the two lists."
   ]
  },
  {
   "cell_type": "code",
   "execution_count": null,
   "id": "5cb2a672",
   "metadata": {},
   "outputs": [],
   "source": [
    "list1 = []\n",
    "list2 = []\n",
    "for item in range(3):\n",
    "    num = int(input(\"Enter number for list-1: \"))\n",
    "    list1.append(num)\n",
    "    \n",
    "for item in range(3):\n",
    "    num = int(input(\"Enter number for list-2: \"))\n",
    "    list2.append(num)\n",
    "\n",
    "print(list1)\n",
    "print(list2)\n",
    "\n",
    "common_items =[]\n",
    "for item in list1:\n",
    "    if item in list2:\n",
    "        common_items.append(item)\n",
    "    \n",
    "if common_items == []:\n",
    "    print(\"there are no common items\")\n",
    "else:\n",
    "    print(common_items)\n"
   ]
  },
  {
   "cell_type": "markdown",
   "id": "8e18c5ab",
   "metadata": {},
   "source": [
    "# Question- 2\n",
    "\n",
    "Write a program that takes a list of strings as input and returns a new list that contains only the strings that are palindromes.\n",
    "(<strong>Plaindromes</strong> are words that have the same letters even whilst writing it backwards: eg <em>racecar, nurses run, madam, radar, deed)"
   ]
  },
  {
   "cell_type": "code",
   "execution_count": 1,
   "id": "25902d13",
   "metadata": {},
   "outputs": [
    {
     "name": "stdout",
     "output_type": "stream",
     "text": [
      "Enter stringracecar\n",
      "plaindrome\n",
      "Enter stringmessi\n",
      "Enter stringdumb\n",
      "plaindrome list is:  ['racecar']\n"
     ]
    }
   ],
   "source": [
    "plaindrome = []\n",
    "\n",
    "for item in range(3):\n",
    "    string = input(\"Enter string\")\n",
    "    if string[::-1] == string:\n",
    "        print(\"plaindrome\")\n",
    "        plaindrome.append(string)\n",
    "    else:\n",
    "        continue\n",
    "if plaindrome == []:\n",
    "    print(\"there are no plaindromes\")\n",
    "else:\n",
    "    print(\"plaindrome list is: \",plaindrome)\n",
    "\n",
    "    "
   ]
  },
  {
   "cell_type": "markdown",
   "id": "369aabaa",
   "metadata": {},
   "source": [
    "# Question- 3\n",
    "Write a program that takes a list of numbers as input and returns the second largest number in the list."
   ]
  },
  {
   "cell_type": "code",
   "execution_count": null,
   "id": "5c0d9dcb",
   "metadata": {},
   "outputs": [],
   "source": [
    "list1 = []\n",
    "for item in range(4):\n",
    "    num = int(input(\"Enter number for list-1: \"))\n",
    "    list1.append(num)\n",
    "list1\n",
    "\n",
    "big = max(list1)\n",
    "list1.remove(big)\n",
    "second_biggest = max(list1)\n",
    "print(\"hence, the second biggest number is: \", second_biggest)"
   ]
  },
  {
   "cell_type": "markdown",
   "id": "9ab1d2b4",
   "metadata": {},
   "source": [
    "# Question- 4\n",
    "Write a program that takes a list of numbers as input and returns a new list that contains only the numbers that are prime.\n",
    "(<strong>Prime Number: </strong>a whole number greater than 1 whose only factors are 1 and itself.)"
   ]
  },
  {
   "cell_type": "code",
   "execution_count": 5,
   "id": "5ea6ffe3",
   "metadata": {},
   "outputs": [
    {
     "name": "stdout",
     "output_type": "stream",
     "text": [
      "Enter number for list: 54\n",
      "Enter number for list: 11\n",
      "Enter number for list: 13\n",
      "Enter number for list: 17\n"
     ]
    },
    {
     "data": {
      "text/plain": [
       "[11, 13, 17]"
      ]
     },
     "execution_count": 5,
     "metadata": {},
     "output_type": "execute_result"
    }
   ],
   "source": [
    "list1 = []\n",
    "for item in range(4):\n",
    "    num = int(input(\"Enter number for list: \"))\n",
    "    is_prime = True\n",
    "    if num < 2:\n",
    "        continue\n",
    "    else:\n",
    "        for item1 in range(2,num):\n",
    "            if num % item1 == 0:\n",
    "                is_prime = False\n",
    "                \n",
    "                \n",
    "            else:\n",
    "                continue\n",
    "        if is_prime:\n",
    "            list1.append(num)\n",
    "list1\n",
    "            \n",
    "    \n",
    "\n"
   ]
  },
  {
   "cell_type": "markdown",
   "id": "80a078fd",
   "metadata": {},
   "source": [
    "# Question- 5\n",
    "Write a program that takes a string as input and returns the first non-repeating character in the string.\n",
    " ### first lets look at concept of count\n",
    " "
   ]
  },
  {
   "cell_type": "code",
   "execution_count": 8,
   "id": "8cc22cbd",
   "metadata": {},
   "outputs": [
    {
     "data": {
      "text/plain": [
       "1"
      ]
     },
     "execution_count": 8,
     "metadata": {},
     "output_type": "execute_result"
    }
   ],
   "source": [
    "string = \"hello world\"\n",
    "string.count(\"hello\")"
   ]
  },
  {
   "cell_type": "code",
   "execution_count": 15,
   "id": "3f1e274c",
   "metadata": {},
   "outputs": [
    {
     "name": "stdout",
     "output_type": "stream",
     "text": [
      "enter the string: ibrahimovic\n",
      "b is the first non repeating character\n"
     ]
    }
   ],
   "source": [
    "string = input(\"enter the string: \")\n",
    "first_non_rep_char = \"\"\n",
    "for item in string:\n",
    "    if string.count(item) != 1:\n",
    "        continue\n",
    "    else:\n",
    "        print(item, \"is the first non repeating character\")\n",
    "        break\n",
    "\n"
   ]
  },
  {
   "cell_type": "markdown",
   "id": "4997696d",
   "metadata": {},
   "source": [
    "### if style list comprehension"
   ]
  },
  {
   "cell_type": "markdown",
   "id": "f2b2d551",
   "metadata": {},
   "source": [
    "# Question- 6\n",
    "Create a list of even numbers between 1 and 20 using List Comprehension."
   ]
  },
  {
   "cell_type": "code",
   "execution_count": 17,
   "id": "d6fd7817",
   "metadata": {},
   "outputs": [
    {
     "data": {
      "text/plain": [
       "[2, 4, 6, 8, 10, 12, 14, 16, 18, 20]"
      ]
     },
     "execution_count": 17,
     "metadata": {},
     "output_type": "execute_result"
    }
   ],
   "source": [
    "[num for num in range(1, 21) if num % 2 == 0]"
   ]
  },
  {
   "cell_type": "markdown",
   "id": "7763d0aa",
   "metadata": {},
   "source": [
    "# Question- 7\n",
    "Create a list of squares of even numbers between 1 and 10 using List Comprehension."
   ]
  },
  {
   "cell_type": "code",
   "execution_count": 18,
   "id": "3a96666a",
   "metadata": {},
   "outputs": [
    {
     "data": {
      "text/plain": [
       "[4, 16, 36, 64, 100]"
      ]
     },
     "execution_count": 18,
     "metadata": {},
     "output_type": "execute_result"
    }
   ],
   "source": [
    "[num **2 for num in range(1, 11) if num % 2 == 0]"
   ]
  },
  {
   "cell_type": "markdown",
   "id": "0a41f8b6",
   "metadata": {},
   "source": [
    "# Quesiton- 8\n",
    "Create a list of common elements from two given lists using List Comprehension."
   ]
  },
  {
   "cell_type": "code",
   "execution_count": 21,
   "id": "b3f2693f",
   "metadata": {},
   "outputs": [
    {
     "data": {
      "text/plain": [
       "[2, 8]"
      ]
     },
     "execution_count": 21,
     "metadata": {},
     "output_type": "execute_result"
    }
   ],
   "source": [
    "list1 = [2, 5, 8, 3, 12]\n",
    "list2 = [2, 8, 16, 32, 64]\n",
    "common_list = [item for item in list1 if item in list2]\n",
    "common_list"
   ]
  },
  {
   "cell_type": "markdown",
   "id": "0403959d",
   "metadata": {},
   "source": [
    "# Question- 9\n",
    "Create a list of numbers divisible by 3 or 5 between 1 and 100 using List Comprehension."
   ]
  },
  {
   "cell_type": "code",
   "execution_count": 23,
   "id": "8e706a2f",
   "metadata": {},
   "outputs": [
    {
     "data": {
      "text/plain": [
       "[3,\n",
       " 5,\n",
       " 6,\n",
       " 9,\n",
       " 10,\n",
       " 12,\n",
       " 15,\n",
       " 18,\n",
       " 20,\n",
       " 21,\n",
       " 24,\n",
       " 25,\n",
       " 27,\n",
       " 30,\n",
       " 33,\n",
       " 35,\n",
       " 36,\n",
       " 39,\n",
       " 40,\n",
       " 42,\n",
       " 45,\n",
       " 48,\n",
       " 50,\n",
       " 51,\n",
       " 54,\n",
       " 55,\n",
       " 57,\n",
       " 60,\n",
       " 63,\n",
       " 65,\n",
       " 66,\n",
       " 69,\n",
       " 70,\n",
       " 72,\n",
       " 75,\n",
       " 78,\n",
       " 80,\n",
       " 81,\n",
       " 84,\n",
       " 85,\n",
       " 87,\n",
       " 90,\n",
       " 93,\n",
       " 95,\n",
       " 96,\n",
       " 99,\n",
       " 100]"
      ]
     },
     "execution_count": 23,
     "metadata": {},
     "output_type": "execute_result"
    }
   ],
   "source": [
    "[num for num in range(1, 101) if num % 3 == 0 or num % 5 == 0]"
   ]
  },
  {
   "cell_type": "markdown",
   "id": "2c8d9312",
   "metadata": {},
   "source": [
    "### If, Else style List Comprehension questions"
   ]
  },
  {
   "cell_type": "markdown",
   "id": "47633da8",
   "metadata": {},
   "source": [
    "# Question- 10\n",
    "Create a list that contains the squares of all even numbers from 1 to 10 and the cubes of all odd numbers from 1 to 10:"
   ]
  },
  {
   "cell_type": "code",
   "execution_count": 24,
   "id": "10ed2af2",
   "metadata": {},
   "outputs": [
    {
     "data": {
      "text/plain": [
       "[1, 4, 27, 16, 125, 36, 343, 64, 729, 100]"
      ]
     },
     "execution_count": 24,
     "metadata": {},
     "output_type": "execute_result"
    }
   ],
   "source": [
    "[num**2 if num % 2 == 0 else num**3 for num in range(1, 11)]"
   ]
  },
  {
   "cell_type": "markdown",
   "id": "f37fb1ae",
   "metadata": {},
   "source": [
    "# Question- 11\n",
    "Create a list that contains the lengths of all strings in another list, but replace any string that has length greater than 5 with the word \"long\":"
   ]
  },
  {
   "cell_type": "code",
   "execution_count": 27,
   "id": "004e6249",
   "metadata": {},
   "outputs": [
    {
     "data": {
      "text/plain": [
       "['apple', 'Long', 'Long', 'Long', 'Long']"
      ]
     },
     "execution_count": 27,
     "metadata": {},
     "output_type": "execute_result"
    }
   ],
   "source": [
    "my_list = [\"apple\", \"banana\", \"cherry\", \"dragonfruit\", \"elderberry\"]\n",
    "[\"Long\" if len(item) > 5 else item for item in my_list]"
   ]
  },
  {
   "cell_type": "markdown",
   "id": "3434c3c0",
   "metadata": {},
   "source": [
    "# Question- 12\n",
    "Create a list that contains the uppercase version of all strings in another list, but replace any string that starts with the letter \"a\" with the word \"skip\":"
   ]
  },
  {
   "cell_type": "code",
   "execution_count": 29,
   "id": "35825fdf",
   "metadata": {},
   "outputs": [
    {
     "data": {
      "text/plain": [
       "True"
      ]
     },
     "execution_count": 29,
     "metadata": {},
     "output_type": "execute_result"
    }
   ],
   "source": [
    "# First Learn starswith(), this returns bollean value.\n",
    "var = \"Katti Baba\"\n",
    "var.startswith(\"K\")"
   ]
  },
  {
   "cell_type": "code",
   "execution_count": 39,
   "id": "a0229869",
   "metadata": {},
   "outputs": [
    {
     "data": {
      "text/plain": [
       "['skip', 'skip', 'banana', 'cherry', 'skip', 'elderberry']"
      ]
     },
     "execution_count": 39,
     "metadata": {},
     "output_type": "execute_result"
    }
   ],
   "source": [
    "my_list = [\"apple\",\"Alpine Strawberry.\", \"banana\", \"cherry\", \"apricot\", \"elderberry\"]\n",
    "small_list = [item.lower() for item in my_list]\n",
    "[\"skip\" if item.startswith(\"a\") else item for item in small_list]\n"
   ]
  },
  {
   "cell_type": "code",
   "execution_count": null,
   "id": "f4f486a5",
   "metadata": {},
   "outputs": [],
   "source": []
  }
 ],
 "metadata": {
  "kernelspec": {
   "display_name": "Python 3.8.10 64-bit",
   "language": "python",
   "name": "python3"
  },
  "language_info": {
   "codemirror_mode": {
    "name": "ipython",
    "version": 3
   },
   "file_extension": ".py",
   "mimetype": "text/x-python",
   "name": "python",
   "nbconvert_exporter": "python",
   "pygments_lexer": "ipython3",
   "version": "3.8.10"
  },
  "vscode": {
   "interpreter": {
    "hash": "aee8b7b246df8f9039afb4144a1f6fd8d2ca17a180786b69acc140d282b71a49"
   }
  }
 },
 "nbformat": 4,
 "nbformat_minor": 5
}
