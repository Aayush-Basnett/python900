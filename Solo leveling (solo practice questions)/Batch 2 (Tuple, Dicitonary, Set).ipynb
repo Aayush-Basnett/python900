{
 "cells": [
  {
   "cell_type": "markdown",
   "id": "d986959f",
   "metadata": {},
   "source": [
    "# Tuple\n"
   ]
  },
  {
   "cell_type": "markdown",
   "id": "d1951476",
   "metadata": {},
   "source": [
    "# Q-1\n",
    "Create a tuple of tuples, where each inner tuple contains the name and age of a person.\n"
   ]
  },
  {
   "cell_type": "code",
   "execution_count": null,
   "id": "0fcf4bf9",
   "metadata": {},
   "outputs": [],
   "source": [
    "tup = ((\"Aayush\", 19), (\"Ronaldo\", 38), (\"Messi\", 35))\n",
    "tup"
   ]
  },
  {
   "cell_type": "markdown",
   "id": "ff8432a4",
   "metadata": {},
   "source": [
    "# Q-2\n",
    "Write a function that takes a tuple of numbers as input and returns the sum of the numbers.\n"
   ]
  },
  {
   "cell_type": "code",
   "execution_count": null,
   "id": "eb0b1e30",
   "metadata": {},
   "outputs": [],
   "source": [
    "List = [3, 5, 6, 9, 11]\n",
    "sum_list = sum(List)\n",
    "sum_list #this can be done"
   ]
  },
  {
   "cell_type": "code",
   "execution_count": null,
   "id": "f3b529e0",
   "metadata": {},
   "outputs": [],
   "source": [
    "inp = input(\"Enter List of numbers seperated by comma: \" )\n",
    "x = inp.split(\",\")\n",
    "tup = tuple(int(num) for num in x)\n",
    "tup\n",
    "sum(tup)\n",
    "    \n",
    "\n"
   ]
  },
  {
   "cell_type": "markdown",
   "id": "6bd492f0",
   "metadata": {},
   "source": [
    "# Q-3\n",
    "Write a function that takes a tuple of strings as input and returns the longest string."
   ]
  },
  {
   "cell_type": "code",
   "execution_count": null,
   "id": "3d475692",
   "metadata": {},
   "outputs": [],
   "source": [
    "tuple_of_strings = (\"apple\", \"ball\", \"cat\", \"Ronaldooo\", \"Ankara messi\")\n",
    "temp = \"\"\n",
    "for string in tuple_of_strings:\n",
    "    if len(string) > len(temp):\n",
    "        temp = string\n",
    "print(temp)\n",
    "    "
   ]
  },
  {
   "cell_type": "markdown",
   "id": "8a98fb65",
   "metadata": {},
   "source": [
    "# Q-4\n",
    "Write a function that takes a tuple of tuples as input from the user and returns a list of all the names of the people in the tuple.\n"
   ]
  },
  {
   "cell_type": "code",
   "execution_count": null,
   "id": "e758c3fb",
   "metadata": {},
   "outputs": [],
   "source": [
    "string_inp = input(\"Enter the names of people seperated by comma: \")\n",
    "list_inp = string_inp.split(\",\")\n",
    "tup = tuple(list_inp)\n",
    "tup"
   ]
  },
  {
   "cell_type": "markdown",
   "id": "f23d9875",
   "metadata": {},
   "source": [
    "# Set"
   ]
  },
  {
   "cell_type": "markdown",
   "id": "92447a90",
   "metadata": {},
   "source": [
    "This is considered to be a empty <strong>Dictonary</strong><br/>\n",
    "```python\n",
    "empty = {}\n",
    "```\n",
    "whilst, to make an empty set you must do this\n",
    "```python\n",
    "empty = set()\n",
    "```\n",
    "do not let it fool you"
   ]
  },
  {
   "cell_type": "markdown",
   "id": "31cfa8eb",
   "metadata": {},
   "source": [
    "# Q- 1\n",
    "Write a Python program to create a set of numbers (take user input) and then print out only the even numbers in the set."
   ]
  },
  {
   "cell_type": "code",
   "execution_count": null,
   "id": "570f97e2",
   "metadata": {},
   "outputs": [],
   "source": [
    "num = []\n",
    "for i in range(5):\n",
    "    user_input = int(input(\"Enter desired number: \"))\n",
    "    num.append(user_input)\n",
    "set_num = set(num)\n",
    "{item for item in set_num if item % 2 == 0}"
   ]
  },
  {
   "cell_type": "markdown",
   "id": "fa0d5a30",
   "metadata": {},
   "source": [
    "### Alt soln\n",
    "(taking user input in set, not in list)\n"
   ]
  },
  {
   "cell_type": "raw",
   "id": "e2910484",
   "metadata": {},
   "source": [
    "first without using comprehension"
   ]
  },
  {
   "cell_type": "code",
   "execution_count": null,
   "id": "e09dc552",
   "metadata": {},
   "outputs": [],
   "source": [
    "num = input(\"Enter the desired numbers, seperate each numbers by comma: \")\n",
    "\n",
    "str_li = num.split(\",\")\n",
    "li = []\n",
    "for item in str_li:\n",
    "    li.append(int(item))\n",
    "    \n",
    "li = set(li)\n",
    "\n",
    "even_set = set()\n",
    "for item in li:\n",
    "    if item % 2 == 0:\n",
    "        even_set.add(item)\n",
    "            \n",
    "even_set\n"
   ]
  },
  {
   "cell_type": "markdown",
   "id": "d8178dee",
   "metadata": {},
   "source": [
    "# Q- 2\n",
    "Write a Python program that creates a set of names and then prompts the user to enter a name. The program should then check if the name is in the set and print a message indicating whether or not the name is in the set."
   ]
  },
  {
   "cell_type": "code",
   "execution_count": null,
   "id": "bc591737",
   "metadata": {},
   "outputs": [],
   "source": [
    "goats = {\"messi\", \"ronaldo\", \"Cruyff\", \"Maradona\", \"Pele\", \"Zidane\"}\n",
    "str_inp = input(\"Enter to check goat: \").lower()\n",
    "goats = {item.lower() for item in goats}\n",
    "if str_inp in goats:\n",
    "    print(str_inp, \"is a goat\")\n",
    "else:\n",
    "    print(f\"sorry {str_inp} is not a goat\")\n",
    "\n",
    "\n",
    "\n"
   ]
  },
  {
   "cell_type": "markdown",
   "id": "fd188eaf",
   "metadata": {},
   "source": [
    "# Q- 3\n",
    "Write a Python program that creates two sets of integers and then prints out the union of the two sets."
   ]
  },
  {
   "cell_type": "code",
   "execution_count": null,
   "id": "5825b389",
   "metadata": {},
   "outputs": [],
   "source": [
    "set1 = set()\n",
    "set2 = set()\n",
    "for item in range(4):\n",
    "    inp1 = input(\"enter first set of numbers: \")\n",
    "    if inp1.isdigit():\n",
    "        set1.add(int(inp1))\n",
    "    else:\n",
    "        print(\"I asked for digit bro\")\n",
    "for item in range(4):\n",
    "    inp2 = input(\"enter second set of numbers: \")\n",
    "    if inp2.isdigit():\n",
    "        set2.add(int(inp2))\n",
    "    else:\n",
    "        print(\"I asked for digit bro\")\n",
    "union_list = set1.union(set2)\n",
    "union_list\n",
    "\n"
   ]
  },
  {
   "cell_type": "markdown",
   "id": "e1f9756b",
   "metadata": {},
   "source": [
    "# Q- 4\n",
    "Write a Python program that creates a set of strings and then sorts the strings in alphabetical order."
   ]
  },
  {
   "cell_type": "code",
   "execution_count": null,
   "id": "5185a1d6",
   "metadata": {},
   "outputs": [],
   "source": [
    "kaka = [\"b\", \"c\", \"a\", \"de\", \"ef\"]\n",
    "kaka.sort()\n",
    "print(kaka) #this is how sort works"
   ]
  },
  {
   "cell_type": "code",
   "execution_count": null,
   "id": "b1ee3901",
   "metadata": {},
   "outputs": [],
   "source": [
    "sett = {\"Ball\", \"Apple\", \"CArnivore\", \"Zootopia\", \"Handy\"}\n",
    "sett.sort()\n",
    "print(sett) "
   ]
  },
  {
   "cell_type": "markdown",
   "id": "f477a07f",
   "metadata": {},
   "source": [
    "this doesn't work cuz set is unindexed and unordered, so we convert set to list then sort it, then finally convert it back to set"
   ]
  },
  {
   "cell_type": "code",
   "execution_count": null,
   "id": "12a9baf0",
   "metadata": {},
   "outputs": [],
   "source": [
    "str_set = {\"Ball\", \"Apple\", \"CArnivore\", \"Zootopia\", \"Handy\"}\n",
    "sorted_list = sorted(str_set)\n",
    "sorted_list #this code converts set to list then arrange it alphabetically"
   ]
  },
  {
   "cell_type": "code",
   "execution_count": null,
   "id": "a1eaf33b",
   "metadata": {},
   "outputs": [],
   "source": [
    "str_set = {\"Ball\", \"Apple\", \"CArnivore\", \"Zootopia\", \"Handy\"}\n",
    "sorted_list = sorted(str_set)\n",
    "sorted_set = set(sorted_list)\n",
    "sorted_set"
   ]
  },
  {
   "cell_type": "markdown",
   "id": "57d4172a",
   "metadata": {},
   "source": [
    "# Q- 5\n",
    "Write a Python program that takes a set of numbers from the user and then finds the maximum and minimum values in the set."
   ]
  },
  {
   "cell_type": "code",
   "execution_count": null,
   "id": "58e530a7",
   "metadata": {},
   "outputs": [],
   "source": [
    "num_set = {int(input(\"Enter nums bro: \") )for num in range(4)}\n",
    "print(f\"the min number is {min(num_set)} and max is {max(num_set)}\")"
   ]
  },
  {
   "cell_type": "markdown",
   "id": "4b574723",
   "metadata": {},
   "source": [
    "# Q- 6\n",
    "Write a Python program that creates a set of names and then removes all names that contain the letter 'a'."
   ]
  },
  {
   "cell_type": "code",
   "execution_count": null,
   "id": "599e4ace",
   "metadata": {},
   "outputs": [],
   "source": [
    "names = {input(\"Enter names bro: \") for num in range(4)}\n",
    "names = {item.lower() for item in names}\n",
    "no_a_set = set()\n",
    "for item in names:\n",
    "    if \"a\" in item:\n",
    "        continue\n",
    "    else:\n",
    "        no_a_set.add(item)\n",
    "no_a_set\n"
   ]
  },
  {
   "cell_type": "markdown",
   "id": "9e63edb2",
   "metadata": {},
   "source": [
    "# Dictonary\n",
    "### absolute basics first"
   ]
  },
  {
   "cell_type": "markdown",
   "id": "26963270",
   "metadata": {},
   "source": [
    "### pt-1\n",
    "How do you create an empty dictionary in Python?"
   ]
  },
  {
   "cell_type": "code",
   "execution_count": null,
   "id": "c3146bbc",
   "metadata": {},
   "outputs": [],
   "source": [
    "empty = {}\n",
    "type(empty)"
   ]
  },
  {
   "cell_type": "code",
   "execution_count": null,
   "id": "6b7218f3",
   "metadata": {},
   "outputs": [],
   "source": [
    "# alternate\n",
    "empty = dict()\n",
    "type(empty)"
   ]
  },
  {
   "cell_type": "markdown",
   "id": "14ca1f36",
   "metadata": {},
   "source": [
    "### pt-2\n",
    "How do you add a key-value pair to a dictionary?"
   ]
  },
  {
   "cell_type": "code",
   "execution_count": null,
   "id": "e80d10bf",
   "metadata": {},
   "outputs": [],
   "source": [
    "about = {}\n",
    "about\n"
   ]
  },
  {
   "cell_type": "code",
   "execution_count": null,
   "id": "866f2fc1",
   "metadata": {},
   "outputs": [],
   "source": [
    "about[\"name\"]= \"Aayush\"\n",
    "about"
   ]
  },
  {
   "cell_type": "code",
   "execution_count": null,
   "id": "bf80ff56",
   "metadata": {},
   "outputs": [],
   "source": [
    "about[\"age\"] = 19\n",
    "about"
   ]
  },
  {
   "cell_type": "markdown",
   "id": "64bc00ca",
   "metadata": {},
   "source": [
    "### pt-3\n",
    "How do you remove a key-value pair from a dictionary?"
   ]
  },
  {
   "cell_type": "code",
   "execution_count": null,
   "id": "7b20efd5",
   "metadata": {},
   "outputs": [],
   "source": [
    "cap = {\n",
    "    \"Nepal\" : \"Ktm\",\n",
    "    \"India\" : \"Del\",\n",
    "    \"Afgan\" : \"kabul\",\n",
    "    \"Bhutan\" : \"Thimpu\",\n",
    "    \"Bangal\" : \"Dhaka\"\n",
    "}\n",
    "del cap[\"Afgan\"]\n",
    "cap"
   ]
  },
  {
   "cell_type": "code",
   "execution_count": null,
   "id": "1a8f0c2a",
   "metadata": {},
   "outputs": [],
   "source": [
    "#alternate\n",
    "cap = {\n",
    "    \"Nepal\" : \"Ktm\",\n",
    "    \"India\" : \"Del\",\n",
    "    \"Afgan\" : \"kabul\",\n",
    "    \"Bhutan\" : \"Thimpu\",\n",
    "    \"Bangal\" : \"Dhaka\"\n",
    "}\n",
    "cap.pop(\"Nepal\")\n",
    "cap"
   ]
  },
  {
   "cell_type": "markdown",
   "id": "04b3764f",
   "metadata": {},
   "source": [
    "### pt- 4\n",
    "How do you check if a key exists in a dictionary in Python?"
   ]
  },
  {
   "cell_type": "code",
   "execution_count": null,
   "id": "88141d9b",
   "metadata": {},
   "outputs": [],
   "source": [
    "cap = {\n",
    "    \"Nepal\" : \"Ktm\",\n",
    "    \"India\" : \"Del\",\n",
    "    \"Afgan\" : \"kabul\",\n",
    "    \"Bhutan\" : \"Thimpu\",\n",
    "    \"Bangal\" : \"Dhaka\"\n",
    "}\n",
    "\"Nepal\" in cap, \"China\" in cap"
   ]
  },
  {
   "cell_type": "markdown",
   "id": "0eebc463",
   "metadata": {},
   "source": [
    "### pt-5\n",
    "How do you iterate over the keys of a dictionary in Python?"
   ]
  },
  {
   "cell_type": "code",
   "execution_count": null,
   "id": "d8a38622",
   "metadata": {},
   "outputs": [],
   "source": [
    "cap = {\n",
    "    \"Nepal\" : \"Ktm\",\n",
    "    \"India\" : \"Del\",\n",
    "    \"Afgan\" : \"kabul\",\n",
    "    \"Bhutan\" : \"Thimpu\",\n",
    "    \"Bangal\" : \"Dhaka\"\n",
    "}\n",
    "for key in cap:\n",
    "    print(key)\n"
   ]
  },
  {
   "cell_type": "code",
   "execution_count": null,
   "id": "c0eaae32",
   "metadata": {},
   "outputs": [],
   "source": [
    "#Alternative\n",
    "cap = {\n",
    "    \"Nepal\" : \"Ktm\",\n",
    "    \"India\" : \"Del\",\n",
    "    \"Afgan\" : \"kabul\",\n",
    "    \"Bhutan\" : \"Thimpu\",\n",
    "    \"Bangal\" : \"Dhaka\"\n",
    "}\n",
    "for key in cap.keys():\n",
    "    print(key)"
   ]
  },
  {
   "cell_type": "code",
   "execution_count": null,
   "id": "b8051484",
   "metadata": {},
   "outputs": [],
   "source": [
    "#Alternative\n",
    "cap = {\n",
    "    \"Nepal\" : \"Ktm\",\n",
    "    \"India\" : \"Del\",\n",
    "    \"Afgan\" : \"kabul\",\n",
    "    \"Bhutan\" : \"Thimpu\",\n",
    "    \"Bangal\" : \"Dhaka\"\n",
    "}\n",
    "for key, value in cap.items():\n",
    "    print(key)"
   ]
  },
  {
   "cell_type": "markdown",
   "id": "cd555380",
   "metadata": {},
   "source": [
    "### pt-6\n",
    "How do you iterate over the values of a dictionary in Python?"
   ]
  },
  {
   "cell_type": "code",
   "execution_count": null,
   "id": "6d7907dd",
   "metadata": {},
   "outputs": [],
   "source": [
    "cap = {\n",
    "    \"Nepal\" : \"Ktm\",\n",
    "    \"India\" : \"Del\",\n",
    "    \"Afgan\" : \"kabul\",\n",
    "    \"Bhutan\" : \"Thimpu\",\n",
    "    \"Bangal\" : \"Dhaka\"\n",
    "}\n",
    "for key in cap:\n",
    "    print(cap[key])"
   ]
  },
  {
   "cell_type": "code",
   "execution_count": null,
   "id": "2a70035e",
   "metadata": {},
   "outputs": [],
   "source": [
    "# ALternative\n",
    "cap = {\n",
    "    \"Nepal\" : \"Ktm\",\n",
    "    \"India\" : \"Del\",\n",
    "    \"Afgan\" : \"kabul\",\n",
    "    \"Bhutan\" : \"Thimpu\",\n",
    "    \"Bangal\" : \"Dhaka\"\n",
    "}\n",
    "for value in cap.values():\n",
    "    print(value)"
   ]
  },
  {
   "cell_type": "code",
   "execution_count": null,
   "id": "6ae69718",
   "metadata": {},
   "outputs": [],
   "source": [
    "#Alternate\n",
    "cap = {\n",
    "    \"Nepal\" : \"Ktm\",\n",
    "    \"India\" : \"Del\",\n",
    "    \"Afgan\" : \"kabul\",\n",
    "    \"Bhutan\" : \"Thimpu\",\n",
    "    \"Bangal\" : \"Dhaka\"\n",
    "}\n",
    "for key, value in cap.items():\n",
    "    print(value)"
   ]
  },
  {
   "cell_type": "markdown",
   "id": "6de41554",
   "metadata": {},
   "source": [
    "How do you sort a dictionary by its values in Python?\n",
    "How do you merge two dictionaries in Python?"
   ]
  },
  {
   "cell_type": "markdown",
   "id": "629c136f",
   "metadata": {},
   "source": [
    "### pt-7\n",
    "How do you iterate over both the keys and values of a dictionary in Python?\n"
   ]
  },
  {
   "cell_type": "code",
   "execution_count": null,
   "id": "7cfeed56",
   "metadata": {},
   "outputs": [],
   "source": [
    "capitals = {\n",
    "    \"Nepal\" : \"Kathmandu\",\n",
    "    \"India\" : \"New Delhi\",\n",
    "    \"USA\" : \"Washington D.C.\",\n",
    "    \"China\" : \"Beijing\",\n",
    "    \"Japan\" : \"Tokyo\"\n",
    "}\n",
    "for keys, values in capitals.items():\n",
    "    print(keys, values)"
   ]
  },
  {
   "cell_type": "markdown",
   "id": "44bb23fc",
   "metadata": {},
   "source": [
    "### pt-8\n",
    "How do you sort a dictionary by its keys in Python?\n"
   ]
  },
  {
   "cell_type": "code",
   "execution_count": null,
   "id": "d9ad6630",
   "metadata": {},
   "outputs": [],
   "source": [
    "my_dict = {\n",
    "    \"b\" : 2,\n",
    "    \"d\" : 4,\n",
    "    \"e\" : 5,\n",
    "    \"c\" : 3,\n",
    "    \"a\" : 1,\n",
    "\n",
    "}\n",
    "    \n",
    "sorted_list = dict(sorted(my_dict.items()))\n",
    "sorted_list"
   ]
  },
  {
   "cell_type": "markdown",
   "id": "761e867c",
   "metadata": {},
   "source": [
    "### pt-9\n",
    "How do you sort a dictionary by its values in Python?\n"
   ]
  },
  {
   "cell_type": "code",
   "execution_count": null,
   "id": "3cebbcdc",
   "metadata": {},
   "outputs": [],
   "source": [
    "#same as solution in pt-8\n"
   ]
  },
  {
   "cell_type": "markdown",
   "id": "b15cc473",
   "metadata": {},
   "source": [
    "### pt- 10\n",
    "How do you merge two dictionaries in Python?"
   ]
  },
  {
   "cell_type": "code",
   "execution_count": 6,
   "id": "6f15ebd8",
   "metadata": {},
   "outputs": [
    {
     "name": "stdout",
     "output_type": "stream",
     "text": [
      "{'name': 'John', 'age': 35, 'occupation': 'Engineer', 'country': 'USA', 'brand': 'Toyota', 'model': 'Corolla', 'year': 2020, 'color': 'Silver'}\n"
     ]
    }
   ],
   "source": [
    "person1 = {\n",
    "    \"name\": \"John\",\n",
    "    \"age\": 35,\n",
    "    \"occupation\": \"Engineer\",\n",
    "    \"country\": \"USA\"\n",
    "}\n",
    "car1 = {\n",
    "    \"brand\": \"Toyota\",\n",
    "    \"model\": \"Corolla\",\n",
    "    \"year\": 2020,\n",
    "    \"color\": \"Silver\"\n",
    "}\n",
    "person1.update(car1)\n",
    "print(person1)\n",
    "\n"
   ]
  },
  {
   "cell_type": "markdown",
   "id": "aab8cf01",
   "metadata": {},
   "source": [
    "### pt- 11\n",
    "swap the key in values place and vice versa for a given dictionary.\n"
   ]
  },
  {
   "cell_type": "code",
   "execution_count": 10,
   "id": "1f9bec20",
   "metadata": {},
   "outputs": [
    {
     "data": {
      "text/plain": [
       "{'John': 'name', 35: 'age', 'Engineer': 'occupation', 'USA': 'country'}"
      ]
     },
     "execution_count": 10,
     "metadata": {},
     "output_type": "execute_result"
    }
   ],
   "source": [
    "# for this we use dictonary comprehension\n",
    "person1 = {\n",
    "    \"name\": \"John\",\n",
    "    \"age\": 35,\n",
    "    \"occupation\": \"Engineer\",\n",
    "    \"country\": \"USA\"\n",
    "}\n",
    "{value: key for key, value in person1.items()}\n"
   ]
  },
  {
   "cell_type": "markdown",
   "id": "f0dd8589",
   "metadata": {},
   "source": [
    "# Qn- 1\n",
    "Write a Python program to create a dictionary of key-value pairs where the keys are numbers from 1 to 10 and the values are their squares."
   ]
  },
  {
   "cell_type": "code",
   "execution_count": 21,
   "id": "4ad4b692",
   "metadata": {},
   "outputs": [
    {
     "name": "stdout",
     "output_type": "stream",
     "text": [
      "{1: 1, 2: 4, 3: 9, 4: 16, 5: 25, 6: 36, 7: 49, 8: 64, 9: 81, 10: 100}\n"
     ]
    }
   ],
   "source": [
    "my_dict = dict()\n",
    "for num in range(1, 11):\n",
    "        my_dict.update({num: num **2})\n",
    "print(my_dict)"
   ]
  },
  {
   "cell_type": "markdown",
   "id": "faa721f7",
   "metadata": {},
   "source": [
    "# Qn- 2\n",
    "Write a Python program to concatenate two dictionaries.\n"
   ]
  },
  {
   "cell_type": "markdown",
   "id": "e4d7fa5e",
   "metadata": {},
   "source": [
    "### first lets understand .copy( )\n",
    "we use this if we want to use all the values of original variable but without modifying original variable. we use this to copy the value"
   ]
  },
  {
   "cell_type": "code",
   "execution_count": 29,
   "id": "8b111ed8",
   "metadata": {},
   "outputs": [
    {
     "name": "stdout",
     "output_type": "stream",
     "text": [
      "{'a': 1, 'b': 2, 'c': 3}\n",
      "{'a': 1, 'b': 2, 'c': 3, 'd': 4}\n"
     ]
    }
   ],
   "source": [
    "original_dict = {'a': 1, 'b': 2, 'c': 3}\n",
    "copy_dict = original_dict.copy()\n",
    "\n",
    "copy_dict[\"d\"] = 4\n",
    "print(original_dict)  \n",
    "print(copy_dict)  #original value remains unchanged"
   ]
  },
  {
   "cell_type": "code",
   "execution_count": 26,
   "id": "d62b4816",
   "metadata": {},
   "outputs": [
    {
     "data": {
      "text/plain": [
       "{'cactus': 'a plant that stabs back',\n",
       " 'jellyfish': 'a sea pancake with a bad temper',\n",
       " 'sloth': 'a fuzzy potato that moves at the speed of smell',\n",
       " 'avocado': \"the fruit that won't commit\",\n",
       " 'hippopotamus': 'a very angry water sofa',\n",
       " 'octopus': 'a stressed spaghetti'}"
      ]
     },
     "execution_count": 26,
     "metadata": {},
     "output_type": "execute_result"
    }
   ],
   "source": [
    "dict_1 = {'cactus': 'a plant that stabs back',\n",
    "                'jellyfish': 'a sea pancake with a bad temper',\n",
    "                'sloth': 'a fuzzy potato that moves at the speed of smell'}\n",
    "dict_2 = {'avocado': 'the fruit that won\\'t commit',\n",
    "                'hippopotamus': 'a very angry water sofa',\n",
    "                'octopus': 'a stressed spaghetti'}\n",
    "\n",
    "merged_dict = dict_1.copy()\n",
    "merged_dict.update(dict_2)\n",
    "merged_dict"
   ]
  },
  {
   "cell_type": "markdown",
   "id": "a91af3ed",
   "metadata": {},
   "source": [
    "# Qn- 3\n",
    "Write a Python program to check if a given key exists in a dictionary,\n",
    "also check whether given value exists in the dictonary.\n"
   ]
  },
  {
   "cell_type": "code",
   "execution_count": 46,
   "id": "a5d3a0a4",
   "metadata": {},
   "outputs": [
    {
     "data": {
      "text/plain": [
       "(True, False, False)"
      ]
     },
     "execution_count": 46,
     "metadata": {},
     "output_type": "execute_result"
    }
   ],
   "source": [
    "cap = {\n",
    "    \"Nepal\" : \"Ktm\",\n",
    "    \"India\" : \"Del\",\n",
    "    \"Afgan\" : \"kabul\",\n",
    "    \"Bhutan\" : \"Thimpu\",\n",
    "    \"Bangal\" : \"Dhaka\"\n",
    "}\n",
    "\"Nepal\" in cap, \"Canada\" in cap, \"Ktm\" in cap\n",
    "# this is same as \"Nepal\" in cap.keys()"
   ]
  },
  {
   "cell_type": "code",
   "execution_count": 45,
   "id": "60ba8736",
   "metadata": {},
   "outputs": [
    {
     "data": {
      "text/plain": [
       "(True, False)"
      ]
     },
     "execution_count": 45,
     "metadata": {},
     "output_type": "execute_result"
    }
   ],
   "source": [
    "\"Ktm\" in cap.values(), \"Ottawa\" in cap.values()"
   ]
  },
  {
   "cell_type": "markdown",
   "id": "e9cff31e",
   "metadata": {},
   "source": [
    "# Qn- 4\n",
    "Write a Python program to iterate over a dictionary and print the keys and values.\n"
   ]
  },
  {
   "cell_type": "code",
   "execution_count": 55,
   "id": "f4deff97",
   "metadata": {},
   "outputs": [
    {
     "name": "stdout",
     "output_type": "stream",
     "text": [
      "Nepal : Ktm\n",
      "India : Del\n",
      "Afgan : kabul\n",
      "Bhutan : Thimpu\n",
      "Bangal : Dhaka\n"
     ]
    }
   ],
   "source": [
    "cap = {\n",
    "    \"Nepal\" : \"Ktm\",\n",
    "    \"India\" : \"Del\",\n",
    "    \"Afgan\" : \"kabul\",\n",
    "    \"Bhutan\" : \"Thimpu\",\n",
    "    \"Bangal\" : \"Dhaka\"\n",
    "}\n",
    "for key,value in cap.items():\n",
    "    print(key,\":\", value)"
   ]
  },
  {
   "cell_type": "markdown",
   "id": "1ea512a9",
   "metadata": {},
   "source": [
    "# Qn- 5\n",
    "Write a Python program to remove a key-value pair from a dictionary.\n"
   ]
  },
  {
   "cell_type": "code",
   "execution_count": 58,
   "id": "101c8eda",
   "metadata": {},
   "outputs": [
    {
     "data": {
      "text/plain": [
       "{'India': 'Del', 'Afgan': 'kabul', 'Bhutan': 'Thimpu', 'Bangal': 'Dhaka'}"
      ]
     },
     "execution_count": 58,
     "metadata": {},
     "output_type": "execute_result"
    }
   ],
   "source": [
    "cap = {\n",
    "    \"Nepal\" : \"Ktm\",\n",
    "    \"India\" : \"Del\",\n",
    "    \"Afgan\" : \"kabul\",\n",
    "    \"Bhutan\" : \"Thimpu\",\n",
    "    \"Bangal\" : \"Dhaka\"\n",
    "}\n",
    "del cap[\"Nepal\"]\n",
    "cap"
   ]
  },
  {
   "cell_type": "code",
   "execution_count": 59,
   "id": "e54d4ac6",
   "metadata": {},
   "outputs": [
    {
     "data": {
      "text/plain": [
       "{'India': 'Del', 'Afgan': 'kabul', 'Bhutan': 'Thimpu', 'Bangal': 'Dhaka'}"
      ]
     },
     "execution_count": 59,
     "metadata": {},
     "output_type": "execute_result"
    }
   ],
   "source": [
    "# Alternative\n",
    "cap = {\n",
    "    \"Nepal\" : \"Ktm\",\n",
    "    \"India\" : \"Del\",\n",
    "    \"Afgan\" : \"kabul\",\n",
    "    \"Bhutan\" : \"Thimpu\",\n",
    "    \"Bangal\" : \"Dhaka\"\n",
    "}\n",
    "cap.pop(\"Nepal\")\n",
    "cap"
   ]
  },
  {
   "cell_type": "markdown",
   "id": "3cf00ddd",
   "metadata": {},
   "source": [
    "# Qn- 6\n",
    "Write a Python program to remove MULTIPLE key-value pairs from a dictionary.\n"
   ]
  },
  {
   "cell_type": "code",
   "execution_count": 60,
   "id": "1fcb3c07",
   "metadata": {},
   "outputs": [
    {
     "data": {
      "text/plain": [
       "{'India': 'Del', 'Bhutan': 'Thimpu'}"
      ]
     },
     "execution_count": 60,
     "metadata": {},
     "output_type": "execute_result"
    }
   ],
   "source": [
    "cap = {\n",
    "    \"Nepal\" : \"Ktm\",\n",
    "    \"India\" : \"Del\",\n",
    "    \"Afgan\" : \"kabul\",\n",
    "    \"Bhutan\" : \"Thimpu\",\n",
    "    \"Bangal\" : \"Dhaka\"\n",
    "}\n",
    "pairs_to_remove = [\"Nepal\", \"Afgan\", \"Bangal\"]\n",
    "for item in pairs_to_remove:\n",
    "    del cap[item]\n",
    "cap"
   ]
  },
  {
   "cell_type": "code",
   "execution_count": 61,
   "id": "1bc2acaf",
   "metadata": {},
   "outputs": [
    {
     "data": {
      "text/plain": [
       "{'India': 'Del', 'Bhutan': 'Thimpu'}"
      ]
     },
     "execution_count": 61,
     "metadata": {},
     "output_type": "execute_result"
    }
   ],
   "source": [
    "# Alternate\n",
    "cap = {\n",
    "    \"Nepal\" : \"Ktm\",\n",
    "    \"India\" : \"Del\",\n",
    "    \"Afgan\" : \"kabul\",\n",
    "    \"Bhutan\" : \"Thimpu\",\n",
    "    \"Bangal\" : \"Dhaka\"\n",
    "}\n",
    "pairs_to_remove = [\"Nepal\", \"Afgan\", \"Bangal\"]\n",
    "for item in pairs_to_remove:\n",
    "    cap.pop(item)\n",
    "cap"
   ]
  },
  {
   "cell_type": "markdown",
   "id": "788cdef7",
   "metadata": {},
   "source": [
    "# Qn- 7\n",
    "Write a Python program to sort a dictionary by value in descending order.\n"
   ]
  },
  {
   "cell_type": "code",
   "execution_count": 80,
   "id": "0c9b05b5",
   "metadata": {},
   "outputs": [
    {
     "data": {
      "text/plain": [
       "{'apple': 50, 'pear': 40, 'orange': 30, 'banana': 20}"
      ]
     },
     "execution_count": 80,
     "metadata": {},
     "output_type": "execute_result"
    }
   ],
   "source": [
    "my_dict = {'apple': 50, 'banana': 20, 'orange': 30, 'pear': 40}\n",
    "\n",
    "sorted_dict = dict(sorted(my_dict.items(), key=lambda x: x[1], reverse=True))\n",
    " #sorted convers the dict to list so we use dict again to concert list back to dict\n",
    "\n",
    "sorted_dict\n",
    "# I have't yet learned what lambda is in python "
   ]
  },
  {
   "cell_type": "markdown",
   "id": "70cb40c8",
   "metadata": {},
   "source": [
    "# Qn- 8\n",
    "Write a Python program to count the number of occurrences of each character in a string and store them in a dictionary."
   ]
  },
  {
   "cell_type": "code",
   "execution_count": 112,
   "id": "047c9312",
   "metadata": {},
   "outputs": [
    {
     "name": "stdout",
     "output_type": "stream",
     "text": [
      "{'a': 2, 'y': 1, 'u': 1, 's': 1, 'h': 1}\n"
     ]
    }
   ],
   "source": [
    "word = \"aayush\"\n",
    "count = 1\n",
    "temp = dict()\n",
    "for item in word:\n",
    "    if item in temp:\n",
    "        temp[item] += 1\n",
    "    elif item == \" \":\n",
    "        continue\n",
    "\n",
    "    else:\n",
    "        temp.update({item: count})\n",
    "print(temp)"
   ]
  },
  {
   "cell_type": "markdown",
   "id": "9b3976da",
   "metadata": {},
   "source": [
    "# Qn- 9\n",
    "Write a Python program to find the sum of all the values in a dictionary.\n"
   ]
  },
  {
   "cell_type": "code",
   "execution_count": 123,
   "id": "1deb32cc",
   "metadata": {},
   "outputs": [
    {
     "name": "stdout",
     "output_type": "stream",
     "text": [
      "660 : this is value\n"
     ]
    }
   ],
   "source": [
    "food = {\"chicken\": 500, \"rice\": 60, \"Momo\": 100}\n",
    "total = 0\n",
    "for value in food.values():\n",
    "    total += value\n",
    "    \n",
    "print(total, \": this is value\")\n",
    "    "
   ]
  },
  {
   "cell_type": "code",
   "execution_count": 126,
   "id": "6b0fa9a9",
   "metadata": {},
   "outputs": [
    {
     "name": "stdout",
     "output_type": "stream",
     "text": [
      "660\n"
     ]
    }
   ],
   "source": [
    "# ALternative, EASIER METHOD\n",
    "food = {\"chicken\": 500, \"rice\": 60, \"Momo\": 100}\n",
    "total = sum(food.values())\n",
    "print(total)"
   ]
  },
  {
   "cell_type": "markdown",
   "id": "03dc1b94",
   "metadata": {},
   "source": [
    "# Qn- 10\n",
    "Write a Python program to get the key with the highest value in a dictionary.\n"
   ]
  },
  {
   "cell_type": "code",
   "execution_count": 135,
   "id": "aaea8594",
   "metadata": {},
   "outputs": [
    {
     "name": "stdout",
     "output_type": "stream",
     "text": [
      "Ktm\n",
      "Ktm\n"
     ]
    }
   ],
   "source": [
    "# this is how we acess the value of a key in python\n",
    "cap = {\n",
    "    \"Nepal\" : \"Ktm\",\n",
    "    \"India\" : \"Del\",\n",
    "    \"Afgan\" : \"kabul\",\n",
    "    \"Bhutan\" : \"Thimpu\",\n",
    "    \"Bangal\" : \"Dhaka\"\n",
    "}\n",
    "print(cap[\"Nepal\"]) # output: \"Ktm\"\n",
    "#ALT\n",
    "print(cap.get(\"Nepal\"))"
   ]
  },
  {
   "cell_type": "code",
   "execution_count": 153,
   "id": "cc62827a",
   "metadata": {},
   "outputs": [
    {
     "name": "stdout",
     "output_type": "stream",
     "text": [
      "this rice has value 800, i.e the highest\n"
     ]
    }
   ],
   "source": [
    "food = {\"chicken\": 500, \"rice\": 800, \"Momo\": 100, \"paneer\": 400}\n",
    "highest_value = 0\n",
    "highest_key = \"\"\n",
    "for key, value in food.items():\n",
    "    if value >= highest_value:\n",
    "        highest_value = value\n",
    "        highest_key = key\n",
    "print(f\"this {highest_key} has value {highest_value}, i.e the highest\")\n",
    "        \n"
   ]
  },
  {
   "cell_type": "code",
   "execution_count": null,
   "id": "b9c4b3cb",
   "metadata": {},
   "outputs": [],
   "source": []
  },
  {
   "cell_type": "code",
   "execution_count": null,
   "id": "198a8996",
   "metadata": {},
   "outputs": [],
   "source": []
  }
 ],
 "metadata": {
  "kernelspec": {
   "display_name": "Python 3 (ipykernel)",
   "language": "python",
   "name": "python3"
  },
  "language_info": {
   "codemirror_mode": {
    "name": "ipython",
    "version": 3
   },
   "file_extension": ".py",
   "mimetype": "text/x-python",
   "name": "python",
   "nbconvert_exporter": "python",
   "pygments_lexer": "ipython3",
   "version": "3.8.10"
  }
 },
 "nbformat": 4,
 "nbformat_minor": 5
}
