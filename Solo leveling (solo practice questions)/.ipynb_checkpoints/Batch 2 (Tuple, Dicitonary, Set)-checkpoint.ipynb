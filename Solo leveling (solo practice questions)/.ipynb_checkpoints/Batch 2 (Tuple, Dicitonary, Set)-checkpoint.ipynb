{
 "cells": [
  {
   "cell_type": "markdown",
   "id": "d986959f",
   "metadata": {},
   "source": [
    "# Tuple\n"
   ]
  },
  {
   "cell_type": "markdown",
   "id": "d1951476",
   "metadata": {},
   "source": [
    "# Q-1\n",
    "Create a tuple of tuples, where each inner tuple contains the name and age of a person.\n"
   ]
  },
  {
   "cell_type": "code",
   "execution_count": null,
   "id": "0fcf4bf9",
   "metadata": {},
   "outputs": [],
   "source": [
    "tup = ((\"Aayush\", 19), (\"Ronaldo\", 38), (\"Messi\", 35))\n",
    "tup"
   ]
  },
  {
   "cell_type": "markdown",
   "id": "ff8432a4",
   "metadata": {},
   "source": [
    "# Q-2\n",
    "Write a function that takes a tuple of numbers as input and returns the sum of the numbers.\n"
   ]
  },
  {
   "cell_type": "code",
   "execution_count": 5,
   "id": "eb0b1e30",
   "metadata": {},
   "outputs": [
    {
     "data": {
      "text/plain": [
       "34"
      ]
     },
     "execution_count": 5,
     "metadata": {},
     "output_type": "execute_result"
    }
   ],
   "source": [
    "List = [3, 5, 6, 9, 11]\n",
    "sum_list = sum(List)\n",
    "sum_list #this can be done"
   ]
  },
  {
   "cell_type": "code",
   "execution_count": null,
   "id": "f3b529e0",
   "metadata": {},
   "outputs": [],
   "source": [
    "inp = input(\"Enter List of numbers seperated by comma: \" )\n",
    "x = inp.split(\",\")\n",
    "tup = tuple(int(num) for num in x)\n",
    "tup\n",
    "sum(tup)\n",
    "    \n",
    "\n"
   ]
  },
  {
   "cell_type": "markdown",
   "id": "6bd492f0",
   "metadata": {},
   "source": [
    "# Q-3\n",
    "Write a function that takes a tuple of strings as input and returns the longest string."
   ]
  },
  {
   "cell_type": "code",
   "execution_count": null,
   "id": "3d475692",
   "metadata": {},
   "outputs": [],
   "source": [
    "tuple_of_strings = (\"apple\", \"ball\", \"cat\", \"Ronaldooo\", \"Ankara messi\")\n",
    "temp = \"\"\n",
    "for string in tuple_of_strings:\n",
    "    if len(string) > len(temp):\n",
    "        temp = string\n",
    "print(temp)\n",
    "    "
   ]
  },
  {
   "cell_type": "markdown",
   "id": "8a98fb65",
   "metadata": {},
   "source": [
    "# Q-4\n",
    "Write a function that takes a tuple of tuples as input from the user and returns a list of all the names of the people in the tuple.\n"
   ]
  },
  {
   "cell_type": "code",
   "execution_count": 4,
   "id": "e758c3fb",
   "metadata": {},
   "outputs": [
    {
     "name": "stdout",
     "output_type": "stream",
     "text": [
      "Enter the names of people seperated by comma: messi, haaland, mbappe, de bruyne\n"
     ]
    },
    {
     "data": {
      "text/plain": [
       "('messi', ' haaland', ' mbappe', ' de bruyne')"
      ]
     },
     "execution_count": 4,
     "metadata": {},
     "output_type": "execute_result"
    }
   ],
   "source": [
    "string_inp = input(\"Enter the names of people seperated by comma: \")\n",
    "list_inp = string_inp.split(\",\")\n",
    "tup = tuple(list_inp)\n",
    "tup"
   ]
  },
  {
   "cell_type": "markdown",
   "id": "55477d95",
   "metadata": {},
   "source": [
    "# Q- 4\n",
    "Write a Python program to create a set of numbers (take user input) and then print out only the even numbers in the set."
   ]
  },
  {
   "cell_type": "code",
   "execution_count": 16,
   "id": "5c830631",
   "metadata": {},
   "outputs": [
    {
     "name": "stdout",
     "output_type": "stream",
     "text": [
      "Enter desired number: 4\n",
      "Enter desired number: 6\n",
      "Enter desired number: 12\n",
      "Enter desired number: 89\n",
      "Enter desired number: 15\n"
     ]
    },
    {
     "data": {
      "text/plain": [
       "{4, 6, 12}"
      ]
     },
     "execution_count": 16,
     "metadata": {},
     "output_type": "execute_result"
    }
   ],
   "source": [
    "num = []\n",
    "for i in range(5):\n",
    "    user_input = int(input(\"Enter desired number: \"))\n",
    "    num.append(user_input)\n",
    "set_num = set(num)\n",
    "{item for item in set_num if item % 2 == 0}"
   ]
  },
  {
   "cell_type": "markdown",
   "id": "6b20f4e2",
   "metadata": {},
   "source": [
    "### Alt soln\n",
    "(taking user input in set, not in list)\n"
   ]
  },
  {
   "cell_type": "raw",
   "id": "c61b8b92",
   "metadata": {},
   "source": []
  },
  {
   "cell_type": "code",
   "execution_count": 31,
   "id": "1efe79e9",
   "metadata": {},
   "outputs": [
    {
     "name": "stdout",
     "output_type": "stream",
     "text": [
      "Enter the desired numbers, seperate each numbers by comma: 4, 5, 3, 12, 8\n"
     ]
    },
    {
     "data": {
      "text/plain": [
       "{4, 8, 12}"
      ]
     },
     "execution_count": 31,
     "metadata": {},
     "output_type": "execute_result"
    }
   ],
   "source": [
    "num = input(\"Enter the desired numbers, seperate each numbers by comma: \")\n",
    "str_li = num.split(\",\")\n",
    "li = []\n",
    "for item in str_li:\n",
    "    li.append(int(item))\n",
    "    \n",
    "li = set(li)\n",
    "\n",
    "even_set = set()\n",
    "for item in li:\n",
    "    if item % 2 == 0:\n",
    "        even_set.add(item)\n",
    "            \n",
    "even_set\n"
   ]
  },
  {
   "cell_type": "code",
   "execution_count": null,
   "id": "f3773df5",
   "metadata": {},
   "outputs": [],
   "source": []
  }
 ],
 "metadata": {
  "kernelspec": {
   "display_name": "Python 3 (ipykernel)",
   "language": "python",
   "name": "python3"
  },
  "language_info": {
   "codemirror_mode": {
    "name": "ipython",
    "version": 3
   },
   "file_extension": ".py",
   "mimetype": "text/x-python",
   "name": "python",
   "nbconvert_exporter": "python",
   "pygments_lexer": "ipython3",
   "version": "3.8.10"
  }
 },
 "nbformat": 4,
 "nbformat_minor": 5
}
