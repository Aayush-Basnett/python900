{
 "cells": [
  {
   "cell_type": "markdown",
   "id": "f889011d",
   "metadata": {},
   "source": [
    "# Setup on the terminal\n",
    "* first choose the directory where you want to create your django app\n",
    "* Then use\n",
    "```zsh\n",
    "mkdir {foldername}\n",
    "```\n",
    "    to create a new folder\n",
    "    \n",
    "```zsh\n",
    "cd {foldername}\n",
    "```\n",
    "    to enter the folder\n",
    "\n"
   ]
  },
  {
   "cell_type": "markdown",
   "id": "75979e04",
   "metadata": {},
   "source": [
    "### making a virtual environment\n",
    "use this code to make a virtual environment\n",
    "\n",
    "\n",
    " ```zsh\n",
    "python3 -m venv {environment name}\n",
    "```\n",
    "\n",
    "Then use the following code to activate the virtual environment\n",
    "\n",
    "\n",
    "\n",
    "```zsh\n",
    "source {environment name}/bin/activate\n",
    "```\n",
    "\n",
    "__to deactivate__\n",
    "\n",
    "```zsh\n",
    "deactivate\n",
    "```\n",
    "\n",
    "\n",
    "Now, let's install django on the virtual environment\n",
    "\n",
    "\n",
    "```zsh\n",
    "pip3 install django\n",
    "```\n",
    "Then again, to create a new django app, run following code\n",
    "\n",
    "\n",
    "```zsh\n",
    "django-admin startproject {Project name}\n",
    "```\n",
    "\n",
    "Then, to start the developmental server, run the following\n",
    "```zsh\n",
    "python3 manage.py runserver\n",
    "```\n",
    "\n",
    "if the main port (8000) is already activated then you can use the following command\n",
    "```zsh\n",
    "python3 manage.py runserver {port_number} \n",
    "\n",
    "```\n",
    "portnumber can be 8001, 8002 etc...\n",
    "\n",
    "\n",
    "NOTE: the code `pip3 list` gives the list of all packages that have been sucessfully installed\n"
   ]
  },
  {
   "cell_type": "markdown",
   "id": "06ad412a",
   "metadata": {},
   "source": [
    "# On code editor (vsCode)\n",
    "To open the code in vscode use following\n",
    "```zsh\n",
    "cd {Project name}\n",
    "code .\n",
    "```\n",
    "\n",
    "You still need to activate the virtual environmet in vscode, to do so, just use the following commands\n",
    "\n",
    "```zsh\n",
    "source {environment name}/bin/activate \n",
    "```\n",
    "\n",
    "This must be done in every new power shell you open\n",
    "\n",
    "NOTE: to open list out all the elements in your current directory, use `ls`\n",
    "\n",
    "```zsh\n",
    "ls\n",
    "``` \n",
    "this gives all the files in current directory"
   ]
  },
  {
   "cell_type": "markdown",
   "id": "39ae6e5d",
   "metadata": {},
   "source": [
    "# Making a new app in our webapp\n",
    "Say we have to make our web-app feature packed (like facebook has reels section, chats, news feed, groups and so much more) then we have to make apps within our webapp to make our project more managable. \n",
    "\n",
    "So, let's add a new app within our webapp by using following code\n",
    "```zsh\n",
    "python3 manage.py startapp {app name}\n",
    "```\n",
    "let's say we created a new app, meroApp then\n",
    "```zsh\n",
    "python3 manage.py startapp meroApp\n",
    "```\n",
    "The new app {meroApp} will have completely dfferent files to that of the original app\n"
   ]
  },
  {
   "cell_type": "markdown",
   "id": "85b0d427",
   "metadata": {},
   "source": [
    "# Urls and Views\n",
    "These are necessary for Templating in Django\n"
   ]
  }
 ],
 "metadata": {
  "kernelspec": {
   "display_name": "Python 3 (ipykernel)",
   "language": "python",
   "name": "python3"
  },
  "language_info": {
   "codemirror_mode": {
    "name": "ipython",
    "version": 3
   },
   "file_extension": ".py",
   "mimetype": "text/x-python",
   "name": "python",
   "nbconvert_exporter": "python",
   "pygments_lexer": "ipython3",
   "version": "3.8.10"
  }
 },
 "nbformat": 4,
 "nbformat_minor": 5
}
