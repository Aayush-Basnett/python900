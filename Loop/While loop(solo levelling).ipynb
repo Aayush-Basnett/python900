{
 "cells": [
  {
   "cell_type": "markdown",
   "id": "b6dad48e",
   "metadata": {},
   "source": [
    "# While loop\n",
    "This loop executes a block of code as long as a specified condition is true.\n",
    "It's basic syntax is:\n",
    "<center><em>while condition:</em></center>\n",
    "If the \"condition\" is \"true\" the code block following the while statement is executed. After the code block completes, the code is evaluated again, and if the \"condition\" is still \"true\", the code block is executed again. This process continues till the \"condition\" becomes \"false\", then at this point code terminates and program continues with next statement after loop.<br/>\n",
    "\n",
    "### Example:"
   ]
  },
  {
   "cell_type": "markdown",
   "id": "b97e0c26",
   "metadata": {},
   "source": [
    "while loop to count from 1 to 5"
   ]
  },
  {
   "cell_type": "code",
   "execution_count": null,
   "id": "68f8b35e",
   "metadata": {},
   "outputs": [],
   "source": [
    "count = 1\n",
    "while count <= 5:\n",
    "    print(count)\n",
    "    count += 1\n",
    "\n"
   ]
  },
  {
   "cell_type": "markdown",
   "id": "d920c485",
   "metadata": {},
   "source": [
    "doing the same thing using for loop"
   ]
  },
  {
   "cell_type": "code",
   "execution_count": null,
   "id": "e93dab2b",
   "metadata": {},
   "outputs": [],
   "source": [
    "for item in range(1, 6):\n",
    "    print(item)"
   ]
  },
  {
   "cell_type": "markdown",
   "id": "5b4c4ffe",
   "metadata": {},
   "source": [
    "This loop calculates the sum of all the numbers from 1 to 10 using a while loop."
   ]
  },
  {
   "cell_type": "code",
   "execution_count": null,
   "id": "e50e17f1",
   "metadata": {},
   "outputs": [],
   "source": [
    "num = 1\n",
    "sum = 0\n",
    "while num <= 10:\n",
    "    sum +=num\n",
    "    num += 1\n",
    "print(\"the sum of numbers from 1 to 10 is\", sum)"
   ]
  },
  {
   "cell_type": "markdown",
   "id": "0e98a0ca",
   "metadata": {},
   "source": [
    "factorial: 5! = 5 * 4 * 3 * 2 * 1 = 120"
   ]
  },
  {
   "cell_type": "code",
   "execution_count": 2,
   "id": "4a89c175",
   "metadata": {},
   "outputs": [
    {
     "name": "stdout",
     "output_type": "stream",
     "text": [
      "enter a number5\n",
      "120\n"
     ]
    }
   ],
   "source": [
    "num = int(input(\"enter a number\"))\n",
    "factorial = 1\n",
    "while num > 1:\n",
    "    factorial *= num\n",
    "    num -= 1\n",
    "print(factorial)"
   ]
  },
  {
   "cell_type": "markdown",
   "id": "df3bfee5",
   "metadata": {},
   "source": [
    "### Game\n",
    "This loop implements a simple guessing game where the user has to guess a number between 1 and 10."
   ]
  },
  {
   "cell_type": "code",
   "execution_count": 15,
   "id": "d522ee59",
   "metadata": {},
   "outputs": [
    {
     "name": "stdout",
     "output_type": "stream",
     "text": [
      "8\n"
     ]
    }
   ],
   "source": [
    "import random\n",
    "secret_num = random.randint(1, 10)\n",
    "print(secret_num)\n",
    "#This code generates random number from the range 1 to 10, i.e 1,2,3,4,5,6,7,8,9,10\n",
    "# Each time you execute this code, new number is generated\n",
    "# we will use this to make a simple while loop guessing game\n"
   ]
  },
  {
   "cell_type": "code",
   "execution_count": 19,
   "id": "43c98471",
   "metadata": {},
   "outputs": [
    {
     "name": "stdout",
     "output_type": "stream",
     "text": [
      "Guess the numeber between 1 to 10: 4\n",
      "Too low, try again\n",
      "Guess the numeber between 1 to 10: 5\n",
      "Too low, try again\n",
      "Guess the numeber between 1 to 10: 6\n",
      "Too low, try again\n",
      "Guess the numeber between 1 to 10: 7\n",
      "Too low, try again\n",
      "Guess the numeber between 1 to 10: 8\n",
      "Congratulations, you guessed correct\n"
     ]
    }
   ],
   "source": [
    "import random\n",
    "secret_num = random.randint(1, 10)\n",
    "guess = 0\n",
    "while guess !=secret_num:\n",
    "    guess = int(input(\"Guess the numeber between 1 to 10: \"))\n",
    "    if guess > secret_num:\n",
    "        print(\"Too high, try again\")\n",
    "    elif guess < secret_num:\n",
    "        print(\"Too low, try again\")\n",
    "print(\"Congratulations, you guessed correct\")"
   ]
  },
  {
   "cell_type": "code",
   "execution_count": null,
   "id": "e0b01aaa",
   "metadata": {},
   "outputs": [],
   "source": []
  }
 ],
 "metadata": {
  "kernelspec": {
   "display_name": "Python 3 (ipykernel)",
   "language": "python",
   "name": "python3"
  },
  "language_info": {
   "codemirror_mode": {
    "name": "ipython",
    "version": 3
   },
   "file_extension": ".py",
   "mimetype": "text/x-python",
   "name": "python",
   "nbconvert_exporter": "python",
   "pygments_lexer": "ipython3",
   "version": "3.8.10"
  }
 },
 "nbformat": 4,
 "nbformat_minor": 5
}
