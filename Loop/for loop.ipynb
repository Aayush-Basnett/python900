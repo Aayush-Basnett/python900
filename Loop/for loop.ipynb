{
 "cells": [
  {
   "cell_type": "markdown",
   "id": "54dc6d2e",
   "metadata": {},
   "source": [
    "# for Loops"
   ]
  },
  {
   "cell_type": "code",
   "execution_count": null,
   "id": "e6b1b048",
   "metadata": {},
   "outputs": [],
   "source": [
    "s = \"Hello world\"\n",
    "range(0,len(s), 1)"
   ]
  },
  {
   "cell_type": "code",
   "execution_count": null,
   "id": "0a00362b",
   "metadata": {},
   "outputs": [],
   "source": [
    "len(s)"
   ]
  },
  {
   "cell_type": "code",
   "execution_count": null,
   "id": "c137630b",
   "metadata": {},
   "outputs": [],
   "source": [
    "s = \"Hello world\"\n",
    "for index_value_bro in range(0, len(s), 3):\n",
    "    print(index_value_bro)"
   ]
  },
  {
   "cell_type": "code",
   "execution_count": null,
   "id": "8c6145ea",
   "metadata": {},
   "outputs": [],
   "source": [
    "for index in range (0, len(s), 1):\n",
    "    letter = s[index]\n",
    "    print(f\"Index = {index} has letter = {letter}\")\n"
   ]
  },
  {
   "cell_type": "code",
   "execution_count": null,
   "id": "d4d0180f",
   "metadata": {},
   "outputs": [],
   "source": [
    "string = \"Broadway Infosis\"\n",
    "for broadway_index in range ( len(string)): #start and step is optional\n",
    "    individual_letter = string[broadway_index]\n",
    "    print(f\"the index is {broadway_index} and letter is {individual_letter}\")"
   ]
  },
  {
   "cell_type": "code",
   "execution_count": null,
   "id": "9f1769b0",
   "metadata": {},
   "outputs": [],
   "source": [
    "string"
   ]
  },
  {
   "cell_type": "markdown",
   "id": "f0457753",
   "metadata": {},
   "source": [
    "# Assignment- 1\n",
    "display the index number and letters of \"Broadway Infosis\" in reverse order."
   ]
  },
  {
   "cell_type": "code",
   "execution_count": null,
   "id": "0fdd8578",
   "metadata": {},
   "outputs": [],
   "source": [
    "len(string)"
   ]
  },
  {
   "cell_type": "code",
   "execution_count": null,
   "id": "b62c0fe8",
   "metadata": {},
   "outputs": [],
   "source": [
    "string = \"Broadway Infosis\"\n",
    "for broadway_index in range (len(string)-1, -1, -1): \n",
    "    individual_letter = string[broadway_index]\n",
    "    print(f\"the index is {broadway_index} and letter is {individual_letter}\")"
   ]
  },
  {
   "cell_type": "markdown",
   "id": "7dd5422c",
   "metadata": {},
   "source": [
    "# Assignment- 2\n",
    "WAP to print vowels and consonant in given word\n",
    "s = \"aeyi\"\n"
   ]
  },
  {
   "cell_type": "code",
   "execution_count": null,
   "id": "3f8fb0d6",
   "metadata": {},
   "outputs": [],
   "source": [
    "s = \"aeyi\"\n",
    "for index in range(len(s)) :\n",
    "    letter = s[index]\n",
    "    if letter == \"a\" or letter == \"e\" or letter == \"i\" or letter == \"o\" or letter == \"u\":\n",
    "        print(f\"{letter} is vowel\")\n",
    "    else:\n",
    "        print(f\"{letter} is consonent\")\n",
    "        "
   ]
  },
  {
   "cell_type": "markdown",
   "id": "ef53bbad",
   "metadata": {},
   "source": [
    "# repeat, teacher wala soln"
   ]
  },
  {
   "cell_type": "code",
   "execution_count": null,
   "id": "d5a84d83",
   "metadata": {},
   "outputs": [],
   "source": [
    "string = \"k lekhne hola\"\n",
    "for index in range(len(string)) :\n",
    "    letter = string[index]\n",
    "    if letter == \"a\" or letter == \"e\" or letter == \"i\" or letter == \"o\" or letter == \"u\":\n",
    "        print(f\"{letter} is vowel\")\n",
    "    elif letter == \" \":\n",
    "        continue\n",
    "    else:\n",
    "        print(f\"{letter} is consonent\")"
   ]
  },
  {
   "cell_type": "markdown",
   "id": "eceb1aa8",
   "metadata": {},
   "source": [
    "# Continue\n",
    "yo use garda in a loop, if condition is satisfied tyo code skip huncha, Continue tala ko kunai pani code execute hudaina\n"
   ]
  },
  {
   "cell_type": "code",
   "execution_count": null,
   "id": "23629e27",
   "metadata": {},
   "outputs": [],
   "source": [
    "for index in range(0, 5, 1):\n",
    "    print(index)\n"
   ]
  },
  {
   "cell_type": "code",
   "execution_count": null,
   "id": "8d865fda",
   "metadata": {},
   "outputs": [],
   "source": [
    "for index in range(0, 5, 1):\n",
    "    if index == 2:\n",
    "        continue\n",
    "    print(index)\n",
    "    #except 2 all is printed, i,e it is skipped"
   ]
  },
  {
   "cell_type": "markdown",
   "id": "c3b785c6",
   "metadata": {},
   "source": [
    "# Break\n",
    "yo use garda in a loop, if condition is satisfied tyo code tala ko kunai pani code execute hudaina. Purai loop nai stop huncha if condition is satisfied\n"
   ]
  },
  {
   "cell_type": "code",
   "execution_count": null,
   "id": "e2420aa2",
   "metadata": {},
   "outputs": [],
   "source": [
    "for index in range(0, 5, 1):\n",
    "    if index == 2:\n",
    "        break\n",
    "    print(index)\n",
    "    #after reaching 2 loop is stopped"
   ]
  },
  {
   "cell_type": "code",
   "execution_count": null,
   "id": "aa0e6b0a",
   "metadata": {},
   "outputs": [],
   "source": [
    "\"radhe\" + \"Radhe\""
   ]
  },
  {
   "cell_type": "code",
   "execution_count": 1,
   "id": "bdfd9bc1",
   "metadata": {},
   "outputs": [
    {
     "name": "stdout",
     "output_type": "stream",
     "text": [
      "10\n",
      "5\n",
      "6\n",
      "3\n",
      "8\n",
      "4\n",
      "2\n"
     ]
    }
   ],
   "source": [
    "for item in [10,5,6,3,8,4,2]:\n",
    "    print(item)\n"
   ]
  },
  {
   "cell_type": "code",
   "execution_count": 5,
   "id": "2873830e",
   "metadata": {},
   "outputs": [
    {
     "name": "stdout",
     "output_type": "stream",
     "text": [
      "buggati\n",
      "bmw\n",
      "tesla\n",
      "audi\n"
     ]
    }
   ],
   "source": [
    "cars = [\"buGGatI\", \"BMW\", \"Tesla\", \"AUDI\"]\n",
    "for car in cars:\n",
    "    car = car.lower()\n",
    "    print(car)"
   ]
  },
  {
   "cell_type": "code",
   "execution_count": 7,
   "id": "c3dd6a1d",
   "metadata": {},
   "outputs": [
    {
     "name": "stdout",
     "output_type": "stream",
     "text": [
      "2 is even\n",
      "3 is odd\n",
      "5 is odd\n"
     ]
    }
   ],
   "source": [
    "dat = [2, 3, 5] #find even and odd for this list\n",
    "for number in dat:\n",
    "    if number % 2 == 0:\n",
    "        print(f\"{number} is even\")\n",
    "    else:\n",
    "        print(f\"{number} is odd\")\n",
    "        \n"
   ]
  },
  {
   "cell_type": "code",
   "execution_count": null,
   "id": "3f21bc96",
   "metadata": {},
   "outputs": [],
   "source": []
  }
 ],
 "metadata": {
  "kernelspec": {
   "display_name": "Python 3 (ipykernel)",
   "language": "python",
   "name": "python3"
  },
  "language_info": {
   "codemirror_mode": {
    "name": "ipython",
    "version": 3
   },
   "file_extension": ".py",
   "mimetype": "text/x-python",
   "name": "python",
   "nbconvert_exporter": "python",
   "pygments_lexer": "ipython3",
   "version": "3.8.10"
  }
 },
 "nbformat": 4,
 "nbformat_minor": 5
}
