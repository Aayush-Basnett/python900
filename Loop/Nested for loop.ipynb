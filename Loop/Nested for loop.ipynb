{
 "cells": [
  {
   "cell_type": "markdown",
   "id": "72693771",
   "metadata": {},
   "source": [
    "Nested loop is loop bhitra pani loop"
   ]
  },
  {
   "cell_type": "code",
   "execution_count": 3,
   "id": "b4e526d1",
   "metadata": {},
   "outputs": [
    {
     "name": "stdout",
     "output_type": "stream",
     "text": [
      "------\n",
      "i = 0\n",
      "------\n",
      "   j = 0\n",
      "   j = 1\n",
      "   j = 2\n",
      "   j = 3\n",
      "   j = 4\n",
      "------\n",
      "i = 1\n",
      "------\n",
      "   j = 0\n",
      "   j = 1\n",
      "   j = 2\n",
      "   j = 3\n",
      "   j = 4\n",
      "------\n",
      "i = 2\n",
      "------\n",
      "   j = 0\n",
      "   j = 1\n",
      "   j = 2\n",
      "   j = 3\n",
      "   j = 4\n",
      "------\n",
      "i = 3\n",
      "------\n",
      "   j = 0\n",
      "   j = 1\n",
      "   j = 2\n",
      "   j = 3\n",
      "   j = 4\n",
      "------\n",
      "i = 4\n",
      "------\n",
      "   j = 0\n",
      "   j = 1\n",
      "   j = 2\n",
      "   j = 3\n",
      "   j = 4\n"
     ]
    }
   ],
   "source": [
    "for i in range(5):\n",
    "    print(\"------\")\n",
    "    print(f\"i = {i}\")\n",
    "    print(\"------\")\n",
    "    for j in range(5):\n",
    "        print(f\"   j = {j}\")"
   ]
  },
  {
   "cell_type": "code",
   "execution_count": 4,
   "id": "5e7d51f7",
   "metadata": {},
   "outputs": [],
   "source": [
    "dat = [[8, 9, 10], [2, 3], [11, 6, 8, 4, 1]] #list bhitra pani list halna milcha\n",
    "#find mean of each sub-list with a new list"
   ]
  },
  {
   "cell_type": "code",
   "execution_count": 5,
   "id": "3032e1d2",
   "metadata": {},
   "outputs": [
    {
     "data": {
      "text/plain": [
       "9.0"
      ]
     },
     "execution_count": 5,
     "metadata": {},
     "output_type": "execute_result"
    }
   ],
   "source": [
    "#eauta ko lagi matra huda esari garinthiyo\n",
    "item = [8, 9, 10]\n",
    "total = 0\n",
    "for dp in item:\n",
    "    total += dp\n",
    "mean = total/len(item)\n",
    "mean"
   ]
  },
  {
   "cell_type": "code",
   "execution_count": 9,
   "id": "bd5af70f",
   "metadata": {},
   "outputs": [
    {
     "name": "stdout",
     "output_type": "stream",
     "text": [
      "9.0\n",
      "2.5\n",
      "6.0\n"
     ]
    }
   ],
   "source": [
    "dat = [[8, 9, 10], [2, 3], [11, 6, 8, 4, 1]]\n",
    "\n",
    "for item in dat:\n",
    "    total = 0\n",
    "    for dp in item:\n",
    "        total += dp\n",
    "    mean = total/len(item)\n",
    "    print(mean)"
   ]
  },
  {
   "cell_type": "code",
   "execution_count": null,
   "id": "c44365f3",
   "metadata": {},
   "outputs": [],
   "source": [
    "\n"
   ]
  },
  {
   "cell_type": "code",
   "execution_count": null,
   "id": "7456a452",
   "metadata": {},
   "outputs": [],
   "source": []
  }
 ],
 "metadata": {
  "kernelspec": {
   "display_name": "Python 3 (ipykernel)",
   "language": "python",
   "name": "python3"
  },
  "language_info": {
   "codemirror_mode": {
    "name": "ipython",
    "version": 3
   },
   "file_extension": ".py",
   "mimetype": "text/x-python",
   "name": "python",
   "nbconvert_exporter": "python",
   "pygments_lexer": "ipython3",
   "version": "3.8.10"
  }
 },
 "nbformat": 4,
 "nbformat_minor": 5
}
