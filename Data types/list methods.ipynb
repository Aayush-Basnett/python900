{
 "cells": [
  {
   "cell_type": "markdown",
   "id": "604daf7a",
   "metadata": {},
   "source": [
    "# Unlike string, list is mutable"
   ]
  },
  {
   "cell_type": "code",
   "execution_count": null,
   "id": "7276dec9",
   "metadata": {},
   "outputs": [],
   "source": [
    "cars = [\"Mercedes\", \"Tesla\", \"BMW\", \"Bentely\"]"
   ]
  },
  {
   "cell_type": "code",
   "execution_count": 6,
   "id": "93b51d1b",
   "metadata": {},
   "outputs": [
    {
     "data": {
      "text/plain": [
       "140256043082560"
      ]
     },
     "execution_count": 6,
     "metadata": {},
     "output_type": "execute_result"
    }
   ],
   "source": [
    "id(cars)"
   ]
  },
  {
   "cell_type": "code",
   "execution_count": 2,
   "id": "4bc29980",
   "metadata": {},
   "outputs": [],
   "source": [
    "# say if i want to remove Tesla and add lamborghini then..."
   ]
  },
  {
   "cell_type": "code",
   "execution_count": 4,
   "id": "a0fc7c9e",
   "metadata": {},
   "outputs": [
    {
     "data": {
      "text/plain": [
       "['Mercedes', 'Lamborghini', 'BMW', 'Bentely']"
      ]
     },
     "execution_count": 4,
     "metadata": {},
     "output_type": "execute_result"
    }
   ],
   "source": [
    "cars[1] = \"Lamborghini\"\n",
    "cars"
   ]
  },
  {
   "cell_type": "markdown",
   "id": "21d11162",
   "metadata": {},
   "source": [
    "Although string is immutable, List is MUTABLE"
   ]
  },
  {
   "cell_type": "code",
   "execution_count": 5,
   "id": "b83a3584",
   "metadata": {},
   "outputs": [
    {
     "data": {
      "text/plain": [
       "140256043082560"
      ]
     },
     "execution_count": 5,
     "metadata": {},
     "output_type": "execute_result"
    }
   ],
   "source": [
    "id(cars)"
   ]
  },
  {
   "cell_type": "markdown",
   "id": "523effad",
   "metadata": {},
   "source": [
    "# slicing can be used to replace multiple data"
   ]
  },
  {
   "cell_type": "code",
   "execution_count": 10,
   "id": "d25001f0",
   "metadata": {},
   "outputs": [
    {
     "data": {
      "text/plain": [
       "['apple',\n",
       " 'Naya banana',\n",
       " 'naya peaches',\n",
       " 'naya melons',\n",
       " 'kiwi',\n",
       " 'mango',\n",
       " 'oranges']"
      ]
     },
     "execution_count": 10,
     "metadata": {},
     "output_type": "execute_result"
    }
   ],
   "source": [
    "fruits = [\"apple\",\"banana\",\"peachs\",\"melons\",\"kiwi\",\"mango\",\"oranges\" ]\n",
    "fruits[1:4] = [\"Naya banana\", \"naya peaches\", \"naya melons\"]\n",
    "fruits"
   ]
  },
  {
   "cell_type": "markdown",
   "id": "f0c7fbd9",
   "metadata": {},
   "source": [
    "# to insert new data on the list:::\n"
   ]
  },
  {
   "cell_type": "code",
   "execution_count": 13,
   "id": "66ba791c",
   "metadata": {},
   "outputs": [],
   "source": [
    "fruits = [\"apple\",\"banana\",\"peachs\",\"melons\",\"kiwi\",\"mango\",\"oranges\" ]"
   ]
  },
  {
   "cell_type": "code",
   "execution_count": 12,
   "id": "74fcfaac",
   "metadata": {},
   "outputs": [
    {
     "data": {
      "text/plain": [
       "['apple', 'Litchi', 'banana', 'peachs', 'melons', 'kiwi', 'mango', 'oranges']"
      ]
     },
     "execution_count": 12,
     "metadata": {},
     "output_type": "execute_result"
    }
   ],
   "source": [
    "fruits.insert(1, \"Litchi\")\n",
    "fruits"
   ]
  },
  {
   "cell_type": "markdown",
   "id": "533f06b2",
   "metadata": {},
   "source": [
    "# list.append() v-imp\n",
    "append vaneko last ma attatch garne vaneko ho"
   ]
  },
  {
   "cell_type": "code",
   "execution_count": 18,
   "id": "6ea8aee9",
   "metadata": {},
   "outputs": [
    {
     "data": {
      "text/plain": [
       "['pele', 'maradona', 'cryuff', 'cristiano']"
      ]
     },
     "execution_count": 18,
     "metadata": {},
     "output_type": "execute_result"
    }
   ],
   "source": [
    "goats = [\"pele\",\"maradona\",\"cryuff\",]\n",
    "goats.append(\"cristiano\")\n",
    "goats"
   ]
  },
  {
   "cell_type": "code",
   "execution_count": 19,
   "id": "acd9951a",
   "metadata": {},
   "outputs": [
    {
     "data": {
      "text/plain": [
       "['pele', 'maradona', 'cryuff', 'cristiano', 'messi']"
      ]
     },
     "execution_count": 19,
     "metadata": {},
     "output_type": "execute_result"
    }
   ],
   "source": [
    "goats.append(\"messi\")\n",
    "goats"
   ]
  },
  {
   "cell_type": "code",
   "execution_count": 22,
   "id": "0de93918",
   "metadata": {},
   "outputs": [
    {
     "name": "stdout",
     "output_type": "stream",
     "text": [
      "enter name of users: aayush\n",
      "enter name of users: patrick\n",
      "enter name of users: big man\n",
      "enter name of users: big mac\n",
      "enter name of users: hungry skiddo\n"
     ]
    }
   ],
   "source": [
    "std_name = [] #take 5 names from  the user\n",
    "\n",
    "for item in range(5):\n",
    "    name = input(\"enter name of users: \")\n",
    "    std_name.append(name)\n",
    "\n"
   ]
  },
  {
   "cell_type": "code",
   "execution_count": 25,
   "id": "b85c292b",
   "metadata": {},
   "outputs": [
    {
     "name": "stdout",
     "output_type": "stream",
     "text": [
      "Enter city name: koteshwor\n",
      "Enter city name: baneshwor\n",
      "Enter city name: tinkune\n",
      "Enter city name: lokanthali\n",
      "Enter city name: thimi\n",
      "['koteshwor', 'baneshwor', 'tinkune', 'lokanthali', 'thimi']\n"
     ]
    }
   ],
   "source": [
    "city = []\n",
    "for item in range(5):\n",
    "    cities = input(\"Enter city name: \")\n",
    "    city.append(cities)\n",
    "print(city)"
   ]
  },
  {
   "cell_type": "markdown",
   "id": "c948123b",
   "metadata": {},
   "source": [
    "# list.remove()\n",
    "this removes the specified item from a list\n"
   ]
  },
  {
   "cell_type": "code",
   "execution_count": 29,
   "id": "a307d76f",
   "metadata": {},
   "outputs": [
    {
     "data": {
      "text/plain": [
       "['apple', 'banana', 'melons', 'kiwi', 'mango', 'oranges']"
      ]
     },
     "execution_count": 29,
     "metadata": {},
     "output_type": "execute_result"
    }
   ],
   "source": [
    "fruits = [\"apple\",\"banana\",\"peaches\",\"melons\",\"kiwi\",\"mango\",\"oranges\" ]\n",
    "fruits.remove(\"peaches\")\n",
    "fruits"
   ]
  },
  {
   "cell_type": "markdown",
   "id": "5cc7ed7b",
   "metadata": {},
   "source": [
    "# list.pop()\n",
    "this removes the last item from a list\n"
   ]
  },
  {
   "cell_type": "code",
   "execution_count": 30,
   "id": "ccd252ba",
   "metadata": {},
   "outputs": [
    {
     "data": {
      "text/plain": [
       "['apple', 'banana', 'peaches', 'melons', 'kiwi', 'mango']"
      ]
     },
     "execution_count": 30,
     "metadata": {},
     "output_type": "execute_result"
    }
   ],
   "source": [
    "fruits = [\"apple\",\"banana\",\"peaches\",\"melons\",\"kiwi\",\"mango\",\"oranges\" ]\n",
    "fruits.pop()\n",
    "fruits"
   ]
  },
  {
   "cell_type": "markdown",
   "id": "6beb7734",
   "metadata": {},
   "source": [
    "### append le last ma value add garcha whilst\n",
    "### pop le last ko item remove garcha"
   ]
  },
  {
   "cell_type": "markdown",
   "id": "a84f8df7",
   "metadata": {},
   "source": [
    "#### python list can be used as <h3>stack data structure<h3/> \n",
    "* append acts as push operation\n",
    "* pop acts as pop operation\n",
    "* stack works in a LIFO (Last In First Out) principal\n",
    "* eg: stack --bookstack: jun book last ma thapincha tei paila nikalna milcha"
   ]
  },
  {
   "cell_type": "code",
   "execution_count": null,
   "id": "a854ba3f",
   "metadata": {},
   "outputs": [],
   "source": []
  },
  {
   "cell_type": "markdown",
   "id": "f9eaceed",
   "metadata": {},
   "source": [
    "# Assignment- 1\n",
    "nums = [2, 4, 3, 9, 1, 7]\n",
    "WAP to collect square of each number in a list. <br/>\n",
    "Also, WAP to collect cube of each number in a list."
   ]
  },
  {
   "cell_type": "code",
   "execution_count": 46,
   "id": "797fb5e8",
   "metadata": {},
   "outputs": [
    {
     "name": "stdout",
     "output_type": "stream",
     "text": [
      "[4, 16, 9, 81, 1, 49]\n",
      "[8, 64, 27, 729, 1, 343]\n"
     ]
    }
   ],
   "source": [
    "nums = [2, 4, 3, 9, 1, 7]\n",
    "square =[]\n",
    "cube = []\n",
    "for number in nums:\n",
    "    square_nums = number **2\n",
    "    square.append(square_nums)\n",
    "    cube_nums = number ** 3\n",
    "    cube.append(cube_nums)\n",
    "print(square)\n",
    "print(cube)"
   ]
  },
  {
   "cell_type": "markdown",
   "id": "25e3abec",
   "metadata": {},
   "source": [
    "# .join()\n",
    "This can be used to convert list into a string\n"
   ]
  },
  {
   "cell_type": "code",
   "execution_count": 47,
   "id": "56fb92e3",
   "metadata": {},
   "outputs": [
    {
     "data": {
      "text/plain": [
       "['Hello,', 'everybody.', 'How', 'are', 'you.', 'Fine,', 'Thank', 'you']"
      ]
     },
     "execution_count": 47,
     "metadata": {},
     "output_type": "execute_result"
    }
   ],
   "source": [
    "greet = [\"Hello,\",\"everybody.\",\"How\",\"are\",\"you.\",\"Fine,\",\"Thank\",\"you\"]\n",
    "greet"
   ]
  },
  {
   "cell_type": "code",
   "execution_count": 48,
   "id": "ebadec16",
   "metadata": {},
   "outputs": [
    {
     "data": {
      "text/plain": [
       "'Hello, everybody. How are you. Fine, Thank you'"
      ]
     },
     "execution_count": 48,
     "metadata": {},
     "output_type": "execute_result"
    }
   ],
   "source": [
    "greet = [\"Hello,\",\"everybody.\",\"How\",\"are\",\"you.\",\"Fine,\",\"Thank\",\"you\"]\n",
    "sentence = \" \".join(greet)\n",
    "sentence"
   ]
  },
  {
   "cell_type": "markdown",
   "id": "a8c98ca7",
   "metadata": {},
   "source": [
    "# .sort()"
   ]
  },
  {
   "cell_type": "code",
   "execution_count": 54,
   "id": "3f6d85ea",
   "metadata": {},
   "outputs": [
    {
     "data": {
      "text/plain": [
       "[-67, -18, 3, 54, 69]"
      ]
     },
     "execution_count": 54,
     "metadata": {},
     "output_type": "execute_result"
    }
   ],
   "source": [
    "nums = [-67, 54 ,3, -18, 69]\n",
    "nums.sort()\n",
    "nums #this arranges list in ascending order\n"
   ]
  },
  {
   "cell_type": "code",
   "execution_count": 55,
   "id": "fdd03ec8",
   "metadata": {},
   "outputs": [
    {
     "data": {
      "text/plain": [
       "['Fine,', 'Hello,', 'How', 'Thank', 'are', 'everybody.', 'you', 'you.']"
      ]
     },
     "execution_count": 55,
     "metadata": {},
     "output_type": "execute_result"
    }
   ],
   "source": [
    "greet = [\"Hello,\",\"everybody.\",\"How\",\"are\",\"you.\",\"Fine,\",\"Thank\",\"you\"]\n",
    "greet.sort()\n",
    "greet"
   ]
  },
  {
   "cell_type": "markdown",
   "id": "fc361c13",
   "metadata": {},
   "source": [
    "# .extend()\n"
   ]
  },
  {
   "cell_type": "code",
   "execution_count": 56,
   "id": "9223fade",
   "metadata": {},
   "outputs": [
    {
     "data": {
      "text/plain": [
       "['apple',\n",
       " 'banana',\n",
       " 'lichi',\n",
       " 'mango',\n",
       " 'bhanta',\n",
       " 'karela',\n",
       " 'shag',\n",
       " 'lauka',\n",
       " 'aloo']"
      ]
     },
     "execution_count": 56,
     "metadata": {},
     "output_type": "execute_result"
    }
   ],
   "source": [
    "fruit = [\"apple\", \"banana\", \"lichi\", \"mango\"]\n",
    "vegetable = [\"bhanta\", \"karela\", \"shag\", \"lauka\", \"aloo\"]\n",
    "fruit + vegetable"
   ]
  },
  {
   "cell_type": "markdown",
   "id": "8e7d39d5",
   "metadata": {},
   "source": [
    "but if i want all these items 'in fruit list"
   ]
  },
  {
   "cell_type": "code",
   "execution_count": 60,
   "id": "031aaec2",
   "metadata": {},
   "outputs": [
    {
     "name": "stdout",
     "output_type": "stream",
     "text": [
      "['apple', 'banana', 'lichi', 'mango', 'bhanta', 'karela', 'shag', 'lauka', 'aloo']\n"
     ]
    }
   ],
   "source": [
    "fruit = [\"apple\", \"banana\", \"lichi\", \"mango\"]\n",
    "vegetable = [\"bhanta\", \"karela\", \"shag\", \"lauka\", \"aloo\"]\n",
    "fruit.extend(vegetable)\n",
    "print(fruit)"
   ]
  },
  {
   "cell_type": "code",
   "execution_count": null,
   "id": "055c92e7",
   "metadata": {},
   "outputs": [],
   "source": []
  }
 ],
 "metadata": {
  "kernelspec": {
   "display_name": "Python 3 (ipykernel)",
   "language": "python",
   "name": "python3"
  },
  "language_info": {
   "codemirror_mode": {
    "name": "ipython",
    "version": 3
   },
   "file_extension": ".py",
   "mimetype": "text/x-python",
   "name": "python",
   "nbconvert_exporter": "python",
   "pygments_lexer": "ipython3",
   "version": "3.8.10"
  }
 },
 "nbformat": 4,
 "nbformat_minor": 5
}
