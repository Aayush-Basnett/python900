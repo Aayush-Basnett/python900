{
 "cells": [
  {
   "cell_type": "code",
   "execution_count": 1,
   "id": "7800a6a0",
   "metadata": {},
   "outputs": [
    {
     "name": "stdout",
     "output_type": "stream",
     "text": [
      "[49, 25, 64, 16, 4]\n"
     ]
    }
   ],
   "source": [
    "# ususlly we use loops like this\n",
    "#this program gives us square of a list\n",
    "data = [7, 5, 8, 4, 2]\n",
    "sq = []\n",
    "for item in data:\n",
    "    sq.append(item ** 2)\n",
    "print(sq)"
   ]
  },
  {
   "cell_type": "markdown",
   "id": "5cdeffa8",
   "metadata": {},
   "source": [
    "# List Comprehension:\n",
    "it's elegant way to create list offers a shorter syntax to create a new list based on the values of an existing list."
   ]
  },
  {
   "cell_type": "code",
   "execution_count": 2,
   "id": "c7626fd6",
   "metadata": {},
   "outputs": [
    {
     "data": {
      "text/plain": [
       "[49, 25, 64, 16, 4]"
      ]
     },
     "execution_count": 2,
     "metadata": {},
     "output_type": "execute_result"
    }
   ],
   "source": [
    "data = [7, 5, 8, 4, 2]\n",
    "\n",
    "[item **2 for item in data]"
   ]
  },
  {
   "cell_type": "code",
   "execution_count": 3,
   "id": "115b1df3",
   "metadata": {},
   "outputs": [
    {
     "data": {
      "text/plain": [
       "[343, 125, 512, 64, 8]"
      ]
     },
     "execution_count": 3,
     "metadata": {},
     "output_type": "execute_result"
    }
   ],
   "source": [
    "data = [7, 5, 8, 4, 2]\n",
    "[item **3 for item in data]"
   ]
  },
  {
   "cell_type": "markdown",
   "id": "a6285e24",
   "metadata": {},
   "source": [
    "syntax for list Comprehension is:::\n",
    "```python\n",
    "[Expression for item in iterables]\n",
    "```\n"
   ]
  },
  {
   "cell_type": "code",
   "execution_count": 4,
   "id": "e584464d",
   "metadata": {},
   "outputs": [
    {
     "name": "stdout",
     "output_type": "stream",
     "text": [
      "['he', 'she', 'it', 'they', 'his', 'hers', 'him']\n"
     ]
    }
   ],
   "source": [
    "stopwords = [\"He\",\"She\",\"It\",\"They\",\"His\",\"Hers\",\"Him\",]\n",
    "low = []\n",
    "for words in stopwords:\n",
    "    \n",
    "    low.append(words.lower())\n",
    "print(low)\n",
    "    "
   ]
  },
  {
   "cell_type": "markdown",
   "id": "9fc6cfdf",
   "metadata": {},
   "source": [
    "same solution using list comprehension"
   ]
  },
  {
   "cell_type": "code",
   "execution_count": 6,
   "id": "4b841b82",
   "metadata": {},
   "outputs": [
    {
     "data": {
      "text/plain": [
       "['he', 'she', 'it', 'they', 'his', 'hers', 'him']"
      ]
     },
     "execution_count": 6,
     "metadata": {},
     "output_type": "execute_result"
    }
   ],
   "source": [
    "stopwords = [\"He\",\"She\",\"It\",\"They\",\"His\",\"Hers\",\"Him\"]\n",
    "[words.lower() for words in stopwords]"
   ]
  },
  {
   "cell_type": "markdown",
   "id": "14d08ada",
   "metadata": {},
   "source": [
    "### List comprehension only returns List"
   ]
  },
  {
   "cell_type": "markdown",
   "id": "7db8f434",
   "metadata": {},
   "source": [
    "# List comprehension with if statement"
   ]
  },
  {
   "cell_type": "code",
   "execution_count": 9,
   "id": "c538854e",
   "metadata": {},
   "outputs": [
    {
     "data": {
      "text/plain": [
       "[2, 4, 18]"
      ]
     },
     "execution_count": 9,
     "metadata": {},
     "output_type": "execute_result"
    }
   ],
   "source": [
    "dat = [2, 3, 4, 5, 18, 99, 63]\n",
    "# to make a list of even numbers\n",
    "# usually we do\n",
    "even = []\n",
    "for item in dat:\n",
    "    if item % 2 == 0:\n",
    "        even.append(item)\n",
    "even"
   ]
  },
  {
   "cell_type": "markdown",
   "id": "69a8b881",
   "metadata": {},
   "source": [
    " Using List comprehension"
   ]
  },
  {
   "cell_type": "code",
   "execution_count": 10,
   "id": "8cc00211",
   "metadata": {},
   "outputs": [
    {
     "data": {
      "text/plain": [
       "[2, 4, 18]"
      ]
     },
     "execution_count": 10,
     "metadata": {},
     "output_type": "execute_result"
    }
   ],
   "source": [
    "dat = [2, 3, 4, 5, 18, 99, 63]\n",
    "[item for item in dat if item % 2 == 0]"
   ]
  },
  {
   "cell_type": "code",
   "execution_count": 12,
   "id": "e8a40cb9",
   "metadata": {},
   "outputs": [
    {
     "data": {
      "text/plain": [
       "[3, 5, 99, 63]"
      ]
     },
     "execution_count": 12,
     "metadata": {},
     "output_type": "execute_result"
    }
   ],
   "source": [
    "dat = [2, 3, 4, 5, 18, 99, 63]\n",
    "[item for item in dat if item % 2 == 1]"
   ]
  },
  {
   "cell_type": "markdown",
   "id": "e193a968",
   "metadata": {},
   "source": [
    "# List comprehension with If ... Else statements"
   ]
  },
  {
   "cell_type": "code",
   "execution_count": 14,
   "id": "70d8ff5c",
   "metadata": {},
   "outputs": [
    {
     "data": {
      "text/plain": [
       "[0.3, 0, 0, 3, 0.22, 0, 0, 1]"
      ]
     },
     "execution_count": 14,
     "metadata": {},
     "output_type": "execute_result"
    }
   ],
   "source": [
    "dat = [0.3, -0.12, 0, 3, 0.22, -0.01, -0.9, 1]\n",
    "[0 if item <= 0 else item for item in dat]\n"
   ]
  },
  {
   "cell_type": "markdown",
   "id": "f86dce42",
   "metadata": {},
   "source": [
    "### Wap that replaces everything with oranges if item is nit banana. it it is banana keep it unchanged"
   ]
  },
  {
   "cell_type": "code",
   "execution_count": 15,
   "id": "05907724",
   "metadata": {},
   "outputs": [
    {
     "data": {
      "text/plain": [
       "['orange', 'banana', 'orange', 'orange', 'orange']"
      ]
     },
     "execution_count": 15,
     "metadata": {},
     "output_type": "execute_result"
    }
   ],
   "source": [
    "fruits = [\"apple\", \"banana\",\"cherry\",\"kiwi\",\"mango\",]\n",
    "newlist = [item if item == \"banana\" else \"orange\" for item in fruits]\n",
    "newlist"
   ]
  },
  {
   "cell_type": "code",
   "execution_count": null,
   "id": "8339c023",
   "metadata": {},
   "outputs": [],
   "source": []
  }
 ],
 "metadata": {
  "kernelspec": {
   "display_name": "Python 3 (ipykernel)",
   "language": "python",
   "name": "python3"
  },
  "language_info": {
   "codemirror_mode": {
    "name": "ipython",
    "version": 3
   },
   "file_extension": ".py",
   "mimetype": "text/x-python",
   "name": "python",
   "nbconvert_exporter": "python",
   "pygments_lexer": "ipython3",
   "version": "3.8.10"
  }
 },
 "nbformat": 4,
 "nbformat_minor": 5
}
