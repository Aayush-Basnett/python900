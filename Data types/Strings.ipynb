{
 "cells": [
  {
   "cell_type": "code",
   "execution_count": 1,
   "id": "7f55f64a",
   "metadata": {},
   "outputs": [
    {
     "data": {
      "text/plain": [
       "str"
      ]
     },
     "execution_count": 1,
     "metadata": {},
     "output_type": "execute_result"
    }
   ],
   "source": [
    "msg = \"hi\"\n",
    "type(msg)"
   ]
  },
  {
   "cell_type": "code",
   "execution_count": 4,
   "id": "78fe419d",
   "metadata": {},
   "outputs": [
    {
     "name": "stdout",
     "output_type": "stream",
     "text": [
      "<class 'str'>\n"
     ]
    }
   ],
   "source": [
    "print(type(msg)) #msg is an object of str class"
   ]
  },
  {
   "cell_type": "code",
   "execution_count": 2,
   "id": "5dc9f19b",
   "metadata": {},
   "outputs": [
    {
     "name": "stdout",
     "output_type": "stream",
     "text": [
      "Enter something: this is message\n"
     ]
    }
   ],
   "source": [
    "user_input = input(\"Enter something: \")"
   ]
  },
  {
   "cell_type": "code",
   "execution_count": 5,
   "id": "584f940d",
   "metadata": {},
   "outputs": [
    {
     "name": "stdout",
     "output_type": "stream",
     "text": [
      "i like chicken\n",
      "<class 'str'>\n"
     ]
    }
   ],
   "source": [
    "response = \"i like chicken\"\n",
    "print(response)\n",
    "print(type(response))"
   ]
  },
  {
   "cell_type": "code",
   "execution_count": 7,
   "id": "644c3cea",
   "metadata": {},
   "outputs": [
    {
     "ename": "SyntaxError",
     "evalue": "EOL while scanning string literal (3962046007.py, line 2)",
     "output_type": "error",
     "traceback": [
      "\u001b[0;36m  Cell \u001b[0;32mIn[7], line 2\u001b[0;36m\u001b[0m\n\u001b[0;31m    multi = \"I am Aayush\u001b[0m\n\u001b[0m                        ^\u001b[0m\n\u001b[0;31mSyntaxError\u001b[0m\u001b[0;31m:\u001b[0m EOL while scanning string literal\n"
     ]
    }
   ],
   "source": [
    "# you can't write multi line string in \"\" nor ''\n",
    "multi = \"I am Aayush\n",
    "I like chicken\""
   ]
  },
  {
   "cell_type": "markdown",
   "id": "51b445f4",
   "metadata": {},
   "source": [
    "### EOL means end of line"
   ]
  },
  {
   "cell_type": "markdown",
   "id": "c6320326",
   "metadata": {},
   "source": [
    "<h1> use  and triple quotes to write multi-line quotes<h1/>\n",
    "    i.e\n",
    "    \"\"\"string\"\"\" <br/>\n",
    "    or, ''' string '''"
   ]
  },
  {
   "cell_type": "code",
   "execution_count": 10,
   "id": "06be7c6b",
   "metadata": {},
   "outputs": [
    {
     "name": "stdout",
     "output_type": "stream",
     "text": [
      "hi,\n",
      "I am Aayush\n",
      "I like football\n",
      "\n"
     ]
    }
   ],
   "source": [
    "response = \"\"\"hi,\n",
    "I am Aayush\n",
    "I like football\n",
    "\"\"\"\n",
    "print(response)"
   ]
  },
  {
   "cell_type": "code",
   "execution_count": 12,
   "id": "95ca1495",
   "metadata": {},
   "outputs": [
    {
     "data": {
      "text/plain": [
       "'hi,\\nI am Aayush\\nI like football\\n'"
      ]
     },
     "execution_count": 12,
     "metadata": {},
     "output_type": "execute_result"
    }
   ],
   "source": [
    "response #\\n means new line"
   ]
  },
  {
   "cell_type": "markdown",
   "id": "b9694462",
   "metadata": {},
   "source": [
    "### this is also same with single quote"
   ]
  },
  {
   "cell_type": "code",
   "execution_count": 13,
   "id": "efe262b3",
   "metadata": {},
   "outputs": [],
   "source": [
    "response = '''\n",
    "hi,\n",
    "I am aayush\n",
    "i am hungry\n",
    "'''"
   ]
  },
  {
   "cell_type": "code",
   "execution_count": 14,
   "id": "394c6076",
   "metadata": {},
   "outputs": [
    {
     "data": {
      "text/plain": [
       "'\\nhi,\\nI am aayush\\ni am hungry\\n'"
      ]
     },
     "execution_count": 14,
     "metadata": {},
     "output_type": "execute_result"
    }
   ],
   "source": [
    "response"
   ]
  },
  {
   "cell_type": "code",
   "execution_count": 15,
   "id": "1a06b3fd",
   "metadata": {},
   "outputs": [
    {
     "name": "stdout",
     "output_type": "stream",
     "text": [
      "\n",
      "hi,\n",
      "I am aayush\n",
      "i am hungry\n",
      "\n"
     ]
    }
   ],
   "source": [
    "print(response)"
   ]
  },
  {
   "cell_type": "code",
   "execution_count": 17,
   "id": "4dc21a91",
   "metadata": {},
   "outputs": [
    {
     "data": {
      "text/plain": [
       "True"
      ]
     },
     "execution_count": 17,
     "metadata": {},
     "output_type": "execute_result"
    }
   ],
   "source": [
    "msg1, msg2 = \"hello\", \"hello\"\n",
    "\n",
    "msg1 == msg2"
   ]
  },
  {
   "cell_type": "markdown",
   "id": "147a5aaa",
   "metadata": {},
   "source": [
    "# assert\n",
    "this is used in data validaiton. it only gives response if expression is false\n"
   ]
  },
  {
   "cell_type": "code",
   "execution_count": 19,
   "id": "194f17f9",
   "metadata": {},
   "outputs": [],
   "source": [
    "msg1, msg2 = \"hello\", \"hello\"\n",
    "\n",
    "assert msg1 == msg2"
   ]
  },
  {
   "cell_type": "markdown",
   "id": "79f73033",
   "metadata": {},
   "source": [
    "since this is true, there is no response"
   ]
  },
  {
   "cell_type": "code",
   "execution_count": 20,
   "id": "0f3303b8",
   "metadata": {},
   "outputs": [
    {
     "ename": "AssertionError",
     "evalue": "",
     "output_type": "error",
     "traceback": [
      "\u001b[0;31m---------------------------------------------------------------------------\u001b[0m",
      "\u001b[0;31mAssertionError\u001b[0m                            Traceback (most recent call last)",
      "Cell \u001b[0;32mIn[20], line 3\u001b[0m\n\u001b[1;32m      1\u001b[0m msg1, msg2 \u001b[38;5;241m=\u001b[39m \u001b[38;5;124m\"\u001b[39m\u001b[38;5;124mhello\u001b[39m\u001b[38;5;124m\"\u001b[39m, \u001b[38;5;124m\"\u001b[39m\u001b[38;5;124mhi\u001b[39m\u001b[38;5;124m\"\u001b[39m\n\u001b[0;32m----> 3\u001b[0m \u001b[38;5;28;01massert\u001b[39;00m msg1 \u001b[38;5;241m==\u001b[39m msg2\n",
      "\u001b[0;31mAssertionError\u001b[0m: "
     ]
    }
   ],
   "source": [
    "msg1, msg2 = \"hello\", \"hi\"\n",
    "\n",
    "assert msg1 == msg2"
   ]
  },
  {
   "cell_type": "markdown",
   "id": "c5e0dd07",
   "metadata": {},
   "source": [
    "since this is false it gives error as a response, this is used for debugging"
   ]
  },
  {
   "cell_type": "markdown",
   "id": "d5e5efe7",
   "metadata": {},
   "source": [
    "indexing and slicing"
   ]
  },
  {
   "cell_type": "markdown",
   "id": "61139227",
   "metadata": {},
   "source": [
    "# string ra string lai add ra multiply matra milcha"
   ]
  },
  {
   "cell_type": "code",
   "execution_count": 21,
   "id": "eb1ffeb7",
   "metadata": {},
   "outputs": [
    {
     "data": {
      "text/plain": [
       "'radheRadhe'"
      ]
     },
     "execution_count": 21,
     "metadata": {},
     "output_type": "execute_result"
    }
   ],
   "source": [
    "\"radhe\" + \"Radhe\""
   ]
  },
  {
   "cell_type": "code",
   "execution_count": 23,
   "id": "db8b2d79",
   "metadata": {},
   "outputs": [
    {
     "data": {
      "text/plain": [
       "'Radhe Radhe Radhe '"
      ]
     },
     "execution_count": 23,
     "metadata": {},
     "output_type": "execute_result"
    }
   ],
   "source": [
    "\"Radhe \" * 3"
   ]
  },
  {
   "cell_type": "markdown",
   "id": "9a2374f2",
   "metadata": {},
   "source": [
    "# Python Strings are immutable"
   ]
  },
  {
   "cell_type": "code",
   "execution_count": 25,
   "id": "dcf2f910",
   "metadata": {},
   "outputs": [
    {
     "data": {
      "text/plain": [
       "'A'"
      ]
     },
     "execution_count": 25,
     "metadata": {},
     "output_type": "execute_result"
    }
   ],
   "source": [
    "name = \"Aayush\"\n",
    "name[0]"
   ]
  },
  {
   "cell_type": "code",
   "execution_count": 26,
   "id": "0081bec9",
   "metadata": {},
   "outputs": [
    {
     "ename": "TypeError",
     "evalue": "'str' object does not support item assignment",
     "output_type": "error",
     "traceback": [
      "\u001b[0;31m---------------------------------------------------------------------------\u001b[0m",
      "\u001b[0;31mTypeError\u001b[0m                                 Traceback (most recent call last)",
      "Cell \u001b[0;32mIn[26], line 1\u001b[0m\n\u001b[0;32m----> 1\u001b[0m \u001b[43mname\u001b[49m\u001b[43m[\u001b[49m\u001b[38;5;241;43m0\u001b[39;49m\u001b[43m]\u001b[49m \u001b[38;5;241m=\u001b[39m \u001b[38;5;124m\"\u001b[39m\u001b[38;5;124mB\u001b[39m\u001b[38;5;124m\"\u001b[39m \u001b[38;5;66;03m#yo garna mildaina\u001b[39;00m\n",
      "\u001b[0;31mTypeError\u001b[0m: 'str' object does not support item assignment"
     ]
    }
   ],
   "source": [
    "name[0] = \"B\" #yo garna mildaina"
   ]
  },
  {
   "cell_type": "markdown",
   "id": "891883c0",
   "metadata": {},
   "source": [
    "# Slicing of strings\n",
    "this is how its done"
   ]
  },
  {
   "cell_type": "code",
   "execution_count": 27,
   "id": "5f68e4f5",
   "metadata": {},
   "outputs": [
    {
     "data": {
      "text/plain": [
       "'ello'"
      ]
     },
     "execution_count": 27,
     "metadata": {},
     "output_type": "execute_result"
    }
   ],
   "source": [
    "string = \"Hello world\"\n",
    "string[1:5]"
   ]
  },
  {
   "cell_type": "code",
   "execution_count": 28,
   "id": "957b26fe",
   "metadata": {},
   "outputs": [
    {
     "data": {
      "text/plain": [
       "'Hello'"
      ]
     },
     "execution_count": 28,
     "metadata": {},
     "output_type": "execute_result"
    }
   ],
   "source": [
    "string = \"Hello world\"\n",
    "string[:5]"
   ]
  },
  {
   "cell_type": "code",
   "execution_count": 29,
   "id": "ce242f89",
   "metadata": {},
   "outputs": [
    {
     "data": {
      "text/plain": [
       "'world'"
      ]
     },
     "execution_count": 29,
     "metadata": {},
     "output_type": "execute_result"
    }
   ],
   "source": [
    "string = \"Hello world\"\n",
    "string[6:]"
   ]
  },
  {
   "cell_type": "code",
   "execution_count": 30,
   "id": "a35ef0cd",
   "metadata": {},
   "outputs": [
    {
     "data": {
      "text/plain": [
       "'dlrow olleH'"
      ]
     },
     "execution_count": 30,
     "metadata": {},
     "output_type": "execute_result"
    }
   ],
   "source": [
    "string = \"Hello world\"\n",
    "string[::-1]"
   ]
  },
  {
   "cell_type": "code",
   "execution_count": 32,
   "id": "d4e8cf84",
   "metadata": {},
   "outputs": [
    {
     "data": {
      "text/plain": [
       "'drwolH'"
      ]
     },
     "execution_count": 32,
     "metadata": {},
     "output_type": "execute_result"
    }
   ],
   "source": [
    "string = \"Hello world\"\n",
    "string[::-2]"
   ]
  },
  {
   "cell_type": "code",
   "execution_count": 36,
   "id": "d2a3ef1b",
   "metadata": {},
   "outputs": [
    {
     "data": {
      "text/plain": [
       "'Hello world'"
      ]
     },
     "execution_count": 36,
     "metadata": {},
     "output_type": "execute_result"
    }
   ],
   "source": [
    "string = \"Hello world\"\n",
    "\n",
    "string[::1]\n"
   ]
  },
  {
   "cell_type": "code",
   "execution_count": null,
   "id": "2226c921",
   "metadata": {},
   "outputs": [],
   "source": []
  }
 ],
 "metadata": {
  "kernelspec": {
   "display_name": "Python 3 (ipykernel)",
   "language": "python",
   "name": "python3"
  },
  "language_info": {
   "codemirror_mode": {
    "name": "ipython",
    "version": 3
   },
   "file_extension": ".py",
   "mimetype": "text/x-python",
   "name": "python",
   "nbconvert_exporter": "python",
   "pygments_lexer": "ipython3",
   "version": "3.8.10"
  }
 },
 "nbformat": 4,
 "nbformat_minor": 5
}
