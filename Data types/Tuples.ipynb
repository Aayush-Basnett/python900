{
 "cells": [
  {
   "cell_type": "markdown",
   "id": "6e2613e1",
   "metadata": {},
   "source": [
    "# Tuples:\n",
    "* these are colleciton of items under one vacriable name\n",
    "* it is immutable\n",
    "* this supports multiple data type\n",
    "* this allows duplicate value\n",
    "* they are indexed and ordered\n",
    "* these are one of the built-in data type of python(Built-in DataType: List, tuple, set, dictonary)\n"
   ]
  },
  {
   "cell_type": "code",
   "execution_count": 4,
   "id": "3bfdd39e",
   "metadata": {},
   "outputs": [],
   "source": [
    "cars = (\"bmw\", \"mercedes\", \"tesla\", \"lambo\", \"Bentley\")\n"
   ]
  },
  {
   "cell_type": "code",
   "execution_count": 2,
   "id": "a50ed093",
   "metadata": {
    "scrolled": true
   },
   "outputs": [
    {
     "data": {
      "text/plain": [
       "tuple"
      ]
     },
     "execution_count": 2,
     "metadata": {},
     "output_type": "execute_result"
    }
   ],
   "source": [
    "type(cars)"
   ]
  },
  {
   "cell_type": "markdown",
   "id": "2cb8d2e0",
   "metadata": {},
   "source": [
    "# indexing\n"
   ]
  },
  {
   "cell_type": "code",
   "execution_count": 5,
   "id": "f34fc23d",
   "metadata": {},
   "outputs": [
    {
     "data": {
      "text/plain": [
       "'lambo'"
      ]
     },
     "execution_count": 5,
     "metadata": {},
     "output_type": "execute_result"
    }
   ],
   "source": [
    "cars[3]"
   ]
  },
  {
   "cell_type": "code",
   "execution_count": 6,
   "id": "00388588",
   "metadata": {},
   "outputs": [
    {
     "data": {
      "text/plain": [
       "'lambo'"
      ]
     },
     "execution_count": 6,
     "metadata": {},
     "output_type": "execute_result"
    }
   ],
   "source": [
    "cars[-2]"
   ]
  },
  {
   "cell_type": "code",
   "execution_count": 7,
   "id": "4f009bd3",
   "metadata": {},
   "outputs": [
    {
     "data": {
      "text/plain": [
       "'Bentley'"
      ]
     },
     "execution_count": 7,
     "metadata": {},
     "output_type": "execute_result"
    }
   ],
   "source": [
    "cars[-1]"
   ]
  },
  {
   "cell_type": "markdown",
   "id": "bda8a22f",
   "metadata": {},
   "source": [
    "# Slicing\n"
   ]
  },
  {
   "cell_type": "code",
   "execution_count": 9,
   "id": "2f7bd073",
   "metadata": {},
   "outputs": [],
   "source": [
    "cars = (\"bmw\", \"mercedes\", \"tesla\", \"lambo\", \"Bentley\")\n"
   ]
  },
  {
   "cell_type": "code",
   "execution_count": 8,
   "id": "5b866c89",
   "metadata": {},
   "outputs": [
    {
     "data": {
      "text/plain": [
       "('bmw', 'mercedes', 'tesla')"
      ]
     },
     "execution_count": 8,
     "metadata": {},
     "output_type": "execute_result"
    }
   ],
   "source": [
    "cars[:3]"
   ]
  },
  {
   "cell_type": "code",
   "execution_count": 10,
   "id": "27663aba",
   "metadata": {},
   "outputs": [
    {
     "data": {
      "text/plain": [
       "('bmw', 'mercedes')"
      ]
     },
     "execution_count": 10,
     "metadata": {},
     "output_type": "execute_result"
    }
   ],
   "source": [
    "cars[0:2]"
   ]
  },
  {
   "cell_type": "code",
   "execution_count": 12,
   "id": "53f4bdef",
   "metadata": {},
   "outputs": [
    {
     "data": {
      "text/plain": [
       "('tesla', 'lambo', 'Bentley')"
      ]
     },
     "execution_count": 12,
     "metadata": {},
     "output_type": "execute_result"
    }
   ],
   "source": [
    "cars[-3:]"
   ]
  },
  {
   "cell_type": "code",
   "execution_count": 13,
   "id": "c4789f69",
   "metadata": {},
   "outputs": [
    {
     "data": {
      "text/plain": [
       "['BMW', 'MERCEDES', 'TESLA', 'LAMBO', 'BENTLEY']"
      ]
     },
     "execution_count": 13,
     "metadata": {},
     "output_type": "execute_result"
    }
   ],
   "source": [
    "cars = (\"bmw\", \"mercedes\", \"tesla\", \"lambo\", \"Bentley\")\n",
    "[item.upper() for item in cars ]"
   ]
  },
  {
   "cell_type": "code",
   "execution_count": 15,
   "id": "262aca97",
   "metadata": {},
   "outputs": [
    {
     "name": "stdout",
     "output_type": "stream",
     "text": [
      "BMW\n",
      "MERCEDES\n",
      "TESLA\n",
      "LAMBO\n",
      "BENTLEY\n"
     ]
    }
   ],
   "source": [
    "cars = (\"bmw\", \"mercedes\", \"tesla\", \"lambo\", \"Bentley\")\n",
    "for index in range(len(cars)):\n",
    "    item = cars[index]\n",
    "    print(item.upper())"
   ]
  },
  {
   "cell_type": "code",
   "execution_count": 16,
   "id": "1d7fe663",
   "metadata": {},
   "outputs": [
    {
     "data": {
      "text/plain": [
       "'mercedes'"
      ]
     },
     "execution_count": 16,
     "metadata": {},
     "output_type": "execute_result"
    }
   ],
   "source": [
    "cars[1]"
   ]
  },
  {
   "cell_type": "code",
   "execution_count": 17,
   "id": "6c1faa40",
   "metadata": {},
   "outputs": [
    {
     "ename": "TypeError",
     "evalue": "'tuple' object does not support item assignment",
     "output_type": "error",
     "traceback": [
      "\u001b[0;31m---------------------------------------------------------------------------\u001b[0m",
      "\u001b[0;31mTypeError\u001b[0m                                 Traceback (most recent call last)",
      "Cell \u001b[0;32mIn[17], line 1\u001b[0m\n\u001b[0;32m----> 1\u001b[0m \u001b[43mcars\u001b[49m\u001b[43m[\u001b[49m\u001b[38;5;241;43m1\u001b[39;49m\u001b[43m]\u001b[49m \u001b[38;5;241m=\u001b[39m \u001b[38;5;124m\"\u001b[39m\u001b[38;5;124mtata\u001b[39m\u001b[38;5;124m\"\u001b[39m \u001b[38;5;66;03m#yo list ma garna milcha tara tuple ma mildaina\u001b[39;00m\n",
      "\u001b[0;31mTypeError\u001b[0m: 'tuple' object does not support item assignment"
     ]
    }
   ],
   "source": [
    "cars[1] = \"tata\" #yo list ma garna milcha tara tuple ma mildaina\n"
   ]
  },
  {
   "cell_type": "markdown",
   "id": "870aa8cb",
   "metadata": {},
   "source": [
    "TUPLE IS IMMUTABLE"
   ]
  },
  {
   "cell_type": "code",
   "execution_count": 18,
   "id": "3aa5a400",
   "metadata": {},
   "outputs": [
    {
     "data": {
      "text/plain": [
       "('bmw', 'mercedes', 'tesla', 'lambo', 'Bentley')"
      ]
     },
     "execution_count": 18,
     "metadata": {},
     "output_type": "execute_result"
    }
   ],
   "source": [
    "cars\n"
   ]
  },
  {
   "cell_type": "code",
   "execution_count": 19,
   "id": "97b97ce8",
   "metadata": {},
   "outputs": [
    {
     "ename": "AttributeError",
     "evalue": "'tuple' object has no attribute 'append'",
     "output_type": "error",
     "traceback": [
      "\u001b[0;31m---------------------------------------------------------------------------\u001b[0m",
      "\u001b[0;31mAttributeError\u001b[0m                            Traceback (most recent call last)",
      "Cell \u001b[0;32mIn[19], line 1\u001b[0m\n\u001b[0;32m----> 1\u001b[0m \u001b[43mcars\u001b[49m\u001b[38;5;241;43m.\u001b[39;49m\u001b[43mappend\u001b[49m(\u001b[38;5;124m\"\u001b[39m\u001b[38;5;124mBuggati\u001b[39m\u001b[38;5;124m\"\u001b[39m)\n",
      "\u001b[0;31mAttributeError\u001b[0m: 'tuple' object has no attribute 'append'"
     ]
    }
   ],
   "source": [
    "cars.append(\"Buggati\")"
   ]
  },
  {
   "cell_type": "markdown",
   "id": "f44d52aa",
   "metadata": {},
   "source": [
    "## tara aba garnai parne vayo vane chai this is how we do it"
   ]
  },
  {
   "cell_type": "code",
   "execution_count": 20,
   "id": "f8770a80",
   "metadata": {},
   "outputs": [
    {
     "name": "stdout",
     "output_type": "stream",
     "text": [
      "('bmw', 'mercedes', 'tesla', 'lambo', 'Bentley', 'buggati')\n"
     ]
    }
   ],
   "source": [
    "cars = (\"bmw\", \"mercedes\", \"tesla\", \"lambo\", \"Bentley\")\n",
    "\n",
    "cars = list(cars) #this converts tuple to list as list is mutable\n",
    "cars.append(\"buggati\")\n",
    "cars = tuple(cars) #this again converts list to tuple\n",
    "print(cars)"
   ]
  },
  {
   "cell_type": "code",
   "execution_count": null,
   "id": "dc0185b3",
   "metadata": {},
   "outputs": [],
   "source": []
  }
 ],
 "metadata": {
  "kernelspec": {
   "display_name": "Python 3 (ipykernel)",
   "language": "python",
   "name": "python3"
  },
  "language_info": {
   "codemirror_mode": {
    "name": "ipython",
    "version": 3
   },
   "file_extension": ".py",
   "mimetype": "text/x-python",
   "name": "python",
   "nbconvert_exporter": "python",
   "pygments_lexer": "ipython3",
   "version": "3.8.10"
  }
 },
 "nbformat": 4,
 "nbformat_minor": 5
}
