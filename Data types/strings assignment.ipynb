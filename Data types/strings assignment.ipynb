{
 "cells": [
  {
   "cell_type": "markdown",
   "id": "2af8ac84",
   "metadata": {},
   "source": [
    "# Assignment- 1 \n",
    "Wap that asks for the user to enter a string and prints the string in reverse order"
   ]
  },
  {
   "cell_type": "code",
   "execution_count": null,
   "id": "ea5435d4",
   "metadata": {},
   "outputs": [],
   "source": [
    "string = input(\"Enter desired string: \")\n",
    "reverse_string = string[::-1]\n",
    "print(\"the reversed string is: \", reverse_string)"
   ]
  },
  {
   "cell_type": "markdown",
   "id": "a68ade82",
   "metadata": {},
   "source": [
    "# Assignment- 2\n",
    "Wap that asks the user to enter a string and prints the number of vowels in string\n"
   ]
  },
  {
   "cell_type": "code",
   "execution_count": null,
   "id": "ea8d6c3e",
   "metadata": {},
   "outputs": [],
   "source": [
    "string = input(\"Enter desired string: \")\n",
    "vowel = 0\n",
    "consonent = 0\n",
    "for number in string:\n",
    "    \n",
    "    if number == \"a\" or number == \"e\" or number == \"i\" or number == \"o\" or number == \"u\":\n",
    "        vowel += 1\n",
    "    elif number == \" \":\n",
    "        continue\n",
    "    else:\n",
    "        consonent +=1\n",
    "print(\"total vowel is \", vowel)\n",
    "print(\"total vowel is \", consonent)\n",
    "\n",
    "        \n"
   ]
  },
  {
   "cell_type": "markdown",
   "id": "cdd1def0",
   "metadata": {},
   "source": [
    "# Assignment- 3 \n",
    "Wap that asks the user to enter a sentence and prints the sentence with each word capatalized.\n"
   ]
  },
  {
   "cell_type": "code",
   "execution_count": null,
   "id": "ca3477e8",
   "metadata": {},
   "outputs": [],
   "source": [
    "string = input(\"Enter desired string: \")\n",
    "string = string.upper()\n",
    "string"
   ]
  },
  {
   "cell_type": "markdown",
   "id": "bf81fffe",
   "metadata": {},
   "source": [
    "# Assignment- 4\n",
    "WAP that asks the user to enter a string and prints the string with all the vowels replaced by the character \"o\"\n",
    " "
   ]
  },
  {
   "cell_type": "code",
   "execution_count": null,
   "id": "4f650f4e",
   "metadata": {},
   "outputs": [],
   "source": [
    "string = input(\"Enter desired string: \")\n",
    "o_string = string.replace(\"a\", \"o\")\n",
    "o_string = o_string.replace(\"e\", \"o\")\n",
    "o_string = o_string.replace(\"i\", \"o\")\n",
    "o_string = o_string.replace(\"u\", \"o\")\n",
    "print(\"new string is: \", o_string)\n",
    "\n",
    "    "
   ]
  },
  {
   "cell_type": "markdown",
   "id": "02a14061",
   "metadata": {},
   "source": [
    "### more efficient solution"
   ]
  },
  {
   "cell_type": "code",
   "execution_count": null,
   "id": "d7626e5c",
   "metadata": {},
   "outputs": [],
   "source": [
    "string = input(\"Enter desired string: \")\n",
    "o_string = string.replace(\"a\", \"o\").replace(\"e\", \"o\").replace(\"i\", \"o\").replace(\"u\", \"o\")\n",
    "print(\"new string is: \", o_string)\n"
   ]
  },
  {
   "cell_type": "markdown",
   "id": "980f0ee3",
   "metadata": {},
   "source": [
    "# Assignment- 5\n",
    "WAP that asks user two strings and prints two strings concatenated together with a space between them.\n",
    "\n"
   ]
  },
  {
   "cell_type": "code",
   "execution_count": null,
   "id": "04cc43fc",
   "metadata": {},
   "outputs": [],
   "source": [
    "List = []\n",
    "for item in range(2):\n",
    "    string = input(\"Enter desired string: \")\n",
    "    List.append(string)\n",
    "print(List)\n",
    "final = \" \".join(List)\n",
    "print(\"after two strings concatenated together, result is: \", final)\n",
    "\n",
    "    \n",
    "    "
   ]
  },
  {
   "cell_type": "markdown",
   "id": "d44d24a4",
   "metadata": {},
   "source": [
    "# Assignment- 6\n",
    "WAP that asks the user to enter a string and prints the string with the first and last characters removed."
   ]
  },
  {
   "cell_type": "code",
   "execution_count": 4,
   "id": "434f7b4e",
   "metadata": {},
   "outputs": [
    {
     "name": "stdout",
     "output_type": "stream",
     "text": [
      "Enter desired string: ronaldo\n"
     ]
    },
    {
     "data": {
      "text/plain": [
       "'onald'"
      ]
     },
     "execution_count": 4,
     "metadata": {},
     "output_type": "execute_result"
    }
   ],
   "source": [
    "string = input(\"Enter desired string: \")\n",
    "string[1:len(string)-1]\n"
   ]
  },
  {
   "cell_type": "markdown",
   "id": "b2e2f71d",
   "metadata": {},
   "source": [
    "# Assignment- 7\n",
    "Wap that asks the user to enter a string and and prints the string with all the spaces removed."
   ]
  },
  {
   "cell_type": "code",
   "execution_count": 5,
   "id": "0a91aab2",
   "metadata": {},
   "outputs": [
    {
     "name": "stdout",
     "output_type": "stream",
     "text": [
      "Enter desired string: i am hungery bro\n"
     ]
    },
    {
     "data": {
      "text/plain": [
       "'iamhungerybro'"
      ]
     },
     "execution_count": 5,
     "metadata": {},
     "output_type": "execute_result"
    }
   ],
   "source": [
    "string = input(\"Enter desired string: \")\n",
    "string.replace(\" \", \"\")"
   ]
  },
  {
   "cell_type": "markdown",
   "id": "6ef19169",
   "metadata": {},
   "source": [
    "# Assignment- 8\n"
   ]
  }
 ],
 "metadata": {
  "kernelspec": {
   "display_name": "Python 3 (ipykernel)",
   "language": "python",
   "name": "python3"
  },
  "language_info": {
   "codemirror_mode": {
    "name": "ipython",
    "version": 3
   },
   "file_extension": ".py",
   "mimetype": "text/x-python",
   "name": "python",
   "nbconvert_exporter": "python",
   "pygments_lexer": "ipython3",
   "version": "3.8.10"
  }
 },
 "nbformat": 4,
 "nbformat_minor": 5
}
