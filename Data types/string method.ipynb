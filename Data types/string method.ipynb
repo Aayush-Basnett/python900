{
 "cells": [
  {
   "cell_type": "markdown",
   "id": "7b8ab7c8",
   "metadata": {},
   "source": [
    "# Python Strings are immutable"
   ]
  },
  {
   "cell_type": "code",
   "execution_count": 1,
   "id": "0edb7eb7",
   "metadata": {},
   "outputs": [
    {
     "data": {
      "text/plain": [
       "'A'"
      ]
     },
     "execution_count": 1,
     "metadata": {},
     "output_type": "execute_result"
    }
   ],
   "source": [
    "name = \"Aayush\"\n",
    "name[0]"
   ]
  },
  {
   "cell_type": "code",
   "execution_count": 2,
   "id": "2216db6d",
   "metadata": {},
   "outputs": [
    {
     "ename": "TypeError",
     "evalue": "'str' object does not support item assignment",
     "output_type": "error",
     "traceback": [
      "\u001b[0;31m---------------------------------------------------------------------------\u001b[0m",
      "\u001b[0;31mTypeError\u001b[0m                                 Traceback (most recent call last)",
      "Cell \u001b[0;32mIn[2], line 1\u001b[0m\n\u001b[0;32m----> 1\u001b[0m \u001b[43mname\u001b[49m\u001b[43m[\u001b[49m\u001b[38;5;241;43m0\u001b[39;49m\u001b[43m]\u001b[49m \u001b[38;5;241m=\u001b[39m \u001b[38;5;124m\"\u001b[39m\u001b[38;5;124mB\u001b[39m\u001b[38;5;124m\"\u001b[39m \u001b[38;5;66;03m#yo garna mildaina\u001b[39;00m\n",
      "\u001b[0;31mTypeError\u001b[0m: 'str' object does not support item assignment"
     ]
    }
   ],
   "source": [
    "name[0] = \"B\" #yo garna mildaina"
   ]
  },
  {
   "cell_type": "markdown",
   "id": "d09d4eb1",
   "metadata": {},
   "source": [
    "# yo replace ta garnai paryo so this is how we doit"
   ]
  },
  {
   "cell_type": "code",
   "execution_count": 13,
   "id": "f80bb2c5",
   "metadata": {},
   "outputs": [
    {
     "data": {
      "text/plain": [
       "'Bayush'"
      ]
     },
     "execution_count": 13,
     "metadata": {},
     "output_type": "execute_result"
    }
   ],
   "source": [
    "name = \"Aayush\"\n",
    "name.replace(\"A\", \"B\")"
   ]
  },
  {
   "cell_type": "code",
   "execution_count": 12,
   "id": "75f3380a",
   "metadata": {},
   "outputs": [
    {
     "data": {
      "text/plain": [
       "'Bayush'"
      ]
     },
     "execution_count": 12,
     "metadata": {},
     "output_type": "execute_result"
    }
   ],
   "source": [
    "name # still the value of name is not replaced, replace happens in different memory locaiton"
   ]
  },
  {
   "cell_type": "markdown",
   "id": "2bf0ffed",
   "metadata": {},
   "source": [
    "# to completely overwrite the original value of string variable we do this"
   ]
  },
  {
   "cell_type": "code",
   "execution_count": 14,
   "id": "d07bc4bb",
   "metadata": {},
   "outputs": [
    {
     "data": {
      "text/plain": [
       "'AaBush'"
      ]
     },
     "execution_count": 14,
     "metadata": {},
     "output_type": "execute_result"
    }
   ],
   "source": [
    "name = \"Aayush\"\n",
    "name = name.replace(\"y\" ,\"B\")\n",
    "name"
   ]
  },
  {
   "cell_type": "markdown",
   "id": "20682fcc",
   "metadata": {},
   "source": [
    "### but this also has a drawback, it replaces all the characters"
   ]
  },
  {
   "cell_type": "code",
   "execution_count": 15,
   "id": "f7707fa9",
   "metadata": {},
   "outputs": [
    {
     "data": {
      "text/plain": [
       "'dldphant'"
      ]
     },
     "execution_count": 15,
     "metadata": {},
     "output_type": "execute_result"
    }
   ],
   "source": [
    "name = \"elephant\"\n",
    "name = name.replace(\"e\" ,\"d\")\n",
    "name"
   ]
  },
  {
   "cell_type": "markdown",
   "id": "9b6d06da",
   "metadata": {},
   "source": [
    "# learn about regex and regular expression"
   ]
  },
  {
   "cell_type": "code",
   "execution_count": 16,
   "id": "388a49b7",
   "metadata": {},
   "outputs": [
    {
     "data": {
      "text/plain": [
       "'Hi there'"
      ]
     },
     "execution_count": 16,
     "metadata": {},
     "output_type": "execute_result"
    }
   ],
   "source": [
    "msg = \"Hello there\"\n",
    "msg = msg.replace(\"Hello\", \"Hi\")\n",
    "msg"
   ]
  },
  {
   "cell_type": "code",
   "execution_count": 18,
   "id": "2f5b5804",
   "metadata": {},
   "outputs": [
    {
     "data": {
      "text/plain": [
       "'UPPER'"
      ]
     },
     "execution_count": 18,
     "metadata": {},
     "output_type": "execute_result"
    }
   ],
   "source": [
    "upper = \"upper\"\n",
    "upper = upper.upper()\n",
    "upper"
   ]
  },
  {
   "cell_type": "code",
   "execution_count": 19,
   "id": "3c093bf2",
   "metadata": {},
   "outputs": [
    {
     "data": {
      "text/plain": [
       "'lower'"
      ]
     },
     "execution_count": 19,
     "metadata": {},
     "output_type": "execute_result"
    }
   ],
   "source": [
    "lower = \"LOWER\"\n",
    "lower = lower.lower()\n",
    "lower"
   ]
  },
  {
   "cell_type": "markdown",
   "id": "3a23e0fb",
   "metadata": {},
   "source": [
    "# lstrip, rstip, strip"
   ]
  },
  {
   "cell_type": "code",
   "execution_count": 25,
   "id": "e0bf5d4c",
   "metadata": {},
   "outputs": [
    {
     "data": {
      "text/plain": [
       "'     hello everyone, how are you   '"
      ]
     },
     "execution_count": 25,
     "metadata": {},
     "output_type": "execute_result"
    }
   ],
   "source": [
    "msg = \"     hello everyone, how are you   \"\n",
    "msg"
   ]
  },
  {
   "cell_type": "code",
   "execution_count": 26,
   "id": "42e8ce30",
   "metadata": {},
   "outputs": [
    {
     "data": {
      "text/plain": [
       "'hello everyone, how are you   '"
      ]
     },
     "execution_count": 26,
     "metadata": {},
     "output_type": "execute_result"
    }
   ],
   "source": [
    "msg.lstrip() #lstrip gets rid of left space\n"
   ]
  },
  {
   "cell_type": "code",
   "execution_count": 27,
   "id": "2b7b3021",
   "metadata": {},
   "outputs": [
    {
     "data": {
      "text/plain": [
       "'     hello everyone, how are you'"
      ]
     },
     "execution_count": 27,
     "metadata": {},
     "output_type": "execute_result"
    }
   ],
   "source": [
    "msg = \"     hello everyone, how are you    \"\n",
    "msg.rstrip() #lstrip gets rid of right space"
   ]
  },
  {
   "cell_type": "code",
   "execution_count": 29,
   "id": "ab81d242",
   "metadata": {},
   "outputs": [
    {
     "data": {
      "text/plain": [
       "'hello everyone, how are you'"
      ]
     },
     "execution_count": 29,
     "metadata": {},
     "output_type": "execute_result"
    }
   ],
   "source": [
    "msg = \"     hello everyone, how are you    \"\n",
    "msg.strip() #strip gets rid of all the spaces, both left and right but not center"
   ]
  },
  {
   "cell_type": "markdown",
   "id": "65912569",
   "metadata": {},
   "source": [
    "# .split()"
   ]
  },
  {
   "cell_type": "code",
   "execution_count": 30,
   "id": "21291d91",
   "metadata": {},
   "outputs": [
    {
     "data": {
      "text/plain": [
       "'I was born in Nepal.'"
      ]
     },
     "execution_count": 30,
     "metadata": {},
     "output_type": "execute_result"
    }
   ],
   "source": [
    "response = \"I was born in Nepal.\"\n",
    "response"
   ]
  },
  {
   "cell_type": "code",
   "execution_count": 32,
   "id": "520c938d",
   "metadata": {},
   "outputs": [
    {
     "data": {
      "text/plain": [
       "['I', 'was', 'born', 'in', 'Nepal.']"
      ]
     },
     "execution_count": 32,
     "metadata": {},
     "output_type": "execute_result"
    }
   ],
   "source": [
    "words = response.split(\" \")\n",
    "words"
   ]
  },
  {
   "cell_type": "code",
   "execution_count": 33,
   "id": "b6ef9eca",
   "metadata": {},
   "outputs": [
    {
     "data": {
      "text/plain": [
       "list"
      ]
     },
     "execution_count": 33,
     "metadata": {},
     "output_type": "execute_result"
    }
   ],
   "source": [
    "type(words)"
   ]
  },
  {
   "cell_type": "markdown",
   "id": "6a4d7ef8",
   "metadata": {},
   "source": [
    "### collection of data under one variable is \n",
    "# list"
   ]
  },
  {
   "cell_type": "code",
   "execution_count": 34,
   "id": "dfef1c66",
   "metadata": {},
   "outputs": [
    {
     "data": {
      "text/plain": [
       "5"
      ]
     },
     "execution_count": 34,
     "metadata": {},
     "output_type": "execute_result"
    }
   ],
   "source": [
    "len(words)"
   ]
  },
  {
   "cell_type": "code",
   "execution_count": 35,
   "id": "00302f80",
   "metadata": {},
   "outputs": [
    {
     "data": {
      "text/plain": [
       "'born'"
      ]
     },
     "execution_count": 35,
     "metadata": {},
     "output_type": "execute_result"
    }
   ],
   "source": [
    "words[2]"
   ]
  },
  {
   "cell_type": "markdown",
   "id": "173d603d",
   "metadata": {},
   "source": [
    "# .join()\n",
    "This can be used to convert list into a string"
   ]
  },
  {
   "cell_type": "code",
   "execution_count": 117,
   "id": "6c103e51",
   "metadata": {},
   "outputs": [
    {
     "data": {
      "text/plain": [
       "['Hello,', 'everybody.', 'How', 'are', 'you.', 'Fine,', 'Thank', 'you']"
      ]
     },
     "execution_count": 117,
     "metadata": {},
     "output_type": "execute_result"
    }
   ],
   "source": [
    "greet = [\"Hello,\",\"everybody.\",\"How\",\"are\",\"you.\",\"Fine,\",\"Thank\",\"you\"]\n",
    "greet"
   ]
  },
  {
   "cell_type": "code",
   "execution_count": 118,
   "id": "f467549f",
   "metadata": {},
   "outputs": [
    {
     "data": {
      "text/plain": [
       "'Hello, everybody. How are you. Fine, Thank you'"
      ]
     },
     "execution_count": 118,
     "metadata": {},
     "output_type": "execute_result"
    }
   ],
   "source": [
    "greet = [\"Hello,\",\"everybody.\",\"How\",\"are\",\"you.\",\"Fine,\",\"Thank\",\"you\"]\n",
    "sentence = \" \".join(greet)\n",
    "sentence"
   ]
  },
  {
   "cell_type": "markdown",
   "id": "13572c85",
   "metadata": {},
   "source": [
    "# Assignment-1 \n",
    "WAP to count vowel and consonents on the given string \n",
    "s = \"HELLO\""
   ]
  },
  {
   "cell_type": "code",
   "execution_count": 96,
   "id": "66b2166a",
   "metadata": {},
   "outputs": [
    {
     "name": "stdout",
     "output_type": "stream",
     "text": [
      "Enter the desired string this is nice code\n",
      "number of vowels is  6\n",
      "number of vowels is  8\n"
     ]
    }
   ],
   "source": [
    "s = input(\"Enter the desired string \")\n",
    "vowel = 0\n",
    "consonent = 0\n",
    "for letter in s:\n",
    "    if letter == \"a\" or letter == \"e\" or letter == \"i\" or letter == \"o\" or letter == \"u\":\n",
    "        vowel = vowel + 1\n",
    "    elif letter == \" \":\n",
    "        continue\n",
    "    else:\n",
    "        consonent = consonent + 1\n",
    "print(\"number of vowels is \", vowel)\n",
    "print(\"number of vowels is \", consonent)\n",
    "\n",
    "        \n",
    "    "
   ]
  },
  {
   "cell_type": "markdown",
   "id": "b5e51e20",
   "metadata": {},
   "source": [
    "# Assignment- 2\n",
    "using string manipulation technique extract fruits name from txt <br/>\n",
    "\n",
    "<strong> txt = \"I like Oranges Apple Banana and Kiwi.\"<strong/>\n",
    "\n",
    "result = [\"Oranges\", \"Apple\", \"Banana\", \"Kiwi\"]"
   ]
  },
  {
   "cell_type": "code",
   "execution_count": 76,
   "id": "1903b0fa",
   "metadata": {},
   "outputs": [
    {
     "data": {
      "text/plain": [
       "['I', 'like', 'Oranges', 'Apple', 'Banana', 'and', 'Kiwi.']"
      ]
     },
     "execution_count": 76,
     "metadata": {},
     "output_type": "execute_result"
    }
   ],
   "source": [
    "txt = \"I like Oranges Apple Banana and Kiwi.\"\n",
    "fruits = txt.split(\" \")\n",
    "fruits"
   ]
  },
  {
   "cell_type": "code",
   "execution_count": 82,
   "id": "e426dca0",
   "metadata": {},
   "outputs": [
    {
     "data": {
      "text/plain": [
       "['Oranges', 'Apple', 'Banana', 'and', 'Kiwi.']"
      ]
     },
     "execution_count": 82,
     "metadata": {},
     "output_type": "execute_result"
    }
   ],
   "source": [
    "txt = \"I like Oranges Apple Banana and Kiwi.\"\n",
    "fruits = txt.split(\" \")\n",
    "del fruits[0:2]\n",
    "fruits"
   ]
  },
  {
   "cell_type": "code",
   "execution_count": 104,
   "id": "72c96c9e",
   "metadata": {},
   "outputs": [
    {
     "data": {
      "text/plain": [
       "['oranges', 'apple', 'banana', 'kiwi.']"
      ]
     },
     "execution_count": 104,
     "metadata": {},
     "output_type": "execute_result"
    }
   ],
   "source": [
    "txt = \"I like Oranges Apple Banana and Kiwi.\"\n",
    "txt = txt.lower()\n",
    "fruits = txt.split(\" \")\n",
    "del fruits[0:2]\n",
    "fruits.pop(3)\n",
    "fruits"
   ]
  },
  {
   "cell_type": "markdown",
   "id": "29cab887",
   "metadata": {},
   "source": [
    "# teachers solution for assignment 1"
   ]
  },
  {
   "cell_type": "code",
   "execution_count": 101,
   "id": "86942438",
   "metadata": {},
   "outputs": [
    {
     "name": "stdout",
     "output_type": "stream",
     "text": [
      "number of vowel: 8\n",
      "number of consonant: 11\n"
     ]
    }
   ],
   "source": [
    "string = \"thIs Is my strIng eaaaa\"\n",
    "string = string.lower()\n",
    "vowel = 0\n",
    "consonant = 0\n",
    "for index in range(len(string)):\n",
    "    letter = string[index]\n",
    "    if letter == \"a\" or letter == \"e\" or letter == \"i\" or letter == \"o\" or letter == \"u\":\n",
    "        vowel = vowel + 1\n",
    "    elif letter == \" \":\n",
    "        continue\n",
    "    else:\n",
    "        consonant = consonant + 1\n",
    "print(f\"number of vowel:\", vowel)\n",
    "print(f\"number of consonant:\", consonant)"
   ]
  },
  {
   "cell_type": "markdown",
   "id": "c38ffa13",
   "metadata": {},
   "source": [
    "# teachers soln for assignment-2"
   ]
  },
  {
   "cell_type": "code",
   "execution_count": 114,
   "id": "1b2f6238",
   "metadata": {},
   "outputs": [
    {
     "data": {
      "text/plain": [
       "['apple', 'oranges', 'banana', 'kiwi']"
      ]
     },
     "execution_count": 114,
     "metadata": {},
     "output_type": "execute_result"
    }
   ],
   "source": [
    "txt = \"I like apple oranges banana and kiwi\"\n",
    "txt= txt.lower()\n",
    "txt = txt.replace(\"i like \", \"\")\n",
    "txt = txt.replace(\" and\",\"\")\n",
    "txt.split(\" \")\n"
   ]
  },
  {
   "cell_type": "code",
   "execution_count": null,
   "id": "6a75e225",
   "metadata": {},
   "outputs": [],
   "source": []
  }
 ],
 "metadata": {
  "kernelspec": {
   "display_name": "Python 3 (ipykernel)",
   "language": "python",
   "name": "python3"
  },
  "language_info": {
   "codemirror_mode": {
    "name": "ipython",
    "version": 3
   },
   "file_extension": ".py",
   "mimetype": "text/x-python",
   "name": "python",
   "nbconvert_exporter": "python",
   "pygments_lexer": "ipython3",
   "version": "3.8.10"
  }
 },
 "nbformat": 4,
 "nbformat_minor": 5
}
