{
 "cells": [
  {
   "cell_type": "code",
   "execution_count": 7,
   "id": "30ae58c5",
   "metadata": {},
   "outputs": [],
   "source": [
    "x = None #none means null or missing but NOT ZERO"
   ]
  },
  {
   "cell_type": "code",
   "execution_count": 8,
   "id": "ced908c8",
   "metadata": {},
   "outputs": [
    {
     "data": {
      "text/plain": [
       "False"
      ]
     },
     "execution_count": 8,
     "metadata": {},
     "output_type": "execute_result"
    }
   ],
   "source": [
    "x == 0 #check"
   ]
  },
  {
   "cell_type": "code",
   "execution_count": 9,
   "id": "935207de",
   "metadata": {},
   "outputs": [
    {
     "data": {
      "text/plain": [
       "False"
      ]
     },
     "execution_count": 9,
     "metadata": {},
     "output_type": "execute_result"
    }
   ],
   "source": [
    "x == False\n"
   ]
  },
  {
   "cell_type": "code",
   "execution_count": 10,
   "id": "e580aaa2",
   "metadata": {},
   "outputs": [
    {
     "data": {
      "text/plain": [
       "False"
      ]
     },
     "execution_count": 10,
     "metadata": {},
     "output_type": "execute_result"
    }
   ],
   "source": [
    "x == \"\""
   ]
  },
  {
   "cell_type": "code",
   "execution_count": 11,
   "id": "a1fcc0a0",
   "metadata": {},
   "outputs": [
    {
     "data": {
      "text/plain": [
       "NoneType"
      ]
     },
     "execution_count": 11,
     "metadata": {},
     "output_type": "execute_result"
    }
   ],
   "source": [
    "type(x)"
   ]
  },
  {
   "cell_type": "markdown",
   "id": "22f6951d",
   "metadata": {},
   "source": [
    "# Identity operator\n",
    "this is how to check in None type\n"
   ]
  },
  {
   "cell_type": "code",
   "execution_count": 12,
   "id": "3ba58adf",
   "metadata": {},
   "outputs": [],
   "source": [
    "x = None"
   ]
  },
  {
   "cell_type": "code",
   "execution_count": 13,
   "id": "3872d097",
   "metadata": {},
   "outputs": [
    {
     "data": {
      "text/plain": [
       "True"
      ]
     },
     "execution_count": 13,
     "metadata": {},
     "output_type": "execute_result"
    }
   ],
   "source": [
    "x is None\n"
   ]
  },
  {
   "cell_type": "code",
   "execution_count": 15,
   "id": "477cc11d",
   "metadata": {},
   "outputs": [
    {
     "data": {
      "text/plain": [
       "False"
      ]
     },
     "execution_count": 15,
     "metadata": {},
     "output_type": "execute_result"
    }
   ],
   "source": [
    "x is not None"
   ]
  },
  {
   "cell_type": "markdown",
   "id": "dec4946e",
   "metadata": {},
   "source": [
    "### THIS IS NOT A GOOD PRACTICE"
   ]
  },
  {
   "cell_type": "code",
   "execution_count": 16,
   "id": "b5437956",
   "metadata": {},
   "outputs": [],
   "source": [
    "x = None"
   ]
  },
  {
   "cell_type": "code",
   "execution_count": 18,
   "id": "01aed27b",
   "metadata": {},
   "outputs": [
    {
     "data": {
      "text/plain": [
       "True"
      ]
     },
     "execution_count": 18,
     "metadata": {},
     "output_type": "execute_result"
    }
   ],
   "source": [
    "x == None #this is not a good practice"
   ]
  },
  {
   "cell_type": "code",
   "execution_count": 19,
   "id": "3fe3ee4c",
   "metadata": {},
   "outputs": [
    {
     "name": "stdout",
     "output_type": "stream",
     "text": [
      "x is none\n"
     ]
    }
   ],
   "source": [
    "x == None\n",
    "if x == None:\n",
    "    print(\"x is none\")"
   ]
  },
  {
   "cell_type": "code",
   "execution_count": 20,
   "id": "466b9eb7",
   "metadata": {},
   "outputs": [
    {
     "name": "stdout",
     "output_type": "stream",
     "text": [
      "x is none\n"
     ]
    }
   ],
   "source": [
    "x == None\n",
    "if x is None:\n",
    "    print(\"x is none\")"
   ]
  },
  {
   "cell_type": "code",
   "execution_count": null,
   "id": "84d7933d",
   "metadata": {},
   "outputs": [],
   "source": []
  }
 ],
 "metadata": {
  "kernelspec": {
   "display_name": "Python 3 (ipykernel)",
   "language": "python",
   "name": "python3"
  },
  "language_info": {
   "codemirror_mode": {
    "name": "ipython",
    "version": 3
   },
   "file_extension": ".py",
   "mimetype": "text/x-python",
   "name": "python",
   "nbconvert_exporter": "python",
   "pygments_lexer": "ipython3",
   "version": "3.8.10"
  }
 },
 "nbformat": 4,
 "nbformat_minor": 5
}
