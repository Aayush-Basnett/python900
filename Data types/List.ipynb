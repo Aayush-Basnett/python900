{
 "cells": [
  {
   "cell_type": "markdown",
   "id": "54db7de8",
   "metadata": {},
   "source": [
    "# List\n",
    "* List is collection of item under one variable name\n",
    "* List supports multiple data-types\n",
    "* List is ordered\n",
    "* List is indexed\n",
    "* List allows duplicate values\n"
   ]
  },
  {
   "cell_type": "markdown",
   "id": "996b54e9",
   "metadata": {},
   "source": [
    "# creating empty list in python\n"
   ]
  },
  {
   "cell_type": "code",
   "execution_count": null,
   "id": "fcfb4d72",
   "metadata": {},
   "outputs": [],
   "source": [
    "list1 = [] #this is empty list\n",
    "type(list1)"
   ]
  },
  {
   "cell_type": "code",
   "execution_count": null,
   "id": "137aedb9",
   "metadata": {},
   "outputs": [],
   "source": [
    "list2 = list() #using list constructor\n",
    "type(list2)"
   ]
  },
  {
   "cell_type": "markdown",
   "id": "d8293442",
   "metadata": {},
   "source": [
    "## example"
   ]
  },
  {
   "cell_type": "code",
   "execution_count": null,
   "id": "eae74ff3",
   "metadata": {},
   "outputs": [],
   "source": [
    "fruits = [\"orange\", \"mango\", \"banana\", \"apple\", \"peaches\", \"kiwi\", \"papaya\"]\n",
    "fruits"
   ]
  },
  {
   "cell_type": "markdown",
   "id": "9960ee8c",
   "metadata": {},
   "source": [
    "# indexing and slicing in list"
   ]
  },
  {
   "cell_type": "code",
   "execution_count": null,
   "id": "37828a11",
   "metadata": {},
   "outputs": [],
   "source": [
    "fruits[5]"
   ]
  },
  {
   "cell_type": "code",
   "execution_count": null,
   "id": "4b9b4071",
   "metadata": {},
   "outputs": [],
   "source": [
    "fruits[6]"
   ]
  },
  {
   "cell_type": "code",
   "execution_count": null,
   "id": "83c6632d",
   "metadata": {},
   "outputs": [],
   "source": [
    "fruits[0]\n"
   ]
  },
  {
   "cell_type": "code",
   "execution_count": null,
   "id": "12e9cde8",
   "metadata": {},
   "outputs": [],
   "source": [
    "len(fruits)"
   ]
  },
  {
   "cell_type": "code",
   "execution_count": null,
   "id": "46525703",
   "metadata": {},
   "outputs": [],
   "source": [
    "fruits[1:3] #index 1 ra 2 ko matra value aaucha"
   ]
  },
  {
   "cell_type": "code",
   "execution_count": null,
   "id": "7fe83524",
   "metadata": {},
   "outputs": [],
   "source": [
    "fruits[3:5]"
   ]
  },
  {
   "cell_type": "code",
   "execution_count": null,
   "id": "74302450",
   "metadata": {},
   "outputs": [],
   "source": [
    "fruits"
   ]
  },
  {
   "cell_type": "markdown",
   "id": "747e10be",
   "metadata": {},
   "source": [
    "#### to print mango, apple, and kiwi"
   ]
  },
  {
   "cell_type": "code",
   "execution_count": null,
   "id": "ea15a0ad",
   "metadata": {},
   "outputs": [],
   "source": [
    "fruits[::2] #this is same as fruits[0:0:2]"
   ]
  },
  {
   "cell_type": "code",
   "execution_count": null,
   "id": "54d0c25c",
   "metadata": {},
   "outputs": [],
   "source": [
    "#### to print in step 3\n",
    "fruits[0:len(fruits):3] # or fruits[::3]\n"
   ]
  },
  {
   "cell_type": "markdown",
   "id": "69e419aa",
   "metadata": {},
   "source": [
    "# Negative indexing in python\n",
    "negative index <strong>starts from -1 NOT 0<strong/> "
   ]
  },
  {
   "cell_type": "code",
   "execution_count": null,
   "id": "8baff3b9",
   "metadata": {},
   "outputs": [],
   "source": [
    "fruits"
   ]
  },
  {
   "cell_type": "code",
   "execution_count": null,
   "id": "e5059604",
   "metadata": {},
   "outputs": [],
   "source": [
    "fruits[-1] #last tira bata first vane jasto ho"
   ]
  },
  {
   "cell_type": "markdown",
   "id": "6cc5ca6c",
   "metadata": {},
   "source": [
    "# slicing using negative index"
   ]
  },
  {
   "cell_type": "code",
   "execution_count": null,
   "id": "97e77855",
   "metadata": {},
   "outputs": [],
   "source": [
    "fruits[-3]"
   ]
  },
  {
   "cell_type": "code",
   "execution_count": null,
   "id": "a9a06cae",
   "metadata": {},
   "outputs": [],
   "source": [
    "fruits[-3:]"
   ]
  },
  {
   "cell_type": "markdown",
   "id": "0ebb1f1c",
   "metadata": {},
   "source": [
    "# list supports multiple datatype and duplicate value"
   ]
  },
  {
   "cell_type": "code",
   "execution_count": null,
   "id": "1651856d",
   "metadata": {},
   "outputs": [],
   "source": [
    "list1 = [True, \"Nepal\", 1, 3.69]\n",
    "list1"
   ]
  },
  {
   "cell_type": "code",
   "execution_count": null,
   "id": "c109da44",
   "metadata": {},
   "outputs": [],
   "source": [
    "type(list1)"
   ]
  },
  {
   "cell_type": "markdown",
   "id": "f1d3529c",
   "metadata": {},
   "source": [
    "# loops in list"
   ]
  },
  {
   "cell_type": "code",
   "execution_count": null,
   "id": "ff785f7b",
   "metadata": {},
   "outputs": [],
   "source": [
    "cars = [\"tesla\", \"lamborghini\", \"rolls royce\", \"tata\", \"buggati\", \"Audi\", \"BMW\"]\n",
    "cars"
   ]
  },
  {
   "cell_type": "code",
   "execution_count": null,
   "id": "b09525fc",
   "metadata": {},
   "outputs": [],
   "source": [
    "for index in range(len(cars)):\n",
    "    car = cars[index]\n",
    "    print(f\"the index of {car} is {index}\")"
   ]
  },
  {
   "cell_type": "markdown",
   "id": "c929a8c9",
   "metadata": {},
   "source": [
    "# Assignment-1 \n",
    "if data = [10, 5, 6, 3, 8, 4, 2] <br/>\n",
    "find the mean of data using for loop"
   ]
  },
  {
   "cell_type": "code",
   "execution_count": null,
   "id": "94101864",
   "metadata": {},
   "outputs": [],
   "source": [
    "data = [10, 5, 6, 3, 8, 4, 2]\n",
    "total = 0\n",
    "\n",
    "for numbers in data:\n",
    "    total = total + numbers ## this can also be written as total += numbers\n",
    "print(\"the total is: \", total)\n",
    "mean = total / len(data)\n",
    "print(\"and the mean is: \", mean)"
   ]
  },
  {
   "cell_type": "markdown",
   "id": "2c197281",
   "metadata": {},
   "source": [
    "# teachers soln"
   ]
  },
  {
   "cell_type": "code",
   "execution_count": null,
   "id": "218d049e",
   "metadata": {},
   "outputs": [],
   "source": [
    "data = [10,5,6,3,8,4,2]\n",
    "mean = sum(data)/len(data)\n"
   ]
  },
  {
   "cell_type": "markdown",
   "id": "274cdfff",
   "metadata": {},
   "source": [
    "# Assingnment- 2\n",
    "We have two strings <br/>\n",
    "string1 = \"NepalIndiaChina\" <br/>\n",
    "string2 = \"indiachinanepal\" <br/>\n",
    "write a program to check if string2 is the rotation of string1 or not <br/>\n",
    " ###### Hint: suppose i shifted string1 by five position right(circular ). I will get string2. This phenomenon is called rotation of string. This means string2 is the rotation string of string1.\n",
    " \n"
   ]
  },
  {
   "cell_type": "code",
   "execution_count": null,
   "id": "c3fe5b93",
   "metadata": {},
   "outputs": [],
   "source": [
    "string1 = \"NepalIndiaChina\"\n",
    "string2 = \"indiachinanepal\"\n",
    "\n",
    "string1 = string1.lower()\n",
    "if len(string1) != len(string2):\n",
    "    print(\"string2 is NOT a rotation of string1\")\n",
    "else:\n",
    "    temp = string1 + string1\n",
    "    print(temp)\n",
    "    if string2 in temp:\n",
    "        print(\"string2 is a rotation of string1\")\n",
    "    else:\n",
    "        print(\"string2 is NOT a rotation of string1\")"
   ]
  },
  {
   "cell_type": "code",
   "execution_count": null,
   "id": "643e1e02",
   "metadata": {},
   "outputs": [],
   "source": []
  },
  {
   "cell_type": "code",
   "execution_count": null,
   "id": "ba998029",
   "metadata": {},
   "outputs": [],
   "source": []
  },
  {
   "cell_type": "code",
   "execution_count": null,
   "id": "77b55bfd",
   "metadata": {},
   "outputs": [],
   "source": [
    "nums = [9,2,45,0,11]\n",
    "print(nums[2:4]) #4 index chai print hunna, i,e 2 and 3 are printed"
   ]
  },
  {
   "cell_type": "code",
   "execution_count": null,
   "id": "592ed7f4",
   "metadata": {},
   "outputs": [],
   "source": [
    "nums[-2:]"
   ]
  },
  {
   "cell_type": "code",
   "execution_count": null,
   "id": "cbcc692d",
   "metadata": {},
   "outputs": [],
   "source": [
    "nums[:4] #prints from 0 to 3, 4 is excluded"
   ]
  },
  {
   "cell_type": "code",
   "execution_count": null,
   "id": "f1c091a7",
   "metadata": {},
   "outputs": [],
   "source": [
    "nums[1:] #prints from 1 to all remaining"
   ]
  },
  {
   "cell_type": "markdown",
   "id": "6e201844",
   "metadata": {},
   "source": [
    "# question\n",
    "Write a Python program that takes a list of numbers as input and prints the largest and smallest numbers in the list."
   ]
  },
  {
   "cell_type": "code",
   "execution_count": 6,
   "id": "78e4216f",
   "metadata": {},
   "outputs": [
    {
     "name": "stdout",
     "output_type": "stream",
     "text": [
      "Enter your number: 54\n",
      "Enter your number: 64\n",
      "Enter your number: 56\n",
      "Enter your number: 99\n",
      "Enter your number: 172\n"
     ]
    },
    {
     "data": {
      "text/plain": [
       "[54, 56, 64, 99, 172]"
      ]
     },
     "execution_count": 6,
     "metadata": {},
     "output_type": "execute_result"
    }
   ],
   "source": [
    "List = []\n",
    "for item in range(5):\n",
    "    num = int(input(\"Enter your number: \"))\n",
    "    List.append(num)\n",
    "min(List)\n",
    "max(List)\n",
    "List.sort()\n",
    "List"
   ]
  },
  {
   "cell_type": "markdown",
   "id": "30f7a7b4",
   "metadata": {},
   "source": []
  }
 ],
 "metadata": {
  "kernelspec": {
   "display_name": "Python 3 (ipykernel)",
   "language": "python",
   "name": "python3"
  },
  "language_info": {
   "codemirror_mode": {
    "name": "ipython",
    "version": 3
   },
   "file_extension": ".py",
   "mimetype": "text/x-python",
   "name": "python",
   "nbconvert_exporter": "python",
   "pygments_lexer": "ipython3",
   "version": "3.8.10"
  }
 },
 "nbformat": 4,
 "nbformat_minor": 5
}
