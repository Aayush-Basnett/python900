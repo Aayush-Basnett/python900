{
 "cells": [
  {
   "cell_type": "markdown",
   "id": "9946781e",
   "metadata": {},
   "source": [
    "# Set\n",
    "* collection of items under one variable name\n",
    "* unordered, unindexed\n",
    "* do not allow duplicate value\n",
    "* created suing {} and values are seperated by coma\n",
    "* Mutable data type -- allows adding and removing items in set"
   ]
  },
  {
   "cell_type": "code",
   "execution_count": 16,
   "id": "a1127a1c",
   "metadata": {},
   "outputs": [
    {
     "data": {
      "text/plain": [
       "{'Achar', 'Chattney', 'Daal', 'Masu', 'Paneer', 'Papad', 'Rice', 'Saag'}"
      ]
     },
     "execution_count": 16,
     "metadata": {},
     "output_type": "execute_result"
    }
   ],
   "source": [
    "khana_set = {\"Rice\", \"Daal\", \"Masu\",\"Paneer\", \"Achar\", \"Chattney\", \"Saag\", \"Papad\" }\n",
    "khana_set"
   ]
  },
  {
   "cell_type": "code",
   "execution_count": 3,
   "id": "74c8d929",
   "metadata": {},
   "outputs": [
    {
     "ename": "TypeError",
     "evalue": "'set' object is not subscriptable",
     "output_type": "error",
     "traceback": [
      "\u001b[0;31m---------------------------------------------------------------------------\u001b[0m",
      "\u001b[0;31mTypeError\u001b[0m                                 Traceback (most recent call last)",
      "Cell \u001b[0;32mIn[3], line 1\u001b[0m\n\u001b[0;32m----> 1\u001b[0m \u001b[43mkhana_set\u001b[49m\u001b[43m[\u001b[49m\u001b[38;5;241;43m1\u001b[39;49m\u001b[43m]\u001b[49m \u001b[38;5;66;03m#set is unordered and unindexed\u001b[39;00m\n",
      "\u001b[0;31mTypeError\u001b[0m: 'set' object is not subscriptable"
     ]
    }
   ],
   "source": [
    "khana_set[1] #set is unordered and unindexed"
   ]
  },
  {
   "cell_type": "markdown",
   "id": "1e70a769",
   "metadata": {},
   "source": [
    "### Set is a mutable data-type, you can add and remove item from set"
   ]
  },
  {
   "cell_type": "code",
   "execution_count": 17,
   "id": "0125c66a",
   "metadata": {},
   "outputs": [
    {
     "data": {
      "text/plain": [
       "{'Achar',\n",
       " 'Chattney',\n",
       " 'Daal',\n",
       " 'Masu',\n",
       " 'Paneer',\n",
       " 'Papad',\n",
       " 'Rice',\n",
       " 'Saag',\n",
       " 'prawn'}"
      ]
     },
     "execution_count": 17,
     "metadata": {},
     "output_type": "execute_result"
    }
   ],
   "source": [
    "khana_set.add(\"prawn\")\n",
    "khana_set"
   ]
  },
  {
   "cell_type": "code",
   "execution_count": 18,
   "id": "6ab8b9b2",
   "metadata": {},
   "outputs": [
    {
     "data": {
      "text/plain": [
       "{'Achar', 'Chattney', 'Daal', 'Masu', 'Paneer', 'Papad', 'Rice', 'prawn'}"
      ]
     },
     "execution_count": 18,
     "metadata": {},
     "output_type": "execute_result"
    }
   ],
   "source": [
    "khana_set.remove(\"Saag\")\n",
    "khana_set"
   ]
  },
  {
   "cell_type": "markdown",
   "id": "7bf1989d",
   "metadata": {},
   "source": [
    "### tara navako kura remove garda error aaucha, if we want to avoid error than we can use discard()"
   ]
  },
  {
   "cell_type": "code",
   "execution_count": 19,
   "id": "790d1823",
   "metadata": {},
   "outputs": [
    {
     "ename": "KeyError",
     "evalue": "'chicken'",
     "output_type": "error",
     "traceback": [
      "\u001b[0;31m---------------------------------------------------------------------------\u001b[0m",
      "\u001b[0;31mKeyError\u001b[0m                                  Traceback (most recent call last)",
      "Cell \u001b[0;32mIn[19], line 2\u001b[0m\n\u001b[1;32m      1\u001b[0m khana_set \u001b[38;5;241m=\u001b[39m {\u001b[38;5;124m\"\u001b[39m\u001b[38;5;124mRice\u001b[39m\u001b[38;5;124m\"\u001b[39m, \u001b[38;5;124m\"\u001b[39m\u001b[38;5;124mDaal\u001b[39m\u001b[38;5;124m\"\u001b[39m, \u001b[38;5;124m\"\u001b[39m\u001b[38;5;124mMasu\u001b[39m\u001b[38;5;124m\"\u001b[39m,\u001b[38;5;124m\"\u001b[39m\u001b[38;5;124mPaneer\u001b[39m\u001b[38;5;124m\"\u001b[39m, \u001b[38;5;124m\"\u001b[39m\u001b[38;5;124mAchar\u001b[39m\u001b[38;5;124m\"\u001b[39m, \u001b[38;5;124m\"\u001b[39m\u001b[38;5;124mChattney\u001b[39m\u001b[38;5;124m\"\u001b[39m, \u001b[38;5;124m\"\u001b[39m\u001b[38;5;124mSaag\u001b[39m\u001b[38;5;124m\"\u001b[39m, \u001b[38;5;124m\"\u001b[39m\u001b[38;5;124mPapad\u001b[39m\u001b[38;5;124m\"\u001b[39m }\n\u001b[0;32m----> 2\u001b[0m \u001b[43mkhana_set\u001b[49m\u001b[38;5;241;43m.\u001b[39;49m\u001b[43mremove\u001b[49m\u001b[43m(\u001b[49m\u001b[38;5;124;43m\"\u001b[39;49m\u001b[38;5;124;43mchicken\u001b[39;49m\u001b[38;5;124;43m\"\u001b[39;49m\u001b[43m)\u001b[49m\n",
      "\u001b[0;31mKeyError\u001b[0m: 'chicken'"
     ]
    }
   ],
   "source": [
    "khana_set = {\"Rice\", \"Daal\", \"Masu\",\"Paneer\", \"Achar\", \"Chattney\", \"Saag\", \"Papad\" }\n",
    "khana_set.remove(\"chicken\")"
   ]
  },
  {
   "cell_type": "markdown",
   "id": "81e4e701",
   "metadata": {},
   "source": [
    "#### to avoid this error\n"
   ]
  },
  {
   "cell_type": "code",
   "execution_count": 22,
   "id": "b8c85e84",
   "metadata": {},
   "outputs": [
    {
     "data": {
      "text/plain": [
       "{'Achar', 'Chattney', 'Daal', 'Masu', 'Paneer', 'Papad', 'Rice', 'Saag'}"
      ]
     },
     "execution_count": 22,
     "metadata": {},
     "output_type": "execute_result"
    }
   ],
   "source": [
    "khana_set = {\"Rice\", \"Daal\", \"Masu\",\"Paneer\", \"Achar\", \"Chattney\", \"Saag\", \"Papad\" }\n",
    "khana_set.discard(\"chicken\")\n",
    "khana_set"
   ]
  },
  {
   "cell_type": "code",
   "execution_count": 23,
   "id": "3015ad73",
   "metadata": {},
   "outputs": [
    {
     "data": {
      "text/plain": [
       "{'Achar', 'Chattney', 'Masu', 'Paneer', 'Papad', 'Rice', 'Saag'}"
      ]
     },
     "execution_count": 23,
     "metadata": {},
     "output_type": "execute_result"
    }
   ],
   "source": [
    "khana_set = {\"Rice\", \"Daal\", \"Masu\",\"Paneer\", \"Achar\", \"Chattney\", \"Saag\", \"Papad\" }\n",
    "khana_set.discard(\"Daal\")\n",
    "khana_set"
   ]
  },
  {
   "cell_type": "markdown",
   "id": "46ad480b",
   "metadata": {},
   "source": [
    "# Set Operation"
   ]
  },
  {
   "cell_type": "code",
   "execution_count": 24,
   "id": "2105f8f5",
   "metadata": {},
   "outputs": [
    {
     "data": {
      "text/plain": [
       "{'apple'}"
      ]
     },
     "execution_count": 24,
     "metadata": {},
     "output_type": "execute_result"
    }
   ],
   "source": [
    "A = {\"apple\", \"banana\",\"cherry\" }\n",
    "B = {\"google\",\"microsoft\",\"apple\"}\n",
    "A.intersection(B)\n"
   ]
  },
  {
   "cell_type": "code",
   "execution_count": 26,
   "id": "890c2951",
   "metadata": {},
   "outputs": [
    {
     "data": {
      "text/plain": [
       "{'apple'}"
      ]
     },
     "execution_count": 26,
     "metadata": {},
     "output_type": "execute_result"
    }
   ],
   "source": [
    "# A intersection B is same as B intersection A\n",
    "B.intersection(A)"
   ]
  },
  {
   "cell_type": "code",
   "execution_count": 27,
   "id": "e497aee2",
   "metadata": {},
   "outputs": [
    {
     "data": {
      "text/plain": [
       "{'apple', 'banana', 'cherry', 'google', 'microsoft'}"
      ]
     },
     "execution_count": 27,
     "metadata": {},
     "output_type": "execute_result"
    }
   ],
   "source": [
    "# similarly\n",
    "B.union(A)"
   ]
  },
  {
   "cell_type": "code",
   "execution_count": 28,
   "id": "92f11c6c",
   "metadata": {},
   "outputs": [
    {
     "data": {
      "text/plain": [
       "{'banana', 'cherry'}"
      ]
     },
     "execution_count": 28,
     "metadata": {},
     "output_type": "execute_result"
    }
   ],
   "source": [
    "A.difference(B) # All elements of A besides their intersection"
   ]
  },
  {
   "cell_type": "code",
   "execution_count": 30,
   "id": "1695495f",
   "metadata": {},
   "outputs": [
    {
     "data": {
      "text/plain": [
       "{'google', 'microsoft'}"
      ]
     },
     "execution_count": 30,
     "metadata": {},
     "output_type": "execute_result"
    }
   ],
   "source": [
    "B.difference(A) # All elements of B besides their intersection"
   ]
  },
  {
   "cell_type": "markdown",
   "id": "9441b34a",
   "metadata": {},
   "source": [
    "Similarly\n"
   ]
  },
  {
   "cell_type": "code",
   "execution_count": 31,
   "id": "e7347e3f",
   "metadata": {},
   "outputs": [
    {
     "data": {
      "text/plain": [
       "{'banana', 'cherry'}"
      ]
     },
     "execution_count": 31,
     "metadata": {},
     "output_type": "execute_result"
    }
   ],
   "source": [
    "A - B #same as A.difference(B)"
   ]
  },
  {
   "cell_type": "code",
   "execution_count": 33,
   "id": "25b8f729",
   "metadata": {},
   "outputs": [
    {
     "data": {
      "text/plain": [
       "{'google', 'microsoft'}"
      ]
     },
     "execution_count": 33,
     "metadata": {},
     "output_type": "execute_result"
    }
   ],
   "source": [
    "B - A #B.difference(A)"
   ]
  },
  {
   "cell_type": "markdown",
   "id": "beab974a",
   "metadata": {},
   "source": [
    "# FrozenSet: Frozenset is just an immutable version of a Python set object"
   ]
  },
  {
   "cell_type": "code",
   "execution_count": 38,
   "id": "9896e97f",
   "metadata": {},
   "outputs": [
    {
     "data": {
      "text/plain": [
       "{'Mango', 'apple', 'banana', 'cherry'}"
      ]
     },
     "execution_count": 38,
     "metadata": {},
     "output_type": "execute_result"
    }
   ],
   "source": [
    "fruits = {\"apple\", \"banana\",\"cherry\" }\n",
    "fruits.add(\"Mango\")\n",
    "fruits\n",
    "#This can be done\n"
   ]
  },
  {
   "cell_type": "code",
   "execution_count": 39,
   "id": "da2d5a3e",
   "metadata": {},
   "outputs": [
    {
     "ename": "AttributeError",
     "evalue": "'frozenset' object has no attribute 'add'",
     "output_type": "error",
     "traceback": [
      "\u001b[0;31m---------------------------------------------------------------------------\u001b[0m",
      "\u001b[0;31mAttributeError\u001b[0m                            Traceback (most recent call last)",
      "Cell \u001b[0;32mIn[39], line 3\u001b[0m\n\u001b[1;32m      1\u001b[0m fruits \u001b[38;5;241m=\u001b[39m {\u001b[38;5;124m\"\u001b[39m\u001b[38;5;124mapple\u001b[39m\u001b[38;5;124m\"\u001b[39m, \u001b[38;5;124m\"\u001b[39m\u001b[38;5;124mbanana\u001b[39m\u001b[38;5;124m\"\u001b[39m,\u001b[38;5;124m\"\u001b[39m\u001b[38;5;124mcherry\u001b[39m\u001b[38;5;124m\"\u001b[39m }\n\u001b[1;32m      2\u001b[0m frozen_fruits \u001b[38;5;241m=\u001b[39m \u001b[38;5;28mfrozenset\u001b[39m(fruits)\n\u001b[0;32m----> 3\u001b[0m \u001b[43mfrozen_fruits\u001b[49m\u001b[38;5;241;43m.\u001b[39;49m\u001b[43madd\u001b[49m(\u001b[38;5;124m\"\u001b[39m\u001b[38;5;124mMango\u001b[39m\u001b[38;5;124m\"\u001b[39m)\n\u001b[1;32m      4\u001b[0m frozen_fruits\n\u001b[1;32m      5\u001b[0m \u001b[38;5;66;03m# Now set is immutable\u001b[39;00m\n",
      "\u001b[0;31mAttributeError\u001b[0m: 'frozenset' object has no attribute 'add'"
     ]
    }
   ],
   "source": [
    "fruits = {\"apple\", \"banana\",\"cherry\" }\n",
    "frozen_fruits = frozenset(fruits)\n",
    "frozen_fruits.add(\"Mango\")\n",
    "frozen_fruits\n",
    "# Now set is immutable"
   ]
  },
  {
   "cell_type": "code",
   "execution_count": null,
   "id": "53abcb2e",
   "metadata": {},
   "outputs": [],
   "source": []
  }
 ],
 "metadata": {
  "kernelspec": {
   "display_name": "Python 3 (ipykernel)",
   "language": "python",
   "name": "python3"
  },
  "language_info": {
   "codemirror_mode": {
    "name": "ipython",
    "version": 3
   },
   "file_extension": ".py",
   "mimetype": "text/x-python",
   "name": "python",
   "nbconvert_exporter": "python",
   "pygments_lexer": "ipython3",
   "version": "3.8.10"
  }
 },
 "nbformat": 4,
 "nbformat_minor": 5
}
