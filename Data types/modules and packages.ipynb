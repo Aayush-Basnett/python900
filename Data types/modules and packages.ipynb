{
 "cells": [
  {
   "cell_type": "markdown",
   "id": "51fd763c",
   "metadata": {},
   "source": [
    "Modules, Python Packages and libraries\n",
    "* Modules: Every python file inside a python package is a module\n",
    "* Python packages: Every python project folder with `__init__.py` inside a python package\n",
    "* Libraries: Collection of  "
   ]
  },
  {
   "cell_type": "code",
   "execution_count": null,
   "id": "ed78a404",
   "metadata": {},
   "outputs": [],
   "source": []
  }
 ],
 "metadata": {
  "kernelspec": {
   "display_name": "Python 3 (ipykernel)",
   "language": "python",
   "name": "python3"
  },
  "language_info": {
   "codemirror_mode": {
    "name": "ipython",
    "version": 3
   },
   "file_extension": ".py",
   "mimetype": "text/x-python",
   "name": "python",
   "nbconvert_exporter": "python",
   "pygments_lexer": "ipython3",
   "version": "3.8.10"
  }
 },
 "nbformat": 4,
 "nbformat_minor": 5
}
