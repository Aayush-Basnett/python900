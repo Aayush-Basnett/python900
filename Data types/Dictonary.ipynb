{
 "cells": [
  {
   "cell_type": "markdown",
   "id": "2d8c5ade",
   "metadata": {},
   "source": [
    "# Dictonary\n",
    "Dictonaries is used to store data values in key: balue pairs\n",
    "* A dictonary is collection which is ordered, changable, and do not allow duplicate keys"
   ]
  },
  {
   "cell_type": "markdown",
   "id": "88a9902c",
   "metadata": {},
   "source": [
    "# syntax\n",
    "```Python{\n",
    "    key: value,\n",
    "    key: value,\n",
    "    key: value,\n",
    "}```"
   ]
  },
  {
   "cell_type": "markdown",
   "id": "5f1a0e56",
   "metadata": {},
   "source": [
    "## creating empty dictonary"
   ]
  },
  {
   "cell_type": "code",
   "execution_count": 1,
   "id": "9fcddde0",
   "metadata": {},
   "outputs": [
    {
     "data": {
      "text/plain": [
       "dict"
      ]
     },
     "execution_count": 1,
     "metadata": {},
     "output_type": "execute_result"
    }
   ],
   "source": [
    "capital = {}\n",
    "type(capital)"
   ]
  },
  {
   "cell_type": "code",
   "execution_count": 2,
   "id": "778d8677",
   "metadata": {},
   "outputs": [
    {
     "data": {
      "text/plain": [
       "dict"
      ]
     },
     "execution_count": 2,
     "metadata": {},
     "output_type": "execute_result"
    }
   ],
   "source": [
    "d = dict() \n",
    "type(d)"
   ]
  },
  {
   "cell_type": "markdown",
   "id": "a6443bd8",
   "metadata": {},
   "source": [
    "# Adding key value pair in dictionary"
   ]
  },
  {
   "cell_type": "code",
   "execution_count": 4,
   "id": "22089062",
   "metadata": {},
   "outputs": [
    {
     "data": {
      "text/plain": [
       "{}"
      ]
     },
     "execution_count": 4,
     "metadata": {},
     "output_type": "execute_result"
    }
   ],
   "source": [
    "about = {}\n",
    "about"
   ]
  },
  {
   "cell_type": "code",
   "execution_count": 7,
   "id": "b419201a",
   "metadata": {},
   "outputs": [
    {
     "data": {
      "text/plain": [
       "{'name': 'Aayush'}"
      ]
     },
     "execution_count": 7,
     "metadata": {},
     "output_type": "execute_result"
    }
   ],
   "source": [
    "about[\"name\"] = \"Aayush\"\n",
    "about"
   ]
  },
  {
   "cell_type": "code",
   "execution_count": 8,
   "id": "796c0a12",
   "metadata": {},
   "outputs": [
    {
     "data": {
      "text/plain": [
       "{'name': 'Aayush', 'age': 19}"
      ]
     },
     "execution_count": 8,
     "metadata": {},
     "output_type": "execute_result"
    }
   ],
   "source": [
    "about[\"age\"] = 19\n",
    "about"
   ]
  },
  {
   "cell_type": "code",
   "execution_count": 9,
   "id": "20817a41",
   "metadata": {},
   "outputs": [
    {
     "data": {
      "text/plain": [
       "{'name': 'Aayush', 'age': 19, 'works': ['berojgar', 'student']}"
      ]
     },
     "execution_count": 9,
     "metadata": {},
     "output_type": "execute_result"
    }
   ],
   "source": [
    "about.update({\"works\" : [\"berojgar\", \"student\"]})\n",
    "about"
   ]
  },
  {
   "cell_type": "code",
   "execution_count": 10,
   "id": "4b4aa805",
   "metadata": {},
   "outputs": [],
   "source": [
    "about.update({\"location\": \"Bhaktapur\"})"
   ]
  },
  {
   "cell_type": "code",
   "execution_count": 11,
   "id": "e77db7e5",
   "metadata": {},
   "outputs": [
    {
     "data": {
      "text/plain": [
       "{'name': 'Aayush',\n",
       " 'age': 19,\n",
       " 'works': ['berojgar', 'student'],\n",
       " 'location': 'Bhaktapur'}"
      ]
     },
     "execution_count": 11,
     "metadata": {},
     "output_type": "execute_result"
    }
   ],
   "source": [
    "about"
   ]
  },
  {
   "cell_type": "markdown",
   "id": "88334769",
   "metadata": {},
   "source": [
    "### if key doesn't exist then a new value is added to dictonary, if it does than the key is overwritten\n"
   ]
  },
  {
   "cell_type": "code",
   "execution_count": 12,
   "id": "9315cafc",
   "metadata": {},
   "outputs": [
    {
     "data": {
      "text/plain": [
       "{'name': 'Ram',\n",
       " 'age': 19,\n",
       " 'works': ['berojgar', 'student'],\n",
       " 'location': 'Bhaktapur'}"
      ]
     },
     "execution_count": 12,
     "metadata": {},
     "output_type": "execute_result"
    }
   ],
   "source": [
    "about.update({\"name\" : \"Ram\"})\n",
    "about"
   ]
  },
  {
   "cell_type": "code",
   "execution_count": 15,
   "id": "b1ff9689",
   "metadata": {},
   "outputs": [
    {
     "data": {
      "text/plain": [
       "{'name': 'Ram',\n",
       " 'age': 19,\n",
       " 'works': ['berojgar', 'student'],\n",
       " 'location': 'Canada'}"
      ]
     },
     "execution_count": 15,
     "metadata": {},
     "output_type": "execute_result"
    }
   ],
   "source": [
    "about[\"location\"] = \"Canada\"\n",
    "about"
   ]
  },
  {
   "cell_type": "markdown",
   "id": "d5225b4e",
   "metadata": {},
   "source": [
    "# How to acess value of a key in dictonary\n"
   ]
  },
  {
   "cell_type": "code",
   "execution_count": 17,
   "id": "9ea0bbd5",
   "metadata": {},
   "outputs": [
    {
     "data": {
      "text/plain": [
       "{'Nepal': 'Ktm',\n",
       " 'India': 'Del',\n",
       " 'Afgan': 'kabul',\n",
       " 'Bhutan': 'Thimpu',\n",
       " 'Bangal': 'Dhaka'}"
      ]
     },
     "execution_count": 17,
     "metadata": {},
     "output_type": "execute_result"
    }
   ],
   "source": [
    "cap = {\n",
    "    \"Nepal\" : \"Ktm\",\n",
    "    \"India\" : \"Del\",\n",
    "    \"Afgan\" : \"kabul\",\n",
    "    \"Bhutan\" : \"Thimpu\",\n",
    "    \"Bangal\" : \"Dhaka\"\n",
    "}\n",
    "cap"
   ]
  },
  {
   "cell_type": "code",
   "execution_count": 19,
   "id": "42a42772",
   "metadata": {},
   "outputs": [
    {
     "data": {
      "text/plain": [
       "'Ktm'"
      ]
     },
     "execution_count": 19,
     "metadata": {},
     "output_type": "execute_result"
    }
   ],
   "source": [
    "cap[\"Nepal\"]"
   ]
  },
  {
   "cell_type": "code",
   "execution_count": 20,
   "id": "63000b7b",
   "metadata": {},
   "outputs": [
    {
     "data": {
      "text/plain": [
       "'Del'"
      ]
     },
     "execution_count": 20,
     "metadata": {},
     "output_type": "execute_result"
    }
   ],
   "source": [
    "cap[\"India\"]"
   ]
  },
  {
   "cell_type": "code",
   "execution_count": 21,
   "id": "bb51f747",
   "metadata": {},
   "outputs": [],
   "source": [
    "# Alternate"
   ]
  },
  {
   "cell_type": "code",
   "execution_count": 22,
   "id": "dee26c27",
   "metadata": {},
   "outputs": [
    {
     "data": {
      "text/plain": [
       "'Thimpu'"
      ]
     },
     "execution_count": 22,
     "metadata": {},
     "output_type": "execute_result"
    }
   ],
   "source": [
    "cap.get(\"Bhutan\")\n"
   ]
  },
  {
   "cell_type": "code",
   "execution_count": 23,
   "id": "0e2c0b8a",
   "metadata": {},
   "outputs": [
    {
     "data": {
      "text/plain": [
       "'kabul'"
      ]
     },
     "execution_count": 23,
     "metadata": {},
     "output_type": "execute_result"
    }
   ],
   "source": [
    "cap.get(\"Afgan\")"
   ]
  },
  {
   "cell_type": "code",
   "execution_count": 25,
   "id": "2739fd9e",
   "metadata": {},
   "outputs": [],
   "source": [
    "products = {\n",
    "        \"id\": 1,\n",
    "        \"location\": 'Yukon',\n",
    "        \"title\": 'Yukon Wildlife Preserve',\n",
    "        \"img\": 'https://d28wuw2qq2j212.cloudfront.net/sites/default/files/styles/post_full-width_image_desktop/public/posts/%5Bnid%5D/yukon_wildlife_preserve_credit_lindsay_caskenette.jpg?itok=tob3lYQa&timestamp=1459892123',\n",
    "        \"description\": 'Canada’s north is home to some of Canada’s most unusual wildlife, and the Yukon Wildlife Preserve works to keep it that way. Located only 25 minutes from downtown Whitehorse, the Preserve’s enthusiastic staff care for injured wild animals before releasing the healthy ones back into the wild. Visitors can tour the preserve to learn about more than a dozen different species of Arctic and boreal animals. Tour the facility’s three-mile ‘viewing loop’ on foot, by ski, by snowshoe, or on a guided bus. See caribou, lynx, elk, bison, and more in their distinct natural habitats, from wetlands to cliffs, but not in a pen or a cage. And be camera ready—you never know what animals are going to make an appearance.',\n",
    "        \"category\": 'Natural' \n",
    "    }"
   ]
  },
  {
   "cell_type": "code",
   "execution_count": 28,
   "id": "a7884d3e",
   "metadata": {},
   "outputs": [
    {
     "data": {
      "text/plain": [
       "1"
      ]
     },
     "execution_count": 28,
     "metadata": {},
     "output_type": "execute_result"
    }
   ],
   "source": [
    "products[\"id\"] #same thing is done in JS by products.id"
   ]
  },
  {
   "cell_type": "code",
   "execution_count": 29,
   "id": "b00e0cb1",
   "metadata": {},
   "outputs": [
    {
     "data": {
      "text/plain": [
       "'https://d28wuw2qq2j212.cloudfront.net/sites/default/files/styles/post_full-width_image_desktop/public/posts/%5Bnid%5D/yukon_wildlife_preserve_credit_lindsay_caskenette.jpg?itok=tob3lYQa&timestamp=1459892123'"
      ]
     },
     "execution_count": 29,
     "metadata": {},
     "output_type": "execute_result"
    }
   ],
   "source": [
    "products.get(\"img\")"
   ]
  },
  {
   "cell_type": "markdown",
   "id": "02b2c9c5",
   "metadata": {},
   "source": [
    "# keys() and values()\n"
   ]
  },
  {
   "cell_type": "code",
   "execution_count": 30,
   "id": "3cc0780e",
   "metadata": {},
   "outputs": [],
   "source": [
    "products = {\n",
    "        \"id\": 1,\n",
    "        \"location\": 'Yukon',\n",
    "        \"title\": 'Yukon Wildlife Preserve',\n",
    "        \"img\": 'https://d28wuw2qq2j212.cloudfront.net/sites/default/files/styles/post_full-width_image_desktop/public/posts/%5Bnid%5D/yukon_wildlife_preserve_credit_lindsay_caskenette.jpg?itok=tob3lYQa&timestamp=1459892123',\n",
    "        \"description\": 'Canada’s north is home to some of Canada’s most unusual wildlife, and the Yukon Wildlife Preserve works to keep it that way. Located only 25 minutes from downtown Whitehorse, the Preserve’s enthusiastic staff care for injured wild animals before releasing the healthy ones back into the wild. Visitors can tour the preserve to learn about more than a dozen different species of Arctic and boreal animals. Tour the facility’s three-mile ‘viewing loop’ on foot, by ski, by snowshoe, or on a guided bus. See caribou, lynx, elk, bison, and more in their distinct natural habitats, from wetlands to cliffs, but not in a pen or a cage. And be camera ready—you never know what animals are going to make an appearance.',\n",
    "        \"category\": 'Natural' \n",
    "    }"
   ]
  },
  {
   "cell_type": "code",
   "execution_count": 31,
   "id": "bc3b057c",
   "metadata": {},
   "outputs": [
    {
     "data": {
      "text/plain": [
       "dict_keys(['id', 'location', 'title', 'img', 'description', 'category'])"
      ]
     },
     "execution_count": 31,
     "metadata": {},
     "output_type": "execute_result"
    }
   ],
   "source": [
    "products.keys()"
   ]
  },
  {
   "cell_type": "code",
   "execution_count": 32,
   "id": "d9abbb54",
   "metadata": {},
   "outputs": [
    {
     "data": {
      "text/plain": [
       "dict_values([1, 'Yukon', 'Yukon Wildlife Preserve', 'https://d28wuw2qq2j212.cloudfront.net/sites/default/files/styles/post_full-width_image_desktop/public/posts/%5Bnid%5D/yukon_wildlife_preserve_credit_lindsay_caskenette.jpg?itok=tob3lYQa&timestamp=1459892123', 'Canada’s north is home to some of Canada’s most unusual wildlife, and the Yukon Wildlife Preserve works to keep it that way. Located only 25 minutes from downtown Whitehorse, the Preserve’s enthusiastic staff care for injured wild animals before releasing the healthy ones back into the wild. Visitors can tour the preserve to learn about more than a dozen different species of Arctic and boreal animals. Tour the facility’s three-mile ‘viewing loop’ on foot, by ski, by snowshoe, or on a guided bus. See caribou, lynx, elk, bison, and more in their distinct natural habitats, from wetlands to cliffs, but not in a pen or a cage. And be camera ready—you never know what animals are going to make an appearance.', 'Natural'])"
      ]
     },
     "execution_count": 32,
     "metadata": {},
     "output_type": "execute_result"
    }
   ],
   "source": [
    "products.values()"
   ]
  },
  {
   "cell_type": "code",
   "execution_count": 34,
   "id": "76004241",
   "metadata": {},
   "outputs": [
    {
     "data": {
      "text/plain": [
       "{'Nepal': 'Ktm',\n",
       " 'India': 'Del',\n",
       " 'Afgan': 'kabul',\n",
       " 'Bhutan': 'Thimpu',\n",
       " 'Bangal': 'Dhaka'}"
      ]
     },
     "execution_count": 34,
     "metadata": {},
     "output_type": "execute_result"
    }
   ],
   "source": [
    "cap = {\n",
    "    \"Nepal\" : \"Ktm\",\n",
    "    \"India\" : \"Del\",\n",
    "    \"Afgan\" : \"kabul\",\n",
    "    \"Bhutan\" : \"Thimpu\",\n",
    "    \"Bangal\" : \"Dhaka\"\n",
    "}\n",
    "cap"
   ]
  },
  {
   "cell_type": "markdown",
   "id": "445ca7aa",
   "metadata": {},
   "source": []
  },
  {
   "cell_type": "code",
   "execution_count": 36,
   "id": "0dac28a1",
   "metadata": {},
   "outputs": [
    {
     "data": {
      "text/plain": [
       "dict_items([('Nepal', 'Ktm'), ('India', 'Del'), ('Afgan', 'kabul'), ('Bhutan', 'Thimpu'), ('Bangal', 'Dhaka')])"
      ]
     },
     "execution_count": 36,
     "metadata": {},
     "output_type": "execute_result"
    }
   ],
   "source": [
    "cap.items()"
   ]
  },
  {
   "cell_type": "markdown",
   "id": "c27d9d1a",
   "metadata": {},
   "source": [
    "# Tuple unpacking"
   ]
  },
  {
   "cell_type": "code",
   "execution_count": 37,
   "id": "f07b2996",
   "metadata": {},
   "outputs": [],
   "source": [
    "a, b = (8, 6)"
   ]
  },
  {
   "cell_type": "code",
   "execution_count": 38,
   "id": "3bbba541",
   "metadata": {},
   "outputs": [
    {
     "data": {
      "text/plain": [
       "8"
      ]
     },
     "execution_count": 38,
     "metadata": {},
     "output_type": "execute_result"
    }
   ],
   "source": [
    "a\n"
   ]
  },
  {
   "cell_type": "code",
   "execution_count": 39,
   "id": "6c579d37",
   "metadata": {},
   "outputs": [
    {
     "data": {
      "text/plain": [
       "6"
      ]
     },
     "execution_count": 39,
     "metadata": {},
     "output_type": "execute_result"
    }
   ],
   "source": [
    "b"
   ]
  },
  {
   "cell_type": "code",
   "execution_count": 43,
   "id": "a1971985",
   "metadata": {},
   "outputs": [
    {
     "name": "stdout",
     "output_type": "stream",
     "text": [
      "('Nepal', 'Ktm')\n",
      "('India', 'Del')\n",
      "('Afgan', 'kabul')\n",
      "('Bhutan', 'Thimpu')\n",
      "('Bangal', 'Dhaka')\n"
     ]
    }
   ],
   "source": [
    "for stuff in cap.items():\n",
    "    print(stuff)"
   ]
  },
  {
   "cell_type": "code",
   "execution_count": 46,
   "id": "74b6d7f4",
   "metadata": {},
   "outputs": [
    {
     "name": "stdout",
     "output_type": "stream",
     "text": [
      "The key is Nepal and the value is Ktm\n",
      "The key is India and the value is Del\n",
      "The key is Afgan and the value is kabul\n",
      "The key is Bhutan and the value is Thimpu\n",
      "The key is Bangal and the value is Dhaka\n"
     ]
    }
   ],
   "source": [
    "for keyyy, valll in cap.items():\n",
    "    print(f\"The key is {keyyy} and the value is {valll}\")"
   ]
  },
  {
   "cell_type": "markdown",
   "id": "bb43b66b",
   "metadata": {},
   "source": [
    "# Dictonary Comprehension:\n",
    "Swap the key value from given dictonary"
   ]
  },
  {
   "cell_type": "code",
   "execution_count": 47,
   "id": "6344c854",
   "metadata": {},
   "outputs": [],
   "source": [
    "cap = {\n",
    "    \"Nepal\" : \"Ktm\",\n",
    "    \"India\" : \"Del\",\n",
    "    \"Afgan\" : \"kabul\",\n",
    "    \"Bhutan\" : \"Thimpu\",\n",
    "    \"Bangal\" : \"Dhaka\"\n",
    "}"
   ]
  },
  {
   "cell_type": "code",
   "execution_count": 49,
   "id": "776b8413",
   "metadata": {},
   "outputs": [
    {
     "data": {
      "text/plain": [
       "{'Ktm': 'Nepal',\n",
       " 'Del': 'India',\n",
       " 'kabul': 'Afgan',\n",
       " 'Thimpu': 'Bhutan',\n",
       " 'Dhaka': 'Bangal'}"
      ]
     },
     "execution_count": 49,
     "metadata": {},
     "output_type": "execute_result"
    }
   ],
   "source": [
    "{val:key for key, val in cap.items()} #use this to swap key and value"
   ]
  },
  {
   "cell_type": "markdown",
   "id": "93a318c1",
   "metadata": {},
   "source": [
    "# Nesting"
   ]
  },
  {
   "cell_type": "code",
   "execution_count": 58,
   "id": "574426b7",
   "metadata": {},
   "outputs": [
    {
     "data": {
      "text/plain": [
       "{'first': {'name': 'mote', 'age': 18}, 'second': {'name': 'bhude'}}"
      ]
     },
     "execution_count": 58,
     "metadata": {},
     "output_type": "execute_result"
    }
   ],
   "source": [
    "child = {\n",
    "    \"first\": {\"name\":\"mote\", \"age\": 18},\n",
    "    \"second\": {\"name\":\"bhude\"}\n",
    "}\n",
    "child"
   ]
  },
  {
   "cell_type": "code",
   "execution_count": 59,
   "id": "0c3bad37",
   "metadata": {},
   "outputs": [
    {
     "data": {
      "text/plain": [
       "{'name': 'mote', 'age': 18}"
      ]
     },
     "execution_count": 59,
     "metadata": {},
     "output_type": "execute_result"
    }
   ],
   "source": [
    "child[\"first\"] #similar to child.first in JS"
   ]
  },
  {
   "cell_type": "code",
   "execution_count": 60,
   "id": "b3a2fa8c",
   "metadata": {},
   "outputs": [
    {
     "data": {
      "text/plain": [
       "'mote'"
      ]
     },
     "execution_count": 60,
     "metadata": {},
     "output_type": "execute_result"
    }
   ],
   "source": [
    "child[\"first\"][\"name\"] #similar to child.first.name in JS"
   ]
  },
  {
   "cell_type": "code",
   "execution_count": 61,
   "id": "24bb3687",
   "metadata": {},
   "outputs": [
    {
     "data": {
      "text/plain": [
       "18"
      ]
     },
     "execution_count": 61,
     "metadata": {},
     "output_type": "execute_result"
    }
   ],
   "source": [
    "child[\"first\"][\"age\"]"
   ]
  },
  {
   "cell_type": "code",
   "execution_count": 64,
   "id": "48b950a2",
   "metadata": {},
   "outputs": [],
   "source": [
    "us_price = {\n",
    "    \"bread\": 2, \n",
    "    \"butter\": 3,\n",
    "    \"salt\" : 24\n",
    "}"
   ]
  },
  {
   "cell_type": "code",
   "execution_count": 65,
   "id": "9f155df3",
   "metadata": {},
   "outputs": [],
   "source": [
    "exchange_rate = 138"
   ]
  },
  {
   "cell_type": "code",
   "execution_count": 66,
   "id": "e97e45a2",
   "metadata": {},
   "outputs": [
    {
     "data": {
      "text/plain": [
       "{'bread': 276, 'butter': 414, 'salt': 3312}"
      ]
     },
     "execution_count": 66,
     "metadata": {},
     "output_type": "execute_result"
    }
   ],
   "source": [
    "{key: val * exchange_rate for key, val in us_price.items()}"
   ]
  },
  {
   "cell_type": "markdown",
   "id": "cfd9187c",
   "metadata": {},
   "source": [
    "### alt soln\n"
   ]
  },
  {
   "cell_type": "code",
   "execution_count": 67,
   "id": "10382b3b",
   "metadata": {},
   "outputs": [
    {
     "data": {
      "text/plain": [
       "{'bread': 276, 'butter': 414, 'salt': 3312}"
      ]
     },
     "execution_count": 67,
     "metadata": {},
     "output_type": "execute_result"
    }
   ],
   "source": [
    "nepali_price = {}\n",
    "for key, val in us_price.items():\n",
    "    nepali_price[key] = val * exchange_rate\n",
    "nepali_price"
   ]
  },
  {
   "cell_type": "markdown",
   "id": "b14a761c",
   "metadata": {},
   "source": [
    "# Qn\n",
    "for the following dict, if price is higher than 300, levy 13% tax else no tax."
   ]
  },
  {
   "cell_type": "code",
   "execution_count": 69,
   "id": "e7fbe087",
   "metadata": {},
   "outputs": [
    {
     "data": {
      "text/plain": [
       "{'bread': 276, 'butter': 467.82, 'salt': 3742.56}"
      ]
     },
     "execution_count": 69,
     "metadata": {},
     "output_type": "execute_result"
    }
   ],
   "source": [
    "nepali_price = {'bread': 276, 'butter': 414, 'salt': 3312}\n",
    "{key: val + val * 0.13 if val > 300 else val for key, val in nepali_price.items()}"
   ]
  },
  {
   "cell_type": "code",
   "execution_count": null,
   "id": "04047ea0",
   "metadata": {},
   "outputs": [],
   "source": []
  }
 ],
 "metadata": {
  "kernelspec": {
   "display_name": "Python 3 (ipykernel)",
   "language": "python",
   "name": "python3"
  },
  "language_info": {
   "codemirror_mode": {
    "name": "ipython",
    "version": 3
   },
   "file_extension": ".py",
   "mimetype": "text/x-python",
   "name": "python",
   "nbconvert_exporter": "python",
   "pygments_lexer": "ipython3",
   "version": "3.8.10"
  }
 },
 "nbformat": 4,
 "nbformat_minor": 5
}
