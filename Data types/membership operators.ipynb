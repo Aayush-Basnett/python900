{
 "cells": [
  {
   "cell_type": "code",
   "execution_count": 7,
   "id": "89a9e089",
   "metadata": {},
   "outputs": [],
   "source": [
    "cars = [\"BMW\", \"Audi\", \"Tesla\", \"Mercedes\"]"
   ]
  },
  {
   "cell_type": "markdown",
   "id": "269df271",
   "metadata": {},
   "source": [
    "#### used to check whether a given item exists in a operator or not"
   ]
  },
  {
   "cell_type": "code",
   "execution_count": 2,
   "id": "43ee476d",
   "metadata": {},
   "outputs": [
    {
     "data": {
      "text/plain": [
       "True"
      ]
     },
     "execution_count": 2,
     "metadata": {},
     "output_type": "execute_result"
    }
   ],
   "source": [
    "\"Audi\" in cars"
   ]
  },
  {
   "cell_type": "code",
   "execution_count": 3,
   "id": "4bb36b4c",
   "metadata": {},
   "outputs": [
    {
     "data": {
      "text/plain": [
       "True"
      ]
     },
     "execution_count": 3,
     "metadata": {},
     "output_type": "execute_result"
    }
   ],
   "source": [
    "\"BMW\" in cars"
   ]
  },
  {
   "cell_type": "code",
   "execution_count": 4,
   "id": "b01a5796",
   "metadata": {},
   "outputs": [
    {
     "data": {
      "text/plain": [
       "False"
      ]
     },
     "execution_count": 4,
     "metadata": {},
     "output_type": "execute_result"
    }
   ],
   "source": [
    "\"Tata\" in cars"
   ]
  },
  {
   "cell_type": "code",
   "execution_count": 9,
   "id": "867311a2",
   "metadata": {},
   "outputs": [
    {
     "data": {
      "text/plain": [
       "False"
      ]
     },
     "execution_count": 9,
     "metadata": {},
     "output_type": "execute_result"
    }
   ],
   "source": [
    "\"Tesla\" not in cars #there's also. not"
   ]
  },
  {
   "cell_type": "markdown",
   "id": "1dedfad7",
   "metadata": {},
   "source": [
    "### this also applies in string"
   ]
  },
  {
   "cell_type": "code",
   "execution_count": 10,
   "id": "4328f4e3",
   "metadata": {},
   "outputs": [
    {
     "data": {
      "text/plain": [
       "True"
      ]
     },
     "execution_count": 10,
     "metadata": {},
     "output_type": "execute_result"
    }
   ],
   "source": [
    "msg = \"hi, i am aayush\"\n",
    "\"hi\" in msg"
   ]
  },
  {
   "cell_type": "code",
   "execution_count": 11,
   "id": "7f434155",
   "metadata": {},
   "outputs": [
    {
     "data": {
      "text/plain": [
       "False"
      ]
     },
     "execution_count": 11,
     "metadata": {},
     "output_type": "execute_result"
    }
   ],
   "source": [
    "\"ronaldooo\" in msg"
   ]
  },
  {
   "cell_type": "code",
   "execution_count": null,
   "id": "43508005",
   "metadata": {},
   "outputs": [],
   "source": []
  }
 ],
 "metadata": {
  "kernelspec": {
   "display_name": "Python 3 (ipykernel)",
   "language": "python",
   "name": "python3"
  },
  "language_info": {
   "codemirror_mode": {
    "name": "ipython",
    "version": 3
   },
   "file_extension": ".py",
   "mimetype": "text/x-python",
   "name": "python",
   "nbconvert_exporter": "python",
   "pygments_lexer": "ipython3",
   "version": "3.8.10"
  }
 },
 "nbformat": 4,
 "nbformat_minor": 5
}
