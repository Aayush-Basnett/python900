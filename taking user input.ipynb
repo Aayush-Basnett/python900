{
 "cells": [
  {
   "cell_type": "markdown",
   "id": "61d8d015",
   "metadata": {},
   "source": [
    "# datatypes in python\n",
    "* tuple\n",
    "* list\n",
    "* set\n",
    "* dictionary\n",
    "* strings\n",
    "* numbers (int, float, complex)\n"
   ]
  },
  {
   "cell_type": "code",
   "execution_count": 19,
   "id": "a702dbea",
   "metadata": {},
   "outputs": [
    {
     "name": "stdout",
     "output_type": "stream",
     "text": [
      "subhan allah\n"
     ]
    }
   ],
   "source": [
    "msg = input()"
   ]
  },
  {
   "cell_type": "code",
   "execution_count": 20,
   "id": "f5a42449",
   "metadata": {},
   "outputs": [
    {
     "data": {
      "text/plain": [
       "'subhan allah'"
      ]
     },
     "execution_count": 20,
     "metadata": {},
     "output_type": "execute_result"
    }
   ],
   "source": [
    "msg"
   ]
  },
  {
   "cell_type": "code",
   "execution_count": 4,
   "id": "edab5d6c",
   "metadata": {},
   "outputs": [
    {
     "name": "stdout",
     "output_type": "stream",
     "text": [
      "Greeting. hi there\n"
     ]
    }
   ],
   "source": [
    "reply = input(\"Greeting. \")\n"
   ]
  },
  {
   "cell_type": "code",
   "execution_count": 5,
   "id": "bb0c92c9",
   "metadata": {},
   "outputs": [
    {
     "data": {
      "text/plain": [
       "'hi there'"
      ]
     },
     "execution_count": 5,
     "metadata": {},
     "output_type": "execute_result"
    }
   ],
   "source": [
    "reply"
   ]
  },
  {
   "cell_type": "code",
   "execution_count": 9,
   "id": "3942f1c3",
   "metadata": {},
   "outputs": [
    {
     "name": "stdout",
     "output_type": "stream",
     "text": [
      "Enter first number: 45\n",
      "Enter second number: 5\n",
      "455\n"
     ]
    }
   ],
   "source": [
    "num1 = input(\"Enter first number: \") \n",
    "num2 =input(\"Enter second number: \")\n",
    "total = num1 + num2\n",
    "\n",
    "print(total)"
   ]
  },
  {
   "cell_type": "code",
   "execution_count": 11,
   "id": "c89a860d",
   "metadata": {},
   "outputs": [
    {
     "data": {
      "text/plain": [
       "str"
      ]
     },
     "execution_count": 11,
     "metadata": {},
     "output_type": "execute_result"
    }
   ],
   "source": [
    "type(total) #we want number not string so we do following"
   ]
  },
  {
   "cell_type": "markdown",
   "id": "fd2518e2",
   "metadata": {},
   "source": [
    "# type casting\n",
    "use this to take user input in a particular data type"
   ]
  },
  {
   "cell_type": "code",
   "execution_count": 14,
   "id": "8a4181e5",
   "metadata": {},
   "outputs": [
    {
     "name": "stdout",
     "output_type": "stream",
     "text": [
      "Enter first number: 45\n",
      "Enter second number: 5\n",
      "50 finally we are getting addition of number but not a string\n"
     ]
    }
   ],
   "source": [
    "num1 = int(input(\"Enter first number: \") ) \n",
    "num2 = int(input(\"Enter second number: \")) \n",
    "total = num1 + num2\n",
    "\n",
    "print(total,  \"finally we are getting addition of number but not a string\") "
   ]
  },
  {
   "cell_type": "code",
   "execution_count": 17,
   "id": "e5fea5b1",
   "metadata": {},
   "outputs": [
    {
     "name": "stdout",
     "output_type": "stream",
     "text": [
      "number 1 0.5\n"
     ]
    },
    {
     "ename": "ValueError",
     "evalue": "invalid literal for int() with base 10: '0.5'",
     "output_type": "error",
     "traceback": [
      "\u001b[0;31m---------------------------------------------------------------------------\u001b[0m",
      "\u001b[0;31mValueError\u001b[0m                                Traceback (most recent call last)",
      "Cell \u001b[0;32mIn[17], line 1\u001b[0m\n\u001b[0;32m----> 1\u001b[0m mul1 \u001b[38;5;241m=\u001b[39m \u001b[38;5;28;43mint\u001b[39;49m\u001b[43m(\u001b[49m\u001b[38;5;28;43minput\u001b[39;49m\u001b[43m(\u001b[49m\u001b[38;5;124;43m\"\u001b[39;49m\u001b[38;5;124;43mnumber 1 \u001b[39;49m\u001b[38;5;124;43m\"\u001b[39;49m\u001b[43m)\u001b[49m\u001b[43m)\u001b[49m\n\u001b[1;32m      2\u001b[0m mul2 \u001b[38;5;241m=\u001b[39m \u001b[38;5;28mint\u001b[39m(\u001b[38;5;28minput\u001b[39m(\u001b[38;5;124m\"\u001b[39m\u001b[38;5;124mnumber 2 \u001b[39m\u001b[38;5;124m\"\u001b[39m))\n\u001b[1;32m      3\u001b[0m multiplication \u001b[38;5;241m=\u001b[39m mul1 \u001b[38;5;241m*\u001b[39m mul2\n",
      "\u001b[0;31mValueError\u001b[0m: invalid literal for int() with base 10: '0.5'"
     ]
    }
   ],
   "source": [
    "mul1 = int(input(\"number 1 \"))\n",
    "mul2 = int(input(\"number 2 \"))\n",
    "multiplication = mul1 * mul2\n",
    "print(multiplication, \"is the result of multiplying mul1 and mul2\")"
   ]
  },
  {
   "cell_type": "code",
   "execution_count": 18,
   "id": "8b61a666",
   "metadata": {},
   "outputs": [
    {
     "name": "stdout",
     "output_type": "stream",
     "text": [
      "number 1 0.5\n",
      "number 2 0.7\n",
      "0.35 is the result of multiplying mul1 and mul2\n"
     ]
    }
   ],
   "source": [
    "mul1 = float(input(\"number 1 \"))\n",
    "mul2 = float(input(\"number 2 \"))\n",
    "multiplication = mul1 * mul2\n",
    "print(multiplication, \"is the result of multiplying mul1 and mul2\")"
   ]
  },
  {
   "cell_type": "markdown",
   "id": "9a701267",
   "metadata": {},
   "source": [
    "# input() takes string as default value"
   ]
  },
  {
   "cell_type": "code",
   "execution_count": null,
   "id": "1f58ce16",
   "metadata": {},
   "outputs": [],
   "source": []
  }
 ],
 "metadata": {
  "kernelspec": {
   "display_name": "Python 3 (ipykernel)",
   "language": "python",
   "name": "python3"
  },
  "language_info": {
   "codemirror_mode": {
    "name": "ipython",
    "version": 3
   },
   "file_extension": ".py",
   "mimetype": "text/x-python",
   "name": "python",
   "nbconvert_exporter": "python",
   "pygments_lexer": "ipython3",
   "version": "3.8.10"
  }
 },
 "nbformat": 4,
 "nbformat_minor": 5
}
