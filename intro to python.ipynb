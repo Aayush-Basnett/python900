{
 "cells": [
  {
   "cell_type": "code",
   "execution_count": 1,
   "id": "2e4aeae7",
   "metadata": {},
   "outputs": [
    {
     "data": {
      "text/plain": [
       "7"
      ]
     },
     "execution_count": 1,
     "metadata": {},
     "output_type": "execute_result"
    }
   ],
   "source": [
    "2 + 5"
   ]
  },
  {
   "cell_type": "code",
   "execution_count": 2,
   "id": "51a905e4",
   "metadata": {},
   "outputs": [
    {
     "name": "stdout",
     "output_type": "stream",
     "text": [
      "Hello World\n"
     ]
    }
   ],
   "source": [
    "print(\"Hello World\")"
   ]
  },
  {
   "cell_type": "code",
   "execution_count": 3,
   "id": "ea2c2d74",
   "metadata": {},
   "outputs": [
    {
     "data": {
      "text/plain": [
       "-4"
      ]
     },
     "execution_count": 3,
     "metadata": {},
     "output_type": "execute_result"
    }
   ],
   "source": [
    "5-9"
   ]
  },
  {
   "cell_type": "code",
   "execution_count": 4,
   "id": "456878ac",
   "metadata": {},
   "outputs": [
    {
     "data": {
      "text/plain": [
       "2.0"
      ]
     },
     "execution_count": 4,
     "metadata": {},
     "output_type": "execute_result"
    }
   ],
   "source": [
    "6/3"
   ]
  },
  {
   "cell_type": "code",
   "execution_count": 5,
   "id": "bfb45818",
   "metadata": {},
   "outputs": [
    {
     "data": {
      "text/plain": [
       "18"
      ]
     },
     "execution_count": 5,
     "metadata": {},
     "output_type": "execute_result"
    }
   ],
   "source": [
    "3*6"
   ]
  },
  {
   "cell_type": "code",
   "execution_count": 6,
   "id": "83b58725",
   "metadata": {},
   "outputs": [
    {
     "name": "stdout",
     "output_type": "stream",
     "text": [
      "8\n"
     ]
    }
   ],
   "source": [
    "a = 4\n",
    "b = 2\n",
    "c = a * b\n",
    "print(c)\n"
   ]
  },
  {
   "cell_type": "code",
   "execution_count": 7,
   "id": "b5e4bbf3",
   "metadata": {},
   "outputs": [
    {
     "name": "stdout",
     "output_type": "stream",
     "text": [
      "0\n"
     ]
    }
   ],
   "source": [
    "a = 5\n",
    "b = 5\n",
    "c = a - b\n",
    "print(c)\n"
   ]
  },
  {
   "cell_type": "markdown",
   "id": "d9983eaa",
   "metadata": {},
   "source": [
    "# Arithmatic operator\n",
    "* Addition(+)\n",
    "* Subtraction(-)\n",
    "* Multiplication(*)\n",
    "* Division (/)\n",
    "* Modulus (%)\n",
    "* Exponentiation (**)\n",
    "* Floor division (//)"
   ]
  },
  {
   "cell_type": "code",
   "execution_count": 8,
   "id": "525716cb",
   "metadata": {},
   "outputs": [
    {
     "data": {
      "text/plain": [
       "7.5"
      ]
     },
     "execution_count": 8,
     "metadata": {},
     "output_type": "execute_result"
    }
   ],
   "source": [
    "15/2"
   ]
  },
  {
   "cell_type": "markdown",
   "id": "86e5ac35",
   "metadata": {},
   "source": [
    "15//2"
   ]
  },
  {
   "cell_type": "code",
   "execution_count": 10,
   "id": "fbacdaf0",
   "metadata": {},
   "outputs": [
    {
     "data": {
      "text/plain": [
       "8"
      ]
     },
     "execution_count": 10,
     "metadata": {},
     "output_type": "execute_result"
    }
   ],
   "source": [
    "# Exponentiation\n",
    "2 ** 3 #2 to the power 3"
   ]
  },
  {
   "cell_type": "code",
   "execution_count": 11,
   "id": "f8c4e00e",
   "metadata": {},
   "outputs": [
    {
     "data": {
      "text/plain": [
       "2"
      ]
     },
     "execution_count": 11,
     "metadata": {},
     "output_type": "execute_result"
    }
   ],
   "source": [
    "14 % 4 # if we divide 19 by 4 then 2 is reminder,"
   ]
  },
  {
   "cell_type": "code",
   "execution_count": 12,
   "id": "80fe1941",
   "metadata": {},
   "outputs": [
    {
     "data": {
      "text/plain": [
       "0"
      ]
     },
     "execution_count": 12,
     "metadata": {},
     "output_type": "execute_result"
    }
   ],
   "source": [
    "10%5\n"
   ]
  },
  {
   "cell_type": "code",
   "execution_count": 1,
   "id": "2c4f1a16",
   "metadata": {},
   "outputs": [
    {
     "name": "stdout",
     "output_type": "stream",
     "text": [
      "36\n"
     ]
    }
   ],
   "source": [
    "a = 5\n",
    "b = 8\n",
    "c = 23\n",
    "d = a + b + c\n",
    "print(d)"
   ]
  },
  {
   "cell_type": "code",
   "execution_count": 2,
   "id": "cd024409",
   "metadata": {},
   "outputs": [
    {
     "name": "stdout",
     "output_type": "stream",
     "text": [
      "-26\n"
     ]
    }
   ],
   "source": [
    "d = a - b - c\n",
    "print(d)"
   ]
  },
  {
   "cell_type": "code",
   "execution_count": 3,
   "id": "c0fba624",
   "metadata": {},
   "outputs": [
    {
     "name": "stdout",
     "output_type": "stream",
     "text": [
      "115\n"
     ]
    }
   ],
   "source": [
    "d = a * c\n",
    "print(d)"
   ]
  },
  {
   "cell_type": "code",
   "execution_count": 4,
   "id": "23690083",
   "metadata": {},
   "outputs": [
    {
     "name": "stdout",
     "output_type": "stream",
     "text": [
      "14.375\n"
     ]
    }
   ],
   "source": [
    "d = d / b \n",
    "print(d)"
   ]
  },
  {
   "cell_type": "markdown",
   "id": "566edd48",
   "metadata": {},
   "source": [
    "# arithmatic operators\n",
    "* addition(+)\n",
    "* subtraction(-)\n",
    "* multiplication(*)\n",
    "* division(/)\n",
    "* modulus(%)\n",
    "* exponential(**)\n",
    "* floor division(//)"
   ]
  },
  {
   "cell_type": "markdown",
   "id": "d8722644",
   "metadata": {},
   "source": [
    "# modulus (%)\n"
   ]
  },
  {
   "cell_type": "code",
   "execution_count": 5,
   "id": "9b4ec872",
   "metadata": {},
   "outputs": [
    {
     "data": {
      "text/plain": [
       "1"
      ]
     },
     "execution_count": 5,
     "metadata": {},
     "output_type": "execute_result"
    }
   ],
   "source": [
    "9 % 2 # 1 is remainder if 9 is divided by 2"
   ]
  },
  {
   "cell_type": "markdown",
   "id": "3eda62c5",
   "metadata": {},
   "source": [
    "# exponentiation(**)\n",
    "this is power"
   ]
  },
  {
   "cell_type": "code",
   "execution_count": 6,
   "id": "8adee8d6",
   "metadata": {},
   "outputs": [
    {
     "data": {
      "text/plain": [
       "125"
      ]
     },
     "execution_count": 6,
     "metadata": {},
     "output_type": "execute_result"
    }
   ],
   "source": [
    "5 ** 3"
   ]
  },
  {
   "cell_type": "markdown",
   "id": "41cb03eb",
   "metadata": {},
   "source": [
    "# floor division(//)\n",
    "this is lowest whole number after division"
   ]
  },
  {
   "cell_type": "code",
   "execution_count": 7,
   "id": "89fe56bc",
   "metadata": {},
   "outputs": [
    {
     "data": {
      "text/plain": [
       "7"
      ]
     },
     "execution_count": 7,
     "metadata": {},
     "output_type": "execute_result"
    }
   ],
   "source": [
    "# eg if 15/2 7.5 then\n",
    "15 // 2"
   ]
  },
  {
   "cell_type": "code",
   "execution_count": 9,
   "id": "5795d54a",
   "metadata": {},
   "outputs": [
    {
     "name": "stdout",
     "output_type": "stream",
     "text": [
      "hello world\n"
     ]
    }
   ],
   "source": [
    "print(\"hello world\")"
   ]
  },
  {
   "cell_type": "markdown",
   "id": "ec72ea74",
   "metadata": {},
   "source": [
    "# python is \n",
    "* high level\n",
    "* interpreted\n",
    "* short syntax\n",
    "* dynamically typed \n",
    "* object oriented language\n"
   ]
  },
  {
   "cell_type": "code",
   "execution_count": 10,
   "id": "7c61bca5",
   "metadata": {},
   "outputs": [
    {
     "name": "stdout",
     "output_type": "stream",
     "text": [
      "5 8 23\n"
     ]
    }
   ],
   "source": [
    "print(a, b, c)\n"
   ]
  },
  {
   "cell_type": "code",
   "execution_count": 12,
   "id": "3827f6b9",
   "metadata": {},
   "outputs": [
    {
     "name": "stdout",
     "output_type": "stream",
     "text": [
      "3\n"
     ]
    }
   ],
   "source": [
    "d = c % a #modulus\n",
    "print(d)"
   ]
  },
  {
   "cell_type": "code",
   "execution_count": 14,
   "id": "e06180bd",
   "metadata": {},
   "outputs": [
    {
     "name": "stdout",
     "output_type": "stream",
     "text": [
      "390625\n"
     ]
    }
   ],
   "source": [
    "d = a ** b # exponential\n",
    "print(d)"
   ]
  },
  {
   "cell_type": "code",
   "execution_count": 16,
   "id": "7e091e33",
   "metadata": {},
   "outputs": [
    {
     "name": "stdout",
     "output_type": "stream",
     "text": [
      "4\n"
     ]
    }
   ],
   "source": [
    "d = c // a # floor division\n",
    "print(d)"
   ]
  },
  {
   "cell_type": "markdown",
   "id": "af0e0fa9",
   "metadata": {},
   "source": [
    "if $$x = 5$$\n",
    "and $$c = 7$$\n",
    "find $x^c$"
   ]
  },
  {
   "cell_type": "code",
   "execution_count": 1,
   "id": "30f89afd",
   "metadata": {},
   "outputs": [
    {
     "name": "stdout",
     "output_type": "stream",
     "text": [
      "78125\n"
     ]
    }
   ],
   "source": [
    "x, c = 5, 7\n",
    "print(x**c)"
   ]
  },
  {
   "cell_type": "markdown",
   "id": "2ca7cdfa",
   "metadata": {},
   "source": [
    "# if $x = 40$ $y =3$ find floor division of $\\frac{x}{y}$"
   ]
  },
  {
   "cell_type": "code",
   "execution_count": 3,
   "id": "a8897607",
   "metadata": {},
   "outputs": [
    {
     "name": "stdout",
     "output_type": "stream",
     "text": [
      "the floor division value is 13\n"
     ]
    }
   ],
   "source": [
    "x, y = 40, 3\n",
    "z = x//y\n",
    "print(f\"the floor division value is {z}\")"
   ]
  },
  {
   "cell_type": "code",
   "execution_count": null,
   "id": "f8b7d25a",
   "metadata": {},
   "outputs": [],
   "source": []
  }
 ],
 "metadata": {
  "kernelspec": {
   "display_name": "Python 3 (ipykernel)",
   "language": "python",
   "name": "python3"
  },
  "language_info": {
   "codemirror_mode": {
    "name": "ipython",
    "version": 3
   },
   "file_extension": ".py",
   "mimetype": "text/x-python",
   "name": "python",
   "nbconvert_exporter": "python",
   "pygments_lexer": "ipython3",
   "version": "3.8.10"
  }
 },
 "nbformat": 4,
 "nbformat_minor": 5
}
