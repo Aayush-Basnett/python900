{
 "cells": [
  {
   "cell_type": "markdown",
   "id": "08fe8622",
   "metadata": {},
   "source": [
    "SQL is case insensative language"
   ]
  },
  {
   "cell_type": "code",
   "execution_count": 1,
   "id": "7335f9c5",
   "metadata": {},
   "outputs": [],
   "source": [
    "import sqlite3"
   ]
  },
  {
   "cell_type": "code",
   "execution_count": 3,
   "id": "c8194d21",
   "metadata": {},
   "outputs": [],
   "source": [
    "con = sqlite3.connect(\"bradway.db\")"
   ]
  },
  {
   "cell_type": "markdown",
   "id": "3263fbed",
   "metadata": {},
   "source": [
    "# Create statement in SQL\n",
    "```sql\n",
    "create table table_name (column_name datatype, column_name datatype, ...)\n",
    "```"
   ]
  },
  {
   "cell_type": "code",
   "execution_count": 30,
   "id": "ee2f125e",
   "metadata": {},
   "outputs": [],
   "source": [
    "query = \"\"\"\n",
    "create table student(name varchar(50), phone_number int)\n",
    "\"\"\""
   ]
  },
  {
   "cell_type": "markdown",
   "id": "9cdf8fb8",
   "metadata": {},
   "source": [
    "# you need cursor to execute sql query from python\n",
    "```sql\n",
    "cur = con.cursor()\n",
    "```"
   ]
  },
  {
   "cell_type": "code",
   "execution_count": 11,
   "id": "08cf242c",
   "metadata": {},
   "outputs": [],
   "source": [
    "cur = con.cursor()"
   ]
  },
  {
   "cell_type": "code",
   "execution_count": 12,
   "id": "21f7e32f",
   "metadata": {},
   "outputs": [
    {
     "data": {
      "text/plain": [
       "<sqlite3.Cursor at 0x7fa0186c3c70>"
      ]
     },
     "execution_count": 12,
     "metadata": {},
     "output_type": "execute_result"
    }
   ],
   "source": [
    "cur.execute(query)"
   ]
  },
  {
   "cell_type": "markdown",
   "id": "2ab7700e",
   "metadata": {},
   "source": [
    "# Insert data in sql\n",
    "```sql\n",
    "Insert into table_name (column_name, column_name ...)\n",
    "values\n",
    "(val1, val2, ...),\n",
    "(val11, val12, ...)\n",
    "```"
   ]
  },
  {
   "cell_type": "code",
   "execution_count": 13,
   "id": "51555e46",
   "metadata": {},
   "outputs": [],
   "source": [
    "#DOUBLE QUOTE BHITRA SINGLE QUOTTE HUNCHA\n",
    "query = \"\"\"\n",
    "insert into student (name, phone_number)\n",
    "values\n",
    "('Aayush', 9840),  \n",
    "('mishil', 98607),\n",
    "('John', 987833)\n",
    "\"\"\"\n"
   ]
  },
  {
   "cell_type": "code",
   "execution_count": 15,
   "id": "fbc32257",
   "metadata": {},
   "outputs": [
    {
     "data": {
      "text/plain": [
       "<sqlite3.Cursor at 0x7fa0186c3c70>"
      ]
     },
     "execution_count": 15,
     "metadata": {},
     "output_type": "execute_result"
    }
   ],
   "source": [
    "cur.execute(query)"
   ]
  },
  {
   "cell_type": "markdown",
   "id": "05763cdf",
   "metadata": {},
   "source": [
    "# read data from sql table/ select operation\n",
    "```sql\n",
    "select column_name from table_name\n",
    "```"
   ]
  },
  {
   "cell_type": "code",
   "execution_count": 17,
   "id": "ce4a96e7",
   "metadata": {},
   "outputs": [
    {
     "data": {
      "text/plain": [
       "[('Aayush', 9840), ('mishil', 98607), ('John', 987833)]"
      ]
     },
     "execution_count": 17,
     "metadata": {},
     "output_type": "execute_result"
    }
   ],
   "source": [
    "query = 'select * from student'\n",
    "cur.execute(query).fetchall()"
   ]
  },
  {
   "cell_type": "code",
   "execution_count": 18,
   "id": "fb3c5471",
   "metadata": {},
   "outputs": [
    {
     "data": {
      "text/plain": [
       "[('Aayush',), ('mishil',), ('John',)]"
      ]
     },
     "execution_count": 18,
     "metadata": {},
     "output_type": "execute_result"
    }
   ],
   "source": [
    "query = 'select name from student'\n",
    "cur.execute(query).fetchall()"
   ]
  },
  {
   "cell_type": "code",
   "execution_count": 20,
   "id": "4c1fa040",
   "metadata": {},
   "outputs": [
    {
     "data": {
      "text/plain": [
       "[(9840,), (98607,), (987833,)]"
      ]
     },
     "execution_count": 20,
     "metadata": {},
     "output_type": "execute_result"
    }
   ],
   "source": [
    "query = 'select phone_number from student'\n",
    "cur.execute(query).fetchall()"
   ]
  },
  {
   "cell_type": "markdown",
   "id": "107a183f",
   "metadata": {},
   "source": [
    "# where clause"
   ]
  },
  {
   "cell_type": "code",
   "execution_count": 21,
   "id": "88333d0c",
   "metadata": {},
   "outputs": [
    {
     "data": {
      "text/plain": [
       "[(9840,)]"
      ]
     },
     "execution_count": 21,
     "metadata": {},
     "output_type": "execute_result"
    }
   ],
   "source": [
    "cur.execute(\"select phone_number from student where name = 'Aayush'\").fetchall()"
   ]
  },
  {
   "cell_type": "code",
   "execution_count": 23,
   "id": "5293667f",
   "metadata": {},
   "outputs": [
    {
     "data": {
      "text/plain": [
       "[(98607,)]"
      ]
     },
     "execution_count": 23,
     "metadata": {},
     "output_type": "execute_result"
    }
   ],
   "source": [
    "cur.execute(\"select phone_number from student where name = 'mishil'\").fetchall()"
   ]
  },
  {
   "cell_type": "code",
   "execution_count": 24,
   "id": "8ec45e7a",
   "metadata": {},
   "outputs": [],
   "source": [
    "#malai mishil manpardaina, so i want to change his name then"
   ]
  },
  {
   "cell_type": "markdown",
   "id": "54c2ed9e",
   "metadata": {},
   "source": [
    "# update in sql"
   ]
  },
  {
   "cell_type": "code",
   "execution_count": 28,
   "id": "e837ad8b",
   "metadata": {},
   "outputs": [
    {
     "data": {
      "text/plain": [
       "<sqlite3.Cursor at 0x7fa0186c3c70>"
      ]
     },
     "execution_count": 28,
     "metadata": {},
     "output_type": "execute_result"
    }
   ],
   "source": [
    "cur.execute(\"update student set name = 'Big Boy' where phone_number = 98607\")"
   ]
  },
  {
   "cell_type": "code",
   "execution_count": 29,
   "id": "910da4de",
   "metadata": {},
   "outputs": [
    {
     "data": {
      "text/plain": [
       "[('Aayush', 9840), ('Big Boy', 98607), ('John', 987833)]"
      ]
     },
     "execution_count": 29,
     "metadata": {},
     "output_type": "execute_result"
    }
   ],
   "source": [
    "cur.execute(\"select * from student\").fetchall()"
   ]
  },
  {
   "cell_type": "code",
   "execution_count": null,
   "id": "7a8fd506",
   "metadata": {},
   "outputs": [],
   "source": []
  }
 ],
 "metadata": {
  "kernelspec": {
   "display_name": "Python 3 (ipykernel)",
   "language": "python",
   "name": "python3"
  },
  "language_info": {
   "codemirror_mode": {
    "name": "ipython",
    "version": 3
   },
   "file_extension": ".py",
   "mimetype": "text/x-python",
   "name": "python",
   "nbconvert_exporter": "python",
   "pygments_lexer": "ipython3",
   "version": "3.8.10"
  }
 },
 "nbformat": 4,
 "nbformat_minor": 5
}
