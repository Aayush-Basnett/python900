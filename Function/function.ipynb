{
 "cells": [
  {
   "cell_type": "code",
   "execution_count": null,
   "id": "d7d62832",
   "metadata": {},
   "outputs": [],
   "source": [
    "a = 5\n",
    "b = 3\n",
    "c = a + b\n",
    "print(c)"
   ]
  },
  {
   "cell_type": "code",
   "execution_count": null,
   "id": "d22b1561",
   "metadata": {},
   "outputs": [],
   "source": [
    "def add_numbers():\n",
    "    a = 5\n",
    "    b = 3\n",
    "    c = a + b\n",
    "    print(c)"
   ]
  },
  {
   "cell_type": "code",
   "execution_count": null,
   "id": "f67c6746",
   "metadata": {},
   "outputs": [],
   "source": [
    "add_numbers() #this is how you call a function, Same as JS"
   ]
  },
  {
   "cell_type": "code",
   "execution_count": null,
   "id": "06cd47cd",
   "metadata": {},
   "outputs": [],
   "source": [
    "def add_numbers(a, b):\n",
    "    c = a + b\n",
    "    print(c)\n"
   ]
  },
  {
   "cell_type": "code",
   "execution_count": null,
   "id": "c69438ad",
   "metadata": {},
   "outputs": [],
   "source": [
    "add_numbers(a=4, b=3)"
   ]
  },
  {
   "cell_type": "code",
   "execution_count": null,
   "id": "4ed27c7c",
   "metadata": {},
   "outputs": [],
   "source": [
    "def vol_of_sq(pi, radius):\n",
    "    vol = 4/3 * pi * radius **3\n",
    "    return vol"
   ]
  },
  {
   "cell_type": "code",
   "execution_count": null,
   "id": "38c1d018",
   "metadata": {},
   "outputs": [],
   "source": [
    "vol_of_sq(pi = 3.14, radius = 5)\n"
   ]
  },
  {
   "cell_type": "code",
   "execution_count": null,
   "id": "4bb772d4",
   "metadata": {},
   "outputs": [],
   "source": [
    "vol_of_sq"
   ]
  },
  {
   "cell_type": "code",
   "execution_count": null,
   "id": "61b18439",
   "metadata": {},
   "outputs": [],
   "source": []
  },
  {
   "cell_type": "code",
   "execution_count": null,
   "id": "f81f2821",
   "metadata": {},
   "outputs": [],
   "source": [
    "def vol(pi, radius):\n",
    "    vol = 4/3 * pi * radius **3\n",
    "    return vol\n",
    "\n",
    "import math\n",
    "pi = math.pi\n",
    "r = float(input(\"Enter radius: \"))\n",
    "\n",
    "volume = vol(pi=pi, radius = r)\n",
    "print(volume)"
   ]
  },
  {
   "cell_type": "code",
   "execution_count": null,
   "id": "68ad76d1",
   "metadata": {},
   "outputs": [],
   "source": [
    "def square(number):\n",
    "    sq = []\n",
    "    for item in number:\n",
    "        sq.append(item ** 2)\n",
    "    return sq\n"
   ]
  },
  {
   "cell_type": "code",
   "execution_count": null,
   "id": "9c56c82d",
   "metadata": {},
   "outputs": [],
   "source": [
    "nums = [4, 3, 5, 1]\n",
    "square(number = nums)"
   ]
  },
  {
   "cell_type": "markdown",
   "id": "96b9dadc",
   "metadata": {},
   "source": [
    "### alt soln"
   ]
  },
  {
   "cell_type": "code",
   "execution_count": null,
   "id": "dc2d2be0",
   "metadata": {},
   "outputs": [],
   "source": [
    "def square(number):\n",
    "    return(item ** 2 for item in number)\n",
    "nums = [4, 3, 5, 1] \n",
    "result = square(nums)\n",
    "print(list(result))"
   ]
  },
  {
   "cell_type": "code",
   "execution_count": null,
   "id": "5a0ee147",
   "metadata": {},
   "outputs": [],
   "source": []
  },
  {
   "cell_type": "markdown",
   "id": "9f8471cf",
   "metadata": {},
   "source": [
    "# syntax\n",
    "```python\n",
    "def functionname(parameters):\n",
    "    #function_suite/ body\n",
    "    return Expression\n",
    "```"
   ]
  },
  {
   "cell_type": "markdown",
   "id": "a5fc6828",
   "metadata": {},
   "source": [
    "# Assignment- 1\n",
    "Write a funciton to calculate the factorial of a non negative number"
   ]
  },
  {
   "cell_type": "code",
   "execution_count": 33,
   "id": "712d4dc6",
   "metadata": {},
   "outputs": [],
   "source": [
    "\n",
    "def fact(num):\n",
    "    factorial = 1\n",
    "\n",
    "    if num > 0:\n",
    "        for item in range(1, num + 1):\n",
    "            factorial *= num\n",
    "            num -= 1\n",
    "        return factorial\n",
    "    else:\n",
    "        return \"Please enter positive number\"            "
   ]
  },
  {
   "cell_type": "code",
   "execution_count": 36,
   "id": "c0744bdb",
   "metadata": {},
   "outputs": [
    {
     "data": {
      "text/plain": [
       "120"
      ]
     },
     "execution_count": 36,
     "metadata": {},
     "output_type": "execute_result"
    }
   ],
   "source": [
    "fact(5)"
   ]
  },
  {
   "cell_type": "code",
   "execution_count": 38,
   "id": "35e36183",
   "metadata": {},
   "outputs": [],
   "source": [
    "# Alt using while loop\n",
    "num = 5\n",
    "def fact(num):\n",
    "    factorial = 1\n",
    "    while num > 0:\n",
    "        factorial *= num\n",
    "        num -= 1\n",
    "    return factorial"
   ]
  },
  {
   "cell_type": "code",
   "execution_count": 40,
   "id": "224e972f",
   "metadata": {},
   "outputs": [
    {
     "data": {
      "text/plain": [
       "24"
      ]
     },
     "execution_count": 40,
     "metadata": {},
     "output_type": "execute_result"
    }
   ],
   "source": [
    "fact(4)"
   ]
  },
  {
   "cell_type": "markdown",
   "id": "fc32b942",
   "metadata": {},
   "source": [
    "# Assignment- 2\n",
    "Write a python function that accepts a string and calculates the number of upper-case letters and lower-case letters\n"
   ]
  },
  {
   "cell_type": "code",
   "execution_count": 43,
   "id": "ea344b74",
   "metadata": {},
   "outputs": [],
   "source": [
    "def calc_string(string):\n",
    "    upper = 0\n",
    "    lower = 0\n",
    "    for letter in string:\n",
    "        if letter.isupper():\n",
    "            upper += 1\n",
    "        elif letter == \" \" or letter.isdigit() or letter.isalnum(): #isalnum checks whether letter is special character (!@#$ etc) or not\n",
    "            continue\n",
    "        else:\n",
    "            lower += 1\n",
    "    return upper, lower"
   ]
  },
  {
   "cell_type": "code",
   "execution_count": 52,
   "id": "2ec05d65",
   "metadata": {},
   "outputs": [
    {
     "name": "stdout",
     "output_type": "stream",
     "text": [
      "There are total of 2 upper-case and 5 lower-case letters\n"
     ]
    }
   ],
   "source": [
    "check = calc_string(\"My House\")\n",
    "print(f\"There are total of {check[0]} upper-case and {check[1]} lower-case letters\")"
   ]
  },
  {
   "cell_type": "markdown",
   "id": "df67fbea",
   "metadata": {},
   "source": [
    "# Assignment- 3\n",
    "Write a Python program that accepts a hyphen-separated sequence of words as input\n",
    "and prints the words in a hyphen-separated sequence after sorting them alphabetically.\n",
    "\n",
    "<ul>\n",
    "<li>Sample Items : green-red-yellow-black-white\n",
    "</li>\n",
    "<li>Expected Result : black-green-red-white-yellow</li>\n",
    "\n",
    "</ul>\n"
   ]
  },
  {
   "cell_type": "code",
   "execution_count": 63,
   "id": "a3b05902",
   "metadata": {},
   "outputs": [
    {
     "name": "stdout",
     "output_type": "stream",
     "text": [
      "chicken-momo\n"
     ]
    }
   ],
   "source": [
    "# first understand .join()\n",
    "my_list = [\"chicken\", \"momo\"]\n",
    "#if i want to join these using \"-\" then:\n",
    "joined_list = \"-\".join(my_list)\n",
    "print(joined_list)"
   ]
  },
  {
   "cell_type": "code",
   "execution_count": 64,
   "id": "bf24aa07",
   "metadata": {},
   "outputs": [
    {
     "name": "stdout",
     "output_type": "stream",
     "text": [
      "black-green-red-white-yellow\n"
     ]
    }
   ],
   "source": [
    "def sort_alph(string):\n",
    "    splitted = sorted(string.split(\"-\"))\n",
    "    arranged = \"-\".join(splitted)\n",
    "    return arranged\n",
    "\n",
    "print(sort_alph(\"green-red-yellow-black-white\"))"
   ]
  },
  {
   "cell_type": "markdown",
   "id": "37330262",
   "metadata": {},
   "source": [
    "# Assignment- 4\n",
    "wap to check prime number"
   ]
  },
  {
   "cell_type": "code",
   "execution_count": 67,
   "id": "e4c04306",
   "metadata": {},
   "outputs": [
    {
     "data": {
      "text/plain": [
       "False"
      ]
     },
     "execution_count": 67,
     "metadata": {},
     "output_type": "execute_result"
    }
   ],
   "source": [
    "def is_prime(number):\n",
    "    for num in range(2, number):\n",
    "        if number % num == 0:\n",
    "            return False\n",
    "    return True\n",
    "is_prime(number = 45)\n",
    "    "
   ]
  },
  {
   "cell_type": "code",
   "execution_count": null,
   "id": "cec7e5f5",
   "metadata": {},
   "outputs": [],
   "source": []
  }
 ],
 "metadata": {
  "kernelspec": {
   "display_name": "Python 3 (ipykernel)",
   "language": "python",
   "name": "python3"
  },
  "language_info": {
   "codemirror_mode": {
    "name": "ipython",
    "version": 3
   },
   "file_extension": ".py",
   "mimetype": "text/x-python",
   "name": "python",
   "nbconvert_exporter": "python",
   "pygments_lexer": "ipython3",
   "version": "3.8.10"
  }
 },
 "nbformat": 4,
 "nbformat_minor": 5
}
