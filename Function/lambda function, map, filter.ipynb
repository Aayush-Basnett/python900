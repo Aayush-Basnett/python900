{
 "cells": [
  {
   "cell_type": "markdown",
   "id": "bda3bf76",
   "metadata": {},
   "source": [
    "### lambda function is aka anonymous function\n",
    "It is a funciton with no name when it's defined. In python, lambda keyword is used to defince anonymousfunctions rather than the def keyword, which is used for normal functions. \n",
    "\n",
    "Lambda function is used with:\n",
    "* map\n",
    "* filter\n",
    "\n",
    "``` python\n",
    "lambda arguments: Expression\n",
    "```\n"
   ]
  },
  {
   "cell_type": "code",
   "execution_count": 5,
   "id": "237f7e6d",
   "metadata": {},
   "outputs": [
    {
     "data": {
      "text/plain": [
       "2"
      ]
     },
     "execution_count": 5,
     "metadata": {},
     "output_type": "execute_result"
    }
   ],
   "source": [
    "import random\n",
    "random.randint(1, 5) #generates one random integer, both 1 and 5 are included."
   ]
  },
  {
   "cell_type": "code",
   "execution_count": 8,
   "id": "c1b8c91b",
   "metadata": {},
   "outputs": [
    {
     "data": {
      "text/plain": [
       "4"
      ]
     },
     "execution_count": 8,
     "metadata": {},
     "output_type": "execute_result"
    }
   ],
   "source": [
    "import random\n",
    "random.seed(0) #helps to recreate the same random number everytime\n",
    "random.randint(1, 5)"
   ]
  },
  {
   "cell_type": "code",
   "execution_count": 11,
   "id": "3010000e",
   "metadata": {},
   "outputs": [
    {
     "data": {
      "text/plain": [
       "[3, 5, 3, 2, 10, 5]"
      ]
     },
     "execution_count": 11,
     "metadata": {},
     "output_type": "execute_result"
    }
   ],
   "source": [
    "import random\n",
    "dat = [random.randint(1, 10) for item in range(6)]\n",
    "dat"
   ]
  },
  {
   "cell_type": "code",
   "execution_count": 12,
   "id": "9409e7cd",
   "metadata": {},
   "outputs": [
    {
     "data": {
      "text/plain": [
       "[10, 5, 6, 9, 1, 8]"
      ]
     },
     "execution_count": 12,
     "metadata": {},
     "output_type": "execute_result"
    }
   ],
   "source": [
    "#using seed\n",
    "import random\n",
    "random.seed(5)\n",
    "dat = [random.randint(1, 10) for item in range(6)]\n",
    "dat"
   ]
  },
  {
   "cell_type": "code",
   "execution_count": 14,
   "id": "370bc453",
   "metadata": {},
   "outputs": [
    {
     "data": {
      "text/plain": [
       "[1000, 125, 216, 729, 1, 512]"
      ]
     },
     "execution_count": 14,
     "metadata": {},
     "output_type": "execute_result"
    }
   ],
   "source": [
    "#to find cube of each number in dat\n",
    "[item ** 3 for item in dat]"
   ]
  },
  {
   "cell_type": "markdown",
   "id": "7ac95ad4",
   "metadata": {},
   "source": [
    "this can be also done by lambda function"
   ]
  },
  {
   "cell_type": "code",
   "execution_count": 15,
   "id": "6c176a51",
   "metadata": {},
   "outputs": [
    {
     "data": {
      "text/plain": [
       "<map at 0x7fa57b3a3850>"
      ]
     },
     "execution_count": 15,
     "metadata": {},
     "output_type": "execute_result"
    }
   ],
   "source": [
    "map(lambda x: x ** 3, dat)"
   ]
  },
  {
   "cell_type": "code",
   "execution_count": 16,
   "id": "6f7451a4",
   "metadata": {},
   "outputs": [
    {
     "data": {
      "text/plain": [
       "[1000, 125, 216, 729, 1, 512]"
      ]
     },
     "execution_count": 16,
     "metadata": {},
     "output_type": "execute_result"
    }
   ],
   "source": [
    "list(map(lambda x: x ** 3, dat))"
   ]
  },
  {
   "cell_type": "code",
   "execution_count": 19,
   "id": "1a5f44dc",
   "metadata": {},
   "outputs": [
    {
     "data": {
      "text/plain": [
       "<filter at 0x7fa57b8279d0>"
      ]
     },
     "execution_count": 19,
     "metadata": {},
     "output_type": "execute_result"
    }
   ],
   "source": [
    "# make a list of even numbers\n",
    "import random\n",
    "random.seed(5)\n",
    "dat = [random.randint(1, 10) for item in range(6)]\n",
    "dat\n",
    "filter(lambda x: x% 2 == 0, dat)\n"
   ]
  },
  {
   "cell_type": "code",
   "execution_count": 18,
   "id": "768a2145",
   "metadata": {},
   "outputs": [
    {
     "data": {
      "text/plain": [
       "[10, 6, 8]"
      ]
     },
     "execution_count": 18,
     "metadata": {},
     "output_type": "execute_result"
    }
   ],
   "source": [
    "list(filter(lambda x: x% 2 == 0, dat))"
   ]
  },
  {
   "cell_type": "code",
   "execution_count": 20,
   "id": "a01024fb",
   "metadata": {},
   "outputs": [
    {
     "data": {
      "text/plain": [
       "[10, 5, 6, 9, 1, 8]"
      ]
     },
     "execution_count": 20,
     "metadata": {},
     "output_type": "execute_result"
    }
   ],
   "source": [
    "#make a list of odd numbers\n",
    "list(filter(lambda x: x != 0, dat ))"
   ]
  },
  {
   "cell_type": "code",
   "execution_count": null,
   "id": "80e6d4ec",
   "metadata": {},
   "outputs": [],
   "source": []
  }
 ],
 "metadata": {
  "kernelspec": {
   "display_name": "Python 3 (ipykernel)",
   "language": "python",
   "name": "python3"
  },
  "language_info": {
   "codemirror_mode": {
    "name": "ipython",
    "version": 3
   },
   "file_extension": ".py",
   "mimetype": "text/x-python",
   "name": "python",
   "nbconvert_exporter": "python",
   "pygments_lexer": "ipython3",
   "version": "3.8.10"
  }
 },
 "nbformat": 4,
 "nbformat_minor": 5
}
