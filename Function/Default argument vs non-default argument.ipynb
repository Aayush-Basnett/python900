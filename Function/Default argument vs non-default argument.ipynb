{
 "cells": [
  {
   "cell_type": "code",
   "execution_count": 1,
   "id": "9d05902c",
   "metadata": {},
   "outputs": [],
   "source": [
    "def greet(name, msg):\n",
    "    print(f\"Hi, {name}, {msg}\")"
   ]
  },
  {
   "cell_type": "code",
   "execution_count": 2,
   "id": "cc666358",
   "metadata": {},
   "outputs": [
    {
     "name": "stdout",
     "output_type": "stream",
     "text": [
      "Hi, Aayush, Goodmorning\n"
     ]
    }
   ],
   "source": [
    "greet(name =\"Aayush\", msg = \"Goodmorning\")"
   ]
  },
  {
   "cell_type": "code",
   "execution_count": 4,
   "id": "8f96759e",
   "metadata": {},
   "outputs": [
    {
     "name": "stdout",
     "output_type": "stream",
     "text": [
      "Hi, haaland, god morgen\n"
     ]
    }
   ],
   "source": [
    "greet(name =\"haaland\", msg = \"Goodmorning\")"
   ]
  },
  {
   "cell_type": "markdown",
   "id": "de28dd33",
   "metadata": {},
   "source": [
    "### If i want to pass goodmorning as default value than"
   ]
  },
  {
   "cell_type": "code",
   "execution_count": 7,
   "id": "bd840878",
   "metadata": {},
   "outputs": [],
   "source": [
    "def greet(name, msg = \"Good morning\"): #msg is default argument\n",
    "    print(f\"Hi, {name}, {msg}\")"
   ]
  },
  {
   "cell_type": "code",
   "execution_count": 6,
   "id": "531a4bd1",
   "metadata": {},
   "outputs": [
    {
     "name": "stdout",
     "output_type": "stream",
     "text": [
      "Hi, Patrick, Good morning\n"
     ]
    }
   ],
   "source": [
    "greet(name= \"Patrick\")"
   ]
  },
  {
   "cell_type": "code",
   "execution_count": 9,
   "id": "0b2656d8",
   "metadata": {},
   "outputs": [
    {
     "name": "stdout",
     "output_type": "stream",
     "text": [
      "Hi, girl, you are cute\n"
     ]
    }
   ],
   "source": [
    "# if i want to change the msg then\n",
    "greet(name =\"girl\", msg = \"you are cute\")# \"you are cute\" overwrites \"Good morning\""
   ]
  },
  {
   "cell_type": "code",
   "execution_count": 10,
   "id": "570b9299",
   "metadata": {},
   "outputs": [
    {
     "ename": "SyntaxError",
     "evalue": "non-default argument follows default argument (1678219169.py, line 2)",
     "output_type": "error",
     "traceback": [
      "\u001b[0;36m  Cell \u001b[0;32mIn[10], line 2\u001b[0;36m\u001b[0m\n\u001b[0;31m    def greet(msg = \"Good morning\", name):\u001b[0m\n\u001b[0m              ^\u001b[0m\n\u001b[0;31mSyntaxError\u001b[0m\u001b[0;31m:\u001b[0m non-default argument follows default argument\n"
     ]
    }
   ],
   "source": [
    "#this is not allowed\n",
    "def greet(msg = \"Good morning\", name): \n",
    "    print(f\"Hi, {name}, {msg}\")\n"
   ]
  },
  {
   "cell_type": "markdown",
   "id": "155b69bd",
   "metadata": {},
   "source": [
    "### you cannot write default argument before non default argument in python\n",
    "* non default argument: name\n",
    "* default argument: msg\n",
    "you must write non-default first then default (default last ma hunu parcha)"
   ]
  },
  {
   "cell_type": "code",
   "execution_count": null,
   "id": "bc756b17",
   "metadata": {},
   "outputs": [],
   "source": []
  }
 ],
 "metadata": {
  "kernelspec": {
   "display_name": "Python 3 (ipykernel)",
   "language": "python",
   "name": "python3"
  },
  "language_info": {
   "codemirror_mode": {
    "name": "ipython",
    "version": 3
   },
   "file_extension": ".py",
   "mimetype": "text/x-python",
   "name": "python",
   "nbconvert_exporter": "python",
   "pygments_lexer": "ipython3",
   "version": "3.8.10"
  }
 },
 "nbformat": 4,
 "nbformat_minor": 5
}
