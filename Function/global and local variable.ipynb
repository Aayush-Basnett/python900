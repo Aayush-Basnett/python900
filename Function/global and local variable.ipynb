{
 "cells": [
  {
   "cell_type": "code",
   "execution_count": 1,
   "id": "213847b1",
   "metadata": {},
   "outputs": [],
   "source": [
    "x = \"awesome\"\n",
    "def ahhyeah():\n",
    "    x = \"fantastic\"\n",
    "    language = \"Javascript\"\n",
    "    print(x, language)"
   ]
  },
  {
   "cell_type": "code",
   "execution_count": 4,
   "id": "6a3ebc93",
   "metadata": {},
   "outputs": [
    {
     "data": {
      "text/plain": [
       "'awesome'"
      ]
     },
     "execution_count": 4,
     "metadata": {},
     "output_type": "execute_result"
    }
   ],
   "source": [
    "x #this is global variable"
   ]
  },
  {
   "cell_type": "code",
   "execution_count": 5,
   "id": "d4890057",
   "metadata": {},
   "outputs": [
    {
     "name": "stdout",
     "output_type": "stream",
     "text": [
      "fantastic Javascript\n"
     ]
    }
   ],
   "source": [
    "ahhyeah() #this is local variable"
   ]
  },
  {
   "cell_type": "code",
   "execution_count": 6,
   "id": "55dcc8f1",
   "metadata": {},
   "outputs": [],
   "source": [
    "x = \"awesome\"\n",
    "def ahhyeah():\n",
    "    global x\n",
    "    x = \"fantastic\"\n",
    "    language = \"Javascript\"\n",
    "    print(x, language)"
   ]
  },
  {
   "cell_type": "code",
   "execution_count": 7,
   "id": "797ffdb8",
   "metadata": {},
   "outputs": [
    {
     "data": {
      "text/plain": [
       "'awesome'"
      ]
     },
     "execution_count": 7,
     "metadata": {},
     "output_type": "execute_result"
    }
   ],
   "source": [
    "x\n"
   ]
  },
  {
   "cell_type": "code",
   "execution_count": 11,
   "id": "09a22650",
   "metadata": {},
   "outputs": [
    {
     "name": "stdout",
     "output_type": "stream",
     "text": [
      "fantastic Javascript\n"
     ]
    }
   ],
   "source": [
    "ahhyeah() #you have to first call a function to make the local variable global"
   ]
  },
  {
   "cell_type": "code",
   "execution_count": 9,
   "id": "156d3327",
   "metadata": {},
   "outputs": [
    {
     "data": {
      "text/plain": [
       "'fantastic'"
      ]
     },
     "execution_count": 9,
     "metadata": {},
     "output_type": "execute_result"
    }
   ],
   "source": [
    "x"
   ]
  },
  {
   "cell_type": "code",
   "execution_count": 10,
   "id": "4a1d584e",
   "metadata": {},
   "outputs": [
    {
     "data": {
      "text/plain": [
       "'fantastic'"
      ]
     },
     "execution_count": 10,
     "metadata": {},
     "output_type": "execute_result"
    }
   ],
   "source": [
    "x"
   ]
  },
  {
   "cell_type": "code",
   "execution_count": null,
   "id": "1ca342e3",
   "metadata": {},
   "outputs": [],
   "source": []
  }
 ],
 "metadata": {
  "kernelspec": {
   "display_name": "Python 3 (ipykernel)",
   "language": "python",
   "name": "python3"
  },
  "language_info": {
   "codemirror_mode": {
    "name": "ipython",
    "version": 3
   },
   "file_extension": ".py",
   "mimetype": "text/x-python",
   "name": "python",
   "nbconvert_exporter": "python",
   "pygments_lexer": "ipython3",
   "version": "3.8.10"
  }
 },
 "nbformat": 4,
 "nbformat_minor": 5
}
