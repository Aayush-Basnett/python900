{
 "cells": [
  {
   "cell_type": "markdown",
   "id": "03f789d1",
   "metadata": {},
   "source": [
    "# *args\n",
    "arguments\n",
    "* special keyword\n",
    "* used to import variable length argument in funciton\n",
    "* makes the funciton flexible\n",
    "* datatype is tuple"
   ]
  },
  {
   "cell_type": "code",
   "execution_count": 1,
   "id": "efe10a55",
   "metadata": {},
   "outputs": [],
   "source": [
    "def add(*args):\n",
    "    print(args)\n",
    "    print(type(args))"
   ]
  },
  {
   "cell_type": "code",
   "execution_count": 2,
   "id": "e591a1b0",
   "metadata": {},
   "outputs": [
    {
     "name": "stdout",
     "output_type": "stream",
     "text": [
      "(1, 2, 3, 4)\n",
      "<class 'tuple'>\n"
     ]
    }
   ],
   "source": [
    "add(1, 2, 3, 4)"
   ]
  },
  {
   "cell_type": "markdown",
   "id": "45a70bcc",
   "metadata": {},
   "source": [
    "### *args takes variable length in tuple, suppports tuple operation\n"
   ]
  },
  {
   "cell_type": "code",
   "execution_count": 3,
   "id": "145e286e",
   "metadata": {},
   "outputs": [],
   "source": [
    "def add(*args):\n",
    "    total = 0\n",
    "    for item in args:\n",
    "        total = total + item\n",
    "    return total"
   ]
  },
  {
   "cell_type": "code",
   "execution_count": 4,
   "id": "67d8b599",
   "metadata": {},
   "outputs": [
    {
     "data": {
      "text/plain": [
       "19"
      ]
     },
     "execution_count": 4,
     "metadata": {},
     "output_type": "execute_result"
    }
   ],
   "source": [
    "add(1, 4, 6, 8)"
   ]
  },
  {
   "cell_type": "markdown",
   "id": "def28d79",
   "metadata": {},
   "source": [
    "# **kwargs\n",
    "* takes variable length input\n",
    "* special keyword\n",
    "* datatype is dictionary"
   ]
  },
  {
   "cell_type": "code",
   "execution_count": 5,
   "id": "d64bad18",
   "metadata": {},
   "outputs": [],
   "source": [
    "def about(**kwargs):\n",
    "    print(kwargs)\n",
    "    print(type(kwargs))"
   ]
  },
  {
   "cell_type": "code",
   "execution_count": 6,
   "id": "501a9c3f",
   "metadata": {},
   "outputs": [
    {
     "name": "stdout",
     "output_type": "stream",
     "text": [
      "{'name': 'aayush', 'adress': 'bhaktapur'}\n",
      "<class 'dict'>\n"
     ]
    }
   ],
   "source": [
    "about(name = \"aayush\", adress = 'bhaktapur')"
   ]
  },
  {
   "cell_type": "markdown",
   "id": "d1f6f990",
   "metadata": {},
   "source": [
    "### **kwargs takes input object as dictionary, keyword argument"
   ]
  },
  {
   "cell_type": "markdown",
   "id": "db612188",
   "metadata": {},
   "source": [
    "# Find mean using args"
   ]
  },
  {
   "cell_type": "code",
   "execution_count": 16,
   "id": "1a6ede18",
   "metadata": {},
   "outputs": [],
   "source": [
    "def average(*args):\n",
    "    x = 0\n",
    "    for num in args:\n",
    "        x += num\n",
    "    mean = x/len(args)\n",
    "    return mean\n",
    "    "
   ]
  },
  {
   "cell_type": "code",
   "execution_count": 18,
   "id": "f9b0f99e",
   "metadata": {},
   "outputs": [
    {
     "data": {
      "text/plain": [
       "2.5"
      ]
     },
     "execution_count": 18,
     "metadata": {},
     "output_type": "execute_result"
    }
   ],
   "source": [
    "average(2, 3)"
   ]
  },
  {
   "cell_type": "code",
   "execution_count": 19,
   "id": "8ffdf167",
   "metadata": {},
   "outputs": [
    {
     "data": {
      "text/plain": [
       "3.0"
      ]
     },
     "execution_count": 19,
     "metadata": {},
     "output_type": "execute_result"
    }
   ],
   "source": [
    "average(2, 3, 4)"
   ]
  },
  {
   "cell_type": "code",
   "execution_count": 20,
   "id": "3760aaaa",
   "metadata": {},
   "outputs": [],
   "source": [
    "# alt\n",
    "def average(*args):\n",
    "    return sum(args)/len(args)"
   ]
  },
  {
   "cell_type": "code",
   "execution_count": 21,
   "id": "15bc9045",
   "metadata": {},
   "outputs": [
    {
     "data": {
      "text/plain": [
       "3.0"
      ]
     },
     "execution_count": 21,
     "metadata": {},
     "output_type": "execute_result"
    }
   ],
   "source": [
    "average(2, 3, 4)"
   ]
  },
  {
   "cell_type": "code",
   "execution_count": null,
   "id": "6d07e410",
   "metadata": {},
   "outputs": [],
   "source": []
  }
 ],
 "metadata": {
  "kernelspec": {
   "display_name": "Python 3 (ipykernel)",
   "language": "python",
   "name": "python3"
  },
  "language_info": {
   "codemirror_mode": {
    "name": "ipython",
    "version": 3
   },
   "file_extension": ".py",
   "mimetype": "text/x-python",
   "name": "python",
   "nbconvert_exporter": "python",
   "pygments_lexer": "ipython3",
   "version": "3.8.10"
  }
 },
 "nbformat": 4,
 "nbformat_minor": 5
}
