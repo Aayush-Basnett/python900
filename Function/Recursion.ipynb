{
 "cells": [
  {
   "cell_type": "markdown",
   "id": "5b7fec0f",
   "metadata": {},
   "source": [
    "### funciton le afule afulai bolayo vane its called recursion"
   ]
  },
  {
   "cell_type": "code",
   "execution_count": 2,
   "id": "7d883c31",
   "metadata": {},
   "outputs": [],
   "source": [
    "def recurse():\n",
    "    #code\n",
    "    recurse()\n",
    "    "
   ]
  },
  {
   "cell_type": "code",
   "execution_count": 5,
   "id": "06a5de37",
   "metadata": {},
   "outputs": [],
   "source": [
    "def factorial(num):\n",
    "    if num == 0 or num == 1:\n",
    "        return 1\n",
    "    else:\n",
    "        return num * factorial(num - 1)\n",
    "    #this is alternative to loop"
   ]
  },
  {
   "cell_type": "code",
   "execution_count": 4,
   "id": "5b9efe0d",
   "metadata": {},
   "outputs": [
    {
     "data": {
      "text/plain": [
       "120"
      ]
     },
     "execution_count": 4,
     "metadata": {},
     "output_type": "execute_result"
    }
   ],
   "source": [
    "factorial(5)"
   ]
  },
  {
   "cell_type": "markdown",
   "id": "e99de819",
   "metadata": {},
   "source": [
    "### Advantages of using recursion\n",
    "* Recursion functions make the code elegant and clean\n",
    "* A complex task can be broken down into simpler sub-problems using recursion\n",
    "* Sequence generation is easier with recursion than using some nested iteration"
   ]
  },
  {
   "cell_type": "markdown",
   "id": "a28972d8",
   "metadata": {},
   "source": [
    "# Assignment- 1\n",
    "Python Program to Display 5th Fibonacci Sequence Using Recursion.<br/><hr/>\n",
    "(In mathematics, the Fibonacci sequence is a sequence in which each number is the sum of the two preceding ones.)<br/>\n",
    "eg: 0, 1, 1, 2, 3, 5, 8, 13, 21, 34..."
   ]
  },
  {
   "cell_type": "code",
   "execution_count": 9,
   "id": "604f1c47",
   "metadata": {},
   "outputs": [
    {
     "data": {
      "text/plain": [
       "5"
      ]
     },
     "execution_count": 9,
     "metadata": {},
     "output_type": "execute_result"
    }
   ],
   "source": [
    "def fibo(n):\n",
    "    if n <= 1:\n",
    "        return n\n",
    "    else:\n",
    "        return fibo(n-1) + fibo(n-2)\n",
    "fibo(5)\n",
    "    "
   ]
  },
  {
   "cell_type": "markdown",
   "id": "6b6a4d63",
   "metadata": {},
   "source": [
    "* f0 = 0\n",
    "* f1 = 1\n",
    "* f2 = 1 : or, f2 = f1 + f0\n",
    "* f3 = 2 : or f3 = f2 + f1\n",
    "* f4 = 3 : or f4 = f3 + f2 <br/>\n",
    " so the formula can be simply writted as: <br/> <hr/>\n",
    "fn = f(n-1) + f(n-2)\n"
   ]
  },
  {
   "cell_type": "code",
   "execution_count": null,
   "id": "b719e988",
   "metadata": {},
   "outputs": [],
   "source": []
  }
 ],
 "metadata": {
  "kernelspec": {
   "display_name": "Python 3 (ipykernel)",
   "language": "python",
   "name": "python3"
  },
  "language_info": {
   "codemirror_mode": {
    "name": "ipython",
    "version": 3
   },
   "file_extension": ".py",
   "mimetype": "text/x-python",
   "name": "python",
   "nbconvert_exporter": "python",
   "pygments_lexer": "ipython3",
   "version": "3.8.10"
  }
 },
 "nbformat": 4,
 "nbformat_minor": 5
}
