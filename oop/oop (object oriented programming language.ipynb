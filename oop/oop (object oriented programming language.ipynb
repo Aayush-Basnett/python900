{
 "cells": [
  {
   "cell_type": "code",
   "execution_count": 24,
   "id": "906ea85d",
   "metadata": {},
   "outputs": [
    {
     "data": {
      "text/plain": [
       "list"
      ]
     },
     "execution_count": 24,
     "metadata": {},
     "output_type": "execute_result"
    }
   ],
   "source": [
    "car = [\"a\", \"b\"]\n",
    "type(car)"
   ]
  },
  {
   "cell_type": "code",
   "execution_count": 25,
   "id": "5279cdd4",
   "metadata": {},
   "outputs": [
    {
     "name": "stdout",
     "output_type": "stream",
     "text": [
      "<class 'list'>\n"
     ]
    }
   ],
   "source": [
    "car = [\"a\", \"b\"]\n",
    "print(type(car))"
   ]
  },
  {
   "cell_type": "markdown",
   "id": "67405b58",
   "metadata": {},
   "source": [
    "# Class and objects\n",
    "* Object is instance of a class.\n",
    "* Empty class: blueprint to create an object\n",
    "\n"
   ]
  },
  {
   "cell_type": "code",
   "execution_count": 26,
   "id": "84291f43",
   "metadata": {},
   "outputs": [],
   "source": [
    "class Mammal: # it's a standard to start class in capital letter\n",
    "    pass"
   ]
  },
  {
   "cell_type": "code",
   "execution_count": 27,
   "id": "8f08590a",
   "metadata": {},
   "outputs": [],
   "source": [
    "monkey = Mammal() #monkey is an object"
   ]
  },
  {
   "cell_type": "code",
   "execution_count": 28,
   "id": "40318cd7",
   "metadata": {},
   "outputs": [
    {
     "name": "stdout",
     "output_type": "stream",
     "text": [
      "<class '__main__.Mammal'>\n"
     ]
    }
   ],
   "source": [
    "print(type(monkey))"
   ]
  },
  {
   "cell_type": "markdown",
   "id": "9a45da88",
   "metadata": {},
   "source": [
    "python ko program ko entry point main ho"
   ]
  },
  {
   "cell_type": "code",
   "execution_count": 29,
   "id": "7db908f1",
   "metadata": {},
   "outputs": [
    {
     "name": "stdout",
     "output_type": "stream",
     "text": [
      "<class '__main__.Mammal'>\n"
     ]
    }
   ],
   "source": [
    "if __name__ == \"__main__\":\n",
    "    monkey = Mammal()\n",
    "    print(type(monkey))"
   ]
  },
  {
   "cell_type": "code",
   "execution_count": null,
   "id": "e0827497",
   "metadata": {},
   "outputs": [],
   "source": [
    "__name__"
   ]
  },
  {
   "cell_type": "markdown",
   "id": "cc926848",
   "metadata": {},
   "source": [
    "# Class and object attribute\n",
    "class attribute is same for all object"
   ]
  },
  {
   "cell_type": "code",
   "execution_count": 31,
   "id": "dfb28932",
   "metadata": {},
   "outputs": [],
   "source": [
    "class Mammal:\n",
    "    has_hair = True #has_hair is a class attribute\n",
    "    "
   ]
  },
  {
   "cell_type": "code",
   "execution_count": 32,
   "id": "f0693931",
   "metadata": {},
   "outputs": [
    {
     "data": {
      "text/plain": [
       "True"
      ]
     },
     "execution_count": 32,
     "metadata": {},
     "output_type": "execute_result"
    }
   ],
   "source": [
    "monkey = Mammal()\n",
    "monkey.has_hair"
   ]
  },
  {
   "cell_type": "code",
   "execution_count": 33,
   "id": "5e5e8919",
   "metadata": {},
   "outputs": [
    {
     "data": {
      "text/plain": [
       "True"
      ]
     },
     "execution_count": 33,
     "metadata": {},
     "output_type": "execute_result"
    }
   ],
   "source": [
    "human = Mammal()\n",
    "human.has_hair"
   ]
  },
  {
   "cell_type": "code",
   "execution_count": 36,
   "id": "92f1d3f0",
   "metadata": {},
   "outputs": [],
   "source": [
    "class Mammal:\n",
    "    has_hair = True\n",
    "    def __init__(self, no_of_legs):\n",
    "        self.no_of_legs = no_of_legs\n",
    "        "
   ]
  },
  {
   "cell_type": "code",
   "execution_count": 37,
   "id": "fe49523d",
   "metadata": {},
   "outputs": [
    {
     "ename": "TypeError",
     "evalue": "__init__() missing 1 required positional argument: 'no_of_legs'",
     "output_type": "error",
     "traceback": [
      "\u001b[0;31m---------------------------------------------------------------------------\u001b[0m",
      "\u001b[0;31mTypeError\u001b[0m                                 Traceback (most recent call last)",
      "Cell \u001b[0;32mIn[37], line 1\u001b[0m\n\u001b[0;32m----> 1\u001b[0m cow \u001b[38;5;241m=\u001b[39m \u001b[43mMammal\u001b[49m\u001b[43m(\u001b[49m\u001b[43m)\u001b[49m\n",
      "\u001b[0;31mTypeError\u001b[0m: __init__() missing 1 required positional argument: 'no_of_legs'"
     ]
    }
   ],
   "source": [
    "cow = Mammal()"
   ]
  },
  {
   "cell_type": "code",
   "execution_count": 38,
   "id": "0ba94c9c",
   "metadata": {},
   "outputs": [],
   "source": [
    "cow = Mammal(no_of_legs = 4)"
   ]
  },
  {
   "cell_type": "code",
   "execution_count": 39,
   "id": "4ac947c7",
   "metadata": {},
   "outputs": [
    {
     "data": {
      "text/plain": [
       "True"
      ]
     },
     "execution_count": 39,
     "metadata": {},
     "output_type": "execute_result"
    }
   ],
   "source": [
    "cow.has_hair"
   ]
  },
  {
   "cell_type": "code",
   "execution_count": 40,
   "id": "4d3f5178",
   "metadata": {},
   "outputs": [
    {
     "data": {
      "text/plain": [
       "4"
      ]
     },
     "execution_count": 40,
     "metadata": {},
     "output_type": "execute_result"
    }
   ],
   "source": [
    "cow.no_of_legs"
   ]
  },
  {
   "cell_type": "code",
   "execution_count": 41,
   "id": "8e078717",
   "metadata": {},
   "outputs": [
    {
     "name": "stdout",
     "output_type": "stream",
     "text": [
      "2\n",
      "True\n"
     ]
    }
   ],
   "source": [
    "human = Mammal(no_of_legs = 2)\n",
    "print(human.no_of_legs)\n",
    "print(human.has_hair)"
   ]
  },
  {
   "cell_type": "markdown",
   "id": "ddcb66c0",
   "metadata": {},
   "source": [
    "# init\n",
    "\\__init__ is object attribute initilizer"
   ]
  },
  {
   "cell_type": "markdown",
   "id": "5612fd3c",
   "metadata": {},
   "source": [
    "# what's self???"
   ]
  },
  {
   "cell_type": "code",
   "execution_count": 42,
   "id": "c4abf967",
   "metadata": {},
   "outputs": [],
   "source": [
    "class Mammal:\n",
    "    def __init__(self, leg):\n",
    "        print(f\"self is of type {type(self)}\")\n",
    "        self.leg = leg"
   ]
  },
  {
   "cell_type": "code",
   "execution_count": 43,
   "id": "afd2f8d8",
   "metadata": {},
   "outputs": [
    {
     "name": "stdout",
     "output_type": "stream",
     "text": [
      "self is of type <class '__main__.Mammal'>\n"
     ]
    }
   ],
   "source": [
    "monkey = Mammal(leg = 4)"
   ]
  },
  {
   "cell_type": "code",
   "execution_count": 44,
   "id": "40788c05",
   "metadata": {},
   "outputs": [
    {
     "name": "stdout",
     "output_type": "stream",
     "text": [
      "<class '__main__.Mammal'>\n"
     ]
    }
   ],
   "source": [
    "print(type(monkey))"
   ]
  },
  {
   "cell_type": "markdown",
   "id": "517152f0",
   "metadata": {},
   "source": [
    "## self is an object.\n",
    "self is used to access the class attributes by a method (method is a function inside a class)\n",
    "<center>labeled example<center>"
   ]
  },
  {
   "cell_type": "code",
   "execution_count": 45,
   "id": "c1540186",
   "metadata": {},
   "outputs": [
    {
     "name": "stdout",
     "output_type": "stream",
     "text": [
      "Vlahovic is a Footballer\n"
     ]
    }
   ],
   "source": [
    "class Person:\n",
    "    name = \"aayush\"  #this is a class attribute\n",
    "    occupation = \"Engineer\" # this is a class attribute\n",
    "    def info(self): #this(function inside class) is a method, this is also a class attribute\n",
    "        print(f\"{self.name} is a {self.occupation}\")\n",
    "        #basically self is used to access the class attributes by a method\n",
    "\n",
    "obj1 = Person() #this is object or instance, this is how we access a class.\n",
    "obj2 = Person() #this is also an object or instance\n",
    "\n",
    "obj2.name, obj2.occupation = \"Vlahovic\", \"Footballer\" #this is how you modify class attribute\n",
    "obj2.info() #this calls the 'info' method of the obj2 instance of Person, printing \"Vlahovic is a Footballer\"\n",
    "\n",
    "\n"
   ]
  },
  {
   "cell_type": "markdown",
   "id": "da5e5fa4",
   "metadata": {},
   "source": [
    "#### jasle object banaucha teslai constructor vanincha\n",
    "### constructor is used to create an object\n",
    "#### __init__ in not a constructor because self object is passed as an argument which means the object is already created\n",
    "<hr/>\n",
    "`__init__` is an object attribute initilizer\n",
    "`__new__` is a constructor in python. It is used to create an object.\n",
    "`__new__ and __init__` works together to create an object and initilize its attribute.\n",
    "\n"
   ]
  },
  {
   "cell_type": "markdown",
   "id": "d325e675",
   "metadata": {},
   "source": [
    "# User defined method in class"
   ]
  },
  {
   "cell_type": "code",
   "execution_count": 46,
   "id": "0bcfc82c",
   "metadata": {},
   "outputs": [],
   "source": [
    "class Rectangle:\n",
    "    def __init__(self, length, breadth):\n",
    "        self.length = length\n",
    "        self.breadth = breadth\n",
    "    def area(self):\n",
    "        return self.length * self.breadth\n",
    "    def display(self):\n",
    "        a = self.area()\n",
    "        print(f\"The area of rectangle is {a}\")"
   ]
  },
  {
   "cell_type": "code",
   "execution_count": 7,
   "id": "0439d877",
   "metadata": {},
   "outputs": [
    {
     "name": "stdout",
     "output_type": "stream",
     "text": [
      "The area of rectangle is 30\n"
     ]
    }
   ],
   "source": [
    "r1 = Rectangle(length = 5, breadth = 6)\n",
    "r1.display()"
   ]
  },
  {
   "cell_type": "markdown",
   "id": "eeca5044",
   "metadata": {},
   "source": [
    "# Inheritance"
   ]
  },
  {
   "cell_type": "code",
   "execution_count": 21,
   "id": "0bd43ba2",
   "metadata": {},
   "outputs": [],
   "source": [
    "class Computer:\n",
    "    def __init__(self, gpu):\n",
    "        self.gpu = gpu\n",
    "    def show_gpu_name(self):\n",
    "        print(f\"You have {self.gpu} GPU processor\")\n",
    "    \n",
    "class Mobile(Computer):\n",
    "    def __init__(self, has_flash, model, gpu):\n",
    "        self.has_flash = has_flash\n",
    "        self.model = model\n",
    "        super().__init__(gpu = gpu)"
   ]
  },
  {
   "cell_type": "code",
   "execution_count": 22,
   "id": "5a3730eb",
   "metadata": {},
   "outputs": [
    {
     "name": "stdout",
     "output_type": "stream",
     "text": [
      "You have M1 GPU processor\n"
     ]
    }
   ],
   "source": [
    "m1 = Mobile(has_flash = True, model = \"iphone\", gpu = \"M1\")\n",
    "m1.show_gpu_name()"
   ]
  },
  {
   "cell_type": "code",
   "execution_count": 23,
   "id": "258bce14",
   "metadata": {},
   "outputs": [],
   "source": [
    "# find volume of square using stuff u learned in this part"
   ]
  },
  {
   "cell_type": "markdown",
   "id": "d714a2bf",
   "metadata": {},
   "source": []
  }
 ],
 "metadata": {
  "kernelspec": {
   "display_name": "Python 3 (ipykernel)",
   "language": "python",
   "name": "python3"
  },
  "language_info": {
   "codemirror_mode": {
    "name": "ipython",
    "version": 3
   },
   "file_extension": ".py",
   "mimetype": "text/x-python",
   "name": "python",
   "nbconvert_exporter": "python",
   "pygments_lexer": "ipython3",
   "version": "3.8.10"
  }
 },
 "nbformat": 4,
 "nbformat_minor": 5
}
