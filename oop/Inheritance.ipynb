{
 "cells": [
  {
   "cell_type": "markdown",
   "id": "2edb2268",
   "metadata": {},
   "source": [
    "# Single Inheritance"
   ]
  },
  {
   "cell_type": "code",
   "execution_count": 27,
   "id": "80c8157e",
   "metadata": {},
   "outputs": [],
   "source": [
    "class A:\n",
    "    def __init__(self):\n",
    "        pass\n",
    "    def display(self):\n",
    "        print(\"This is from parent class\")\n",
    "class B(A):\n",
    "    def __init__(self):\n",
    "        super().__init__()\n",
    "        \n",
    "    "
   ]
  },
  {
   "cell_type": "code",
   "execution_count": 21,
   "id": "4af15ce2",
   "metadata": {},
   "outputs": [
    {
     "name": "stdout",
     "output_type": "stream",
     "text": [
      "This is from parent class\n"
     ]
    }
   ],
   "source": [
    "obj = B()\n",
    "obj.display()"
   ]
  },
  {
   "cell_type": "code",
   "execution_count": 22,
   "id": "8c799873",
   "metadata": {},
   "outputs": [
    {
     "name": "stdout",
     "output_type": "stream",
     "text": [
      "This is from child class.\n"
     ]
    }
   ],
   "source": [
    "class A:\n",
    "    def __init__(self):\n",
    "        pass\n",
    "    def display(self):\n",
    "        print(\"This is from parent class\")\n",
    "class B(A):\n",
    "    def __init__(self):\n",
    "        super().__init__()\n",
    "        \n",
    "    def display(self):\n",
    "        print(\"This is from child class.\")\n",
    "obj = B()\n",
    "obj.display()"
   ]
  },
  {
   "cell_type": "markdown",
   "id": "391042f2",
   "metadata": {},
   "source": [
    "# Multiple inheritance"
   ]
  },
  {
   "cell_type": "code",
   "execution_count": 23,
   "id": "1127f04f",
   "metadata": {},
   "outputs": [],
   "source": [
    "class Father:\n",
    "    def __init__(self, f_name):\n",
    "        self.f_name = f_name\n",
    "class Mother:\n",
    "    def __init__(self, m_name):\n",
    "        self.m_name = m_name\n",
    "    def my_mom_name(self):\n",
    "        print(f\"My mothers name is {self.m_name}\")\n",
    "class Child(Father, Mother):\n",
    "    def __init__(self, c_name, f_name, m_name):\n",
    "        self.c_name = c_name\n",
    "        Father.__init__(self, f_name)\n",
    "        Mother.__init__(self, m_name)"
   ]
  },
  {
   "cell_type": "code",
   "execution_count": 24,
   "id": "9607830f",
   "metadata": {},
   "outputs": [
    {
     "name": "stdout",
     "output_type": "stream",
     "text": [
      "My mothers name is Sita\n"
     ]
    }
   ],
   "source": [
    "c1 = Child(c_name = \"lov-kush\", f_name = \"Ram\", m_name = \"Sita\")\n",
    "\n",
    "c1.my_mom_name()"
   ]
  },
  {
   "cell_type": "markdown",
   "id": "97a88f92",
   "metadata": {},
   "source": [
    "# Multi-level inheritance"
   ]
  },
  {
   "cell_type": "code",
   "execution_count": 25,
   "id": "a2263d6b",
   "metadata": {},
   "outputs": [],
   "source": [
    "class GrandFather:\n",
    "    def __init__(self, g_name):\n",
    "        self.g_name = g_name\n",
    "class Father(GrandFather):\n",
    "    def __init__(self, f_name, g_name):\n",
    "        self.f_name = f_name\n",
    "        GrandFather.__init__(self, g_name)\n",
    "class Child(Father):\n",
    "    def __init__(self, c_name, f_name, g_name):\n",
    "        self.c_name = c_name\n",
    "        Father.__init__(self, f_name, g_name)"
   ]
  },
  {
   "cell_type": "code",
   "execution_count": 26,
   "id": "b261b625",
   "metadata": {},
   "outputs": [
    {
     "data": {
      "text/plain": [
       "'Dasarath'"
      ]
     },
     "execution_count": 26,
     "metadata": {},
     "output_type": "execute_result"
    }
   ],
   "source": [
    "c1 = Child(c_name = \"Love-Kush\", f_name = \"Ram\", g_name = \"Dasarath\")\n",
    "c1.g_name"
   ]
  },
  {
   "cell_type": "markdown",
   "id": "518285be",
   "metadata": {},
   "source": []
  }
 ],
 "metadata": {
  "kernelspec": {
   "display_name": "Python 3 (ipykernel)",
   "language": "python",
   "name": "python3"
  },
  "language_info": {
   "codemirror_mode": {
    "name": "ipython",
    "version": 3
   },
   "file_extension": ".py",
   "mimetype": "text/x-python",
   "name": "python",
   "nbconvert_exporter": "python",
   "pygments_lexer": "ipython3",
   "version": "3.8.10"
  }
 },
 "nbformat": 4,
 "nbformat_minor": 5
}
