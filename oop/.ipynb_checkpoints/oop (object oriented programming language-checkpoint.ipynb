{
 "cells": [
  {
   "cell_type": "code",
   "execution_count": 2,
   "id": "906ea85d",
   "metadata": {},
   "outputs": [
    {
     "data": {
      "text/plain": [
       "list"
      ]
     },
     "execution_count": 2,
     "metadata": {},
     "output_type": "execute_result"
    }
   ],
   "source": [
    "car = [\"a\", \"b\"]\n",
    "type(car)"
   ]
  },
  {
   "cell_type": "code",
   "execution_count": 3,
   "id": "5279cdd4",
   "metadata": {},
   "outputs": [
    {
     "name": "stdout",
     "output_type": "stream",
     "text": [
      "<class 'list'>\n"
     ]
    }
   ],
   "source": [
    "car = [\"a\", \"b\"]\n",
    "print(type(car))"
   ]
  },
  {
   "cell_type": "markdown",
   "id": "67405b58",
   "metadata": {},
   "source": [
    "# Class and objects\n",
    "* Object is instance of a class.\n",
    "* Empty class: blueprint to create an object\n",
    "\n"
   ]
  },
  {
   "cell_type": "code",
   "execution_count": 5,
   "id": "84291f43",
   "metadata": {},
   "outputs": [],
   "source": [
    "class Mammal: # it's a standard to start class in capital letter\n",
    "    pass"
   ]
  },
  {
   "cell_type": "code",
   "execution_count": 6,
   "id": "8f08590a",
   "metadata": {},
   "outputs": [],
   "source": [
    "monkey = Mammal()"
   ]
  },
  {
   "cell_type": "code",
   "execution_count": 8,
   "id": "40318cd7",
   "metadata": {},
   "outputs": [
    {
     "name": "stdout",
     "output_type": "stream",
     "text": [
      "<class '__main__.Mammal'>\n"
     ]
    }
   ],
   "source": [
    "print(type(monkey))"
   ]
  },
  {
   "cell_type": "markdown",
   "id": "9a45da88",
   "metadata": {},
   "source": [
    "python ko program ko entry point main ho"
   ]
  },
  {
   "cell_type": "code",
   "execution_count": 10,
   "id": "7db908f1",
   "metadata": {},
   "outputs": [
    {
     "name": "stdout",
     "output_type": "stream",
     "text": [
      "<class '__main__.Mammal'>\n"
     ]
    }
   ],
   "source": [
    "if __name__ == \"__main__\":\n",
    "    monkey = Mammal()\n",
    "    print(type(monkey))"
   ]
  },
  {
   "cell_type": "code",
   "execution_count": 11,
   "id": "e0827497",
   "metadata": {},
   "outputs": [
    {
     "data": {
      "text/plain": [
       "'__main__'"
      ]
     },
     "execution_count": 11,
     "metadata": {},
     "output_type": "execute_result"
    }
   ],
   "source": [
    "__name__"
   ]
  },
  {
   "cell_type": "markdown",
   "id": "cc926848",
   "metadata": {},
   "source": [
    "# Class and object attribute\n",
    "class attribute is same for all object"
   ]
  },
  {
   "cell_type": "code",
   "execution_count": null,
   "id": "dfb28932",
   "metadata": {},
   "outputs": [],
   "source": [
    "class Mammal:\n",
    "    has_hair = True #class attribute/ kind of like mammal ko feature\n",
    "    "
   ]
  },
  {
   "cell_type": "code",
   "execution_count": 13,
   "id": "f0693931",
   "metadata": {},
   "outputs": [
    {
     "data": {
      "text/plain": [
       "True"
      ]
     },
     "execution_count": 13,
     "metadata": {},
     "output_type": "execute_result"
    }
   ],
   "source": [
    "monkey = Mammal()\n",
    "monkey.has_hair"
   ]
  },
  {
   "cell_type": "code",
   "execution_count": 14,
   "id": "5e5e8919",
   "metadata": {},
   "outputs": [
    {
     "data": {
      "text/plain": [
       "True"
      ]
     },
     "execution_count": 14,
     "metadata": {},
     "output_type": "execute_result"
    }
   ],
   "source": [
    "human = Mammal()\n",
    "human.has_hair"
   ]
  },
  {
   "cell_type": "code",
   "execution_count": 15,
   "id": "92f1d3f0",
   "metadata": {},
   "outputs": [],
   "source": [
    "class Mammal:\n",
    "    has_hair = True\n",
    "    def __init__(self, no_of_legs):\n",
    "        self.no_of_legs = no_of_legs\n",
    "        "
   ]
  },
  {
   "cell_type": "code",
   "execution_count": 16,
   "id": "fe49523d",
   "metadata": {},
   "outputs": [
    {
     "ename": "TypeError",
     "evalue": "__init__() missing 1 required positional argument: 'no_of_legs'",
     "output_type": "error",
     "traceback": [
      "\u001b[0;31m---------------------------------------------------------------------------\u001b[0m",
      "\u001b[0;31mTypeError\u001b[0m                                 Traceback (most recent call last)",
      "Cell \u001b[0;32mIn[16], line 1\u001b[0m\n\u001b[0;32m----> 1\u001b[0m cow \u001b[38;5;241m=\u001b[39m \u001b[43mMammal\u001b[49m\u001b[43m(\u001b[49m\u001b[43m)\u001b[49m\n",
      "\u001b[0;31mTypeError\u001b[0m: __init__() missing 1 required positional argument: 'no_of_legs'"
     ]
    }
   ],
   "source": [
    "cow = Mammal()"
   ]
  },
  {
   "cell_type": "code",
   "execution_count": 17,
   "id": "0ba94c9c",
   "metadata": {},
   "outputs": [],
   "source": [
    "cow = Mammal(no_of_legs = 4)"
   ]
  },
  {
   "cell_type": "code",
   "execution_count": 18,
   "id": "4ac947c7",
   "metadata": {},
   "outputs": [
    {
     "data": {
      "text/plain": [
       "True"
      ]
     },
     "execution_count": 18,
     "metadata": {},
     "output_type": "execute_result"
    }
   ],
   "source": [
    "cow.has_hair"
   ]
  },
  {
   "cell_type": "code",
   "execution_count": 19,
   "id": "4d3f5178",
   "metadata": {},
   "outputs": [
    {
     "data": {
      "text/plain": [
       "4"
      ]
     },
     "execution_count": 19,
     "metadata": {},
     "output_type": "execute_result"
    }
   ],
   "source": [
    "cow.no_of_legs"
   ]
  },
  {
   "cell_type": "code",
   "execution_count": 23,
   "id": "8e078717",
   "metadata": {},
   "outputs": [
    {
     "name": "stdout",
     "output_type": "stream",
     "text": [
      "2\n",
      "True\n"
     ]
    }
   ],
   "source": [
    "human = Mammal(no_of_legs = 2)\n",
    "print(human.no_of_legs)\n",
    "print(human.has_hair)"
   ]
  },
  {
   "cell_type": "markdown",
   "id": "390740a5",
   "metadata": {},
   "source": [
    "# init\n",
    "\\__init__ is object attribute initilizer"
   ]
  },
  {
   "cell_type": "code",
   "execution_count": null,
   "id": "454517a0",
   "metadata": {},
   "outputs": [],
   "source": []
  }
 ],
 "metadata": {
  "kernelspec": {
   "display_name": "Python 3 (ipykernel)",
   "language": "python",
   "name": "python3"
  },
  "language_info": {
   "codemirror_mode": {
    "name": "ipython",
    "version": 3
   },
   "file_extension": ".py",
   "mimetype": "text/x-python",
   "name": "python",
   "nbconvert_exporter": "python",
   "pygments_lexer": "ipython3",
   "version": "3.8.10"
  }
 },
 "nbformat": 4,
 "nbformat_minor": 5
}
