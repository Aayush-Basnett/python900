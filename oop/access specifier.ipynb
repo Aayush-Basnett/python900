{
 "cells": [
  {
   "cell_type": "markdown",
   "id": "edb4a68e",
   "metadata": {},
   "source": [
    "### Abstraciton are acess specifiers used in python ? - No but has concept of limiting behaviour of variables: private attribute are not inherited"
   ]
  },
  {
   "cell_type": "code",
   "execution_count": 10,
   "id": "1e4a24aa",
   "metadata": {},
   "outputs": [],
   "source": [
    "class Tutor:\n",
    "    name = \"Kshitiz\" #this is public\n",
    "    _teaches = [\"Python\",\"D5\",\"AI\"] #this is protected\n",
    "    __age = 26 # this is private"
   ]
  },
  {
   "cell_type": "code",
   "execution_count": 11,
   "id": "bd9e73ed",
   "metadata": {},
   "outputs": [],
   "source": [
    "t1 = Tutor()"
   ]
  },
  {
   "cell_type": "code",
   "execution_count": 12,
   "id": "4424247f",
   "metadata": {},
   "outputs": [
    {
     "data": {
      "text/plain": [
       "'Kshitiz'"
      ]
     },
     "execution_count": 12,
     "metadata": {},
     "output_type": "execute_result"
    }
   ],
   "source": [
    "t1.name"
   ]
  },
  {
   "cell_type": "code",
   "execution_count": 13,
   "id": "aa99c100",
   "metadata": {},
   "outputs": [
    {
     "data": {
      "text/plain": [
       "['Python', 'D5', 'AI']"
      ]
     },
     "execution_count": 13,
     "metadata": {},
     "output_type": "execute_result"
    }
   ],
   "source": [
    "t1._teaches"
   ]
  },
  {
   "cell_type": "code",
   "execution_count": 16,
   "id": "66f0d95b",
   "metadata": {},
   "outputs": [
    {
     "ename": "AttributeError",
     "evalue": "'Tutor' object has no attribute '__age'",
     "output_type": "error",
     "traceback": [
      "\u001b[0;31m---------------------------------------------------------------------------\u001b[0m",
      "\u001b[0;31mAttributeError\u001b[0m                            Traceback (most recent call last)",
      "Cell \u001b[0;32mIn[16], line 1\u001b[0m\n\u001b[0;32m----> 1\u001b[0m \u001b[43mt1\u001b[49m\u001b[38;5;241;43m.\u001b[39;49m\u001b[43m__age\u001b[49m \u001b[38;5;66;03m#this is private so you cant find it\u001b[39;00m\n",
      "\u001b[0;31mAttributeError\u001b[0m: 'Tutor' object has no attribute '__age'"
     ]
    }
   ],
   "source": [
    "t1.__age #this is private so you cant find it"
   ]
  },
  {
   "cell_type": "code",
   "execution_count": null,
   "id": "1608b36e",
   "metadata": {},
   "outputs": [],
   "source": []
  }
 ],
 "metadata": {
  "kernelspec": {
   "display_name": "Python 3 (ipykernel)",
   "language": "python",
   "name": "python3"
  },
  "language_info": {
   "codemirror_mode": {
    "name": "ipython",
    "version": 3
   },
   "file_extension": ".py",
   "mimetype": "text/x-python",
   "name": "python",
   "nbconvert_exporter": "python",
   "pygments_lexer": "ipython3",
   "version": "3.8.10"
  }
 },
 "nbformat": 4,
 "nbformat_minor": 5
}
