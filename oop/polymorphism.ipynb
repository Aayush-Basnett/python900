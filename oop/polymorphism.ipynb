{
 "cells": [
  {
   "cell_type": "markdown",
   "id": "cfd60a0d",
   "metadata": {},
   "source": [
    "# + polymorphic: having many forms"
   ]
  },
  {
   "cell_type": "code",
   "execution_count": 1,
   "id": "4a53c146",
   "metadata": {},
   "outputs": [
    {
     "data": {
      "text/plain": [
       "5"
      ]
     },
     "execution_count": 1,
     "metadata": {},
     "output_type": "execute_result"
    }
   ],
   "source": [
    "2 + 3"
   ]
  },
  {
   "cell_type": "code",
   "execution_count": 2,
   "id": "b28a4d78",
   "metadata": {},
   "outputs": [
    {
     "data": {
      "text/plain": [
       "'Radheradhe'"
      ]
     },
     "execution_count": 2,
     "metadata": {},
     "output_type": "execute_result"
    }
   ],
   "source": [
    "\"Radhe\" + \"radhe\""
   ]
  },
  {
   "cell_type": "code",
   "execution_count": 3,
   "id": "48d2122e",
   "metadata": {},
   "outputs": [
    {
     "data": {
      "text/plain": [
       "[5, 6, 7, 8]"
      ]
     },
     "execution_count": 3,
     "metadata": {},
     "output_type": "execute_result"
    }
   ],
   "source": [
    "[5, 6] + [7, 8]"
   ]
  },
  {
   "cell_type": "code",
   "execution_count": 4,
   "id": "896f0dd5",
   "metadata": {},
   "outputs": [
    {
     "data": {
      "text/plain": [
       "5"
      ]
     },
     "execution_count": 4,
     "metadata": {},
     "output_type": "execute_result"
    }
   ],
   "source": [
    "len(\"hello\")"
   ]
  },
  {
   "cell_type": "code",
   "execution_count": 5,
   "id": "3555df8e",
   "metadata": {},
   "outputs": [
    {
     "data": {
      "text/plain": [
       "2"
      ]
     },
     "execution_count": 5,
     "metadata": {},
     "output_type": "execute_result"
    }
   ],
   "source": [
    "len([8, 6])"
   ]
  },
  {
   "cell_type": "code",
   "execution_count": 17,
   "id": "0a431614",
   "metadata": {},
   "outputs": [
    {
     "ename": "TypeError",
     "evalue": "unsupported operand type(s) for +: 'Account' and 'Account'",
     "output_type": "error",
     "traceback": [
      "\u001b[0;31m---------------------------------------------------------------------------\u001b[0m",
      "\u001b[0;31mTypeError\u001b[0m                                 Traceback (most recent call last)",
      "Cell \u001b[0;32mIn[17], line 7\u001b[0m\n\u001b[1;32m      5\u001b[0m ac1 \u001b[38;5;241m=\u001b[39m Account(name \u001b[38;5;241m=\u001b[39m \u001b[38;5;124m\"\u001b[39m\u001b[38;5;124mKshitiz\u001b[39m\u001b[38;5;124m\"\u001b[39m, balance \u001b[38;5;241m=\u001b[39m \u001b[38;5;241m30\u001b[39m)\n\u001b[1;32m      6\u001b[0m ac2 \u001b[38;5;241m=\u001b[39m Account(name \u001b[38;5;241m=\u001b[39m \u001b[38;5;124m\"\u001b[39m\u001b[38;5;124mVlahovic\u001b[39m\u001b[38;5;124m\"\u001b[39m, balance \u001b[38;5;241m=\u001b[39m \u001b[38;5;241m50\u001b[39m)\n\u001b[0;32m----> 7\u001b[0m \u001b[43mac1\u001b[49m\u001b[43m \u001b[49m\u001b[38;5;241;43m+\u001b[39;49m\u001b[43m \u001b[49m\u001b[43mac2\u001b[49m\n",
      "\u001b[0;31mTypeError\u001b[0m: unsupported operand type(s) for +: 'Account' and 'Account'"
     ]
    }
   ],
   "source": [
    "class Account:\n",
    "    def __init__(self, name, balance):\n",
    "        self.name = name\n",
    "        self.balance = balance\n",
    "ac1 = Account(name = \"Kshitiz\", balance = 30)\n",
    "ac2 = Account(name = \"Vlahovic\", balance = 50)\n",
    "ac1 + ac2"
   ]
  },
  {
   "cell_type": "markdown",
   "id": "86f980a0",
   "metadata": {},
   "source": [
    "# Operator overloadinf of + operator: giving it extended meaning: using magic method/ dunders __add__"
   ]
  },
  {
   "cell_type": "code",
   "execution_count": 16,
   "id": "06a80b4a",
   "metadata": {},
   "outputs": [
    {
     "data": {
      "text/plain": [
       "80"
      ]
     },
     "execution_count": 16,
     "metadata": {},
     "output_type": "execute_result"
    }
   ],
   "source": [
    "class Account:\n",
    "    def __init__(self, name, balance):\n",
    "        self.name = name\n",
    "        self.balance = balance\n",
    "    def __add__(self, otherobj):\n",
    "        return self.balance + otherobj.balance\n",
    "ac1 = Account(name = \"Kshitiz\", balance = 30)\n",
    "ac2 = Account(name = \"Vlahovic\", balance = 50)\n",
    "ac1 + ac2"
   ]
  },
  {
   "cell_type": "code",
   "execution_count": 12,
   "id": "faafd7c1",
   "metadata": {},
   "outputs": [
    {
     "data": {
      "text/plain": [
       "__main__.Account"
      ]
     },
     "execution_count": 12,
     "metadata": {},
     "output_type": "execute_result"
    }
   ],
   "source": [
    "type(ac1)"
   ]
  },
  {
   "cell_type": "code",
   "execution_count": 14,
   "id": "a958e962",
   "metadata": {},
   "outputs": [
    {
     "ename": "AttributeError",
     "evalue": "'int' object has no attribute 'balance'",
     "output_type": "error",
     "traceback": [
      "\u001b[0;31m---------------------------------------------------------------------------\u001b[0m",
      "\u001b[0;31mAttributeError\u001b[0m                            Traceback (most recent call last)",
      "Cell \u001b[0;32mIn[14], line 1\u001b[0m\n\u001b[0;32m----> 1\u001b[0m \u001b[43mac1\u001b[49m\u001b[43m \u001b[49m\u001b[38;5;241;43m+\u001b[39;49m\u001b[43m \u001b[49m\u001b[38;5;241;43m100\u001b[39;49m\n\u001b[1;32m      2\u001b[0m \u001b[38;5;66;03m#yo garna paudaina cuz ac1 is account type and 100 is an integer\u001b[39;00m\n",
      "Cell \u001b[0;32mIn[11], line 6\u001b[0m, in \u001b[0;36mAccount.__add__\u001b[0;34m(self, otherobj)\u001b[0m\n\u001b[1;32m      5\u001b[0m \u001b[38;5;28;01mdef\u001b[39;00m \u001b[38;5;21m__add__\u001b[39m(\u001b[38;5;28mself\u001b[39m, otherobj):\n\u001b[0;32m----> 6\u001b[0m     \u001b[38;5;28;01mreturn\u001b[39;00m \u001b[38;5;28mself\u001b[39m\u001b[38;5;241m.\u001b[39mbalance \u001b[38;5;241m+\u001b[39m \u001b[43motherobj\u001b[49m\u001b[38;5;241;43m.\u001b[39;49m\u001b[43mbalance\u001b[49m\n",
      "\u001b[0;31mAttributeError\u001b[0m: 'int' object has no attribute 'balance'"
     ]
    }
   ],
   "source": [
    "ac1 + 100\n",
    "#yo garna paudaina cuz ac1 is account type and 100 is an integer"
   ]
  },
  {
   "cell_type": "code",
   "execution_count": null,
   "id": "10bec178",
   "metadata": {},
   "outputs": [],
   "source": [
    "# learn abstraction and encapsulation"
   ]
  }
 ],
 "metadata": {
  "kernelspec": {
   "display_name": "Python 3 (ipykernel)",
   "language": "python",
   "name": "python3"
  },
  "language_info": {
   "codemirror_mode": {
    "name": "ipython",
    "version": 3
   },
   "file_extension": ".py",
   "mimetype": "text/x-python",
   "name": "python",
   "nbconvert_exporter": "python",
   "pygments_lexer": "ipython3",
   "version": "3.8.10"
  }
 },
 "nbformat": 4,
 "nbformat_minor": 5
}
