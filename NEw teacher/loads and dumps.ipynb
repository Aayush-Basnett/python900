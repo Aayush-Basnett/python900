{
 "cells": [
  {
   "cell_type": "markdown",
   "id": "8309a6f3",
   "metadata": {},
   "source": [
    "# Json data is always in double quotes\n",
    "{\n",
    "    \"name\" : \"Ayaush\",\n",
    "    \"age\" : 19\n",
    "}\n",
    "THis is valid <br>\n",
    "{\n",
    "    'name' : 'Ayaush',\n",
    "    \"age\" : 19\n",
    "} THis is invalid\n",
    "\n"
   ]
  },
  {
   "cell_type": "code",
   "execution_count": 2,
   "id": "40084ca7",
   "metadata": {},
   "outputs": [],
   "source": [
    "import json\n",
    "students = [\n",
    "    {'name': 'Jon', 'id': 1},\n",
    "    {'name': 'Ron', 'id': 2},\n",
    "    {'name': 'Vaughn', 'id': 3},\n",
    "] #This is python dictionary\n",
    "with open(\"students.json\", \"w\") as fp:\n",
    "    json_object = json.dumps(students, indent = 2)\n",
    "    fp.write(json_object)"
   ]
  },
  {
   "cell_type": "code",
   "execution_count": 5,
   "id": "dc9e31d6",
   "metadata": {},
   "outputs": [
    {
     "name": "stdout",
     "output_type": "stream",
     "text": [
      "[\n",
      "  {\n",
      "    \"name\": \"Jon\",\n",
      "    \"id\": 1\n",
      "  },\n",
      "  {\n",
      "    \"name\": \"Ron\",\n",
      "    \"id\": 2\n",
      "  },\n",
      "  {\n",
      "    \"name\": \"Vaughn\",\n",
      "    \"id\": 3\n",
      "  }\n",
      "]\n",
      "<class 'str'>\n"
     ]
    }
   ],
   "source": [
    "with open(\"students.json\", \"r\") as fp:\n",
    "    data = fp.read()\n",
    "    print(data)\n",
    "    print(type(data))\n",
    "\n",
    "#This gives string output, but we want output in json\n"
   ]
  },
  {
   "cell_type": "code",
   "execution_count": 4,
   "id": "25431b7d",
   "metadata": {},
   "outputs": [
    {
     "name": "stdout",
     "output_type": "stream",
     "text": [
      "[{'name': 'Jon', 'id': 1}, {'name': 'Ron', 'id': 2}, {'name': 'Vaughn', 'id': 3}]\n",
      "<class 'list'>\n"
     ]
    }
   ],
   "source": [
    "with open(\"students.json\", \"r\") as fp:\n",
    "    data = fp.read()\n",
    "    data = json.loads(data)\n",
    "    print(data)\n",
    "    print(type(data))\n",
    "#Now we have list"
   ]
  },
  {
   "cell_type": "code",
   "execution_count": null,
   "id": "248f5491",
   "metadata": {},
   "outputs": [],
   "source": []
  }
 ],
 "metadata": {
  "kernelspec": {
   "display_name": "Python 3 (ipykernel)",
   "language": "python",
   "name": "python3"
  },
  "language_info": {
   "codemirror_mode": {
    "name": "ipython",
    "version": 3
   },
   "file_extension": ".py",
   "mimetype": "text/x-python",
   "name": "python",
   "nbconvert_exporter": "python",
   "pygments_lexer": "ipython3",
   "version": "3.8.10"
  }
 },
 "nbformat": 4,
 "nbformat_minor": 5
}
