{
 "cells": [
  {
   "cell_type": "code",
   "execution_count": 1,
   "id": "0bdef3de",
   "metadata": {},
   "outputs": [],
   "source": [
    "def inquiry():\n",
    "    seleciton = input(\"Enter your choice C/R/U/D\")\n",
    "    if selection.lower() == \"c\":\n",
    "        create()\n",
    "    elif selection.lower() == \"r\":\n",
    "        read()\n",
    "    elif selection.lower == \"u\":\n",
    "        update()\n",
    "    elif selection.lower == \"d\":\n",
    "        delete()\n",
    "    else:\n",
    "        print(\"Invalid choice\")"
   ]
  },
  {
   "cell_type": "code",
   "execution_count": 4,
   "id": "1174e2d8",
   "metadata": {},
   "outputs": [],
   "source": [
    "from create_student import create"
   ]
  },
  {
   "cell_type": "code",
   "execution_count": null,
   "id": "8af57bf4",
   "metadata": {},
   "outputs": [],
   "source": []
  }
 ],
 "metadata": {
  "kernelspec": {
   "display_name": "Python 3 (ipykernel)",
   "language": "python",
   "name": "python3"
  },
  "language_info": {
   "codemirror_mode": {
    "name": "ipython",
    "version": 3
   },
   "file_extension": ".py",
   "mimetype": "text/x-python",
   "name": "python",
   "nbconvert_exporter": "python",
   "pygments_lexer": "ipython3",
   "version": "3.8.10"
  }
 },
 "nbformat": 4,
 "nbformat_minor": 5
}
