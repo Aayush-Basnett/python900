{
 "cells": [
  {
   "cell_type": "code",
   "execution_count": 1,
   "id": "16ac3cf4",
   "metadata": {},
   "outputs": [
    {
     "name": "stdout",
     "output_type": "stream",
     "text": [
      "20\n"
     ]
    }
   ],
   "source": [
    "a = 20\n",
    "print(a)"
   ]
  },
  {
   "cell_type": "code",
   "execution_count": 2,
   "id": "21c7d4c7",
   "metadata": {},
   "outputs": [
    {
     "ename": "SyntaxError",
     "evalue": "cannot assign to literal (4257265016.py, line 1)",
     "output_type": "error",
     "traceback": [
      "\u001b[0;36m  Cell \u001b[0;32mIn[2], line 1\u001b[0;36m\u001b[0m\n\u001b[0;31m    20=a\u001b[0m\n\u001b[0m    ^\u001b[0m\n\u001b[0;31mSyntaxError\u001b[0m\u001b[0;31m:\u001b[0m cannot assign to literal\n"
     ]
    }
   ],
   "source": [
    "20=a"
   ]
  },
  {
   "cell_type": "markdown",
   "id": "f86916dd",
   "metadata": {},
   "source": [
    "# Can i provide any names to object to store value? -NO\n"
   ]
  },
  {
   "cell_type": "markdown",
   "id": "a227c49f",
   "metadata": {},
   "source": [
    "# keywords:\n",
    "keywords are reserved words in python. We cannot use a keyword as a variable name, funciton name or any other identifyer. They are used to define the syntax and structure of the python Lnaguage. In python Keywords are case sensitive"
   ]
  },
  {
   "cell_type": "code",
   "execution_count": 7,
   "id": "351da77d",
   "metadata": {},
   "outputs": [
    {
     "ename": "SyntaxError",
     "evalue": "invalid syntax (2226773490.py, line 1)",
     "output_type": "error",
     "traceback": [
      "\u001b[0;36m  Cell \u001b[0;32mIn[7], line 1\u001b[0;36m\u001b[0m\n\u001b[0;31m    continue = 23\u001b[0m\n\u001b[0m             ^\u001b[0m\n\u001b[0;31mSyntaxError\u001b[0m\u001b[0;31m:\u001b[0m invalid syntax\n"
     ]
    }
   ],
   "source": [
    "continue = 23\n"
   ]
  },
  {
   "cell_type": "code",
   "execution_count": 28,
   "id": "ffd89d1b",
   "metadata": {},
   "outputs": [
    {
     "ename": "SyntaxError",
     "evalue": "invalid syntax (1178101709.py, line 1)",
     "output_type": "error",
     "traceback": [
      "\u001b[0;36m  Cell \u001b[0;32mIn[28], line 1\u001b[0;36m\u001b[0m\n\u001b[0;31m    lambda = \"hello\"\u001b[0m\n\u001b[0m           ^\u001b[0m\n\u001b[0;31mSyntaxError\u001b[0m\u001b[0;31m:\u001b[0m invalid syntax\n"
     ]
    }
   ],
   "source": [
    "lambda = \"hello\""
   ]
  },
  {
   "cell_type": "code",
   "execution_count": 9,
   "id": "7a3f9202",
   "metadata": {},
   "outputs": [
    {
     "ename": "SyntaxError",
     "evalue": "cannot assign to False (1160946929.py, line 1)",
     "output_type": "error",
     "traceback": [
      "\u001b[0;36m  Cell \u001b[0;32mIn[9], line 1\u001b[0;36m\u001b[0m\n\u001b[0;31m    False = 0\u001b[0m\n\u001b[0m    ^\u001b[0m\n\u001b[0;31mSyntaxError\u001b[0m\u001b[0;31m:\u001b[0m cannot assign to False\n"
     ]
    }
   ],
   "source": [
    "False = 0"
   ]
  },
  {
   "cell_type": "code",
   "execution_count": 10,
   "id": "7de094d0",
   "metadata": {},
   "outputs": [],
   "source": [
    "false = 0"
   ]
  },
  {
   "cell_type": "markdown",
   "id": "a902ff2b",
   "metadata": {},
   "source": [
    "# UpperCase and lowercase name are different in python- python is case sensative"
   ]
  },
  {
   "cell_type": "markdown",
   "id": "4825f704",
   "metadata": {},
   "source": [
    "# We cannot use special symbols like `!@#$%^&*` etc in our identifier"
   ]
  },
  {
   "cell_type": "code",
   "execution_count": 12,
   "id": "054105c4",
   "metadata": {},
   "outputs": [
    {
     "ename": "SyntaxError",
     "evalue": "invalid syntax (2142972669.py, line 1)",
     "output_type": "error",
     "traceback": [
      "\u001b[0;36m  Cell \u001b[0;32mIn[12], line 1\u001b[0;36m\u001b[0m\n\u001b[0;31m    @name= \"Aayush\"\u001b[0m\n\u001b[0m         ^\u001b[0m\n\u001b[0;31mSyntaxError\u001b[0m\u001b[0;31m:\u001b[0m invalid syntax\n"
     ]
    }
   ],
   "source": [
    "@name= \"Aayush\""
   ]
  },
  {
   "cell_type": "code",
   "execution_count": 13,
   "id": "94ff35d8",
   "metadata": {},
   "outputs": [
    {
     "ename": "SyntaxError",
     "evalue": "invalid syntax (4112901797.py, line 1)",
     "output_type": "error",
     "traceback": [
      "\u001b[0;36m  Cell \u001b[0;32mIn[13], line 1\u001b[0;36m\u001b[0m\n\u001b[0;31m    $msg = \"hi\"\u001b[0m\n\u001b[0m    ^\u001b[0m\n\u001b[0;31mSyntaxError\u001b[0m\u001b[0;31m:\u001b[0m invalid syntax\n"
     ]
    }
   ],
   "source": [
    "$msg = \"hi\""
   ]
  },
  {
   "cell_type": "markdown",
   "id": "d2632c21",
   "metadata": {},
   "source": [
    "# you cannot use space in variable name"
   ]
  },
  {
   "cell_type": "code",
   "execution_count": 14,
   "id": "a5a35d5c",
   "metadata": {},
   "outputs": [
    {
     "ename": "SyntaxError",
     "evalue": "invalid syntax (2267121899.py, line 1)",
     "output_type": "error",
     "traceback": [
      "\u001b[0;36m  Cell \u001b[0;32mIn[14], line 1\u001b[0;36m\u001b[0m\n\u001b[0;31m    first name = \"Ryan\"\u001b[0m\n\u001b[0m          ^\u001b[0m\n\u001b[0;31mSyntaxError\u001b[0m\u001b[0;31m:\u001b[0m invalid syntax\n"
     ]
    }
   ],
   "source": [
    "first name = \"Ryan\""
   ]
  },
  {
   "cell_type": "markdown",
   "id": "03e6aeb9",
   "metadata": {},
   "source": [
    "# You also cannot use - in variable name"
   ]
  },
  {
   "cell_type": "code",
   "execution_count": 15,
   "id": "252e2e7e",
   "metadata": {},
   "outputs": [
    {
     "ename": "SyntaxError",
     "evalue": "cannot assign to operator (979439370.py, line 1)",
     "output_type": "error",
     "traceback": [
      "\u001b[0;36m  Cell \u001b[0;32mIn[15], line 1\u001b[0;36m\u001b[0m\n\u001b[0;31m    first-name =\"Ryan\"\u001b[0m\n\u001b[0m    ^\u001b[0m\n\u001b[0;31mSyntaxError\u001b[0m\u001b[0;31m:\u001b[0m cannot assign to operator\n"
     ]
    }
   ],
   "source": [
    "first-name =\"Ryan\""
   ]
  },
  {
   "cell_type": "markdown",
   "id": "9ae1c89a",
   "metadata": {},
   "source": [
    "# but you can use underscore _ to link different words in variable name"
   ]
  },
  {
   "cell_type": "code",
   "execution_count": 18,
   "id": "2485c703",
   "metadata": {},
   "outputs": [
    {
     "data": {
      "text/plain": [
       "'Ryan'"
      ]
     },
     "execution_count": 18,
     "metadata": {},
     "output_type": "execute_result"
    }
   ],
   "source": [
    "first_name = \"Ryan\"\n",
    "first_name"
   ]
  },
  {
   "cell_type": "markdown",
   "id": "1d452f0e",
   "metadata": {},
   "source": [
    "# combination of uppercase and lowercase is also allowed\n"
   ]
  },
  {
   "cell_type": "code",
   "execution_count": 20,
   "id": "5dba52e7",
   "metadata": {},
   "outputs": [
    {
     "data": {
      "text/plain": [
       "'Aayush'"
      ]
     },
     "execution_count": 20,
     "metadata": {},
     "output_type": "execute_result"
    }
   ],
   "source": [
    "MyName = \"Aayush\"\n",
    "MyName"
   ]
  },
  {
   "cell_type": "markdown",
   "id": "7626277c",
   "metadata": {},
   "source": [
    "# Digits are allowed in variabel name but only after letters"
   ]
  },
  {
   "cell_type": "code",
   "execution_count": 21,
   "id": "7b25fdb6",
   "metadata": {},
   "outputs": [
    {
     "ename": "SyntaxError",
     "evalue": "invalid syntax (4048284151.py, line 1)",
     "output_type": "error",
     "traceback": [
      "\u001b[0;36m  Cell \u001b[0;32mIn[21], line 1\u001b[0;36m\u001b[0m\n\u001b[0;31m    7name = \"Ronaldo\"\u001b[0m\n\u001b[0m     ^\u001b[0m\n\u001b[0;31mSyntaxError\u001b[0m\u001b[0;31m:\u001b[0m invalid syntax\n"
     ]
    }
   ],
   "source": [
    "7name = \"Ronaldo\"\n",
    "7name"
   ]
  },
  {
   "cell_type": "code",
   "execution_count": 22,
   "id": "68bc87a6",
   "metadata": {},
   "outputs": [
    {
     "data": {
      "text/plain": [
       "'Ronaldo'"
      ]
     },
     "execution_count": 22,
     "metadata": {},
     "output_type": "execute_result"
    }
   ],
   "source": [
    "name7 = \"Ronaldo\"\n",
    "name7"
   ]
  },
  {
   "cell_type": "code",
   "execution_count": 23,
   "id": "81d0ac35",
   "metadata": {},
   "outputs": [
    {
     "data": {
      "text/plain": [
       "'Background to RGB'"
      ]
     },
     "execution_count": 23,
     "metadata": {},
     "output_type": "execute_result"
    }
   ],
   "source": [
    "bgr2RGB = \"Background to RGB\"\n",
    "bgr2RGB"
   ]
  },
  {
   "cell_type": "markdown",
   "id": "2dca4763",
   "metadata": {},
   "source": [
    "# Python is a case sensitive language"
   ]
  },
  {
   "cell_type": "code",
   "execution_count": 26,
   "id": "cb02c743",
   "metadata": {},
   "outputs": [
    {
     "name": "stdout",
     "output_type": "stream",
     "text": [
      "UpperCase A\n",
      "LowerCase a\n"
     ]
    }
   ],
   "source": [
    "A = \"UpperCase A\"\n",
    "a = \"LowerCase a\"\n",
    "print(A)\n",
    "print(a)\n"
   ]
  },
  {
   "cell_type": "code",
   "execution_count": 27,
   "id": "976b7f7f",
   "metadata": {},
   "outputs": [
    {
     "name": "stdout",
     "output_type": "stream",
     "text": [
      "This is Big A and it's value is 69\n",
      "This is small a and it's value is 5\n"
     ]
    }
   ],
   "source": [
    "a = 5\n",
    "A = 69\n",
    "print(f\"This is Big A and it's value is {A}\")\n",
    "print(f\"This is small a and it's value is {a}\")"
   ]
  },
  {
   "cell_type": "markdown",
   "id": "0daedc9e",
   "metadata": {},
   "source": [
    "# SQL is a case-insensitive language"
   ]
  },
  {
   "cell_type": "markdown",
   "id": "bbeed222",
   "metadata": {},
   "source": [
    "# Now, repeat repeat"
   ]
  },
  {
   "cell_type": "markdown",
   "id": "f949d768",
   "metadata": {},
   "source": [
    "# big no no's in python\n",
    "# cannot assign number as variable\n",
    "\n"
   ]
  },
  {
   "cell_type": "code",
   "execution_count": 2,
   "id": "87b1746b",
   "metadata": {},
   "outputs": [
    {
     "data": {
      "text/plain": [
       "20"
      ]
     },
     "execution_count": 2,
     "metadata": {},
     "output_type": "execute_result"
    }
   ],
   "source": [
    "a = 20 # this is valid whilst,\n",
    "a"
   ]
  },
  {
   "cell_type": "code",
   "execution_count": 3,
   "id": "2177acd2",
   "metadata": {},
   "outputs": [
    {
     "ename": "SyntaxError",
     "evalue": "cannot assign to literal (2601883662.py, line 1)",
     "output_type": "error",
     "traceback": [
      "\u001b[0;36m  Cell \u001b[0;32mIn[3], line 1\u001b[0;36m\u001b[0m\n\u001b[0;31m    20 = a #invalid\u001b[0m\n\u001b[0m    ^\u001b[0m\n\u001b[0;31mSyntaxError\u001b[0m\u001b[0;31m:\u001b[0m cannot assign to literal\n"
     ]
    }
   ],
   "source": [
    "20 = a #invalid\n",
    "a"
   ]
  },
  {
   "cell_type": "code",
   "execution_count": null,
   "id": "395f2d94",
   "metadata": {},
   "outputs": [],
   "source": [
    "# keywords:\n",
    "keywords are reserved words in python. We cannot use a keyword as a variable name, funciton name or any other identifyer. They are used to define the syntax and structure of the python Lnaguage. In python Keywords are case sensitive\n"
   ]
  },
  {
   "cell_type": "code",
   "execution_count": 4,
   "id": "e76e778e",
   "metadata": {},
   "outputs": [
    {
     "ename": "SyntaxError",
     "evalue": "invalid syntax (837395270.py, line 1)",
     "output_type": "error",
     "traceback": [
      "\u001b[0;36m  Cell \u001b[0;32mIn[4], line 1\u001b[0;36m\u001b[0m\n\u001b[0;31m    global = 5.6\u001b[0m\n\u001b[0m           ^\u001b[0m\n\u001b[0;31mSyntaxError\u001b[0m\u001b[0;31m:\u001b[0m invalid syntax\n"
     ]
    }
   ],
   "source": [
    "global = 5.6\n",
    "global"
   ]
  },
  {
   "cell_type": "code",
   "execution_count": 5,
   "id": "d8744b18",
   "metadata": {},
   "outputs": [
    {
     "ename": "SyntaxError",
     "evalue": "cannot assign to False (1160946929.py, line 1)",
     "output_type": "error",
     "traceback": [
      "\u001b[0;36m  Cell \u001b[0;32mIn[5], line 1\u001b[0;36m\u001b[0m\n\u001b[0;31m    False = 0\u001b[0m\n\u001b[0m    ^\u001b[0m\n\u001b[0;31mSyntaxError\u001b[0m\u001b[0;31m:\u001b[0m cannot assign to False\n"
     ]
    }
   ],
   "source": [
    "False = 0"
   ]
  },
  {
   "cell_type": "markdown",
   "id": "e12b17e1",
   "metadata": {},
   "source": [
    "# python is case sensative\n",
    "eg since False is a keyword it can't be used as variable however, false can be used to do so"
   ]
  },
  {
   "cell_type": "code",
   "execution_count": 6,
   "id": "60c9f209",
   "metadata": {},
   "outputs": [
    {
     "data": {
      "text/plain": [
       "0"
      ]
     },
     "execution_count": 6,
     "metadata": {},
     "output_type": "execute_result"
    }
   ],
   "source": [
    "false = 0\n",
    "false"
   ]
  },
  {
   "cell_type": "markdown",
   "id": "37649d78",
   "metadata": {},
   "source": [
    "# SQL is case insensative language"
   ]
  },
  {
   "cell_type": "code",
   "execution_count": 10,
   "id": "baed0ecc",
   "metadata": {},
   "outputs": [
    {
     "name": "stdout",
     "output_type": "stream",
     "text": [
      "value of a is 20 and A is 40 respectively\n"
     ]
    }
   ],
   "source": [
    "a, A = 20, 40\n",
    "\n",
    "print(f\"value of a is {a} and A is {A} respectively\")"
   ]
  },
  {
   "cell_type": "markdown",
   "id": "80e6e23f",
   "metadata": {},
   "source": [
    "# special symbols`(!@#$%^& etc)` can't be used as our identifier"
   ]
  },
  {
   "cell_type": "code",
   "execution_count": 11,
   "id": "47f85e10",
   "metadata": {},
   "outputs": [
    {
     "ename": "SyntaxError",
     "evalue": "invalid syntax (853720402.py, line 1)",
     "output_type": "error",
     "traceback": [
      "\u001b[0;36m  Cell \u001b[0;32mIn[11], line 1\u001b[0;36m\u001b[0m\n\u001b[0;31m    @messi = \"footballer\"\u001b[0m\n\u001b[0m           ^\u001b[0m\n\u001b[0;31mSyntaxError\u001b[0m\u001b[0;31m:\u001b[0m invalid syntax\n"
     ]
    }
   ],
   "source": [
    "@messi = \"footballer\"\n",
    "@messi"
   ]
  },
  {
   "cell_type": "markdown",
   "id": "83eec3d8",
   "metadata": {},
   "source": [
    "$data = \"very good\"m"
   ]
  },
  {
   "cell_type": "markdown",
   "id": "ecbb3af7",
   "metadata": {},
   "source": [
    "# uses of spacemark in variable naming is prohibited"
   ]
  },
  {
   "cell_type": "code",
   "execution_count": 13,
   "id": "4e3b82c7",
   "metadata": {},
   "outputs": [
    {
     "ename": "SyntaxError",
     "evalue": "invalid syntax (2496145401.py, line 1)",
     "output_type": "error",
     "traceback": [
      "\u001b[0;36m  Cell \u001b[0;32mIn[13], line 1\u001b[0;36m\u001b[0m\n\u001b[0;31m    f name = \"aayush\"\u001b[0m\n\u001b[0m      ^\u001b[0m\n\u001b[0;31mSyntaxError\u001b[0m\u001b[0;31m:\u001b[0m invalid syntax\n"
     ]
    }
   ],
   "source": [
    "f name = \"aayush\""
   ]
  },
  {
   "cell_type": "markdown",
   "id": "fa8d33c8",
   "metadata": {},
   "source": [
    "# you can't use - either in variable name"
   ]
  },
  {
   "cell_type": "code",
   "execution_count": 16,
   "id": "ec58355c",
   "metadata": {},
   "outputs": [
    {
     "ename": "SyntaxError",
     "evalue": "cannot assign to operator (2009182588.py, line 1)",
     "output_type": "error",
     "traceback": [
      "\u001b[0;36m  Cell \u001b[0;32mIn[16], line 1\u001b[0;36m\u001b[0m\n\u001b[0;31m    f-name = \"aayush\"\u001b[0m\n\u001b[0m    ^\u001b[0m\n\u001b[0;31mSyntaxError\u001b[0m\u001b[0;31m:\u001b[0m cannot assign to operator\n"
     ]
    }
   ],
   "source": [
    "f-name = \"aayush\"\n",
    "f-name"
   ]
  },
  {
   "cell_type": "markdown",
   "id": "b2bc840c",
   "metadata": {},
   "source": [
    "# but you can use capital letters and _"
   ]
  },
  {
   "cell_type": "code",
   "execution_count": 15,
   "id": "d1c58b19",
   "metadata": {},
   "outputs": [
    {
     "data": {
      "text/plain": [
       "'aayush'"
      ]
     },
     "execution_count": 15,
     "metadata": {},
     "output_type": "execute_result"
    }
   ],
   "source": [
    "f_name = \"aayush\"\n",
    "f_name"
   ]
  },
  {
   "cell_type": "code",
   "execution_count": 17,
   "id": "95248f93",
   "metadata": {},
   "outputs": [
    {
     "data": {
      "text/plain": [
       "'Basnet'"
      ]
     },
     "execution_count": 17,
     "metadata": {},
     "output_type": "execute_result"
    }
   ],
   "source": [
    "lName = \"Basnet\"\n",
    "lName"
   ]
  },
  {
   "cell_type": "markdown",
   "id": "3160b707",
   "metadata": {},
   "source": [
    "# Numbers can follow character or _ but can't come at first or independent"
   ]
  },
  {
   "cell_type": "code",
   "execution_count": 18,
   "id": "06c1341a",
   "metadata": {},
   "outputs": [
    {
     "ename": "SyntaxError",
     "evalue": "invalid syntax (273631647.py, line 1)",
     "output_type": "error",
     "traceback": [
      "\u001b[0;36m  Cell \u001b[0;32mIn[18], line 1\u001b[0;36m\u001b[0m\n\u001b[0;31m    1name = \"Leo\"\u001b[0m\n\u001b[0m     ^\u001b[0m\n\u001b[0;31mSyntaxError\u001b[0m\u001b[0;31m:\u001b[0m invalid syntax\n"
     ]
    }
   ],
   "source": [
    "1name = \"Leo\"\n",
    "1name"
   ]
  },
  {
   "cell_type": "code",
   "execution_count": 19,
   "id": "2009587f",
   "metadata": {},
   "outputs": [
    {
     "data": {
      "text/plain": [
       "'Leo'"
      ]
     },
     "execution_count": 19,
     "metadata": {},
     "output_type": "execute_result"
    }
   ],
   "source": [
    "name1 = \"Leo\"\n",
    "name1"
   ]
  },
  {
   "cell_type": "code",
   "execution_count": 21,
   "id": "a5d8402b",
   "metadata": {},
   "outputs": [
    {
     "data": {
      "text/plain": [
       "'nice'"
      ]
     },
     "execution_count": 21,
     "metadata": {},
     "output_type": "execute_result"
    }
   ],
   "source": [
    "Car = 'nice'\n",
    "Car"
   ]
  },
  {
   "cell_type": "markdown",
   "id": "c692e624",
   "metadata": {},
   "source": [
    "# if x1=5, x2=9, y1=3, y2=3 find distance and manhatten distance between them\n",
    "$manhatten-distance = |x2-x1|+ |y2-y1|$"
   ]
  },
  {
   "cell_type": "code",
   "execution_count": 26,
   "id": "a9dc977d",
   "metadata": {},
   "outputs": [
    {
     "name": "stdout",
     "output_type": "stream",
     "text": [
      "the distance is 4.0\n"
     ]
    }
   ],
   "source": [
    "x1, x2, y1, y2= 5, 9, 3, 3\n",
    "\n",
    "x = (x2-x1)**2\n",
    "y = (y2-y1)**2\n",
    "d = (x-y) **0.5\n",
    "print(f\"the distance is {d}\")"
   ]
  },
  {
   "cell_type": "code",
   "execution_count": 28,
   "id": "004b2202",
   "metadata": {},
   "outputs": [
    {
     "name": "stdout",
     "output_type": "stream",
     "text": [
      "whilst, 4 is the manhatten distance \n"
     ]
    }
   ],
   "source": [
    "mx = (x2-x1)\n",
    "my= (y2-y1)\n",
    "manhatten = abs(mx)+abs(my) #abs stands for absolute, eg absolute of x is |x|\n",
    "print(f\"whilst, {manhatten} is the manhatten distance \")"
   ]
  },
  {
   "cell_type": "code",
   "execution_count": null,
   "id": "db44cd74",
   "metadata": {},
   "outputs": [],
   "source": []
  }
 ],
 "metadata": {
  "kernelspec": {
   "display_name": "Python 3 (ipykernel)",
   "language": "python",
   "name": "python3"
  },
  "language_info": {
   "codemirror_mode": {
    "name": "ipython",
    "version": 3
   },
   "file_extension": ".py",
   "mimetype": "text/x-python",
   "name": "python",
   "nbconvert_exporter": "python",
   "pygments_lexer": "ipython3",
   "version": "3.8.10"
  }
 },
 "nbformat": 4,
 "nbformat_minor": 5
}
