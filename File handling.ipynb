{
 "cells": [
  {
   "cell_type": "code",
   "execution_count": 1,
   "id": "58047563",
   "metadata": {},
   "outputs": [],
   "source": [
    "import os"
   ]
  },
  {
   "cell_type": "code",
   "execution_count": 3,
   "id": "0405cbd5",
   "metadata": {},
   "outputs": [
    {
     "data": {
      "text/plain": [
       "'/Users/Aayush/Desktop/python900'"
      ]
     },
     "execution_count": 3,
     "metadata": {},
     "output_type": "execute_result"
    }
   ],
   "source": [
    "#get the absolute path of current directory\n",
    "os.getcwd()"
   ]
  },
  {
   "cell_type": "code",
   "execution_count": 4,
   "id": "012d0cd5",
   "metadata": {},
   "outputs": [
    {
     "data": {
      "text/plain": [
       "True"
      ]
     },
     "execution_count": 4,
     "metadata": {},
     "output_type": "execute_result"
    }
   ],
   "source": [
    "os.path.exists(\"Solo leveling (solo practice questions)\")"
   ]
  },
  {
   "cell_type": "code",
   "execution_count": 6,
   "id": "38022b01",
   "metadata": {},
   "outputs": [
    {
     "data": {
      "text/plain": [
       "False"
      ]
     },
     "execution_count": 6,
     "metadata": {},
     "output_type": "execute_result"
    }
   ],
   "source": [
    "os.path.exists(\"something i don't have.messi\")"
   ]
  },
  {
   "cell_type": "markdown",
   "id": "faf44fcf",
   "metadata": {},
   "source": [
    "# File-handling\n",
    "* open(filename, mode)\n",
    "# mode\n",
    "* read: \"r\"\n",
    "* write: \"w\"\n",
    "* append: \"a\"\n",
    "* create: \"c\""
   ]
  },
  {
   "cell_type": "code",
   "execution_count": 14,
   "id": "59663359",
   "metadata": {},
   "outputs": [
    {
     "name": "stdout",
     "output_type": "stream",
     "text": [
      "[Errno 2] No such file or directory: \"something i don't have.messi\"\n"
     ]
    }
   ],
   "source": [
    "try:\n",
    "    file = open(\"something i don't have.messi\", \"r\")\n",
    "except FileNotFoundError as f:\n",
    "    print(f)"
   ]
  },
  {
   "cell_type": "code",
   "execution_count": 15,
   "id": "6561a1d9",
   "metadata": {},
   "outputs": [
    {
     "name": "stdout",
     "output_type": "stream",
     "text": [
      "Mero mann thulo cha ni bro. yo experimental file ho ni bro\n",
      "yo second line ho, kabi chup chup rahe kabhi gaya fir kare, \n",
      "kavi sanpne ko sooche lol idk the lyrics:: manns meraaaa\n"
     ]
    }
   ],
   "source": [
    "#this is lengthy process and it is not the prefered way to read text from other file\n",
    "file = open(\"mann-ko-kura.txt\") #this file exists\n",
    "text = file.read()\n",
    "file.close()\n",
    "print(text)"
   ]
  },
  {
   "cell_type": "code",
   "execution_count": 16,
   "id": "834b5632",
   "metadata": {},
   "outputs": [
    {
     "name": "stdout",
     "output_type": "stream",
     "text": [
      "Mero mann thulo cha ni bro. yo experimental file ho ni bro\n",
      "yo second line ho, kabi chup chup rahe kabhi gaya fir kare, \n",
      "kavi sanpne ko sooche lol idk the lyrics:: manns meraaaa\n"
     ]
    }
   ],
   "source": [
    "with open(\"mann-ko-kura.txt\", \"r\") as file:\n",
    "    text = file.read() #file auto close huncha in this code\n",
    "print(text)"
   ]
  },
  {
   "cell_type": "code",
   "execution_count": 17,
   "id": "bd833959",
   "metadata": {},
   "outputs": [
    {
     "name": "stdout",
     "output_type": "stream",
     "text": [
      "['Mero mann thulo cha ni bro. yo experimental file ho ni bro\\n', 'yo second line ho, kabi chup chup rahe kabhi gaya fir kare, \\n', 'kavi sanpne ko sooche lol idk the lyrics:: manns meraaaa']\n"
     ]
    }
   ],
   "source": [
    "with open(\"mann-ko-kura.txt\", \"r\") as file:\n",
    "    text = file.readlines() # paragraph wise padhcha\n",
    "print(text)"
   ]
  },
  {
   "cell_type": "code",
   "execution_count": 19,
   "id": "eb9237d8",
   "metadata": {},
   "outputs": [
    {
     "data": {
      "text/plain": [
       "'Mero mann thulo cha ni bro. yo experimental file ho ni bro\\n'"
      ]
     },
     "execution_count": 19,
     "metadata": {},
     "output_type": "execute_result"
    }
   ],
   "source": [
    "text[0] #first line"
   ]
  },
  {
   "cell_type": "code",
   "execution_count": 20,
   "id": "a04daca3",
   "metadata": {},
   "outputs": [
    {
     "data": {
      "text/plain": [
       "'yo second line ho, kabi chup chup rahe kabhi gaya fir kare, \\n'"
      ]
     },
     "execution_count": 20,
     "metadata": {},
     "output_type": "execute_result"
    }
   ],
   "source": [
    "text[1] #second line"
   ]
  },
  {
   "cell_type": "markdown",
   "id": "a31d82e0",
   "metadata": {},
   "source": [
    "# write mode\n",
    "* creates a new file if it doesn't exist \n",
    "* if file exists, it overwrites old file and writes new data.\n"
   ]
  },
  {
   "cell_type": "code",
   "execution_count": 21,
   "id": "e06e17a5",
   "metadata": {},
   "outputs": [],
   "source": [
    "with open(\"itihas.txt\", \"w\") as file:\n",
    "    file.write(\"Yo itihas ko first panna ho.\")\n",
    "    "
   ]
  },
  {
   "cell_type": "code",
   "execution_count": 23,
   "id": "09adb426",
   "metadata": {},
   "outputs": [
    {
     "data": {
      "text/plain": [
       "'Yo itihas ko first panna ho.'"
      ]
     },
     "execution_count": 23,
     "metadata": {},
     "output_type": "execute_result"
    }
   ],
   "source": [
    "with open(\"itihas.txt\", \"r\") as file:\n",
    "    text = file.read()\n",
    "text"
   ]
  },
  {
   "cell_type": "code",
   "execution_count": 29,
   "id": "8803d25d",
   "metadata": {},
   "outputs": [],
   "source": [
    "with open(\"itihas.txt\", \"w\") as file: #this code overwrites previous code\n",
    "    file.write(\"Yo naya krantikari itihas hoo.\")"
   ]
  },
  {
   "cell_type": "code",
   "execution_count": 30,
   "id": "0bb93a8e",
   "metadata": {},
   "outputs": [
    {
     "data": {
      "text/plain": [
       "'Yo naya krantikari itihas hoo.'"
      ]
     },
     "execution_count": 30,
     "metadata": {},
     "output_type": "execute_result"
    }
   ],
   "source": [
    "with open (\"itihas.txt\", \"r\") as file: #file ko data has been overwritten\n",
    "    text = file.read()\n",
    "text"
   ]
  },
  {
   "cell_type": "markdown",
   "id": "ac18f525",
   "metadata": {},
   "source": [
    "# Append mode\n",
    "* if file exist gardaina vane, naya file create garcha\n",
    "* if file exist garcha, purano file ma data append garcha"
   ]
  },
  {
   "cell_type": "code",
   "execution_count": 37,
   "id": "5e70b8ff",
   "metadata": {},
   "outputs": [],
   "source": [
    "with open(\"babal_khabar.txt\", \"a\") as file:\n",
    "    file.write(\"Purwa mantri farar.\")"
   ]
  },
  {
   "cell_type": "code",
   "execution_count": 38,
   "id": "0593dc80",
   "metadata": {},
   "outputs": [
    {
     "data": {
      "text/plain": [
       "True"
      ]
     },
     "execution_count": 38,
     "metadata": {},
     "output_type": "execute_result"
    }
   ],
   "source": [
    "import os\n",
    "os.path.exists(\"babal_khabar.txt\")"
   ]
  },
  {
   "cell_type": "code",
   "execution_count": 39,
   "id": "f6f09c21",
   "metadata": {},
   "outputs": [],
   "source": [
    "with open(\"babal_khabar.txt\", \"a\") as file:\n",
    "    file.write(\"Purba ghriya mantri pakrau\")"
   ]
  },
  {
   "cell_type": "code",
   "execution_count": 41,
   "id": "c0c2c308",
   "metadata": {},
   "outputs": [
    {
     "data": {
      "text/plain": [
       "'Purwa mantri farar.Purba ghriya mantri pakrauPurwa mantri farar.Purba ghriya mantri pakrau'"
      ]
     },
     "execution_count": 41,
     "metadata": {},
     "output_type": "execute_result"
    }
   ],
   "source": [
    "with open(\"babal_khabar.txt\", \"r\") as file: #jati file run garyo teti data append hudai jancha\n",
    "    text = file.read()\n",
    "text"
   ]
  },
  {
   "cell_type": "code",
   "execution_count": null,
   "id": "c06029b4",
   "metadata": {},
   "outputs": [],
   "source": []
  }
 ],
 "metadata": {
  "kernelspec": {
   "display_name": "Python 3 (ipykernel)",
   "language": "python",
   "name": "python3"
  },
  "language_info": {
   "codemirror_mode": {
    "name": "ipython",
    "version": 3
   },
   "file_extension": ".py",
   "mimetype": "text/x-python",
   "name": "python",
   "nbconvert_exporter": "python",
   "pygments_lexer": "ipython3",
   "version": "3.8.10"
  }
 },
 "nbformat": 4,
 "nbformat_minor": 5
}
