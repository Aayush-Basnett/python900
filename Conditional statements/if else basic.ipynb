{
 "cells": [
  {
   "cell_type": "code",
   "execution_count": 1,
   "id": "4d9a9648",
   "metadata": {},
   "outputs": [
    {
     "data": {
      "text/plain": [
       "256"
      ]
     },
     "execution_count": 1,
     "metadata": {},
     "output_type": "execute_result"
    }
   ],
   "source": [
    "2 ** 2 ** 3"
   ]
  },
  {
   "cell_type": "code",
   "execution_count": 2,
   "id": "47745ef1",
   "metadata": {},
   "outputs": [
    {
     "data": {
      "text/plain": [
       "16"
      ]
     },
     "execution_count": 2,
     "metadata": {},
     "output_type": "execute_result"
    }
   ],
   "source": [
    "2 * 2 ** 3"
   ]
  },
  {
   "cell_type": "markdown",
   "id": "704b567a",
   "metadata": {},
   "source": [
    "# operator precedence \n",
    "first ma vako top in hierchy and so on \n",
    "* exponential\n",
    "* division, multiplication\n",
    "* addition, subtraciton\n"
   ]
  },
  {
   "cell_type": "markdown",
   "id": "86507d62",
   "metadata": {},
   "source": [
    "right to left is the hierchy order for exponentials otherwise it's left to right"
   ]
  },
  {
   "cell_type": "code",
   "execution_count": 4,
   "id": "bf1bcdf7",
   "metadata": {},
   "outputs": [
    {
     "data": {
      "text/plain": [
       "720"
      ]
     },
     "execution_count": 4,
     "metadata": {},
     "output_type": "execute_result"
    }
   ],
   "source": [
    "5 * 3 ** 2 * 4 ** 2 "
   ]
  },
  {
   "cell_type": "markdown",
   "id": "d335e828",
   "metadata": {},
   "source": [
    "this is how this runs\n",
    "5 * 3 ** 2 * 16\n",
    "then 5 * 9 * 16\n",
    "then all the numbers are multiplied"
   ]
  },
  {
   "cell_type": "markdown",
   "id": "46329b17",
   "metadata": {},
   "source": [
    "# Conditionals"
   ]
  },
  {
   "cell_type": "code",
   "execution_count": 6,
   "id": "8f20bdb7",
   "metadata": {},
   "outputs": [
    {
     "name": "stdout",
     "output_type": "stream",
     "text": [
      "enter a number: 4\n",
      "the number is even\n"
     ]
    }
   ],
   "source": [
    "num = int(input(\"enter a number: \"))\n",
    "if num % 2 == 0:\n",
    "    print(\"the number is even\")\n",
    "else:\n",
    "    print(\"the number is odd\")\n"
   ]
  },
  {
   "cell_type": "markdown",
   "id": "728d08ef",
   "metadata": {},
   "source": [
    "similar to JS == is used as comparision operator infact JS === is same as python's ==\n",
    "\n",
    "again, space is imporant in python whilst using conditionals\n",
    "\n"
   ]
  },
  {
   "cell_type": "code",
   "execution_count": 10,
   "id": "24412c17",
   "metadata": {},
   "outputs": [
    {
     "name": "stdout",
     "output_type": "stream",
     "text": [
      "equal\n"
     ]
    }
   ],
   "source": [
    "if 10 == 10:\n",
    "    print(\"equal\")# this works\n",
    "    "
   ]
  },
  {
   "cell_type": "code",
   "execution_count": 8,
   "id": "c1860851",
   "metadata": {},
   "outputs": [
    {
     "ename": "IndentationError",
     "evalue": "expected an indented block (475730706.py, line 2)",
     "output_type": "error",
     "traceback": [
      "\u001b[0;36m  Cell \u001b[0;32mIn[8], line 2\u001b[0;36m\u001b[0m\n\u001b[0;31m    print(\"equal\")# but this doesn't\u001b[0m\n\u001b[0m    ^\u001b[0m\n\u001b[0;31mIndentationError\u001b[0m\u001b[0;31m:\u001b[0m expected an indented block\n"
     ]
    }
   ],
   "source": [
    "if 10 == 10:\n",
    "print(\"equal\")# but this doesn't\n",
    "    "
   ]
  },
  {
   "cell_type": "markdown",
   "id": "5ad2c5ba",
   "metadata": {},
   "source": [
    "# assignment- 1\n",
    "write a program to check if the given input is 10 or not. If it is 10 print the number"
   ]
  },
  {
   "cell_type": "code",
   "execution_count": 11,
   "id": "19a99ec2",
   "metadata": {},
   "outputs": [
    {
     "name": "stdout",
     "output_type": "stream",
     "text": [
      "enter the number: 10\n",
      "your number is 10\n"
     ]
    }
   ],
   "source": [
    "#solution\n",
    "num = int(input(\"enter the number: \"))\n",
    "if num == 10:\n",
    "    print(\"your number is 10\")\n",
    "else:\n",
    "    print(\"your number is not 10\")"
   ]
  },
  {
   "cell_type": "markdown",
   "id": "a9da962e",
   "metadata": {},
   "source": [
    "# assignment- 2\n",
    "write a program to display \"hello\" if a number entered by user is a multiple of five, otherwise print \"bye\""
   ]
  },
  {
   "cell_type": "code",
   "execution_count": 13,
   "id": "04177aa8",
   "metadata": {},
   "outputs": [
    {
     "name": "stdout",
     "output_type": "stream",
     "text": [
      "enter the number: 10\n",
      "Hello\n"
     ]
    }
   ],
   "source": [
    "num = int(input(\"enter the number: \"))\n",
    "if num % 5 ==0:\n",
    "    print(\"Hello\")\n",
    "else:\n",
    "    print(\"Bye\")"
   ]
  },
  {
   "cell_type": "markdown",
   "id": "4b1c55f0",
   "metadata": {},
   "source": [
    "# assignment- 3\n",
    "\n",
    "Wap to check whether the user given input integer is positive or negative number. If it is positive print positive else print negative.\n"
   ]
  },
  {
   "cell_type": "code",
   "execution_count": 19,
   "id": "244b53eb",
   "metadata": {},
   "outputs": [
    {
     "name": "stdout",
     "output_type": "stream",
     "text": [
      "enter the number: 0\n",
      "number is 0\n"
     ]
    }
   ],
   "source": [
    "    num = int(input(\"enter the number: \"))\n",
    "    if num > 0:\n",
    "        print(\"number is positive\")\n",
    "    elif num == 0:\n",
    "        print(\"number is neutral\")\n",
    "    else:\n",
    "        print(\"number is negative\")"
   ]
  },
  {
   "cell_type": "code",
   "execution_count": null,
   "id": "641f8dcf",
   "metadata": {},
   "outputs": [],
   "source": []
  }
 ],
 "metadata": {
  "kernelspec": {
   "display_name": "Python 3 (ipykernel)",
   "language": "python",
   "name": "python3"
  },
  "language_info": {
   "codemirror_mode": {
    "name": "ipython",
    "version": 3
   },
   "file_extension": ".py",
   "mimetype": "text/x-python",
   "name": "python",
   "nbconvert_exporter": "python",
   "pygments_lexer": "ipython3",
   "version": "3.8.10"
  }
 },
 "nbformat": 4,
 "nbformat_minor": 5
}
