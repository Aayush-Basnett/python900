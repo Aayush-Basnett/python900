{
 "cells": [
  {
   "cell_type": "markdown",
   "id": "484a9bb8",
   "metadata": {},
   "source": [
    "# what if i want to check multiple expressions? --Nesting and chaining of conditionals"
   ]
  },
  {
   "cell_type": "markdown",
   "id": "e9355d64",
   "metadata": {},
   "source": [
    "### wap to check the user input is zero, positive or negative and print respective message"
   ]
  },
  {
   "cell_type": "code",
   "execution_count": 5,
   "id": "eee7cdf6",
   "metadata": {},
   "outputs": [
    {
     "name": "stdout",
     "output_type": "stream",
     "text": [
      "enter the number: 45\n",
      "number is positive\n"
     ]
    }
   ],
   "source": [
    "#this is nesting of conditionals\n",
    "num = int(input(\"enter the number: \"))\n",
    "if num > 0:\n",
    "    print(\"number is positive\")\n",
    "else:\n",
    "    if num == 0:\n",
    "        print(\"number is neutral\")\n",
    "    else:\n",
    "        print(\"number is negative\")\n"
   ]
  },
  {
   "cell_type": "markdown",
   "id": "67d28ccc",
   "metadata": {},
   "source": [
    "# this code is too lengthy so we can use chaining of conditionals to avoid this \n",
    "elif"
   ]
  },
  {
   "cell_type": "code",
   "execution_count": null,
   "id": "9b35bd48",
   "metadata": {},
   "outputs": [],
   "source": [
    "num = int(input(\"enter the number: \"))\n",
    "if num > 0:\n",
    "    print(\"number is positive\")\n",
    "    if num % 2 ==0:\n",
    "        print(\" and even\")\n",
    "    else:\n",
    "        print(\" and odd\")\n",
    "elif num == 0:\n",
    "    print(\"number is neutral\")\n",
    "else:\n",
    "    print(\"number is negative\")"
   ]
  },
  {
   "cell_type": "markdown",
   "id": "480a94e6",
   "metadata": {},
   "source": [
    "if one condition is satisfied or is true on if or elif (in terms of chaining of conditionals), the remaining code isn't executed"
   ]
  },
  {
   "cell_type": "markdown",
   "id": "95f6da7d",
   "metadata": {},
   "source": [
    "# classwork"
   ]
  },
  {
   "cell_type": "code",
   "execution_count": 11,
   "id": "3ef2a2cc",
   "metadata": {},
   "outputs": [
    {
     "name": "stdout",
     "output_type": "stream",
     "text": [
      "enter the value of x: 45\n",
      "enter the value of y: 45\n",
      "x and y are equal\n"
     ]
    }
   ],
   "source": [
    "x = int(input(\"enter the value of x: \"))\n",
    "y = int(input(\"enter the value of y: \"))\n",
    "if x > y:\n",
    "    print(\"x is greater\")\n",
    "elif x < y:\n",
    "    print(\"y is greater\")\n",
    "else:\n",
    "    print(\"x and y are equal\")\n",
    "\n"
   ]
  },
  {
   "cell_type": "markdown",
   "id": "bd50a409",
   "metadata": {},
   "source": [
    "# Assignment- 1\n",
    "write a program to check whether a person is eligible for voting or not(accept age from user)\n"
   ]
  },
  {
   "cell_type": "code",
   "execution_count": 2,
   "id": "25e69f79",
   "metadata": {},
   "outputs": [
    {
     "name": "stdout",
     "output_type": "stream",
     "text": [
      "Enter your age: 43\n",
      "You are eligible to vote\n"
     ]
    }
   ],
   "source": [
    "age = int(input(\"Enter your age: \"))\n",
    "if age >= 18:\n",
    "    print(\"You are eligible to vote\")\n",
    "else:\n",
    "    print(\"You are NOT eligible to vote\")\n"
   ]
  },
  {
   "cell_type": "markdown",
   "id": "8a35bc3b",
   "metadata": {},
   "source": [
    "# Assignment- 2\n",
    "write a program to check whether the last digit of a number(entered by the user) is divisible by 3 or not\n"
   ]
  },
  {
   "cell_type": "code",
   "execution_count": 1,
   "id": "739e4ca2",
   "metadata": {},
   "outputs": [
    {
     "name": "stdout",
     "output_type": "stream",
     "text": [
      "Enter your number: 43\n",
      "last digit, i.e 3 of 43 is divisible by 3\n"
     ]
    }
   ],
   "source": [
    "\n",
    "num = int(input(\"Enter your number: \"))\n",
    "last_digit = num % 10\n",
    "if last_digit % 3 == 0:\n",
    "    print(f\"last digit, i.e {last_digit} of {num} is divisible by 3\")\n",
    "else:\n",
    "    print(f\"last digit, i.e {last_digit} of {num} is NOT divisible by 3\")\n",
    "\n",
    "\n"
   ]
  },
  {
   "cell_type": "code",
   "execution_count": null,
   "id": "13ae33d6",
   "metadata": {},
   "outputs": [],
   "source": []
  }
 ],
 "metadata": {
  "kernelspec": {
   "display_name": "Python 3 (ipykernel)",
   "language": "python",
   "name": "python3"
  },
  "language_info": {
   "codemirror_mode": {
    "name": "ipython",
    "version": 3
   },
   "file_extension": ".py",
   "mimetype": "text/x-python",
   "name": "python",
   "nbconvert_exporter": "python",
   "pygments_lexer": "ipython3",
   "version": "3.8.10"
  }
 },
 "nbformat": 4,
 "nbformat_minor": 5
}
